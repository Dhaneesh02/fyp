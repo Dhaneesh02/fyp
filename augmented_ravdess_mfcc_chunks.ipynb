{
  "nbformat": 4,
  "nbformat_minor": 0,
  "metadata": {
    "colab": {
      "name": "augmented_ravdess_mfcc_chunks.ipynb",
      "provenance": [],
      "machine_shape": "hm",
      "collapsed_sections": [],
      "include_colab_link": true
    },
    "kernelspec": {
      "name": "python3",
      "display_name": "Python 3"
    },
    "language_info": {
      "name": "python"
    },
    "accelerator": "GPU"
  },
  "cells": [
    {
      "cell_type": "markdown",
      "metadata": {
        "id": "view-in-github",
        "colab_type": "text"
      },
      "source": [
        "<a href=\"https://colab.research.google.com/github/Dhaneesh02/fyp/blob/augmented_ravdess_mfcc_chunks/augmented_ravdess_mfcc_chunks.ipynb\" target=\"_parent\"><img src=\"https://colab.research.google.com/assets/colab-badge.svg\" alt=\"Open In Colab\"/></a>"
      ]
    },
    {
      "cell_type": "code",
      "source": [
        "file_path = '/content/drive/MyDrive/Review_3/ravdess/RAVDESS/'\n",
        "file_path_model = '/content/drive/MyDrive/Review_3/ravdess/augmented_ravdess_mfcc_chunks/'"
      ],
      "metadata": {
        "id": "GPFdVXjCAnTS"
      },
      "execution_count": null,
      "outputs": []
    },
    {
      "cell_type": "code",
      "execution_count": null,
      "metadata": {
        "colab": {
          "base_uri": "https://localhost:8080/",
          "height": 17
        },
        "id": "-mK_p7Vx-Gr_",
        "outputId": "6094e180-1338-469f-c301-f28785f7cbc5"
      },
      "outputs": [
        {
          "output_type": "display_data",
          "data": {
            "text/html": [
              "        <script type=\"text/javascript\">\n",
              "        window.PlotlyConfig = {MathJaxConfig: 'local'};\n",
              "        if (window.MathJax) {MathJax.Hub.Config({SVG: {font: \"STIX-Web\"}});}\n",
              "        if (typeof require !== 'undefined') {\n",
              "        require.undef(\"plotly\");\n",
              "        requirejs.config({\n",
              "            paths: {\n",
              "                'plotly': ['https://cdn.plot.ly/plotly-2.8.3.min']\n",
              "            }\n",
              "        });\n",
              "        require(['plotly'], function(Plotly) {\n",
              "            window._Plotly = Plotly;\n",
              "        });\n",
              "        }\n",
              "        </script>\n",
              "        "
            ]
          },
          "metadata": {}
        }
      ],
      "source": [
        "### General imports ###\n",
        "import os\n",
        "from glob import glob\n",
        "import pickle\n",
        "import itertools\n",
        "from scipy.stats import zscore\n",
        "from sklearn.model_selection import train_test_split\n",
        "import random\n",
        "import sys\n",
        "\n",
        "\n",
        "## Package\n",
        "import glob \n",
        "import keras\n",
        "import IPython.display as ipd\n",
        "import librosa\n",
        "import librosa.display\n",
        "import matplotlib.pyplot as plt\n",
        "import numpy as np\n",
        "import pandas as pd\n",
        "import plotly.graph_objs as go\n",
        "import plotly.offline as py\n",
        "import plotly.tools as tls\n",
        "import seaborn as sns\n",
        "import scipy.io.wavfile\n",
        "import tensorflow as tf\n",
        "py.init_notebook_mode(connected=True)\n",
        "\n",
        "\n",
        "## Keras\n",
        "from keras import regularizers\n",
        "from keras.callbacks import ModelCheckpoint, LearningRateScheduler, EarlyStopping\n",
        "from keras.callbacks import  History, ReduceLROnPlateau, CSVLogger\n",
        "from keras.models import Model, Sequential\n",
        "from keras.layers import Dense, Embedding, LSTM\n",
        "from keras.layers import Input, Flatten, Dropout, Activation, BatchNormalization\n",
        "from keras.layers import Conv1D, MaxPooling1D, AveragePooling1D\n",
        "from keras.preprocessing import sequence\n",
        "from keras.preprocessing.sequence import pad_sequences\n",
        "from keras.preprocessing.text import Tokenizer\n",
        "from keras.utils import np_utils\n",
        "\n",
        "\n",
        "## Sklearn\n",
        "from sklearn.metrics import confusion_matrix\n",
        "from sklearn.preprocessing import LabelEncoder\n",
        "\n",
        "\n",
        "## Rest\n",
        "from scipy.fftpack import fft\n",
        "from scipy import signal\n",
        "from scipy.io import wavfile\n",
        "from tqdm import tqdm\n",
        "\n",
        "input_duration=3\n",
        "# % pylab inline\n",
        "### Graph imports ###\n",
        "from PIL import Image\n",
        "import librosa\n",
        "### Audio import ###\n",
        "\n",
        "import IPython\n",
        "from IPython.display import Audio"
      ]
    },
    {
      "cell_type": "code",
      "source": [
        "from google.colab import drive\n",
        "drive.mount('/content/drive')"
      ],
      "metadata": {
        "colab": {
          "base_uri": "https://localhost:8080/"
        },
        "id": "5V_9hUndAisL",
        "outputId": "65135788-32b8-473c-9189-c6cf77e9f700"
      },
      "execution_count": null,
      "outputs": [
        {
          "output_type": "stream",
          "name": "stdout",
          "text": [
            "Mounted at /content/drive\n"
          ]
        }
      ]
    },
    {
      "cell_type": "code",
      "source": [
        "# RAVDESS Database\n",
        "label_dict_ravdess = {'02': 'NEU', '03':'HAP', '04':'SAD', '05':'ANG', '06':'FEA', '07':'DIS', '08':'SUR'}\n",
        "#data_visualistion\n",
        "data_df = pd.DataFrame(columns=['path', 'source', 'actor', 'gender',\n",
        "                                'intensity', 'statement', 'repetition', 'emotion'])\n",
        "# Set audio files labels\n",
        "def set_label_ravdess(audio_file, gender_differentiation):\n",
        "    label = label_dict_ravdess.get(audio_file[6:8])\n",
        "    if gender_differentiation == True:\n",
        "        if int(audio_file[18:20])%2 == 0: # Female\n",
        "            label = 'female_' + label\n",
        "        if int(audio_file[18:20])%2 == 1: # Male\n",
        "            label = 'male_' + label\n",
        "    return label"
      ],
      "metadata": {
        "id": "vKgpGgWIAmCb"
      },
      "execution_count": null,
      "outputs": []
    },
    {
      "cell_type": "code",
      "source": [
        "!pip install pydub\n",
        "from pydub import AudioSegment\n",
        "from pydub.silence import split_on_silence,detect_silence,detect_nonsilent"
      ],
      "metadata": {
        "colab": {
          "base_uri": "https://localhost:8080/"
        },
        "id": "XuN25Z4XMA26",
        "outputId": "1c307880-a591-4f5a-d0f5-7f03bf5c0093"
      },
      "execution_count": null,
      "outputs": [
        {
          "output_type": "stream",
          "name": "stdout",
          "text": [
            "Looking in indexes: https://pypi.org/simple, https://us-python.pkg.dev/colab-wheels/public/simple/\n",
            "Collecting pydub\n",
            "  Downloading pydub-0.25.1-py2.py3-none-any.whl (32 kB)\n",
            "Installing collected packages: pydub\n",
            "Successfully installed pydub-0.25.1\n"
          ]
        }
      ]
    },
    {
      "cell_type": "code",
      "source": [
        "# Start feature extraction\n",
        "print(\"Import Data: START\")\n",
        "\n",
        "# Initialize features and labels list\n",
        "signal = []\n",
        "labels = []\n",
        "\n",
        "# Sample rate (16.0 kHz)\n",
        "sample_rate = 16000     \n",
        "\n",
        "# Max pad length (1.2 sec)\n",
        "max_pad_len = 22913\n",
        "\n",
        "file_name_list=[]\n",
        "\n",
        "#data_visualisation\n",
        "count = 0\n",
        "\n",
        "# Compute spectogram for all audio file\n",
        "for index,ravdess in enumerate(os.listdir(file_path)):\n",
        "    ravdess=file_path+ravdess+'/'\n",
        "    file_names = os.listdir(ravdess)\n",
        "    # print(len(file_names),file_names)\n",
        "    for audio_index, audio_file in enumerate(file_names):\n",
        "      if audio_file[6:8] in list(label_dict_ravdess.keys()):\n",
        "        # print(audio_index,ravdess,audio_file)\n",
        "        # Read audio file\n",
        "        y, sr = librosa.core.load(ravdess + audio_file, sr=sample_rate, offset=0  )  #y->audio time series\n",
        "\n",
        "        # Z-normalization\n",
        "        # Audio normalization is when you put constant gain to a recording so that you\n",
        "        # can bring the average amplitude to the desired level. In other words,\n",
        "        # it means changing the audio's overall volume to fixed amount.\n",
        "        y = zscore(y)\n",
        "        step = 1000\n",
        "        file_ = AudioSegment.from_wav(ravdess+audio_file)\n",
        "        # print(len(file_))\n",
        "        prev_breakpoint = 0\n",
        "        file_c  = 0\n",
        "        itr_c = 0\n",
        "        for j in range(1000, len(file_), 1000):\n",
        "          if j == step:\n",
        "            y_padded = np.zeros(max_pad_len)\n",
        "            breakpoint = round((j/1000)*16366) \n",
        "            inc = round((200/1000)*16366)\n",
        "            y_padded[:breakpoint+inc] = y[:breakpoint+inc]\n",
        "          else:\n",
        "            breakpoint = round((j/1000)*16366)\n",
        "            inc = round((200/1000)*16366)      \n",
        "            y_temp = y[prev_breakpoint-inc:breakpoint+inc]\n",
        "            y_padded = np.zeros(max_pad_len-len(y_temp))\n",
        "            y_padded = np.concatenate((y_temp, y_padded))\n",
        "          prev_breakpoint = breakpoint\n",
        "          signal.append(y_padded)\n",
        "          labels.append(set_label_ravdess(audio_file, False))\n",
        "          temp_name = audio_file[:-4]\n",
        "          file_name_list.append(audio_file+\"_\"+str(file_c)+\".wav\")\n",
        "          file_c += 1\n",
        "          itr_c += 1\n",
        "          if itr_c == 3:\n",
        "            break\n",
        "        count += 1\n",
        "      # Print running...\n",
        "    print(\"Import Data: RUNNING ... {} files\".format(audio_index))\n",
        "\n",
        "\n",
        "# Cast labels to array\n",
        "labels = np.asarray(labels).ravel()\n",
        "file_names = file_name_list\n",
        "# Stop feature extraction\n",
        "print(\"Import Data: END \\n\")\n",
        "print(\"Number of audio files imported: {}\".format(labels.shape[0]))\n"
      ],
      "metadata": {
        "id": "NnwsDANQBAJM",
        "colab": {
          "base_uri": "https://localhost:8080/"
        },
        "outputId": "8f5c102b-0115-4ef7-9bec-b28a9caf5f2e"
      },
      "execution_count": null,
      "outputs": [
        {
          "output_type": "stream",
          "name": "stdout",
          "text": [
            "Import Data: START\n",
            "Import Data: RUNNING ... 59 files\n",
            "Import Data: RUNNING ... 59 files\n",
            "Import Data: RUNNING ... 59 files\n",
            "Import Data: RUNNING ... 59 files\n",
            "Import Data: RUNNING ... 59 files\n",
            "Import Data: RUNNING ... 59 files\n",
            "Import Data: RUNNING ... 59 files\n",
            "Import Data: RUNNING ... 59 files\n",
            "Import Data: RUNNING ... 59 files\n",
            "Import Data: RUNNING ... 59 files\n",
            "Import Data: RUNNING ... 59 files\n",
            "Import Data: RUNNING ... 59 files\n",
            "Import Data: RUNNING ... 59 files\n",
            "Import Data: RUNNING ... 59 files\n",
            "Import Data: RUNNING ... 59 files\n",
            "Import Data: RUNNING ... 59 files\n",
            "Import Data: RUNNING ... 59 files\n",
            "Import Data: RUNNING ... 59 files\n",
            "Import Data: RUNNING ... 59 files\n",
            "Import Data: RUNNING ... 59 files\n",
            "Import Data: RUNNING ... 59 files\n",
            "Import Data: RUNNING ... 59 files\n",
            "Import Data: RUNNING ... 59 files\n",
            "Import Data: RUNNING ... 59 files\n",
            "Import Data: END \n",
            "\n",
            "Number of audio files imported: 4030\n"
          ]
        }
      ]
    },
    {
      "cell_type": "code",
      "source": [
        "pickle.dump(signal, open(file_path_model+'signal.p', 'wb'))\n",
        "pickle.dump(file_names, open(file_path_model+'file_names.p', 'wb'))\n",
        "pickle.dump(labels, open(file_path_model+'labels.p', 'wb'))"
      ],
      "metadata": {
        "id": "YdUtIvqsSHh3"
      },
      "execution_count": null,
      "outputs": []
    },
    {
      "cell_type": "code",
      "source": [
        "file_path = '/content/drive/MyDrive/Review_3/'\n",
        "\n",
        "# Initialize features and labels list\n",
        "signal = []\n",
        "labels = []\n",
        "file_names = []\n",
        "\n",
        "# Sample rate (16.0 kHz)\n",
        "sample_rate = 16000     \n",
        "\n",
        "# Max pad length (3.0 sec)\n",
        "max_pad_len = 49100\n",
        "\n",
        "\n",
        "signal=pickle.load(open(file_path_model+\"signal.p\",\"rb\"))\n",
        "file_names=pickle.load(open(file_path_model+\"file_names.p\",\"rb\"))\n",
        "labels=pickle.load(open(file_path_model+\"labels.p\",\"rb\"))\n",
        "\n",
        "#data_visualisation\n",
        "count = len(signal)\n",
        "print(\"Import Data: END \\n\")\n",
        "print(\"Number of audio files imported: {}\".format(labels.shape[0]))"
      ],
      "metadata": {
        "id": "S_FvEvcHSPcV",
        "colab": {
          "base_uri": "https://localhost:8080/"
        },
        "outputId": "457baff0-502a-437d-dd2d-b07be60bba9f"
      },
      "execution_count": null,
      "outputs": [
        {
          "output_type": "stream",
          "name": "stdout",
          "text": [
            "Import Data: END \n",
            "\n",
            "Number of audio files imported: 1344\n"
          ]
        }
      ]
    },
    {
      "cell_type": "code",
      "source": [
        "# Number of augmented data\n",
        "nb_augmented = 2\n",
        "# Function to add noise to a signals with a desired Signal Noise ratio (SNR)\n",
        "def noisy_signal(signal, snr_low=15, snr_high=30, nb_augmented=2):\n",
        "    # Signal length\n",
        "    signal_len = len(signal)\n",
        "\n",
        "    # Generate White noise\n",
        "    noise = np.random.normal(size=(nb_augmented, signal_len))\n",
        "    \n",
        "    # Compute signal and noise power\n",
        "    s_power = np.sum((signal / (2.0 ** 15)) ** 2) / signal_len\n",
        "    n_power = np.sum((noise / (2.0 ** 15)) ** 2, axis=1) / signal_len\n",
        "    \n",
        "    # Random SNR: Uniform [15, 30]\n",
        "    snr = np.random.randint(snr_low, snr_high)\n",
        "    \n",
        "    # Compute K coeff for each noise\n",
        "    K = np.sqrt((s_power / n_power) * 10 ** (- snr / 10))\n",
        "    K = np.ones((signal_len, nb_augmented)) * K\n",
        "    \n",
        "    # Generate noisy signal\n",
        "    return signal + K.T * noise"
      ],
      "metadata": {
        "id": "EXibgPfnSXO1"
      },
      "execution_count": null,
      "outputs": []
    },
    {
      "cell_type": "code",
      "source": [
        "# Generate noisy signals from signal list\n",
        "print(\"Data Augmentation: START\")\n",
        "augmented_signal = list(map(noisy_signal, signal))\n",
        "print(\"Data Augmentation: END!\")"
      ],
      "metadata": {
        "colab": {
          "base_uri": "https://localhost:8080/"
        },
        "id": "AeC7JFqVSZJK",
        "outputId": "83cd69cb-b2ee-4d14-ff57-45e5e6193333"
      },
      "execution_count": null,
      "outputs": [
        {
          "output_type": "stream",
          "name": "stdout",
          "text": [
            "Data Augmentation: START\n",
            "Data Augmentation: END!\n"
          ]
        }
      ]
    },
    {
      "cell_type": "code",
      "source": [
        "g=0\n",
        "def mel_spectrogram(y, sr=16000, n_fft=512, win_length=256, hop_length=128, window='hamming', n_mels=128, fmax=4000):\n",
        "    global g\n",
        "    if g%300==0:\n",
        "      print(g) \n",
        "    g+=1\n",
        "    # Compute spectogram\n",
        "    mel_spect = np.abs(librosa.stft(y, n_fft=n_fft, window=window, win_length=win_length, hop_length=hop_length)) ** 2\n",
        "    \n",
        "    # Compute mel spectrogram\n",
        "    mel_spect = librosa.feature.melspectrogram(S=mel_spect, sr=sr, n_mels=n_mels, fmax=fmax)\n",
        "    \n",
        "    # Compute log-mel spectrogram\n",
        "    mel_spect = librosa.power_to_db(mel_spect, ref=np.max)\n",
        "    \n",
        "    return mel_spect"
      ],
      "metadata": {
        "id": "yzfb0WqySa6j"
      },
      "execution_count": null,
      "outputs": []
    },
    {
      "cell_type": "code",
      "source": [
        "import gc"
      ],
      "metadata": {
        "id": "04OsnhpTSccC"
      },
      "execution_count": null,
      "outputs": []
    },
    {
      "cell_type": "code",
      "source": [
        "# Start feature extraction\n",
        "print(\"Feature extraction: START\")\n",
        "\n",
        "# Compute spectogram for all audio file\n",
        "mel_spect = []\n",
        "# print(len(signal),len(s))\n",
        "for i in range(len(signal)):\n",
        "  mel_spect.append(mel_spectrogram(signal[i]))\n",
        "\n",
        "\n",
        "mel_spect = np.asarray(mel_spect)\n",
        "del signal\n",
        "gc.collect()\n",
        "\n",
        "# Stop feature extraction\n",
        "print(\"Feature extraction: END!\")"
      ],
      "metadata": {
        "colab": {
          "base_uri": "https://localhost:8080/"
        },
        "id": "tupYZ1xOSext",
        "outputId": "49e8f4d6-12c7-4557-887e-8eda8abbd1ec"
      },
      "execution_count": null,
      "outputs": [
        {
          "output_type": "stream",
          "name": "stdout",
          "text": [
            "Feature extraction: START\n",
            "0\n",
            "300\n",
            "600\n",
            "900\n",
            "1200\n",
            "1500\n",
            "1800\n",
            "2100\n",
            "2400\n",
            "2700\n",
            "3000\n",
            "3300\n",
            "3600\n",
            "3900\n",
            "Feature extraction: END!\n"
          ]
        }
      ]
    },
    {
      "cell_type": "code",
      "source": [
        "pickle.dump(mel_spect, open(file_path_model+'mel_spect.p', 'wb'), protocol=4)\n"
      ],
      "metadata": {
        "id": "6Om1_EFPlnpN"
      },
      "execution_count": null,
      "outputs": []
    },
    {
      "cell_type": "code",
      "source": [
        "# Start feature extraction\n",
        "print(\"Feature extraction: START\")\n",
        "\n",
        "augmented_mel_spect = [np.asarray(list(map(mel_spectrogram, augmented_signal[i]))) for i in range(len(augmented_signal))]\n",
        "del augmented_signal\n",
        "gc.collect()\n",
        "\n",
        "# Stop feature extraction\n",
        "print(\"Feature extraction: END!\")"
      ],
      "metadata": {
        "colab": {
          "base_uri": "https://localhost:8080/"
        },
        "id": "-IyrHo--SgJF",
        "outputId": "81c0031a-2518-409e-bfbe-5416dc16ead1"
      },
      "execution_count": null,
      "outputs": [
        {
          "output_type": "stream",
          "name": "stdout",
          "text": [
            "Feature extraction: START\n",
            "4200\n",
            "4500\n",
            "4800\n",
            "5100\n",
            "5400\n",
            "5700\n",
            "6000\n",
            "6300\n",
            "6600\n",
            "6900\n",
            "7200\n",
            "7500\n",
            "7800\n",
            "8100\n",
            "8400\n",
            "8700\n",
            "9000\n",
            "9300\n",
            "9600\n",
            "9900\n",
            "10200\n",
            "10500\n",
            "10800\n",
            "11100\n",
            "11400\n",
            "11700\n",
            "12000\n",
            "Feature extraction: END!\n"
          ]
        }
      ]
    },
    {
      "cell_type": "code",
      "source": [
        "\n",
        "print(mel_spect.shape)\n",
        "# print(augmented_mel_spect.shape)\n",
        "print(labels.shape)"
      ],
      "metadata": {
        "colab": {
          "base_uri": "https://localhost:8080/"
        },
        "id": "KHvOgKOzSjcK",
        "outputId": "e9e833d5-0eed-4c47-e2ac-e28da6e297ab"
      },
      "execution_count": null,
      "outputs": [
        {
          "output_type": "stream",
          "name": "stdout",
          "text": [
            "(4030, 128, 180)\n",
            "(4030,)\n"
          ]
        }
      ]
    },
    {
      "cell_type": "code",
      "source": [
        "\n",
        "pickle.dump(augmented_mel_spect, open(file_path_model+'augmented_mel_spect.p', 'wb'), protocol=4)\n"
      ],
      "metadata": {
        "id": "imb3qHesSlec"
      },
      "execution_count": null,
      "outputs": []
    },
    {
      "cell_type": "code",
      "source": [
        "labels=pickle.load(open(file_path_model+\"labels.p\",\"rb\"))"
      ],
      "metadata": {
        "id": "PI1pmF_IVdSF"
      },
      "execution_count": null,
      "outputs": []
    },
    {
      "cell_type": "code",
      "source": [
        "# Build Train and test dataset\n",
        "# MEL_SPECT_train, MEL_SPECT_test,  label_train, label_test = train_test_split(mel_spect,  labels, test_size=0.2)\n",
        "MEL_SPECT_train, MEL_SPECT_test, AUG_MEL_SPECT_train, AUG_MEL_SPECT_test, label_train, label_test = train_test_split(mel_spect, augmented_mel_spect, labels, test_size=0.2)\n",
        "\n",
        "# Build augmented labels and train\n",
        "aug_label_train = np.asarray(list(itertools.chain.from_iterable([[label] * nb_augmented for label in label_train])))\n",
        "AUG_MEL_SPECT_train = np.asarray(list(itertools.chain.from_iterable(AUG_MEL_SPECT_train)))\n",
        "AUG_MEL_SPECT_test = np.asarray(list(itertools.chain.from_iterable(AUG_MEL_SPECT_test)))\n",
        "aug_label_test = np.asarray(list(itertools.chain.from_iterable([[label] * nb_augmented for label in label_test])))\n",
        "# print(AUG_MEL_SPECT_train.shape)\n",
        "# print(AUG_MEL_SPECT_test.shape)\n",
        "# Concatenate original and augmented\n",
        "# X_train = MEL_SPECT_train\n",
        "# y_train = label_train\n",
        "X_train = np.concatenate((MEL_SPECT_train, AUG_MEL_SPECT_train))\n",
        "y_train = np.concatenate((label_train, aug_label_train))\n",
        "\n",
        "print(\"x_train: \",X_train.shape)\n",
        "print(\"y_train: \",y_train.shape)\n",
        "# Build test set\n",
        "X_test = np.concatenate((MEL_SPECT_test, AUG_MEL_SPECT_test))\n",
        "# X_test = MEL_SPECT_test\n",
        "y_test = np.concatenate((label_test, aug_label_test))\n",
        "# y_test = label_test\n",
        "print(X_test.shape)\n",
        "print(y_test.shape)\n"
      ],
      "metadata": {
        "colab": {
          "base_uri": "https://localhost:8080/"
        },
        "id": "m3FANhgdViOM",
        "outputId": "777ed93e-ee4c-43b1-810e-d47d708799fc"
      },
      "execution_count": null,
      "outputs": [
        {
          "output_type": "stream",
          "name": "stdout",
          "text": [
            "x_train:  (9672, 128, 180)\n",
            "y_train:  (9672,)\n",
            "(2418, 128, 180)\n",
            "(2418,)\n"
          ]
        }
      ]
    },
    {
      "cell_type": "code",
      "source": [
        "# Delete\n",
        "# del MEL_SPECT_train,MEL_SPECT_test\n",
        "del MEL_SPECT_train, AUG_MEL_SPECT_train, label_train, AUG_MEL_SPECT_test, MEL_SPECT_test, label_test\n",
        "del mel_spect, augmented_mel_spect, labels"
      ],
      "metadata": {
        "id": "YePDCf8EDBH8"
      },
      "execution_count": null,
      "outputs": []
    },
    {
      "cell_type": "code",
      "source": [
        "win_ts = 128\n",
        "hop_ts = 64\n",
        "\n",
        "def frame(x, win_step=128, win_size=64):\n",
        "    nb_frames = 1 + int((x.shape[2] - win_size) / win_step)\n",
        "    frames = np.zeros((x.shape[0], nb_frames, x.shape[1], win_size)).astype(np.float32)\n",
        "    for t in range(nb_frames):\n",
        "        frames[:,t,:,:] = np.copy(x[:,:,(t * win_step):(t * win_step + win_size)]).astype(np.float32)\n",
        "    return frames\n",
        "\n",
        "X_train = frame(X_train, hop_ts, win_ts)\n",
        "X_test = frame(X_test, hop_ts, win_ts)\n"
      ],
      "metadata": {
        "id": "9PQvkF_7VoMR"
      },
      "execution_count": null,
      "outputs": []
    },
    {
      "cell_type": "code",
      "source": [
        "\n",
        "X_test.shape"
      ],
      "metadata": {
        "colab": {
          "base_uri": "https://localhost:8080/"
        },
        "id": "cLfDOehmVp5v",
        "outputId": "c86a2ad4-b040-4614-9f08-db50e5360405"
      },
      "execution_count": null,
      "outputs": [
        {
          "output_type": "execute_result",
          "data": {
            "text/plain": [
              "(2418, 1, 128, 128)"
            ]
          },
          "metadata": {},
          "execution_count": 27
        }
      ]
    },
    {
      "cell_type": "code",
      "source": [
        "# Save Train and test set\n",
        "pickle.dump(X_train.astype(np.float16), open(file_path_model+'[X_train].p', 'wb'))\n",
        "pickle.dump(y_train, open(file_path_model+'[y_train].p', 'wb'))\n",
        "pickle.dump(X_test.astype(np.float16), open(file_path_model+'[X_test].p', 'wb'))\n",
        "pickle.dump(y_test, open(file_path_model+'[y_test].p', 'wb'))"
      ],
      "metadata": {
        "id": "ai5r1KnDVro4"
      },
      "execution_count": null,
      "outputs": []
    },
    {
      "cell_type": "code",
      "source": [
        "import os\n",
        "from glob import glob\n",
        "import pickle\n",
        "import numpy as np\n",
        "import pandas as pd\n",
        "from keras.utils.vis_utils import plot_model\n",
        "### Plot imports ###\n",
        "from IPython.display import Image\n",
        "import matplotlib.pyplot as plt\n",
        "\n",
        "### Time Distributed ConvNet imports ###\n",
        "import tensorflow as tf\n",
        "from tensorflow.keras.models import Sequential, Model\n",
        "from tensorflow.keras.layers import Input, Dense, Dropout, Activation, TimeDistributed, concatenate\n",
        "from tensorflow.keras.layers import Conv2D, MaxPooling2D, AveragePooling2D, BatchNormalization, LeakyReLU, Flatten\n",
        "from tensorflow.keras.layers import LSTM\n",
        "from tensorflow.keras.optimizers import Adam, SGD\n",
        "from tensorflow.keras.callbacks import EarlyStopping, ModelCheckpoint, ReduceLROnPlateau\n",
        "from tensorflow.keras import backend as K\n",
        "from keras.utils import np_utils\n",
        "from keras.utils.vis_utils import plot_model\n",
        "from sklearn.preprocessing import LabelEncoder\n",
        "\n",
        "### Warning ###\n",
        "import warnings\n",
        "warnings.filterwarnings('ignore')"
      ],
      "metadata": {
        "id": "Y4BEJ9ZtVyv7"
      },
      "execution_count": null,
      "outputs": []
    },
    {
      "cell_type": "code",
      "source": [
        "file_path = '/content/drive/MyDrive/Review_3/ravdess/RAVDESS/'\n",
        "file_path_model = '/content/drive/MyDrive/Review_3/ravdess/augmented_ravdess_mfcc_chunks/'"
      ],
      "metadata": {
        "id": "a6JU9w23rL5y"
      },
      "execution_count": null,
      "outputs": []
    },
    {
      "cell_type": "code",
      "source": [
        "from google.colab import drive\n",
        "drive.mount('/content/drive')"
      ],
      "metadata": {
        "colab": {
          "base_uri": "https://localhost:8080/"
        },
        "id": "Qh1fjWt7V0yR",
        "outputId": "b1a69a13-bc49-4aa3-fab9-c55dcf352bc0"
      },
      "execution_count": null,
      "outputs": [
        {
          "output_type": "stream",
          "name": "stdout",
          "text": [
            "Drive already mounted at /content/drive; to attempt to forcibly remount, call drive.mount(\"/content/drive\", force_remount=True).\n"
          ]
        }
      ]
    },
    {
      "cell_type": "code",
      "source": [
        "\n",
        "X_train = pickle.load(open(file_path_model+'[X_train].p', 'rb'))\n",
        "y_train = pickle.load(open(file_path_model+'[y_train].p', 'rb'))\n",
        "y_test = pickle.load(open(file_path_model+'[y_test].p', 'rb'))\n",
        "X_test = pickle.load(open(file_path_model+'[X_test].p', 'rb'))"
      ],
      "metadata": {
        "id": "SwPl1CcDV2mz"
      },
      "execution_count": null,
      "outputs": []
    },
    {
      "cell_type": "code",
      "source": [
        "print(X_train.shape)\n",
        "print(y_train.shape)\n",
        "print(X_test.shape)\n",
        "print(y_test.shape) "
      ],
      "metadata": {
        "colab": {
          "base_uri": "https://localhost:8080/"
        },
        "id": "blFAeZSBV8zT",
        "outputId": "1551b65c-9852-4a73-aa25-ef70860f0fdd"
      },
      "execution_count": null,
      "outputs": [
        {
          "output_type": "stream",
          "name": "stdout",
          "text": [
            "(9672, 1, 128, 128)\n",
            "(9672,)\n",
            "(2418, 1, 128, 128)\n",
            "(2418,)\n"
          ]
        }
      ]
    },
    {
      "cell_type": "code",
      "source": [
        "print(file_path_model)\n",
        "lb = LabelEncoder()\n",
        "y_train = np_utils.to_categorical(lb.fit_transform(np.ravel(y_train)))\n",
        "y_test = np_utils.to_categorical(lb.transform(np.ravel(y_test)))"
      ],
      "metadata": {
        "id": "d07gF5cEV-1B",
        "colab": {
          "base_uri": "https://localhost:8080/"
        },
        "outputId": "d7137e58-cdb9-42e1-c047-c3c7a3433d4d"
      },
      "execution_count": null,
      "outputs": [
        {
          "output_type": "stream",
          "name": "stdout",
          "text": [
            "/content/drive/MyDrive/Review_3/ravdess/augmented_ravdess_mfcc_chunks/\n"
          ]
        }
      ]
    },
    {
      "cell_type": "code",
      "source": [
        "# Reshape for convolution\n",
        "X_train = X_train.reshape(X_train.shape[0], X_train.shape[1] , X_train.shape[2], X_train.shape[3], 1)\n",
        "X_test = X_test.reshape(X_test.shape[0], X_test.shape[1] , X_test.shape[2], X_test.shape[3], 1)"
      ],
      "metadata": {
        "id": "upkJ5BtRWCA3"
      },
      "execution_count": null,
      "outputs": []
    },
    {
      "cell_type": "code",
      "source": [
        "X_train.shape[1:]"
      ],
      "metadata": {
        "colab": {
          "base_uri": "https://localhost:8080/"
        },
        "id": "UjcdxKTUWEM6",
        "outputId": "71875ab9-f92d-4d70-c648-73e1407b00a6"
      },
      "execution_count": null,
      "outputs": [
        {
          "output_type": "execute_result",
          "data": {
            "text/plain": [
              "(1, 128, 128, 1)"
            ]
          },
          "metadata": {},
          "execution_count": 12
        }
      ]
    },
    {
      "cell_type": "code",
      "source": [
        "K.clear_session()\n",
        "\n",
        "input_y = Input(shape=X_train.shape[1:], name='Input_MELSPECT')\n",
        "\n",
        "y = TimeDistributed(Conv2D(64, kernel_size=(3, 3), padding='same'), name='Conv_1_MELSPECT')(input_y)\n",
        "y = TimeDistributed(BatchNormalization(), name='BatchNorm_1_MELSPECT')(y)\n",
        "y = TimeDistributed(Activation('elu'), name='Activ_1_MELSPECT')(y)\n",
        "y = TimeDistributed(MaxPooling2D(pool_size=(2, 2), strides=(2, 2), padding='same'), name='MaxPool_1_MELSPECT')(y)\n",
        "y = TimeDistributed(Dropout(0.2), name='Drop_1_MELSPECT')(y)     \n",
        "\n",
        "y = TimeDistributed(Conv2D(64, kernel_size=(3, 3), strides=(1, 1), padding='same'), name='Conv_2_MELSPECT')(y)\n",
        "y = TimeDistributed(BatchNormalization(), name='BatchNorm_2_MELSPECT')(y)\n",
        "y = TimeDistributed(Activation('elu'), name='Activ_2_MELSPECT')(y)\n",
        "y = TimeDistributed(MaxPooling2D(pool_size=(4, 4), strides=(4, 4), padding='same'), name='MaxPool_2_MELSPECT')(y)\n",
        "y = TimeDistributed(Dropout(0.2), name='Drop_2_MELSPECT')(y)\n",
        "\n",
        "y = TimeDistributed(Conv2D(128, kernel_size=(3, 3), strides=(1, 1), padding='same'), name='Conv_3_MELSPECT')(y)\n",
        "y = TimeDistributed(BatchNormalization(), name='BatchNorm_3_MELSPECT')(y)\n",
        "y = TimeDistributed(Activation('elu'), name='Activ_3_MELSPECT')(y)\n",
        "y = TimeDistributed(MaxPooling2D(pool_size=(4, 4), strides=(4, 4), padding='same'), name='MaxPool_3_MELSPECT')(y)\n",
        "y = TimeDistributed(Dropout(0.2), name='Drop_3_MELSPECT')(y)\n",
        "\n",
        "y = TimeDistributed(Conv2D(128, kernel_size=(3, 3), strides=(1, 1), padding='same'), name='Conv_4_MELSPECT')(y)\n",
        "y = TimeDistributed(BatchNormalization(), name='BatchNorm_4_MELSPECT')(y)\n",
        "y = TimeDistributed(Activation('elu'), name='Activ_4_MELSPECT')(y)\n",
        "y = TimeDistributed(MaxPooling2D(pool_size=(4, 4), strides=(4, 4), padding='same'), name='MaxPool_4_MELSPECT')(y)\n",
        "y = TimeDistributed(Dropout(0.2), name='Drop_4_MELSPECT')(y)  \n",
        "\n",
        "y = TimeDistributed(Flatten(), name='Flat_MELSPECT')(y)                                           \n",
        "# Apply 2 LSTM layer and one FC\n",
        "y = LSTM(256, return_sequences=False, dropout=0.2, name='LSTM_1')(y)\n",
        "y = Dense(y_train.shape[1], activation='softmax', name='FC')(y)\n",
        "\n",
        "# Build final model\n",
        "model = Model(inputs=input_y, outputs=y)\n",
        "model.summary()"
      ],
      "metadata": {
        "colab": {
          "base_uri": "https://localhost:8080/"
        },
        "id": "0_W4EmvTWFpH",
        "outputId": "d0b36a36-26a7-46ad-9cee-820955d04a93"
      },
      "execution_count": null,
      "outputs": [
        {
          "output_type": "stream",
          "name": "stdout",
          "text": [
            "Model: \"model\"\n",
            "_________________________________________________________________\n",
            " Layer (type)                Output Shape              Param #   \n",
            "=================================================================\n",
            " Input_MELSPECT (InputLayer)  [(None, 1, 128, 128, 1)]  0        \n",
            "                                                                 \n",
            " Conv_1_MELSPECT (TimeDistri  (None, 1, 128, 128, 64)  640       \n",
            " buted)                                                          \n",
            "                                                                 \n",
            " BatchNorm_1_MELSPECT (TimeD  (None, 1, 128, 128, 64)  256       \n",
            " istributed)                                                     \n",
            "                                                                 \n",
            " Activ_1_MELSPECT (TimeDistr  (None, 1, 128, 128, 64)  0         \n",
            " ibuted)                                                         \n",
            "                                                                 \n",
            " MaxPool_1_MELSPECT (TimeDis  (None, 1, 64, 64, 64)    0         \n",
            " tributed)                                                       \n",
            "                                                                 \n",
            " Drop_1_MELSPECT (TimeDistri  (None, 1, 64, 64, 64)    0         \n",
            " buted)                                                          \n",
            "                                                                 \n",
            " Conv_2_MELSPECT (TimeDistri  (None, 1, 64, 64, 64)    36928     \n",
            " buted)                                                          \n",
            "                                                                 \n",
            " BatchNorm_2_MELSPECT (TimeD  (None, 1, 64, 64, 64)    256       \n",
            " istributed)                                                     \n",
            "                                                                 \n",
            " Activ_2_MELSPECT (TimeDistr  (None, 1, 64, 64, 64)    0         \n",
            " ibuted)                                                         \n",
            "                                                                 \n",
            " MaxPool_2_MELSPECT (TimeDis  (None, 1, 16, 16, 64)    0         \n",
            " tributed)                                                       \n",
            "                                                                 \n",
            " Drop_2_MELSPECT (TimeDistri  (None, 1, 16, 16, 64)    0         \n",
            " buted)                                                          \n",
            "                                                                 \n",
            " Conv_3_MELSPECT (TimeDistri  (None, 1, 16, 16, 128)   73856     \n",
            " buted)                                                          \n",
            "                                                                 \n",
            " BatchNorm_3_MELSPECT (TimeD  (None, 1, 16, 16, 128)   512       \n",
            " istributed)                                                     \n",
            "                                                                 \n",
            " Activ_3_MELSPECT (TimeDistr  (None, 1, 16, 16, 128)   0         \n",
            " ibuted)                                                         \n",
            "                                                                 \n",
            " MaxPool_3_MELSPECT (TimeDis  (None, 1, 4, 4, 128)     0         \n",
            " tributed)                                                       \n",
            "                                                                 \n",
            " Drop_3_MELSPECT (TimeDistri  (None, 1, 4, 4, 128)     0         \n",
            " buted)                                                          \n",
            "                                                                 \n",
            " Conv_4_MELSPECT (TimeDistri  (None, 1, 4, 4, 128)     147584    \n",
            " buted)                                                          \n",
            "                                                                 \n",
            " BatchNorm_4_MELSPECT (TimeD  (None, 1, 4, 4, 128)     512       \n",
            " istributed)                                                     \n",
            "                                                                 \n",
            " Activ_4_MELSPECT (TimeDistr  (None, 1, 4, 4, 128)     0         \n",
            " ibuted)                                                         \n",
            "                                                                 \n",
            " MaxPool_4_MELSPECT (TimeDis  (None, 1, 1, 1, 128)     0         \n",
            " tributed)                                                       \n",
            "                                                                 \n",
            " Drop_4_MELSPECT (TimeDistri  (None, 1, 1, 1, 128)     0         \n",
            " buted)                                                          \n",
            "                                                                 \n",
            " Flat_MELSPECT (TimeDistribu  (None, 1, 128)           0         \n",
            " ted)                                                            \n",
            "                                                                 \n",
            " LSTM_1 (LSTM)               (None, 256)               394240    \n",
            "                                                                 \n",
            " FC (Dense)                  (None, 7)                 1799      \n",
            "                                                                 \n",
            "=================================================================\n",
            "Total params: 656,583\n",
            "Trainable params: 655,815\n",
            "Non-trainable params: 768\n",
            "_________________________________________________________________\n"
          ]
        }
      ]
    },
    {
      "cell_type": "code",
      "source": [
        "gpu_options = tf.compat.v1.GPUOptions(allow_growth=True)\n",
        "session = tf.compat.v1.InteractiveSession(config=tf.compat.v1.ConfigProto(gpu_options=gpu_options))"
      ],
      "metadata": {
        "id": "bwN8vEiPWHaI"
      },
      "execution_count": null,
      "outputs": []
    },
    {
      "cell_type": "code",
      "source": [
        "# Compile model\n",
        "model.compile(optimizer=SGD(lr=0.01, decay=1e-6, momentum=0.8), loss='categorical_crossentropy', metrics=['accuracy'])\n",
        "\n",
        "# Save best model\n",
        "best_model_save = ModelCheckpoint(file_path_model+'best_Model.hdf5', save_best_only=True, monitor='accuracy', mode='max')\n",
        "\n",
        "# Early stopping\n",
        "early_stopping = EarlyStopping(monitor='accuracy', patience=30, verbose=1, mode='max')\n",
        "\n",
        "# Fit model\n",
        "history = model.fit(X_train, y_train, batch_size=64, epochs=125, validation_data=(X_test, y_test), callbacks=[early_stopping, best_model_save,tf.keras.callbacks.CSVLogger(file_path_model+'source_history.csv')])"
      ],
      "metadata": {
        "colab": {
          "base_uri": "https://localhost:8080/"
        },
        "id": "IQyyZt8PWJ9D",
        "outputId": "31ba8dfe-0a0e-4386-9dd2-07e779622f5c"
      },
      "execution_count": null,
      "outputs": [
        {
          "output_type": "stream",
          "name": "stdout",
          "text": [
            "Epoch 1/125\n",
            "152/152 [==============================] - 9s 47ms/step - loss: 1.8087 - accuracy: 0.2538 - val_loss: 2.1944 - val_accuracy: 0.1836\n",
            "Epoch 2/125\n",
            "152/152 [==============================] - 6s 40ms/step - loss: 1.7868 - accuracy: 0.2686 - val_loss: 2.1824 - val_accuracy: 0.1646\n",
            "Epoch 3/125\n",
            "152/152 [==============================] - 6s 40ms/step - loss: 1.7649 - accuracy: 0.2727 - val_loss: 1.9579 - val_accuracy: 0.2250\n",
            "Epoch 4/125\n",
            "152/152 [==============================] - 6s 40ms/step - loss: 1.7421 - accuracy: 0.2886 - val_loss: 2.1611 - val_accuracy: 0.1832\n",
            "Epoch 5/125\n",
            "152/152 [==============================] - 6s 40ms/step - loss: 1.7211 - accuracy: 0.2950 - val_loss: 1.7601 - val_accuracy: 0.2787\n",
            "Epoch 6/125\n",
            "152/152 [==============================] - 6s 41ms/step - loss: 1.6874 - accuracy: 0.3169 - val_loss: 1.9665 - val_accuracy: 0.2386\n",
            "Epoch 7/125\n",
            "152/152 [==============================] - 6s 41ms/step - loss: 1.6776 - accuracy: 0.3180 - val_loss: 1.6168 - val_accuracy: 0.3495\n",
            "Epoch 8/125\n",
            "152/152 [==============================] - 6s 40ms/step - loss: 1.6583 - accuracy: 0.3225 - val_loss: 1.6421 - val_accuracy: 0.3462\n",
            "Epoch 9/125\n",
            "152/152 [==============================] - 6s 40ms/step - loss: 1.6474 - accuracy: 0.3271 - val_loss: 1.7478 - val_accuracy: 0.3052\n",
            "Epoch 10/125\n",
            "152/152 [==============================] - 6s 41ms/step - loss: 1.6229 - accuracy: 0.3380 - val_loss: 1.6135 - val_accuracy: 0.3424\n",
            "Epoch 11/125\n",
            "152/152 [==============================] - 6s 40ms/step - loss: 1.6105 - accuracy: 0.3503 - val_loss: 1.7498 - val_accuracy: 0.2883\n",
            "Epoch 12/125\n",
            "152/152 [==============================] - 6s 40ms/step - loss: 1.5958 - accuracy: 0.3556 - val_loss: 1.6687 - val_accuracy: 0.3379\n",
            "Epoch 13/125\n",
            "152/152 [==============================] - 6s 40ms/step - loss: 1.5783 - accuracy: 0.3684 - val_loss: 1.7583 - val_accuracy: 0.3127\n",
            "Epoch 14/125\n",
            "152/152 [==============================] - 6s 39ms/step - loss: 1.5725 - accuracy: 0.3595 - val_loss: 1.5352 - val_accuracy: 0.3821\n",
            "Epoch 15/125\n",
            "152/152 [==============================] - 7s 45ms/step - loss: 1.5580 - accuracy: 0.3709 - val_loss: 1.5459 - val_accuracy: 0.3801\n",
            "Epoch 16/125\n",
            "152/152 [==============================] - 6s 40ms/step - loss: 1.5446 - accuracy: 0.3780 - val_loss: 1.5431 - val_accuracy: 0.3759\n",
            "Epoch 17/125\n",
            "152/152 [==============================] - 6s 40ms/step - loss: 1.5262 - accuracy: 0.3806 - val_loss: 1.6717 - val_accuracy: 0.3300\n",
            "Epoch 18/125\n",
            "152/152 [==============================] - 6s 40ms/step - loss: 1.5267 - accuracy: 0.3812 - val_loss: 1.6678 - val_accuracy: 0.3387\n",
            "Epoch 19/125\n",
            "152/152 [==============================] - 6s 40ms/step - loss: 1.5172 - accuracy: 0.3915 - val_loss: 1.7561 - val_accuracy: 0.3081\n",
            "Epoch 20/125\n",
            "152/152 [==============================] - 6s 40ms/step - loss: 1.5014 - accuracy: 0.3961 - val_loss: 1.6046 - val_accuracy: 0.3644\n",
            "Epoch 21/125\n",
            "152/152 [==============================] - 6s 40ms/step - loss: 1.4983 - accuracy: 0.3972 - val_loss: 1.4926 - val_accuracy: 0.3912\n",
            "Epoch 22/125\n",
            "152/152 [==============================] - 6s 40ms/step - loss: 1.4781 - accuracy: 0.4062 - val_loss: 1.5899 - val_accuracy: 0.3668\n",
            "Epoch 23/125\n",
            "152/152 [==============================] - 6s 41ms/step - loss: 1.4777 - accuracy: 0.4102 - val_loss: 1.4615 - val_accuracy: 0.4140\n",
            "Epoch 24/125\n",
            "152/152 [==============================] - 6s 40ms/step - loss: 1.4606 - accuracy: 0.4106 - val_loss: 1.5690 - val_accuracy: 0.3706\n",
            "Epoch 25/125\n",
            "152/152 [==============================] - 6s 40ms/step - loss: 1.4502 - accuracy: 0.4199 - val_loss: 2.1853 - val_accuracy: 0.2969\n",
            "Epoch 26/125\n",
            "152/152 [==============================] - 6s 40ms/step - loss: 1.4365 - accuracy: 0.4195 - val_loss: 1.4771 - val_accuracy: 0.4094\n",
            "Epoch 27/125\n",
            "152/152 [==============================] - 7s 44ms/step - loss: 1.4305 - accuracy: 0.4290 - val_loss: 1.5658 - val_accuracy: 0.3734\n",
            "Epoch 28/125\n",
            "152/152 [==============================] - 6s 40ms/step - loss: 1.4190 - accuracy: 0.4319 - val_loss: 1.6246 - val_accuracy: 0.3569\n",
            "Epoch 29/125\n",
            "152/152 [==============================] - 6s 40ms/step - loss: 1.4165 - accuracy: 0.4268 - val_loss: 1.5989 - val_accuracy: 0.3652\n",
            "Epoch 30/125\n",
            "152/152 [==============================] - 7s 44ms/step - loss: 1.4061 - accuracy: 0.4339 - val_loss: 1.4730 - val_accuracy: 0.4007\n",
            "Epoch 31/125\n",
            "152/152 [==============================] - 6s 40ms/step - loss: 1.4063 - accuracy: 0.4381 - val_loss: 1.4585 - val_accuracy: 0.4049\n",
            "Epoch 32/125\n",
            "152/152 [==============================] - 6s 39ms/step - loss: 1.3942 - accuracy: 0.4380 - val_loss: 1.4717 - val_accuracy: 0.4028\n",
            "Epoch 33/125\n",
            "152/152 [==============================] - 7s 45ms/step - loss: 1.3755 - accuracy: 0.4529 - val_loss: 1.4723 - val_accuracy: 0.4227\n",
            "Epoch 34/125\n",
            "152/152 [==============================] - 6s 40ms/step - loss: 1.3583 - accuracy: 0.4553 - val_loss: 1.4346 - val_accuracy: 0.4396\n",
            "Epoch 35/125\n",
            "152/152 [==============================] - 6s 40ms/step - loss: 1.3566 - accuracy: 0.4614 - val_loss: 1.4637 - val_accuracy: 0.4181\n",
            "Epoch 36/125\n",
            "152/152 [==============================] - 6s 39ms/step - loss: 1.3529 - accuracy: 0.4613 - val_loss: 1.4426 - val_accuracy: 0.4239\n",
            "Epoch 37/125\n",
            "152/152 [==============================] - 7s 44ms/step - loss: 1.3452 - accuracy: 0.4688 - val_loss: 1.5720 - val_accuracy: 0.3929\n",
            "Epoch 38/125\n",
            "152/152 [==============================] - 6s 40ms/step - loss: 1.3260 - accuracy: 0.4721 - val_loss: 1.4598 - val_accuracy: 0.4173\n",
            "Epoch 39/125\n",
            "152/152 [==============================] - 6s 40ms/step - loss: 1.3160 - accuracy: 0.4748 - val_loss: 1.5476 - val_accuracy: 0.3888\n",
            "Epoch 40/125\n",
            "152/152 [==============================] - 6s 40ms/step - loss: 1.3138 - accuracy: 0.4765 - val_loss: 1.4000 - val_accuracy: 0.4404\n",
            "Epoch 41/125\n",
            "152/152 [==============================] - 6s 39ms/step - loss: 1.3036 - accuracy: 0.4735 - val_loss: 1.8656 - val_accuracy: 0.3077\n",
            "Epoch 42/125\n",
            "152/152 [==============================] - 7s 45ms/step - loss: 1.3014 - accuracy: 0.4801 - val_loss: 1.4572 - val_accuracy: 0.4313\n",
            "Epoch 43/125\n",
            "152/152 [==============================] - 6s 40ms/step - loss: 1.2977 - accuracy: 0.4806 - val_loss: 1.4840 - val_accuracy: 0.4351\n",
            "Epoch 44/125\n",
            "152/152 [==============================] - 6s 40ms/step - loss: 1.2617 - accuracy: 0.5003 - val_loss: 1.4687 - val_accuracy: 0.4198\n",
            "Epoch 45/125\n",
            "152/152 [==============================] - 6s 39ms/step - loss: 1.2681 - accuracy: 0.4957 - val_loss: 1.5855 - val_accuracy: 0.3883\n",
            "Epoch 46/125\n",
            "152/152 [==============================] - 7s 44ms/step - loss: 1.2506 - accuracy: 0.5004 - val_loss: 1.3694 - val_accuracy: 0.4562\n",
            "Epoch 47/125\n",
            "152/152 [==============================] - 6s 40ms/step - loss: 1.2476 - accuracy: 0.5054 - val_loss: 1.4723 - val_accuracy: 0.4144\n",
            "Epoch 48/125\n",
            "152/152 [==============================] - 6s 39ms/step - loss: 1.2341 - accuracy: 0.5022 - val_loss: 1.4924 - val_accuracy: 0.4404\n",
            "Epoch 49/125\n",
            "152/152 [==============================] - 7s 44ms/step - loss: 1.2236 - accuracy: 0.5129 - val_loss: 1.5539 - val_accuracy: 0.4057\n",
            "Epoch 50/125\n",
            "152/152 [==============================] - 6s 39ms/step - loss: 1.2180 - accuracy: 0.5110 - val_loss: 1.5440 - val_accuracy: 0.4148\n",
            "Epoch 51/125\n",
            "152/152 [==============================] - 7s 44ms/step - loss: 1.2033 - accuracy: 0.5286 - val_loss: 1.4154 - val_accuracy: 0.4500\n",
            "Epoch 52/125\n",
            "152/152 [==============================] - 6s 39ms/step - loss: 1.1995 - accuracy: 0.5214 - val_loss: 1.6044 - val_accuracy: 0.3987\n",
            "Epoch 53/125\n",
            "152/152 [==============================] - 6s 39ms/step - loss: 1.1840 - accuracy: 0.5269 - val_loss: 1.4875 - val_accuracy: 0.4326\n",
            "Epoch 54/125\n",
            "152/152 [==============================] - 6s 39ms/step - loss: 1.1923 - accuracy: 0.5257 - val_loss: 1.4151 - val_accuracy: 0.4533\n",
            "Epoch 55/125\n",
            "152/152 [==============================] - 7s 44ms/step - loss: 1.1723 - accuracy: 0.5341 - val_loss: 1.3776 - val_accuracy: 0.4768\n",
            "Epoch 56/125\n",
            "152/152 [==============================] - 6s 40ms/step - loss: 1.1602 - accuracy: 0.5391 - val_loss: 1.5499 - val_accuracy: 0.4132\n",
            "Epoch 57/125\n",
            "152/152 [==============================] - 6s 40ms/step - loss: 1.1480 - accuracy: 0.5472 - val_loss: 1.4863 - val_accuracy: 0.4185\n",
            "Epoch 58/125\n",
            "152/152 [==============================] - 6s 40ms/step - loss: 1.1423 - accuracy: 0.5481 - val_loss: 1.4163 - val_accuracy: 0.4706\n",
            "Epoch 59/125\n",
            "152/152 [==============================] - 6s 40ms/step - loss: 1.1299 - accuracy: 0.5499 - val_loss: 1.4651 - val_accuracy: 0.4156\n",
            "Epoch 60/125\n",
            "152/152 [==============================] - 6s 39ms/step - loss: 1.1313 - accuracy: 0.5483 - val_loss: 1.5194 - val_accuracy: 0.4264\n",
            "Epoch 61/125\n",
            "152/152 [==============================] - 7s 43ms/step - loss: 1.1210 - accuracy: 0.5552 - val_loss: 1.4216 - val_accuracy: 0.4462\n",
            "Epoch 62/125\n",
            "152/152 [==============================] - 6s 40ms/step - loss: 1.1093 - accuracy: 0.5555 - val_loss: 1.3461 - val_accuracy: 0.4806\n",
            "Epoch 63/125\n",
            "152/152 [==============================] - 6s 40ms/step - loss: 1.0920 - accuracy: 0.5632 - val_loss: 1.3951 - val_accuracy: 0.4582\n",
            "Epoch 64/125\n",
            "152/152 [==============================] - 6s 40ms/step - loss: 1.0846 - accuracy: 0.5734 - val_loss: 1.3972 - val_accuracy: 0.4719\n",
            "Epoch 65/125\n",
            "152/152 [==============================] - 6s 39ms/step - loss: 1.0752 - accuracy: 0.5723 - val_loss: 1.4611 - val_accuracy: 0.4442\n",
            "Epoch 66/125\n",
            "152/152 [==============================] - 7s 43ms/step - loss: 1.0591 - accuracy: 0.5744 - val_loss: 1.4038 - val_accuracy: 0.4648\n",
            "Epoch 67/125\n",
            "152/152 [==============================] - 6s 40ms/step - loss: 1.0560 - accuracy: 0.5801 - val_loss: 1.5229 - val_accuracy: 0.4198\n",
            "Epoch 68/125\n",
            "152/152 [==============================] - 6s 40ms/step - loss: 1.0449 - accuracy: 0.5837 - val_loss: 1.5953 - val_accuracy: 0.4111\n",
            "Epoch 69/125\n",
            "152/152 [==============================] - 6s 40ms/step - loss: 1.0331 - accuracy: 0.5957 - val_loss: 1.3984 - val_accuracy: 0.4636\n",
            "Epoch 70/125\n",
            "152/152 [==============================] - 6s 39ms/step - loss: 1.0297 - accuracy: 0.5922 - val_loss: 1.4215 - val_accuracy: 0.4748\n",
            "Epoch 71/125\n",
            "152/152 [==============================] - 7s 43ms/step - loss: 1.0170 - accuracy: 0.6006 - val_loss: 1.4005 - val_accuracy: 0.4764\n",
            "Epoch 72/125\n",
            "152/152 [==============================] - 6s 39ms/step - loss: 1.0051 - accuracy: 0.5981 - val_loss: 1.4403 - val_accuracy: 0.4636\n",
            "Epoch 73/125\n",
            "152/152 [==============================] - 7s 44ms/step - loss: 0.9857 - accuracy: 0.6074 - val_loss: 1.4638 - val_accuracy: 0.4694\n",
            "Epoch 74/125\n",
            "152/152 [==============================] - 6s 40ms/step - loss: 0.9828 - accuracy: 0.6075 - val_loss: 1.4166 - val_accuracy: 0.4839\n",
            "Epoch 75/125\n",
            "152/152 [==============================] - 6s 40ms/step - loss: 0.9792 - accuracy: 0.6077 - val_loss: 1.4363 - val_accuracy: 0.4661\n",
            "Epoch 76/125\n",
            "152/152 [==============================] - 6s 40ms/step - loss: 0.9670 - accuracy: 0.6197 - val_loss: 1.6782 - val_accuracy: 0.4173\n",
            "Epoch 77/125\n",
            "152/152 [==============================] - 6s 40ms/step - loss: 0.9568 - accuracy: 0.6257 - val_loss: 1.5335 - val_accuracy: 0.4520\n",
            "Epoch 78/125\n",
            "152/152 [==============================] - 6s 40ms/step - loss: 0.9459 - accuracy: 0.6267 - val_loss: 1.5012 - val_accuracy: 0.4508\n",
            "Epoch 79/125\n",
            "152/152 [==============================] - 6s 40ms/step - loss: 0.9268 - accuracy: 0.6308 - val_loss: 1.3760 - val_accuracy: 0.5041\n",
            "Epoch 80/125\n",
            "152/152 [==============================] - 6s 40ms/step - loss: 0.9115 - accuracy: 0.6374 - val_loss: 1.4055 - val_accuracy: 0.4930\n",
            "Epoch 81/125\n",
            "152/152 [==============================] - 6s 39ms/step - loss: 0.9127 - accuracy: 0.6344 - val_loss: 1.7452 - val_accuracy: 0.4557\n",
            "Epoch 82/125\n",
            "152/152 [==============================] - 7s 45ms/step - loss: 0.8990 - accuracy: 0.6483 - val_loss: 1.7710 - val_accuracy: 0.4024\n",
            "Epoch 83/125\n",
            "152/152 [==============================] - 6s 39ms/step - loss: 0.8922 - accuracy: 0.6471 - val_loss: 1.5568 - val_accuracy: 0.4504\n",
            "Epoch 84/125\n",
            "152/152 [==============================] - 6s 39ms/step - loss: 0.8870 - accuracy: 0.6445 - val_loss: 1.4308 - val_accuracy: 0.4864\n",
            "Epoch 85/125\n",
            "152/152 [==============================] - 7s 43ms/step - loss: 0.8808 - accuracy: 0.6541 - val_loss: 1.4086 - val_accuracy: 0.5037\n",
            "Epoch 86/125\n",
            "152/152 [==============================] - 6s 40ms/step - loss: 0.8588 - accuracy: 0.6576 - val_loss: 1.4861 - val_accuracy: 0.4752\n",
            "Epoch 87/125\n",
            "152/152 [==============================] - 6s 39ms/step - loss: 0.8698 - accuracy: 0.6533 - val_loss: 1.3917 - val_accuracy: 0.5141\n",
            "Epoch 88/125\n",
            "152/152 [==============================] - 7s 44ms/step - loss: 0.8565 - accuracy: 0.6604 - val_loss: 1.4197 - val_accuracy: 0.4975\n",
            "Epoch 89/125\n",
            "152/152 [==============================] - 6s 40ms/step - loss: 0.8543 - accuracy: 0.6654 - val_loss: 1.4488 - val_accuracy: 0.4830\n",
            "Epoch 90/125\n",
            "152/152 [==============================] - 6s 40ms/step - loss: 0.8334 - accuracy: 0.6716 - val_loss: 1.6354 - val_accuracy: 0.4595\n",
            "Epoch 91/125\n",
            "152/152 [==============================] - 6s 39ms/step - loss: 0.8317 - accuracy: 0.6688 - val_loss: 1.5807 - val_accuracy: 0.4566\n",
            "Epoch 92/125\n",
            "152/152 [==============================] - 7s 45ms/step - loss: 0.8168 - accuracy: 0.6768 - val_loss: 1.5650 - val_accuracy: 0.4777\n",
            "Epoch 93/125\n",
            "152/152 [==============================] - 6s 40ms/step - loss: 0.8110 - accuracy: 0.6800 - val_loss: 1.4785 - val_accuracy: 0.4818\n",
            "Epoch 94/125\n",
            "152/152 [==============================] - 6s 40ms/step - loss: 0.7888 - accuracy: 0.6900 - val_loss: 1.5587 - val_accuracy: 0.4739\n",
            "Epoch 95/125\n",
            "152/152 [==============================] - 6s 39ms/step - loss: 0.8010 - accuracy: 0.6796 - val_loss: 1.6338 - val_accuracy: 0.4520\n",
            "Epoch 96/125\n",
            "152/152 [==============================] - 6s 39ms/step - loss: 0.7879 - accuracy: 0.6882 - val_loss: 1.5355 - val_accuracy: 0.4640\n",
            "Epoch 97/125\n",
            "152/152 [==============================] - 7s 45ms/step - loss: 0.7743 - accuracy: 0.6948 - val_loss: 1.4745 - val_accuracy: 0.4992\n",
            "Epoch 98/125\n",
            "152/152 [==============================] - 6s 39ms/step - loss: 0.7770 - accuracy: 0.6881 - val_loss: 1.6849 - val_accuracy: 0.4640\n",
            "Epoch 99/125\n",
            "152/152 [==============================] - 6s 39ms/step - loss: 0.7779 - accuracy: 0.6897 - val_loss: 1.5188 - val_accuracy: 0.4864\n",
            "Epoch 100/125\n",
            "152/152 [==============================] - 7s 44ms/step - loss: 0.7528 - accuracy: 0.7067 - val_loss: 1.5899 - val_accuracy: 0.4855\n",
            "Epoch 101/125\n",
            "152/152 [==============================] - 6s 39ms/step - loss: 0.7555 - accuracy: 0.6969 - val_loss: 1.5834 - val_accuracy: 0.4752\n",
            "Epoch 102/125\n",
            "152/152 [==============================] - 7s 45ms/step - loss: 0.7434 - accuracy: 0.7076 - val_loss: 1.5084 - val_accuracy: 0.5025\n",
            "Epoch 103/125\n",
            "152/152 [==============================] - 6s 39ms/step - loss: 0.7395 - accuracy: 0.7072 - val_loss: 1.5835 - val_accuracy: 0.4880\n",
            "Epoch 104/125\n",
            "152/152 [==============================] - 6s 39ms/step - loss: 0.7418 - accuracy: 0.7021 - val_loss: 1.4745 - val_accuracy: 0.5087\n",
            "Epoch 105/125\n",
            "152/152 [==============================] - 7s 43ms/step - loss: 0.7320 - accuracy: 0.7097 - val_loss: 1.5050 - val_accuracy: 0.5136\n",
            "Epoch 106/125\n",
            "152/152 [==============================] - 6s 40ms/step - loss: 0.7162 - accuracy: 0.7177 - val_loss: 1.4502 - val_accuracy: 0.5099\n",
            "Epoch 107/125\n",
            "152/152 [==============================] - 6s 39ms/step - loss: 0.7106 - accuracy: 0.7175 - val_loss: 1.6236 - val_accuracy: 0.4963\n",
            "Epoch 108/125\n",
            "152/152 [==============================] - 6s 39ms/step - loss: 0.7098 - accuracy: 0.7160 - val_loss: 1.8674 - val_accuracy: 0.4433\n",
            "Epoch 109/125\n",
            "152/152 [==============================] - 7s 44ms/step - loss: 0.7134 - accuracy: 0.7222 - val_loss: 1.4739 - val_accuracy: 0.5277\n",
            "Epoch 110/125\n",
            "152/152 [==============================] - 6s 39ms/step - loss: 0.7013 - accuracy: 0.7190 - val_loss: 1.6763 - val_accuracy: 0.4955\n",
            "Epoch 111/125\n",
            "152/152 [==============================] - 7s 43ms/step - loss: 0.7035 - accuracy: 0.7234 - val_loss: 1.7939 - val_accuracy: 0.4462\n",
            "Epoch 112/125\n",
            "152/152 [==============================] - 6s 40ms/step - loss: 0.6873 - accuracy: 0.7279 - val_loss: 1.6029 - val_accuracy: 0.5141\n",
            "Epoch 113/125\n",
            "152/152 [==============================] - 6s 39ms/step - loss: 0.6933 - accuracy: 0.7275 - val_loss: 1.5024 - val_accuracy: 0.5207\n",
            "Epoch 114/125\n",
            "152/152 [==============================] - 6s 39ms/step - loss: 0.6920 - accuracy: 0.7253 - val_loss: 1.4999 - val_accuracy: 0.5153\n",
            "Epoch 115/125\n",
            "152/152 [==============================] - 7s 43ms/step - loss: 0.6842 - accuracy: 0.7314 - val_loss: 1.4742 - val_accuracy: 0.5265\n",
            "Epoch 116/125\n",
            "152/152 [==============================] - 6s 40ms/step - loss: 0.6762 - accuracy: 0.7336 - val_loss: 1.4958 - val_accuracy: 0.5199\n",
            "Epoch 117/125\n",
            "152/152 [==============================] - 6s 39ms/step - loss: 0.6868 - accuracy: 0.7282 - val_loss: 1.4884 - val_accuracy: 0.5265\n",
            "Epoch 118/125\n",
            "152/152 [==============================] - 6s 39ms/step - loss: 0.6752 - accuracy: 0.7327 - val_loss: 1.6332 - val_accuracy: 0.4963\n",
            "Epoch 119/125\n",
            "152/152 [==============================] - 7s 43ms/step - loss: 0.6692 - accuracy: 0.7352 - val_loss: 1.5091 - val_accuracy: 0.5294\n",
            "Epoch 120/125\n",
            "152/152 [==============================] - 6s 39ms/step - loss: 0.6628 - accuracy: 0.7350 - val_loss: 1.6715 - val_accuracy: 0.4963\n",
            "Epoch 121/125\n",
            "152/152 [==============================] - 7s 44ms/step - loss: 0.6586 - accuracy: 0.7438 - val_loss: 1.7190 - val_accuracy: 0.4930\n",
            "Epoch 122/125\n",
            "152/152 [==============================] - 6s 39ms/step - loss: 0.6624 - accuracy: 0.7412 - val_loss: 1.5166 - val_accuracy: 0.5356\n",
            "Epoch 123/125\n",
            "152/152 [==============================] - 6s 40ms/step - loss: 0.6543 - accuracy: 0.7392 - val_loss: 1.7540 - val_accuracy: 0.4876\n",
            "Epoch 124/125\n",
            "152/152 [==============================] - 6s 39ms/step - loss: 0.6544 - accuracy: 0.7420 - val_loss: 1.5880 - val_accuracy: 0.5087\n",
            "Epoch 125/125\n",
            "152/152 [==============================] - 6s 39ms/step - loss: 0.6429 - accuracy: 0.7423 - val_loss: 1.6204 - val_accuracy: 0.5021\n"
          ]
        }
      ]
    },
    {
      "cell_type": "code",
      "source": [
        "# Compile model\n",
        "model.compile(optimizer=SGD(lr=0.01, decay=1e-6, momentum=0.8), loss='categorical_crossentropy', metrics=['accuracy'])\n",
        "\n",
        "# Save best model\n",
        "best_model_save = ModelCheckpoint(file_path_model+'best_Model_1.hdf5', save_best_only=True, monitor='accuracy', mode='max')\n",
        "\n",
        "# Early stopping\n",
        "early_stopping = EarlyStopping(monitor='accuracy', patience=30, verbose=1, mode='max')\n",
        "\n",
        "# Fit model\n",
        "history = model.fit(X_train, y_train, batch_size=64, epochs=100, validation_data=(X_test, y_test), callbacks=[early_stopping, best_model_save,tf.keras.callbacks.CSVLogger(file_path_model+'source_history_1.csv')])"
      ],
      "metadata": {
        "colab": {
          "base_uri": "https://localhost:8080/"
        },
        "id": "GFwhQxiOc4-I",
        "outputId": "10431a46-6c27-44ee-8c1e-95235c454abc"
      },
      "execution_count": 37,
      "outputs": [
        {
          "output_type": "stream",
          "name": "stdout",
          "text": [
            "Epoch 1/100\n",
            "152/152 [==============================] - 9s 46ms/step - loss: 0.6399 - accuracy: 0.7460 - val_loss: 1.5819 - val_accuracy: 0.5058\n",
            "Epoch 2/100\n",
            "152/152 [==============================] - 6s 39ms/step - loss: 0.6438 - accuracy: 0.7417 - val_loss: 1.6615 - val_accuracy: 0.4983\n",
            "Epoch 3/100\n",
            "152/152 [==============================] - 7s 44ms/step - loss: 0.6400 - accuracy: 0.7495 - val_loss: 1.6920 - val_accuracy: 0.4880\n",
            "Epoch 4/100\n",
            "152/152 [==============================] - 6s 40ms/step - loss: 0.6363 - accuracy: 0.7494 - val_loss: 1.6459 - val_accuracy: 0.4930\n",
            "Epoch 5/100\n",
            "152/152 [==============================] - 7s 46ms/step - loss: 0.6303 - accuracy: 0.7500 - val_loss: 1.9973 - val_accuracy: 0.4520\n",
            "Epoch 6/100\n",
            "152/152 [==============================] - 6s 42ms/step - loss: 0.6335 - accuracy: 0.7521 - val_loss: 1.7167 - val_accuracy: 0.4975\n",
            "Epoch 7/100\n",
            "152/152 [==============================] - 6s 40ms/step - loss: 0.6272 - accuracy: 0.7543 - val_loss: 1.5329 - val_accuracy: 0.5310\n",
            "Epoch 8/100\n",
            "152/152 [==============================] - 6s 40ms/step - loss: 0.6207 - accuracy: 0.7533 - val_loss: 1.5894 - val_accuracy: 0.5170\n",
            "Epoch 9/100\n",
            "152/152 [==============================] - 6s 40ms/step - loss: 0.6251 - accuracy: 0.7538 - val_loss: 1.7474 - val_accuracy: 0.4880\n",
            "Epoch 10/100\n",
            "152/152 [==============================] - 7s 45ms/step - loss: 0.6236 - accuracy: 0.7554 - val_loss: 1.5817 - val_accuracy: 0.5252\n",
            "Epoch 11/100\n",
            "152/152 [==============================] - 6s 40ms/step - loss: 0.6153 - accuracy: 0.7596 - val_loss: 1.8492 - val_accuracy: 0.4781\n",
            "Epoch 12/100\n",
            "152/152 [==============================] - 6s 41ms/step - loss: 0.6062 - accuracy: 0.7617 - val_loss: 1.5239 - val_accuracy: 0.5447\n",
            "Epoch 13/100\n",
            "152/152 [==============================] - 7s 43ms/step - loss: 0.6117 - accuracy: 0.7642 - val_loss: 1.7759 - val_accuracy: 0.4735\n",
            "Epoch 14/100\n",
            "152/152 [==============================] - 6s 41ms/step - loss: 0.6263 - accuracy: 0.7548 - val_loss: 1.6164 - val_accuracy: 0.5045\n",
            "Epoch 15/100\n",
            "152/152 [==============================] - 6s 41ms/step - loss: 0.6159 - accuracy: 0.7580 - val_loss: 1.5028 - val_accuracy: 0.5256\n",
            "Epoch 16/100\n",
            "152/152 [==============================] - 6s 40ms/step - loss: 0.6101 - accuracy: 0.7609 - val_loss: 1.8859 - val_accuracy: 0.4930\n",
            "Epoch 17/100\n",
            "152/152 [==============================] - 7s 43ms/step - loss: 0.6052 - accuracy: 0.7651 - val_loss: 1.5292 - val_accuracy: 0.5360\n",
            "Epoch 18/100\n",
            "152/152 [==============================] - 6s 40ms/step - loss: 0.6098 - accuracy: 0.7623 - val_loss: 1.5338 - val_accuracy: 0.5261\n",
            "Epoch 19/100\n",
            "152/152 [==============================] - 6s 39ms/step - loss: 0.5980 - accuracy: 0.7650 - val_loss: 1.6653 - val_accuracy: 0.5017\n",
            "Epoch 20/100\n",
            "152/152 [==============================] - 6s 39ms/step - loss: 0.5969 - accuracy: 0.7645 - val_loss: 1.5902 - val_accuracy: 0.5393\n",
            "Epoch 21/100\n",
            "152/152 [==============================] - 7s 44ms/step - loss: 0.5868 - accuracy: 0.7663 - val_loss: 1.9278 - val_accuracy: 0.4760\n",
            "Epoch 22/100\n",
            "152/152 [==============================] - 6s 40ms/step - loss: 0.5879 - accuracy: 0.7676 - val_loss: 2.0523 - val_accuracy: 0.4727\n",
            "Epoch 23/100\n",
            "152/152 [==============================] - 6s 40ms/step - loss: 0.5789 - accuracy: 0.7720 - val_loss: 1.7224 - val_accuracy: 0.5203\n",
            "Epoch 24/100\n",
            "152/152 [==============================] - 6s 40ms/step - loss: 0.5777 - accuracy: 0.7780 - val_loss: 1.7376 - val_accuracy: 0.5157\n",
            "Epoch 25/100\n",
            "152/152 [==============================] - 6s 40ms/step - loss: 0.5745 - accuracy: 0.7708 - val_loss: 1.6983 - val_accuracy: 0.5165\n",
            "Epoch 26/100\n",
            "152/152 [==============================] - 6s 40ms/step - loss: 0.5768 - accuracy: 0.7738 - val_loss: 1.8410 - val_accuracy: 0.4897\n",
            "Epoch 27/100\n",
            "152/152 [==============================] - 6s 40ms/step - loss: 0.5904 - accuracy: 0.7715 - val_loss: 1.7011 - val_accuracy: 0.5207\n",
            "Epoch 28/100\n",
            "152/152 [==============================] - 6s 40ms/step - loss: 0.6021 - accuracy: 0.7655 - val_loss: 1.7149 - val_accuracy: 0.5103\n",
            "Epoch 29/100\n",
            "152/152 [==============================] - 6s 40ms/step - loss: 0.5718 - accuracy: 0.7771 - val_loss: 1.6740 - val_accuracy: 0.5103\n",
            "Epoch 30/100\n",
            "152/152 [==============================] - 6s 40ms/step - loss: 0.5757 - accuracy: 0.7731 - val_loss: 1.7019 - val_accuracy: 0.5099\n",
            "Epoch 31/100\n",
            "152/152 [==============================] - 7s 44ms/step - loss: 0.5652 - accuracy: 0.7817 - val_loss: 1.5773 - val_accuracy: 0.5517\n",
            "Epoch 32/100\n",
            "152/152 [==============================] - 6s 40ms/step - loss: 0.5700 - accuracy: 0.7765 - val_loss: 1.6568 - val_accuracy: 0.5294\n",
            "Epoch 33/100\n",
            "152/152 [==============================] - 6s 40ms/step - loss: 0.5618 - accuracy: 0.7788 - val_loss: 1.6427 - val_accuracy: 0.5199\n",
            "Epoch 34/100\n",
            "152/152 [==============================] - 7s 44ms/step - loss: 0.5617 - accuracy: 0.7826 - val_loss: 1.7026 - val_accuracy: 0.5314\n",
            "Epoch 35/100\n",
            "152/152 [==============================] - 6s 39ms/step - loss: 0.5582 - accuracy: 0.7824 - val_loss: 1.6799 - val_accuracy: 0.5285\n",
            "Epoch 36/100\n",
            "152/152 [==============================] - 7s 45ms/step - loss: 0.5484 - accuracy: 0.7872 - val_loss: 1.6603 - val_accuracy: 0.5273\n",
            "Epoch 37/100\n",
            "152/152 [==============================] - 6s 40ms/step - loss: 0.5403 - accuracy: 0.7927 - val_loss: 1.7969 - val_accuracy: 0.5161\n",
            "Epoch 38/100\n",
            "152/152 [==============================] - 6s 40ms/step - loss: 0.5474 - accuracy: 0.7872 - val_loss: 1.7962 - val_accuracy: 0.5074\n",
            "Epoch 39/100\n",
            "152/152 [==============================] - 6s 40ms/step - loss: 0.5427 - accuracy: 0.7880 - val_loss: 1.9167 - val_accuracy: 0.4806\n",
            "Epoch 40/100\n",
            "152/152 [==============================] - 6s 39ms/step - loss: 0.5458 - accuracy: 0.7892 - val_loss: 1.5968 - val_accuracy: 0.5364\n",
            "Epoch 41/100\n",
            "152/152 [==============================] - 7s 43ms/step - loss: 0.5355 - accuracy: 0.7962 - val_loss: 1.6633 - val_accuracy: 0.5079\n",
            "Epoch 42/100\n",
            "152/152 [==============================] - 6s 40ms/step - loss: 0.5286 - accuracy: 0.7976 - val_loss: 1.7538 - val_accuracy: 0.5281\n",
            "Epoch 43/100\n",
            "152/152 [==============================] - 6s 40ms/step - loss: 0.5343 - accuracy: 0.7891 - val_loss: 1.7904 - val_accuracy: 0.5112\n",
            "Epoch 44/100\n",
            "152/152 [==============================] - 6s 39ms/step - loss: 0.5255 - accuracy: 0.7959 - val_loss: 1.5876 - val_accuracy: 0.5538\n",
            "Epoch 45/100\n",
            "152/152 [==============================] - 6s 40ms/step - loss: 0.5263 - accuracy: 0.7927 - val_loss: 1.6735 - val_accuracy: 0.5364\n",
            "Epoch 46/100\n",
            "152/152 [==============================] - 6s 40ms/step - loss: 0.5351 - accuracy: 0.7891 - val_loss: 1.7168 - val_accuracy: 0.5298\n",
            "Epoch 47/100\n",
            "152/152 [==============================] - 7s 43ms/step - loss: 0.5224 - accuracy: 0.8000 - val_loss: 1.7072 - val_accuracy: 0.5050\n",
            "Epoch 48/100\n",
            "152/152 [==============================] - 6s 40ms/step - loss: 0.5161 - accuracy: 0.8002 - val_loss: 1.7235 - val_accuracy: 0.5199\n",
            "Epoch 49/100\n",
            "152/152 [==============================] - 6s 40ms/step - loss: 0.5131 - accuracy: 0.8045 - val_loss: 1.7631 - val_accuracy: 0.5178\n",
            "Epoch 50/100\n",
            "152/152 [==============================] - 6s 40ms/step - loss: 0.5167 - accuracy: 0.7986 - val_loss: 1.7142 - val_accuracy: 0.5178\n",
            "Epoch 51/100\n",
            "152/152 [==============================] - 6s 40ms/step - loss: 0.5043 - accuracy: 0.8022 - val_loss: 1.7273 - val_accuracy: 0.5223\n",
            "Epoch 52/100\n",
            "152/152 [==============================] - 7s 43ms/step - loss: 0.5066 - accuracy: 0.8091 - val_loss: 1.7012 - val_accuracy: 0.5186\n",
            "Epoch 53/100\n",
            "152/152 [==============================] - 6s 40ms/step - loss: 0.5081 - accuracy: 0.8081 - val_loss: 1.9076 - val_accuracy: 0.4992\n",
            "Epoch 54/100\n",
            "152/152 [==============================] - 6s 40ms/step - loss: 0.5134 - accuracy: 0.8000 - val_loss: 1.6656 - val_accuracy: 0.5331\n",
            "Epoch 55/100\n",
            "152/152 [==============================] - 6s 40ms/step - loss: 0.5022 - accuracy: 0.8075 - val_loss: 1.6530 - val_accuracy: 0.5364\n",
            "Epoch 56/100\n",
            "152/152 [==============================] - 7s 43ms/step - loss: 0.4856 - accuracy: 0.8117 - val_loss: 1.8366 - val_accuracy: 0.5261\n",
            "Epoch 57/100\n",
            "152/152 [==============================] - 6s 40ms/step - loss: 0.4951 - accuracy: 0.8105 - val_loss: 1.7825 - val_accuracy: 0.5120\n",
            "Epoch 58/100\n",
            "152/152 [==============================] - 7s 44ms/step - loss: 0.4911 - accuracy: 0.8130 - val_loss: 1.8075 - val_accuracy: 0.5199\n",
            "Epoch 59/100\n",
            "152/152 [==============================] - 6s 40ms/step - loss: 0.4896 - accuracy: 0.8139 - val_loss: 1.7653 - val_accuracy: 0.5240\n",
            "Epoch 60/100\n",
            "152/152 [==============================] - 6s 40ms/step - loss: 0.4854 - accuracy: 0.8181 - val_loss: 1.8771 - val_accuracy: 0.4897\n",
            "Epoch 61/100\n",
            "152/152 [==============================] - 6s 40ms/step - loss: 0.4796 - accuracy: 0.8157 - val_loss: 2.1155 - val_accuracy: 0.4901\n",
            "Epoch 62/100\n",
            "152/152 [==============================] - 7s 44ms/step - loss: 0.4784 - accuracy: 0.8197 - val_loss: 1.7816 - val_accuracy: 0.5161\n",
            "Epoch 63/100\n",
            "152/152 [==============================] - 6s 40ms/step - loss: 0.4831 - accuracy: 0.8202 - val_loss: 2.3934 - val_accuracy: 0.4483\n",
            "Epoch 64/100\n",
            "152/152 [==============================] - 6s 40ms/step - loss: 0.4823 - accuracy: 0.8128 - val_loss: 1.7016 - val_accuracy: 0.5343\n",
            "Epoch 65/100\n",
            "152/152 [==============================] - 7s 45ms/step - loss: 0.4790 - accuracy: 0.8209 - val_loss: 1.7557 - val_accuracy: 0.5310\n",
            "Epoch 66/100\n",
            "152/152 [==============================] - 6s 40ms/step - loss: 0.4723 - accuracy: 0.8197 - val_loss: 1.7862 - val_accuracy: 0.5116\n",
            "Epoch 67/100\n",
            "152/152 [==============================] - 6s 40ms/step - loss: 0.4966 - accuracy: 0.8162 - val_loss: 1.9249 - val_accuracy: 0.4996\n",
            "Epoch 68/100\n",
            "152/152 [==============================] - 7s 44ms/step - loss: 0.4721 - accuracy: 0.8222 - val_loss: 1.6784 - val_accuracy: 0.5372\n",
            "Epoch 69/100\n",
            "152/152 [==============================] - 6s 40ms/step - loss: 0.4604 - accuracy: 0.8272 - val_loss: 1.7658 - val_accuracy: 0.5265\n",
            "Epoch 70/100\n",
            "152/152 [==============================] - 6s 40ms/step - loss: 0.4556 - accuracy: 0.8280 - val_loss: 1.9478 - val_accuracy: 0.4921\n",
            "Epoch 71/100\n",
            "152/152 [==============================] - 6s 40ms/step - loss: 0.4522 - accuracy: 0.8270 - val_loss: 1.7840 - val_accuracy: 0.5232\n",
            "Epoch 72/100\n",
            "152/152 [==============================] - 6s 40ms/step - loss: 0.4616 - accuracy: 0.8248 - val_loss: 1.8419 - val_accuracy: 0.5182\n",
            "Epoch 73/100\n",
            "152/152 [==============================] - 7s 45ms/step - loss: 0.4474 - accuracy: 0.8305 - val_loss: 2.0558 - val_accuracy: 0.4955\n",
            "Epoch 74/100\n",
            "152/152 [==============================] - 6s 40ms/step - loss: 0.4524 - accuracy: 0.8299 - val_loss: 1.8792 - val_accuracy: 0.5087\n",
            "Epoch 75/100\n",
            "152/152 [==============================] - 7s 45ms/step - loss: 0.4315 - accuracy: 0.8400 - val_loss: 2.2675 - val_accuracy: 0.4975\n",
            "Epoch 76/100\n",
            "152/152 [==============================] - 6s 40ms/step - loss: 0.4333 - accuracy: 0.8374 - val_loss: 1.7503 - val_accuracy: 0.5232\n",
            "Epoch 77/100\n",
            "152/152 [==============================] - 7s 44ms/step - loss: 0.4234 - accuracy: 0.8406 - val_loss: 1.8437 - val_accuracy: 0.5025\n",
            "Epoch 78/100\n",
            "152/152 [==============================] - 6s 42ms/step - loss: 0.4260 - accuracy: 0.8413 - val_loss: 1.8440 - val_accuracy: 0.5099\n",
            "Epoch 79/100\n",
            "152/152 [==============================] - 6s 40ms/step - loss: 0.4200 - accuracy: 0.8386 - val_loss: 1.7693 - val_accuracy: 0.5227\n",
            "Epoch 80/100\n",
            "152/152 [==============================] - 6s 40ms/step - loss: 0.4204 - accuracy: 0.8407 - val_loss: 1.7199 - val_accuracy: 0.5397\n",
            "Epoch 81/100\n",
            "152/152 [==============================] - 7s 43ms/step - loss: 0.4232 - accuracy: 0.8415 - val_loss: 1.9296 - val_accuracy: 0.5074\n",
            "Epoch 82/100\n",
            "152/152 [==============================] - 6s 40ms/step - loss: 0.4125 - accuracy: 0.8451 - val_loss: 1.9832 - val_accuracy: 0.4917\n",
            "Epoch 83/100\n",
            "152/152 [==============================] - 6s 40ms/step - loss: 0.4105 - accuracy: 0.8435 - val_loss: 1.8885 - val_accuracy: 0.5141\n",
            "Epoch 84/100\n",
            "152/152 [==============================] - 7s 45ms/step - loss: 0.4028 - accuracy: 0.8528 - val_loss: 2.0077 - val_accuracy: 0.4839\n",
            "Epoch 85/100\n",
            "152/152 [==============================] - 6s 40ms/step - loss: 0.4076 - accuracy: 0.8499 - val_loss: 1.7591 - val_accuracy: 0.5248\n",
            "Epoch 86/100\n",
            "152/152 [==============================] - 6s 40ms/step - loss: 0.4020 - accuracy: 0.8520 - val_loss: 1.8087 - val_accuracy: 0.5294\n",
            "Epoch 87/100\n",
            "152/152 [==============================] - 6s 40ms/step - loss: 0.4113 - accuracy: 0.8507 - val_loss: 2.1611 - val_accuracy: 0.4756\n",
            "Epoch 88/100\n",
            "152/152 [==============================] - 6s 40ms/step - loss: 0.4121 - accuracy: 0.8455 - val_loss: 1.8426 - val_accuracy: 0.5190\n",
            "Epoch 89/100\n",
            "152/152 [==============================] - 7s 44ms/step - loss: 0.3870 - accuracy: 0.8564 - val_loss: 2.2326 - val_accuracy: 0.4822\n",
            "Epoch 90/100\n",
            "152/152 [==============================] - 6s 40ms/step - loss: 0.3974 - accuracy: 0.8541 - val_loss: 1.9509 - val_accuracy: 0.5079\n",
            "Epoch 91/100\n",
            "152/152 [==============================] - 6s 40ms/step - loss: 0.4018 - accuracy: 0.8531 - val_loss: 1.9175 - val_accuracy: 0.5174\n",
            "Epoch 92/100\n",
            "152/152 [==============================] - 7s 44ms/step - loss: 0.3814 - accuracy: 0.8583 - val_loss: 1.8402 - val_accuracy: 0.5227\n",
            "Epoch 93/100\n",
            "152/152 [==============================] - 6s 40ms/step - loss: 0.3788 - accuracy: 0.8610 - val_loss: 2.0830 - val_accuracy: 0.4955\n",
            "Epoch 94/100\n",
            "152/152 [==============================] - 6s 40ms/step - loss: 0.3694 - accuracy: 0.8649 - val_loss: 2.2613 - val_accuracy: 0.4967\n",
            "Epoch 95/100\n",
            "152/152 [==============================] - 6s 40ms/step - loss: 0.3662 - accuracy: 0.8652 - val_loss: 2.4066 - val_accuracy: 0.4826\n",
            "Epoch 96/100\n",
            "152/152 [==============================] - 6s 40ms/step - loss: 0.3728 - accuracy: 0.8615 - val_loss: 1.8308 - val_accuracy: 0.5236\n",
            "Epoch 97/100\n",
            "152/152 [==============================] - 7s 44ms/step - loss: 0.3721 - accuracy: 0.8667 - val_loss: 1.8061 - val_accuracy: 0.5219\n",
            "Epoch 98/100\n",
            "152/152 [==============================] - 6s 40ms/step - loss: 0.3639 - accuracy: 0.8678 - val_loss: 1.7960 - val_accuracy: 0.5182\n",
            "Epoch 99/100\n",
            "152/152 [==============================] - 6s 40ms/step - loss: 0.3544 - accuracy: 0.8672 - val_loss: 1.8915 - val_accuracy: 0.5074\n",
            "Epoch 100/100\n",
            "152/152 [==============================] - 6s 40ms/step - loss: 0.3837 - accuracy: 0.8544 - val_loss: 1.9128 - val_accuracy: 0.5087\n"
          ]
        }
      ]
    },
    {
      "cell_type": "code",
      "source": [
        "model.save(file_path_model+'[CNN-LSTM]Model.h5')\n",
        "model.save_weights(file_path_model+'[CNN-LSTM]Model_Weights.h5')"
      ],
      "metadata": {
        "id": "s-iarzQeWUBm"
      },
      "execution_count": 38,
      "outputs": []
    },
    {
      "cell_type": "code",
      "source": [
        "y_pred=model.predict(X_test)\n",
        "y_classes = y_pred.argmax(axis=-1)"
      ],
      "metadata": {
        "id": "mo-g0I30WPMm"
      },
      "execution_count": 40,
      "outputs": []
    },
    {
      "cell_type": "code",
      "source": [
        "model.evaluate(X_test,y_test)"
      ],
      "metadata": {
        "id": "ZBQLG32TWNBC",
        "colab": {
          "base_uri": "https://localhost:8080/"
        },
        "outputId": "9a0195e6-c45b-444c-9197-1cbd39704770"
      },
      "execution_count": 39,
      "outputs": [
        {
          "output_type": "stream",
          "name": "stdout",
          "text": [
            "76/76 [==============================] - 1s 7ms/step - loss: 1.9128 - accuracy: 0.5087\n"
          ]
        },
        {
          "output_type": "execute_result",
          "data": {
            "text/plain": [
              "[1.9127705097198486, 0.5086848735809326]"
            ]
          },
          "metadata": {},
          "execution_count": 39
        }
      ]
    },
    {
      "cell_type": "code",
      "source": [
        "np.unique(y_classes)"
      ],
      "metadata": {
        "id": "5V0pw4UPWRKG",
        "colab": {
          "base_uri": "https://localhost:8080/"
        },
        "outputId": "0f03dec2-e906-4312-f944-a5f963662845"
      },
      "execution_count": 41,
      "outputs": [
        {
          "output_type": "execute_result",
          "data": {
            "text/plain": [
              "array([0, 1, 2, 3, 4, 5, 6])"
            ]
          },
          "metadata": {},
          "execution_count": 41
        }
      ]
    },
    {
      "cell_type": "code",
      "source": [
        "history={}\n",
        "history[\"history\"] = pd.read_csv(file_path_model+'source_history.csv')\n",
        "history[\"history\"].head()"
      ],
      "metadata": {
        "id": "PQdU57vXWSyD",
        "colab": {
          "base_uri": "https://localhost:8080/",
          "height": 206
        },
        "outputId": "689f5189-40ad-429b-9d01-5a8ad6ca9e7c"
      },
      "execution_count": null,
      "outputs": [
        {
          "output_type": "execute_result",
          "data": {
            "text/plain": [
              "   epoch  accuracy      loss  val_accuracy  val_loss\n",
              "0      0  0.253825  1.808653      0.183623  2.194449\n",
              "1      1  0.268610  1.786784      0.164599  2.182402\n",
              "2      2  0.272746  1.764889      0.224979  1.957942\n",
              "3      3  0.288565  1.742052      0.183209  2.161098\n",
              "4      4  0.294975  1.721086      0.278743  1.760058"
            ],
            "text/html": [
              "\n",
              "  <div id=\"df-eb83408d-b89c-494c-a617-62e96c9a2fd2\">\n",
              "    <div class=\"colab-df-container\">\n",
              "      <div>\n",
              "<style scoped>\n",
              "    .dataframe tbody tr th:only-of-type {\n",
              "        vertical-align: middle;\n",
              "    }\n",
              "\n",
              "    .dataframe tbody tr th {\n",
              "        vertical-align: top;\n",
              "    }\n",
              "\n",
              "    .dataframe thead th {\n",
              "        text-align: right;\n",
              "    }\n",
              "</style>\n",
              "<table border=\"1\" class=\"dataframe\">\n",
              "  <thead>\n",
              "    <tr style=\"text-align: right;\">\n",
              "      <th></th>\n",
              "      <th>epoch</th>\n",
              "      <th>accuracy</th>\n",
              "      <th>loss</th>\n",
              "      <th>val_accuracy</th>\n",
              "      <th>val_loss</th>\n",
              "    </tr>\n",
              "  </thead>\n",
              "  <tbody>\n",
              "    <tr>\n",
              "      <th>0</th>\n",
              "      <td>0</td>\n",
              "      <td>0.253825</td>\n",
              "      <td>1.808653</td>\n",
              "      <td>0.183623</td>\n",
              "      <td>2.194449</td>\n",
              "    </tr>\n",
              "    <tr>\n",
              "      <th>1</th>\n",
              "      <td>1</td>\n",
              "      <td>0.268610</td>\n",
              "      <td>1.786784</td>\n",
              "      <td>0.164599</td>\n",
              "      <td>2.182402</td>\n",
              "    </tr>\n",
              "    <tr>\n",
              "      <th>2</th>\n",
              "      <td>2</td>\n",
              "      <td>0.272746</td>\n",
              "      <td>1.764889</td>\n",
              "      <td>0.224979</td>\n",
              "      <td>1.957942</td>\n",
              "    </tr>\n",
              "    <tr>\n",
              "      <th>3</th>\n",
              "      <td>3</td>\n",
              "      <td>0.288565</td>\n",
              "      <td>1.742052</td>\n",
              "      <td>0.183209</td>\n",
              "      <td>2.161098</td>\n",
              "    </tr>\n",
              "    <tr>\n",
              "      <th>4</th>\n",
              "      <td>4</td>\n",
              "      <td>0.294975</td>\n",
              "      <td>1.721086</td>\n",
              "      <td>0.278743</td>\n",
              "      <td>1.760058</td>\n",
              "    </tr>\n",
              "  </tbody>\n",
              "</table>\n",
              "</div>\n",
              "      <button class=\"colab-df-convert\" onclick=\"convertToInteractive('df-eb83408d-b89c-494c-a617-62e96c9a2fd2')\"\n",
              "              title=\"Convert this dataframe to an interactive table.\"\n",
              "              style=\"display:none;\">\n",
              "        \n",
              "  <svg xmlns=\"http://www.w3.org/2000/svg\" height=\"24px\"viewBox=\"0 0 24 24\"\n",
              "       width=\"24px\">\n",
              "    <path d=\"M0 0h24v24H0V0z\" fill=\"none\"/>\n",
              "    <path d=\"M18.56 5.44l.94 2.06.94-2.06 2.06-.94-2.06-.94-.94-2.06-.94 2.06-2.06.94zm-11 1L8.5 8.5l.94-2.06 2.06-.94-2.06-.94L8.5 2.5l-.94 2.06-2.06.94zm10 10l.94 2.06.94-2.06 2.06-.94-2.06-.94-.94-2.06-.94 2.06-2.06.94z\"/><path d=\"M17.41 7.96l-1.37-1.37c-.4-.4-.92-.59-1.43-.59-.52 0-1.04.2-1.43.59L10.3 9.45l-7.72 7.72c-.78.78-.78 2.05 0 2.83L4 21.41c.39.39.9.59 1.41.59.51 0 1.02-.2 1.41-.59l7.78-7.78 2.81-2.81c.8-.78.8-2.07 0-2.86zM5.41 20L4 18.59l7.72-7.72 1.47 1.35L5.41 20z\"/>\n",
              "  </svg>\n",
              "      </button>\n",
              "      \n",
              "  <style>\n",
              "    .colab-df-container {\n",
              "      display:flex;\n",
              "      flex-wrap:wrap;\n",
              "      gap: 12px;\n",
              "    }\n",
              "\n",
              "    .colab-df-convert {\n",
              "      background-color: #E8F0FE;\n",
              "      border: none;\n",
              "      border-radius: 50%;\n",
              "      cursor: pointer;\n",
              "      display: none;\n",
              "      fill: #1967D2;\n",
              "      height: 32px;\n",
              "      padding: 0 0 0 0;\n",
              "      width: 32px;\n",
              "    }\n",
              "\n",
              "    .colab-df-convert:hover {\n",
              "      background-color: #E2EBFA;\n",
              "      box-shadow: 0px 1px 2px rgba(60, 64, 67, 0.3), 0px 1px 3px 1px rgba(60, 64, 67, 0.15);\n",
              "      fill: #174EA6;\n",
              "    }\n",
              "\n",
              "    [theme=dark] .colab-df-convert {\n",
              "      background-color: #3B4455;\n",
              "      fill: #D2E3FC;\n",
              "    }\n",
              "\n",
              "    [theme=dark] .colab-df-convert:hover {\n",
              "      background-color: #434B5C;\n",
              "      box-shadow: 0px 1px 3px 1px rgba(0, 0, 0, 0.15);\n",
              "      filter: drop-shadow(0px 1px 2px rgba(0, 0, 0, 0.3));\n",
              "      fill: #FFFFFF;\n",
              "    }\n",
              "  </style>\n",
              "\n",
              "      <script>\n",
              "        const buttonEl =\n",
              "          document.querySelector('#df-eb83408d-b89c-494c-a617-62e96c9a2fd2 button.colab-df-convert');\n",
              "        buttonEl.style.display =\n",
              "          google.colab.kernel.accessAllowed ? 'block' : 'none';\n",
              "\n",
              "        async function convertToInteractive(key) {\n",
              "          const element = document.querySelector('#df-eb83408d-b89c-494c-a617-62e96c9a2fd2');\n",
              "          const dataTable =\n",
              "            await google.colab.kernel.invokeFunction('convertToInteractive',\n",
              "                                                     [key], {});\n",
              "          if (!dataTable) return;\n",
              "\n",
              "          const docLinkHtml = 'Like what you see? Visit the ' +\n",
              "            '<a target=\"_blank\" href=https://colab.research.google.com/notebooks/data_table.ipynb>data table notebook</a>'\n",
              "            + ' to learn more about interactive tables.';\n",
              "          element.innerHTML = '';\n",
              "          dataTable['output_type'] = 'display_data';\n",
              "          await google.colab.output.renderOutput(dataTable, element);\n",
              "          const docLink = document.createElement('div');\n",
              "          docLink.innerHTML = docLinkHtml;\n",
              "          element.appendChild(docLink);\n",
              "        }\n",
              "      </script>\n",
              "    </div>\n",
              "  </div>\n",
              "  "
            ]
          },
          "metadata": {},
          "execution_count": 21
        }
      ]
    },
    {
      "cell_type": "code",
      "source": [
        "plt.figure(figsize=(25,10))\n",
        "plt.subplot(1,2,1)\n",
        "plt.plot(history['history']['accuracy'],'-b')\n",
        "plt.plot(history['history']['val_accuracy'],'r')\n",
        "plt.legend(['Training accuracy','Testing accuracy'])\n",
        "plt.axis([0, 160, 0, 1])\n",
        "plt.xlabel('Epochs')\n",
        "plt.ylabel('Accuracy')"
      ],
      "metadata": {
        "id": "sAx431i0WYuZ",
        "colab": {
          "base_uri": "https://localhost:8080/",
          "height": 628
        },
        "outputId": "c62de134-c319-468b-9d64-9e7a17ac61e8"
      },
      "execution_count": null,
      "outputs": [
        {
          "output_type": "execute_result",
          "data": {
            "text/plain": [
              "Text(0, 0.5, 'Accuracy')"
            ]
          },
          "metadata": {},
          "execution_count": 22
        },
        {
          "output_type": "display_data",
          "data": {
            "text/plain": [
              "<Figure size 1800x720 with 1 Axes>"
            ],
            "image/png": "[encoded data removed]"
          },
          "metadata": {
            "needs_background": "light"
          }
        }
      ]
    },
    {
      "cell_type": "code",
      "source": [
        "history={}\n",
        "history[\"history\"] = pd.read_csv(file_path_model+'source_history_1.csv')\n",
        "history[\"history\"].head()"
      ],
      "metadata": {
        "id": "wKaib371dSar",
        "colab": {
          "base_uri": "https://localhost:8080/",
          "height": 206
        },
        "outputId": "6b29671e-ad5d-4780-9b03-49bca4591544"
      },
      "execution_count": 42,
      "outputs": [
        {
          "output_type": "execute_result",
          "data": {
            "text/plain": [
              "   epoch  accuracy      loss  val_accuracy  val_loss\n",
              "0      0  0.745968  0.639878      0.505790  1.581918\n",
              "1      1  0.741729  0.643775      0.498346  1.661505\n",
              "2      2  0.749483  0.639963      0.488007  1.691992\n",
              "3      3  0.749380  0.636314      0.492969  1.645943\n",
              "4      4  0.750000  0.630276      0.452026  1.997277"
            ],
            "text/html": [
              "\n",
              "  <div id=\"df-048cb098-9e55-43be-84f0-fb0685abb4f3\">\n",
              "    <div class=\"colab-df-container\">\n",
              "      <div>\n",
              "<style scoped>\n",
              "    .dataframe tbody tr th:only-of-type {\n",
              "        vertical-align: middle;\n",
              "    }\n",
              "\n",
              "    .dataframe tbody tr th {\n",
              "        vertical-align: top;\n",
              "    }\n",
              "\n",
              "    .dataframe thead th {\n",
              "        text-align: right;\n",
              "    }\n",
              "</style>\n",
              "<table border=\"1\" class=\"dataframe\">\n",
              "  <thead>\n",
              "    <tr style=\"text-align: right;\">\n",
              "      <th></th>\n",
              "      <th>epoch</th>\n",
              "      <th>accuracy</th>\n",
              "      <th>loss</th>\n",
              "      <th>val_accuracy</th>\n",
              "      <th>val_loss</th>\n",
              "    </tr>\n",
              "  </thead>\n",
              "  <tbody>\n",
              "    <tr>\n",
              "      <th>0</th>\n",
              "      <td>0</td>\n",
              "      <td>0.745968</td>\n",
              "      <td>0.639878</td>\n",
              "      <td>0.505790</td>\n",
              "      <td>1.581918</td>\n",
              "    </tr>\n",
              "    <tr>\n",
              "      <th>1</th>\n",
              "      <td>1</td>\n",
              "      <td>0.741729</td>\n",
              "      <td>0.643775</td>\n",
              "      <td>0.498346</td>\n",
              "      <td>1.661505</td>\n",
              "    </tr>\n",
              "    <tr>\n",
              "      <th>2</th>\n",
              "      <td>2</td>\n",
              "      <td>0.749483</td>\n",
              "      <td>0.639963</td>\n",
              "      <td>0.488007</td>\n",
              "      <td>1.691992</td>\n",
              "    </tr>\n",
              "    <tr>\n",
              "      <th>3</th>\n",
              "      <td>3</td>\n",
              "      <td>0.749380</td>\n",
              "      <td>0.636314</td>\n",
              "      <td>0.492969</td>\n",
              "      <td>1.645943</td>\n",
              "    </tr>\n",
              "    <tr>\n",
              "      <th>4</th>\n",
              "      <td>4</td>\n",
              "      <td>0.750000</td>\n",
              "      <td>0.630276</td>\n",
              "      <td>0.452026</td>\n",
              "      <td>1.997277</td>\n",
              "    </tr>\n",
              "  </tbody>\n",
              "</table>\n",
              "</div>\n",
              "      <button class=\"colab-df-convert\" onclick=\"convertToInteractive('df-048cb098-9e55-43be-84f0-fb0685abb4f3')\"\n",
              "              title=\"Convert this dataframe to an interactive table.\"\n",
              "              style=\"display:none;\">\n",
              "        \n",
              "  <svg xmlns=\"http://www.w3.org/2000/svg\" height=\"24px\"viewBox=\"0 0 24 24\"\n",
              "       width=\"24px\">\n",
              "    <path d=\"M0 0h24v24H0V0z\" fill=\"none\"/>\n",
              "    <path d=\"M18.56 5.44l.94 2.06.94-2.06 2.06-.94-2.06-.94-.94-2.06-.94 2.06-2.06.94zm-11 1L8.5 8.5l.94-2.06 2.06-.94-2.06-.94L8.5 2.5l-.94 2.06-2.06.94zm10 10l.94 2.06.94-2.06 2.06-.94-2.06-.94-.94-2.06-.94 2.06-2.06.94z\"/><path d=\"M17.41 7.96l-1.37-1.37c-.4-.4-.92-.59-1.43-.59-.52 0-1.04.2-1.43.59L10.3 9.45l-7.72 7.72c-.78.78-.78 2.05 0 2.83L4 21.41c.39.39.9.59 1.41.59.51 0 1.02-.2 1.41-.59l7.78-7.78 2.81-2.81c.8-.78.8-2.07 0-2.86zM5.41 20L4 18.59l7.72-7.72 1.47 1.35L5.41 20z\"/>\n",
              "  </svg>\n",
              "      </button>\n",
              "      \n",
              "  <style>\n",
              "    .colab-df-container {\n",
              "      display:flex;\n",
              "      flex-wrap:wrap;\n",
              "      gap: 12px;\n",
              "    }\n",
              "\n",
              "    .colab-df-convert {\n",
              "      background-color: #E8F0FE;\n",
              "      border: none;\n",
              "      border-radius: 50%;\n",
              "      cursor: pointer;\n",
              "      display: none;\n",
              "      fill: #1967D2;\n",
              "      height: 32px;\n",
              "      padding: 0 0 0 0;\n",
              "      width: 32px;\n",
              "    }\n",
              "\n",
              "    .colab-df-convert:hover {\n",
              "      background-color: #E2EBFA;\n",
              "      box-shadow: 0px 1px 2px rgba(60, 64, 67, 0.3), 0px 1px 3px 1px rgba(60, 64, 67, 0.15);\n",
              "      fill: #174EA6;\n",
              "    }\n",
              "\n",
              "    [theme=dark] .colab-df-convert {\n",
              "      background-color: #3B4455;\n",
              "      fill: #D2E3FC;\n",
              "    }\n",
              "\n",
              "    [theme=dark] .colab-df-convert:hover {\n",
              "      background-color: #434B5C;\n",
              "      box-shadow: 0px 1px 3px 1px rgba(0, 0, 0, 0.15);\n",
              "      filter: drop-shadow(0px 1px 2px rgba(0, 0, 0, 0.3));\n",
              "      fill: #FFFFFF;\n",
              "    }\n",
              "  </style>\n",
              "\n",
              "      <script>\n",
              "        const buttonEl =\n",
              "          document.querySelector('#df-048cb098-9e55-43be-84f0-fb0685abb4f3 button.colab-df-convert');\n",
              "        buttonEl.style.display =\n",
              "          google.colab.kernel.accessAllowed ? 'block' : 'none';\n",
              "\n",
              "        async function convertToInteractive(key) {\n",
              "          const element = document.querySelector('#df-048cb098-9e55-43be-84f0-fb0685abb4f3');\n",
              "          const dataTable =\n",
              "            await google.colab.kernel.invokeFunction('convertToInteractive',\n",
              "                                                     [key], {});\n",
              "          if (!dataTable) return;\n",
              "\n",
              "          const docLinkHtml = 'Like what you see? Visit the ' +\n",
              "            '<a target=\"_blank\" href=https://colab.research.google.com/notebooks/data_table.ipynb>data table notebook</a>'\n",
              "            + ' to learn more about interactive tables.';\n",
              "          element.innerHTML = '';\n",
              "          dataTable['output_type'] = 'display_data';\n",
              "          await google.colab.output.renderOutput(dataTable, element);\n",
              "          const docLink = document.createElement('div');\n",
              "          docLink.innerHTML = docLinkHtml;\n",
              "          element.appendChild(docLink);\n",
              "        }\n",
              "      </script>\n",
              "    </div>\n",
              "  </div>\n",
              "  "
            ]
          },
          "metadata": {},
          "execution_count": 42
        }
      ]
    },
    {
      "cell_type": "code",
      "source": [
        "plt.figure(figsize=(25,10))\n",
        "plt.subplot(1,2,1)\n",
        "plt.plot(history['history']['accuracy'],'-b')\n",
        "plt.plot(history['history']['val_accuracy'],'r')\n",
        "plt.legend(['Training accuracy','Testing accuracy'])\n",
        "plt.axis([0, 160, 0, 1])\n",
        "plt.xlabel('Epochs')\n",
        "plt.ylabel('Accuracy')"
      ],
      "metadata": {
        "id": "YL9Z3Z-hdT4I",
        "colab": {
          "base_uri": "https://localhost:8080/",
          "height": 628
        },
        "outputId": "65aaf885-405e-4caa-faf2-fd7c3fa1396a"
      },
      "execution_count": 43,
      "outputs": [
        {
          "output_type": "execute_result",
          "data": {
            "text/plain": [
              "Text(0, 0.5, 'Accuracy')"
            ]
          },
          "metadata": {},
          "execution_count": 43
        },
        {
          "output_type": "display_data",
          "data": {
            "text/plain": [
              "<Figure size 1800x720 with 1 Axes>"
            ],
            "image/png": "[encoded data removed]"
          },
          "metadata": {
            "needs_background": "light"
          }
        }
      ]
    },
    {
      "cell_type": "code",
      "source": [
        "y_test.shape"
      ],
      "metadata": {
        "id": "tCrxzZkNVvGh",
        "colab": {
          "base_uri": "https://localhost:8080/"
        },
        "outputId": "80938144-8f2a-4246-dc64-0e76d6dc2c11"
      },
      "execution_count": 44,
      "outputs": [
        {
          "output_type": "execute_result",
          "data": {
            "text/plain": [
              "(2418, 7)"
            ]
          },
          "metadata": {},
          "execution_count": 44
        }
      ]
    },
    {
      "cell_type": "code",
      "source": [
        "y_pred.shape"
      ],
      "metadata": {
        "id": "z3-kUe4BVxRG",
        "colab": {
          "base_uri": "https://localhost:8080/"
        },
        "outputId": "8897d426-8a56-4093-ffd0-22fa0474e8b0"
      },
      "execution_count": 45,
      "outputs": [
        {
          "output_type": "execute_result",
          "data": {
            "text/plain": [
              "(2418, 7)"
            ]
          },
          "metadata": {},
          "execution_count": 45
        }
      ]
    },
    {
      "cell_type": "code",
      "source": [
        "y_pred1=np.around(y_pred)\n",
        "y_pred1"
      ],
      "metadata": {
        "id": "6366Lhp7Vy9O",
        "colab": {
          "base_uri": "https://localhost:8080/"
        },
        "outputId": "76729ea0-23da-4541-e9f0-e62a9465c27b"
      },
      "execution_count": 46,
      "outputs": [
        {
          "output_type": "execute_result",
          "data": {
            "text/plain": [
              "array([[0., 0., 0., ..., 0., 0., 0.],\n",
              "       [0., 0., 0., ..., 0., 0., 0.],\n",
              "       [0., 1., 0., ..., 0., 0., 0.],\n",
              "       ...,\n",
              "       [0., 0., 0., ..., 0., 0., 1.],\n",
              "       [0., 0., 0., ..., 0., 0., 0.],\n",
              "       [1., 0., 0., ..., 0., 0., 0.]], dtype=float32)"
            ]
          },
          "metadata": {},
          "execution_count": 46
        }
      ]
    },
    {
      "cell_type": "code",
      "source": [
        "y_pred1.shape"
      ],
      "metadata": {
        "id": "1F1rOXm3V81_",
        "colab": {
          "base_uri": "https://localhost:8080/"
        },
        "outputId": "dc0fc9b8-fb35-479c-d382-d77588e3e14f"
      },
      "execution_count": 47,
      "outputs": [
        {
          "output_type": "execute_result",
          "data": {
            "text/plain": [
              "(2418, 7)"
            ]
          },
          "metadata": {},
          "execution_count": 47
        }
      ]
    },
    {
      "cell_type": "code",
      "source": [
        "# Importing all necessary libraries\n",
        "from sklearn.metrics import accuracy_score\n",
        "# Calculating the accuracy of classifier\n",
        "print(f\"Accuracy of the classifier is: {accuracy_score(y_test,y_pred1)}\")"
      ],
      "metadata": {
        "id": "zv4M8tibFlRz",
        "colab": {
          "base_uri": "https://localhost:8080/"
        },
        "outputId": "9741f6d4-c118-480c-c946-cbf2ce36b284"
      },
      "execution_count": 48,
      "outputs": [
        {
          "output_type": "stream",
          "name": "stdout",
          "text": [
            "Accuracy of the classifier is: 0.44995864350703063\n"
          ]
        }
      ]
    },
    {
      "cell_type": "code",
      "source": [
        "gfcc_dict={\"y_test_gfcc\":y_test,\"y_pred_gfcc\":y_pred1}\n",
        "gfcc_dict"
      ],
      "metadata": {
        "id": "8YA7zu-OWRTk",
        "colab": {
          "base_uri": "https://localhost:8080/"
        },
        "outputId": "f9164dd0-bdce-4986-dc31-95b520cd65c0"
      },
      "execution_count": 49,
      "outputs": [
        {
          "output_type": "execute_result",
          "data": {
            "text/plain": [
              "{'y_pred_gfcc': array([[0., 0., 0., ..., 0., 0., 0.],\n",
              "        [0., 0., 0., ..., 0., 0., 0.],\n",
              "        [0., 1., 0., ..., 0., 0., 0.],\n",
              "        ...,\n",
              "        [0., 0., 0., ..., 0., 0., 1.],\n",
              "        [0., 0., 0., ..., 0., 0., 0.],\n",
              "        [1., 0., 0., ..., 0., 0., 0.]], dtype=float32),\n",
              " 'y_test_gfcc': array([[1., 0., 0., ..., 0., 0., 0.],\n",
              "        [0., 0., 0., ..., 0., 0., 0.],\n",
              "        [0., 1., 0., ..., 0., 0., 0.],\n",
              "        ...,\n",
              "        [0., 0., 0., ..., 0., 0., 1.],\n",
              "        [0., 0., 1., ..., 0., 0., 0.],\n",
              "        [0., 0., 1., ..., 0., 0., 0.]], dtype=float32)}"
            ]
          },
          "metadata": {},
          "execution_count": 49
        }
      ]
    },
    {
      "cell_type": "code",
      "source": [
        "from sklearn.metrics import precision_score\n",
        "\n",
        "# Calculating the precision score of classifier\n",
        "print(f\"Precision Score of the classifier is: {precision_score(y_test,y_pred1,average='micro')}\")"
      ],
      "metadata": {
        "id": "glxrmdx5W1kA",
        "colab": {
          "base_uri": "https://localhost:8080/"
        },
        "outputId": "743ed314-36d6-475e-b6ff-40078a692277"
      },
      "execution_count": 50,
      "outputs": [
        {
          "output_type": "stream",
          "name": "stdout",
          "text": [
            "Precision Score of the classifier is: 0.5978021978021978\n"
          ]
        }
      ]
    },
    {
      "cell_type": "code",
      "source": [
        "from sklearn.metrics import f1_score\n",
        "\n",
        "# Calculating the F1 score of classifier\n",
        "print(f\"F1 Score of the classifier is: {f1_score(y_test, y_pred1,average='micro')}\")"
      ],
      "metadata": {
        "id": "PMgk_7v7aIfm",
        "colab": {
          "base_uri": "https://localhost:8080/"
        },
        "outputId": "9f7671a9-9901-400a-f113-08de49a8c966"
      },
      "execution_count": 51,
      "outputs": [
        {
          "output_type": "stream",
          "name": "stdout",
          "text": [
            "F1 Score of the classifier is: 0.5134497404436056\n"
          ]
        }
      ]
    },
    {
      "cell_type": "code",
      "source": [
        "y_pred1"
      ],
      "metadata": {
        "id": "LfYZqDGtXIOK",
        "colab": {
          "base_uri": "https://localhost:8080/"
        },
        "outputId": "9daef883-e98b-4bf6-e1fa-5a492206a0e7"
      },
      "execution_count": 52,
      "outputs": [
        {
          "output_type": "execute_result",
          "data": {
            "text/plain": [
              "array([[0., 0., 0., ..., 0., 0., 0.],\n",
              "       [0., 0., 0., ..., 0., 0., 0.],\n",
              "       [0., 1., 0., ..., 0., 0., 0.],\n",
              "       ...,\n",
              "       [0., 0., 0., ..., 0., 0., 1.],\n",
              "       [0., 0., 0., ..., 0., 0., 0.],\n",
              "       [1., 0., 0., ..., 0., 0., 0.]], dtype=float32)"
            ]
          },
          "metadata": {},
          "execution_count": 52
        }
      ]
    },
    {
      "cell_type": "code",
      "source": [
        "y_test"
      ],
      "metadata": {
        "id": "nc5wBhy4XNox",
        "colab": {
          "base_uri": "https://localhost:8080/"
        },
        "outputId": "8f80309f-7f32-4abd-8bc1-868d872ccb31"
      },
      "execution_count": 53,
      "outputs": [
        {
          "output_type": "execute_result",
          "data": {
            "text/plain": [
              "array([[1., 0., 0., ..., 0., 0., 0.],\n",
              "       [0., 0., 0., ..., 0., 0., 0.],\n",
              "       [0., 1., 0., ..., 0., 0., 0.],\n",
              "       ...,\n",
              "       [0., 0., 0., ..., 0., 0., 1.],\n",
              "       [0., 0., 1., ..., 0., 0., 0.],\n",
              "       [0., 0., 1., ..., 0., 0., 0.]], dtype=float32)"
            ]
          },
          "metadata": {},
          "execution_count": 53
        }
      ]
    },
    {
      "cell_type": "code",
      "source": [
        "y_test"
      ],
      "metadata": {
        "id": "tTq6gPQMXPpO",
        "colab": {
          "base_uri": "https://localhost:8080/"
        },
        "outputId": "a7a6b3fa-9932-403b-c1f9-4dd1a53685c4"
      },
      "execution_count": 54,
      "outputs": [
        {
          "output_type": "execute_result",
          "data": {
            "text/plain": [
              "array([[1., 0., 0., ..., 0., 0., 0.],\n",
              "       [0., 0., 0., ..., 0., 0., 0.],\n",
              "       [0., 1., 0., ..., 0., 0., 0.],\n",
              "       ...,\n",
              "       [0., 0., 0., ..., 0., 0., 1.],\n",
              "       [0., 0., 1., ..., 0., 0., 0.],\n",
              "       [0., 0., 1., ..., 0., 0., 0.]], dtype=float32)"
            ]
          },
          "metadata": {},
          "execution_count": 54
        }
      ]
    },
    {
      "cell_type": "code",
      "source": [
        "pickle.dump(gfcc_dict, open(file_path_model+'gfcc_dict_values.p', 'wb'))"
      ],
      "metadata": {
        "id": "I907WT-3YJu7"
      },
      "execution_count": 55,
      "outputs": []
    },
    {
      "cell_type": "code",
      "source": [
        "!pip install keras\n",
        "from keras.utils import plot_model\n",
        "plot_model(model, show_shapes=True, show_layer_names=True, to_file='model.png')\n",
        "Image(retina=True, filename='model.png')"
      ],
      "metadata": {
        "id": "Fmom68hTb1Wr",
        "colab": {
          "base_uri": "https://localhost:8080/",
          "height": 426
        },
        "outputId": "3a45beec-36b1-4824-afbb-f3027adf49f7"
      },
      "execution_count": null,
      "outputs": [
        {
          "output_type": "stream",
          "name": "stdout",
          "text": [
            "Looking in indexes: https://pypi.org/simple, https://us-python.pkg.dev/colab-wheels/public/simple/\n",
            "Requirement already satisfied: keras in /usr/local/lib/python3.7/dist-packages (2.8.0)\n"
          ]
        },
        {
          "output_type": "error",
          "ename": "ImportError",
          "evalue": "ignored",
          "traceback": [
            "\u001b[0;31m---------------------------------------------------------------------------\u001b[0m",
            "\u001b[0;31mImportError\u001b[0m                               Traceback (most recent call last)",
            "\u001b[0;32m<ipython-input-36-14541b9dac68>\u001b[0m in \u001b[0;36m<module>\u001b[0;34m()\u001b[0m\n\u001b[1;32m      1\u001b[0m \u001b[0mget_ipython\u001b[0m\u001b[0;34m(\u001b[0m\u001b[0;34m)\u001b[0m\u001b[0;34m.\u001b[0m\u001b[0msystem\u001b[0m\u001b[0;34m(\u001b[0m\u001b[0;34m'pip install keras'\u001b[0m\u001b[0;34m)\u001b[0m\u001b[0;34m\u001b[0m\u001b[0;34m\u001b[0m\u001b[0m\n\u001b[0;32m----> 2\u001b[0;31m \u001b[0;32mfrom\u001b[0m \u001b[0mkeras\u001b[0m\u001b[0;34m.\u001b[0m\u001b[0mutils\u001b[0m \u001b[0;32mimport\u001b[0m \u001b[0mplot_model\u001b[0m\u001b[0;34m\u001b[0m\u001b[0;34m\u001b[0m\u001b[0m\n\u001b[0m\u001b[1;32m      3\u001b[0m \u001b[0mplot_model\u001b[0m\u001b[0;34m(\u001b[0m\u001b[0mmodel\u001b[0m\u001b[0;34m,\u001b[0m \u001b[0mshow_shapes\u001b[0m\u001b[0;34m=\u001b[0m\u001b[0;32mTrue\u001b[0m\u001b[0;34m,\u001b[0m \u001b[0mshow_layer_names\u001b[0m\u001b[0;34m=\u001b[0m\u001b[0;32mTrue\u001b[0m\u001b[0;34m,\u001b[0m \u001b[0mto_file\u001b[0m\u001b[0;34m=\u001b[0m\u001b[0;34m'model.png'\u001b[0m\u001b[0;34m)\u001b[0m\u001b[0;34m\u001b[0m\u001b[0;34m\u001b[0m\u001b[0m\n\u001b[1;32m      4\u001b[0m \u001b[0mImage\u001b[0m\u001b[0;34m(\u001b[0m\u001b[0mretina\u001b[0m\u001b[0;34m=\u001b[0m\u001b[0;32mTrue\u001b[0m\u001b[0;34m,\u001b[0m \u001b[0mfilename\u001b[0m\u001b[0;34m=\u001b[0m\u001b[0;34m'model.png'\u001b[0m\u001b[0;34m)\u001b[0m\u001b[0;34m\u001b[0m\u001b[0;34m\u001b[0m\u001b[0m\n",
            "\u001b[0;31mImportError\u001b[0m: cannot import name 'plot_model' from 'keras.utils' (/usr/local/lib/python3.7/dist-packages/keras/utils/__init__.py)",
            "",
            "\u001b[0;31m---------------------------------------------------------------------------\u001b[0;32m\nNOTE: If your import is failing due to a missing package, you can\nmanually install dependencies using either !pip or !apt.\n\nTo view examples of installing some common dependencies, click the\n\"Open Examples\" button below.\n\u001b[0;31m---------------------------------------------------------------------------\u001b[0m\n"
          ],
          "errorDetails": {
            "actions": [
              {
                "action": "open_url",
                "actionText": "Open Examples",
                "url": "/notebooks/snippets/importing_libraries.ipynb"
              }
            ]
          }
        }
      ]
    },
    {
      "cell_type": "code",
      "source": [
        ""
      ],
      "metadata": {
        "id": "q6m6ihF9cp02"
      },
      "execution_count": null,
      "outputs": []
    }
  ]
}