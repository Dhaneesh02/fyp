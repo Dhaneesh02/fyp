{
  "nbformat": 4,
  "nbformat_minor": 0,
  "metadata": {
    "colab": {
      "name": "augmented_ravdess_mfcc.ipynb",
      "provenance": [],
      "machine_shape": "hm",
      "collapsed_sections": [],
      "include_colab_link": true
    },
    "kernelspec": {
      "name": "python3",
      "display_name": "Python 3"
    },
    "language_info": {
      "name": "python"
    },
    "accelerator": "GPU"
  },
  "cells": [
    {
      "cell_type": "markdown",
      "metadata": {
        "id": "view-in-github",
        "colab_type": "text"
      },
      "source": [
        "<a href=\"https://colab.research.google.com/github/Dhaneesh02/fyp/blob/augmented_ravdess_mfcc/augmented_ravdess_mfcc.ipynb\" target=\"_parent\"><img src=\"https://colab.research.google.com/assets/colab-badge.svg\" alt=\"Open In Colab\"/></a>"
      ]
    },
    {
      "cell_type": "code",
      "source": [
        "file_path = '/content/drive/MyDrive/Review_3/ravdess/RAVDESS/'\n",
        "file_path_model = '/content/drive/MyDrive/Review_3/ravdess/augmented_ravdess_mfcc/'"
      ],
      "metadata": {
        "id": "GPFdVXjCAnTS"
      },
      "execution_count": null,
      "outputs": []
    },
    {
      "cell_type": "code",
      "execution_count": null,
      "metadata": {
        "colab": {
          "base_uri": "https://localhost:8080/",
          "height": 17
        },
        "id": "-mK_p7Vx-Gr_",
        "outputId": "6838a464-63c5-4f34-c11b-e62e1ba2b92c"
      },
      "outputs": [
        {
          "output_type": "display_data",
          "data": {
            "text/html": [
              "        <script type=\"text/javascript\">\n",
              "        window.PlotlyConfig = {MathJaxConfig: 'local'};\n",
              "        if (window.MathJax) {MathJax.Hub.Config({SVG: {font: \"STIX-Web\"}});}\n",
              "        if (typeof require !== 'undefined') {\n",
              "        require.undef(\"plotly\");\n",
              "        requirejs.config({\n",
              "            paths: {\n",
              "                'plotly': ['https://cdn.plot.ly/plotly-2.8.3.min']\n",
              "            }\n",
              "        });\n",
              "        require(['plotly'], function(Plotly) {\n",
              "            window._Plotly = Plotly;\n",
              "        });\n",
              "        }\n",
              "        </script>\n",
              "        "
            ]
          },
          "metadata": {}
        }
      ],
      "source": [
        "### General imports ###\n",
        "import os\n",
        "from glob import glob\n",
        "import pickle\n",
        "import itertools\n",
        "from scipy.stats import zscore\n",
        "from sklearn.model_selection import train_test_split\n",
        "import random\n",
        "import sys\n",
        "\n",
        "\n",
        "## Package\n",
        "import glob \n",
        "import keras\n",
        "import IPython.display as ipd\n",
        "import librosa\n",
        "import librosa.display\n",
        "import matplotlib.pyplot as plt\n",
        "import numpy as np\n",
        "import pandas as pd\n",
        "import plotly.graph_objs as go\n",
        "import plotly.offline as py\n",
        "import plotly.tools as tls\n",
        "import seaborn as sns\n",
        "import scipy.io.wavfile\n",
        "import tensorflow as tf\n",
        "py.init_notebook_mode(connected=True)\n",
        "\n",
        "\n",
        "## Keras\n",
        "from keras import regularizers\n",
        "from keras.callbacks import ModelCheckpoint, LearningRateScheduler, EarlyStopping\n",
        "from keras.callbacks import  History, ReduceLROnPlateau, CSVLogger\n",
        "from keras.models import Model, Sequential\n",
        "from keras.layers import Dense, Embedding, LSTM\n",
        "from keras.layers import Input, Flatten, Dropout, Activation, BatchNormalization\n",
        "from keras.layers import Conv1D, MaxPooling1D, AveragePooling1D\n",
        "from keras.preprocessing import sequence\n",
        "from keras.preprocessing.sequence import pad_sequences\n",
        "from keras.preprocessing.text import Tokenizer\n",
        "from keras.utils import np_utils\n",
        "\n",
        "\n",
        "## Sklearn\n",
        "from sklearn.metrics import confusion_matrix\n",
        "from sklearn.preprocessing import LabelEncoder\n",
        "\n",
        "\n",
        "## Rest\n",
        "from scipy.fftpack import fft\n",
        "from scipy import signal\n",
        "from scipy.io import wavfile\n",
        "from tqdm import tqdm\n",
        "\n",
        "input_duration=3\n",
        "# % pylab inline\n",
        "### Graph imports ###\n",
        "from PIL import Image\n",
        "import librosa\n",
        "### Audio import ###\n",
        "\n",
        "import IPython\n",
        "from IPython.display import Audio"
      ]
    },
    {
      "cell_type": "code",
      "source": [
        "from google.colab import drive\n",
        "drive.mount('/content/drive')"
      ],
      "metadata": {
        "colab": {
          "base_uri": "https://localhost:8080/"
        },
        "id": "5V_9hUndAisL",
        "outputId": "96990be4-661a-4217-9f28-1d2491b64e7a"
      },
      "execution_count": null,
      "outputs": [
        {
          "output_type": "stream",
          "name": "stdout",
          "text": [
            "Mounted at /content/drive\n"
          ]
        }
      ]
    },
    {
      "cell_type": "code",
      "source": [
        "# RAVDESS Database\n",
        "label_dict_ravdess = {'02': 'NEU', '03':'HAP', '04':'SAD', '05':'ANG', '06':'FEA', '07':'DIS', '08':'SUR'}\n",
        "#data_visualistion\n",
        "data_df = pd.DataFrame(columns=['path', 'source', 'actor', 'gender',\n",
        "                                'intensity', 'statement', 'repetition', 'emotion'])\n",
        "# Set audio files labels\n",
        "def set_label_ravdess(audio_file, gender_differentiation):\n",
        "    label = label_dict_ravdess.get(audio_file[6:8])\n",
        "    if gender_differentiation == True:\n",
        "        if int(audio_file[18:20])%2 == 0: # Female\n",
        "            label = 'female_' + label\n",
        "        if int(audio_file[18:20])%2 == 1: # Male\n",
        "            label = 'male_' + label\n",
        "    return label"
      ],
      "metadata": {
        "colab": {
          "base_uri": "https://localhost:8080/"
        },
        "id": "vKgpGgWIAmCb",
        "outputId": "a6298910-7ca8-4bb1-85b2-522081d9b410"
      },
      "execution_count": null,
      "outputs": [
        {
          "output_type": "stream",
          "name": "stdout",
          "text": [
            "3500\n"
          ]
        }
      ]
    },
    {
      "cell_type": "code",
      "source": [
        "# Start feature extraction\n",
        "print(\"Import Data: START\")\n",
        "\n",
        "# Initialize features and labels list\n",
        "signal = []\n",
        "labels = []\n",
        "\n",
        "# Sample rate (16.0 kHz)\n",
        "sample_rate = 16000     \n",
        "\n",
        "# Max pad length (3.0 sec)\n",
        "max_pad_len = 49100\n",
        "\n",
        "file_name_list=[]\n",
        "\n",
        "#data_visualisation\n",
        "count = 0\n",
        "\n",
        "# Compute spectogram for all audio file\n",
        "for index,ravdess in enumerate(os.listdir(file_path)):\n",
        "    ravdess=file_path+ravdess+'/'\n",
        "    file_names = os.listdir(ravdess)\n",
        "    file_name_list+=file_names\n",
        "\n",
        "    for audio_index, audio_file in enumerate(file_names):\n",
        "      if audio_file[6:8] in list(label_dict_ravdess.keys()):\n",
        "\n",
        "        # Read audio file\n",
        "        y, sr = librosa.core.load(ravdess + audio_file, sr=sample_rate, offset=0.5)  #y->audio time series\n",
        "\n",
        "        # Z-normalization\n",
        "        # Audio normalization is when you put constant gain to a recording so that you\n",
        "        # can bring the average amplitude to the desired level. In other words,\n",
        "        # it means changing the audio's overall volume to fixed amount.\n",
        "        y = zscore(y)\n",
        "\n",
        "        # Padding or truncated signal \n",
        "        # reducing the audio file duration to 3 s\n",
        "        if len(y) < max_pad_len:    \n",
        "            y_padded = np.zeros(max_pad_len)\n",
        "            y_padded[:len(y)] = y\n",
        "            y = y_padded\n",
        "        elif len(y) > max_pad_len:\n",
        "            y = np.asarray(y[:max_pad_len])\n",
        "\n",
        "        # Add to signal list\n",
        "        signal.append(y)\n",
        "\n",
        "        # Set label\n",
        "        labels.append(set_label_ravdess(audio_file, False))\n",
        "        \n",
        "\n",
        "        count += 1\n",
        "      # Print running...\n",
        "    print(\"Import Data: RUNNING ... {} files\".format(audio_index))\n",
        "\n",
        "\n",
        "# Cast labels to array\n",
        "labels = np.asarray(labels).ravel()\n",
        "file_names = file_name_list\n",
        "# Stop feature extraction\n",
        "print(\"Import Data: END \\n\")\n",
        "print(\"Number of audio files imported: {}\".format(labels.shape[0]))\n"
      ],
      "metadata": {
        "id": "NnwsDANQBAJM"
      },
      "execution_count": null,
      "outputs": []
    },
    {
      "cell_type": "code",
      "source": [
        "pickle.dump(signal, open(file_path_model+'signal.p', 'wb'))\n",
        "pickle.dump(file_names, open(file_path_model+'file_names.p', 'wb'))\n",
        "pickle.dump(labels, open(file_path_model+'labels.p', 'wb'))"
      ],
      "metadata": {
        "id": "YdUtIvqsSHh3"
      },
      "execution_count": null,
      "outputs": []
    },
    {
      "cell_type": "code",
      "source": [
        "file_path = '/content/drive/MyDrive/Review_3/'\n",
        "\n",
        "# Initialize features and labels list\n",
        "signal = []\n",
        "labels = []\n",
        "file_names = []\n",
        "\n",
        "# Sample rate (16.0 kHz)\n",
        "sample_rate = 16000     \n",
        "\n",
        "# Max pad length (3.0 sec)\n",
        "max_pad_len = 49100\n",
        "\n",
        "\n",
        "signal=pickle.load(open(file_path_model+\"signal.p\",\"rb\"))\n",
        "file_names=pickle.load(open(file_path_model+\"file_names.p\",\"rb\"))\n",
        "labels=pickle.load(open(file_path_model+\"labels.p\",\"rb\"))\n",
        "\n",
        "#data_visualisation\n",
        "count = len(signal)\n",
        "print(\"Import Data: END \\n\")\n",
        "print(\"Number of audio files imported: {}\".format(labels.shape[0]))"
      ],
      "metadata": {
        "id": "S_FvEvcHSPcV",
        "colab": {
          "base_uri": "https://localhost:8080/"
        },
        "outputId": "457baff0-502a-437d-dd2d-b07be60bba9f"
      },
      "execution_count": null,
      "outputs": [
        {
          "output_type": "stream",
          "name": "stdout",
          "text": [
            "Import Data: END \n",
            "\n",
            "Number of audio files imported: 1344\n"
          ]
        }
      ]
    },
    {
      "cell_type": "code",
      "source": [
        "# Number of augmented data\n",
        "nb_augmented = 2\n",
        "# Function to add noise to a signals with a desired Signal Noise ratio (SNR)\n",
        "def noisy_signal(signal, snr_low=15, snr_high=30, nb_augmented=2):\n",
        "    # Signal length\n",
        "    signal_len = len(signal)\n",
        "\n",
        "    # Generate White noise\n",
        "    noise = np.random.normal(size=(nb_augmented, signal_len))\n",
        "    \n",
        "    # Compute signal and noise power\n",
        "    s_power = np.sum((signal / (2.0 ** 15)) ** 2) / signal_len\n",
        "    n_power = np.sum((noise / (2.0 ** 15)) ** 2, axis=1) / signal_len\n",
        "    \n",
        "    # Random SNR: Uniform [15, 30]\n",
        "    snr = np.random.randint(snr_low, snr_high)\n",
        "    \n",
        "    # Compute K coeff for each noise\n",
        "    K = np.sqrt((s_power / n_power) * 10 ** (- snr / 10))\n",
        "    K = np.ones((signal_len, nb_augmented)) * K\n",
        "    \n",
        "    # Generate noisy signal\n",
        "    return signal + K.T * noise"
      ],
      "metadata": {
        "id": "EXibgPfnSXO1"
      },
      "execution_count": null,
      "outputs": []
    },
    {
      "cell_type": "code",
      "source": [
        "# Generate noisy signals from signal list\n",
        "print(\"Data Augmentation: START\")\n",
        "augmented_signal = list(map(noisy_signal, signal))\n",
        "print(\"Data Augmentation: END!\")"
      ],
      "metadata": {
        "colab": {
          "base_uri": "https://localhost:8080/"
        },
        "id": "AeC7JFqVSZJK",
        "outputId": "8f50b891-5840-41a0-d2bb-976a1428e856"
      },
      "execution_count": null,
      "outputs": [
        {
          "output_type": "stream",
          "name": "stdout",
          "text": [
            "Data Augmentation: START\n",
            "Data Augmentation: END!\n"
          ]
        }
      ]
    },
    {
      "cell_type": "code",
      "source": [
        "g=0\n",
        "def mel_spectrogram(y, sr=16000, n_fft=512, win_length=256, hop_length=128, window='hamming', n_mels=128, fmax=4000):\n",
        "    global g\n",
        "    if g%300==0:\n",
        "      print(g) \n",
        "    g+=1\n",
        "    # Compute spectogram\n",
        "    mel_spect = np.abs(librosa.stft(y, n_fft=n_fft, window=window, win_length=win_length, hop_length=hop_length)) ** 2\n",
        "    \n",
        "    # Compute mel spectrogram\n",
        "    mel_spect = librosa.feature.melspectrogram(S=mel_spect, sr=sr, n_mels=n_mels, fmax=fmax)\n",
        "    \n",
        "    # Compute log-mel spectrogram\n",
        "    mel_spect = librosa.power_to_db(mel_spect, ref=np.max)\n",
        "    \n",
        "    return mel_spect"
      ],
      "metadata": {
        "id": "yzfb0WqySa6j"
      },
      "execution_count": null,
      "outputs": []
    },
    {
      "cell_type": "code",
      "source": [
        "import gc"
      ],
      "metadata": {
        "id": "04OsnhpTSccC"
      },
      "execution_count": null,
      "outputs": []
    },
    {
      "cell_type": "code",
      "source": [
        "# Start feature extraction\n",
        "print(\"Feature extraction: START\")\n",
        "\n",
        "# Compute spectogram for all audio file\n",
        "mel_spect = []\n",
        "# print(len(signal),len(s))\n",
        "for i in range(len(signal)):\n",
        "  mel_spect.append(mel_spectrogram(signal[i]))\n",
        "\n",
        "\n",
        "mel_spect = np.asarray(mel_spect)\n",
        "del signal\n",
        "gc.collect()\n",
        "\n",
        "# Stop feature extraction\n",
        "print(\"Feature extraction: END!\")"
      ],
      "metadata": {
        "colab": {
          "base_uri": "https://localhost:8080/"
        },
        "id": "tupYZ1xOSext",
        "outputId": "987f915f-3bf3-4fb2-ff5c-11e9df4327ff"
      },
      "execution_count": null,
      "outputs": [
        {
          "output_type": "stream",
          "name": "stdout",
          "text": [
            "Feature extraction: START\n",
            "0\n",
            "300\n",
            "600\n",
            "900\n",
            "1200\n",
            "Feature extraction: END!\n"
          ]
        }
      ]
    },
    {
      "cell_type": "code",
      "source": [
        "pickle.dump(mel_spect, open(file_path_model+'mel_spect.p', 'wb'), protocol=4)\n"
      ],
      "metadata": {
        "id": "6Om1_EFPlnpN"
      },
      "execution_count": null,
      "outputs": []
    },
    {
      "cell_type": "code",
      "source": [
        "# Start feature extraction\n",
        "print(\"Feature extraction: START\")\n",
        "\n",
        "augmented_mel_spect = [np.asarray(list(map(mel_spectrogram, augmented_signal[i]))) for i in range(len(augmented_signal))]\n",
        "del augmented_signal\n",
        "gc.collect()\n",
        "\n",
        "# Stop feature extraction\n",
        "print(\"Feature extraction: END!\")"
      ],
      "metadata": {
        "colab": {
          "base_uri": "https://localhost:8080/"
        },
        "id": "-IyrHo--SgJF",
        "outputId": "329050a2-7c32-4d09-b1c5-3eeeaee58a4c"
      },
      "execution_count": null,
      "outputs": [
        {
          "output_type": "stream",
          "name": "stdout",
          "text": [
            "Feature extraction: START\n",
            "1500\n",
            "1800\n",
            "2100\n"
          ]
        }
      ]
    },
    {
      "cell_type": "code",
      "source": [
        "\n",
        "print(mel_spect.shape)\n",
        "print(augmented_mel_spect.shape)\n",
        "print(labels.shape)"
      ],
      "metadata": {
        "colab": {
          "base_uri": "https://localhost:8080/",
          "height": 244
        },
        "id": "KHvOgKOzSjcK",
        "outputId": "b94f826b-1043-4837-8d17-12e86b8c6a78"
      },
      "execution_count": null,
      "outputs": [
        {
          "metadata": {
            "tags": null
          },
          "name": "stdout",
          "output_type": "stream",
          "text": [
            "(1344, 128, 384)\n"
          ]
        },
        {
          "ename": "AttributeError",
          "evalue": "ignored",
          "output_type": "error",
          "traceback": [
            "\u001b[0;31m---------------------------------------------------------------------------\u001b[0m",
            "\u001b[0;31mAttributeError\u001b[0m                            Traceback (most recent call last)",
            "\u001b[0;32m<ipython-input-12-b1f79d3e7c50>\u001b[0m in \u001b[0;36m<module>\u001b[0;34m()\u001b[0m\n\u001b[1;32m      1\u001b[0m \u001b[0;34m\u001b[0m\u001b[0m\n\u001b[1;32m      2\u001b[0m \u001b[0mprint\u001b[0m\u001b[0;34m(\u001b[0m\u001b[0mmel_spect\u001b[0m\u001b[0;34m.\u001b[0m\u001b[0mshape\u001b[0m\u001b[0;34m)\u001b[0m\u001b[0;34m\u001b[0m\u001b[0;34m\u001b[0m\u001b[0m\n\u001b[0;32m----> 3\u001b[0;31m \u001b[0mprint\u001b[0m\u001b[0;34m(\u001b[0m\u001b[0maugmented_mel_spect\u001b[0m\u001b[0;34m.\u001b[0m\u001b[0mshape\u001b[0m\u001b[0;34m)\u001b[0m\u001b[0;34m\u001b[0m\u001b[0;34m\u001b[0m\u001b[0m\n\u001b[0m\u001b[1;32m      4\u001b[0m \u001b[0mprint\u001b[0m\u001b[0;34m(\u001b[0m\u001b[0mlabels\u001b[0m\u001b[0;34m.\u001b[0m\u001b[0mshape\u001b[0m\u001b[0;34m)\u001b[0m\u001b[0;34m\u001b[0m\u001b[0;34m\u001b[0m\u001b[0m\n",
            "\u001b[0;31mAttributeError\u001b[0m: 'list' object has no attribute 'shape'"
          ]
        }
      ]
    },
    {
      "cell_type": "code",
      "source": [
        "\n",
        "pickle.dump(augmented_mel_spect, open(file_path_model+'augmented_mel_spect.p', 'wb'), protocol=4)\n"
      ],
      "metadata": {
        "id": "imb3qHesSlec"
      },
      "execution_count": null,
      "outputs": []
    },
    {
      "cell_type": "code",
      "source": [
        "labels=pickle.load(open(file_path_model+\"labels.p\",\"rb\"))"
      ],
      "metadata": {
        "id": "PI1pmF_IVdSF"
      },
      "execution_count": null,
      "outputs": []
    },
    {
      "cell_type": "code",
      "source": [
        "# Build Train and test dataset\n",
        "# MEL_SPECT_train, MEL_SPECT_test,  label_train, label_test = train_test_split(mel_spect,  labels, test_size=0.2)\n",
        "MEL_SPECT_train, MEL_SPECT_test, AUG_MEL_SPECT_train, AUG_MEL_SPECT_test, label_train, label_test = train_test_split(mel_spect, augmented_mel_spect, labels, test_size=0.2)\n",
        "\n",
        "# Build augmented labels and train\n",
        "aug_label_train = np.asarray(list(itertools.chain.from_iterable([[label] * nb_augmented for label in label_train])))\n",
        "AUG_MEL_SPECT_train = np.asarray(list(itertools.chain.from_iterable(AUG_MEL_SPECT_train)))\n",
        "AUG_MEL_SPECT_test = np.asarray(list(itertools.chain.from_iterable(AUG_MEL_SPECT_test)))\n",
        "aug_label_test = np.asarray(list(itertools.chain.from_iterable([[label] * nb_augmented for label in label_test])))\n",
        "# print(AUG_MEL_SPECT_train.shape)\n",
        "# print(AUG_MEL_SPECT_test.shape)\n",
        "# Concatenate original and augmented\n",
        "# X_train = MEL_SPECT_train\n",
        "# y_train = label_train\n",
        "X_train = np.concatenate((MEL_SPECT_train, AUG_MEL_SPECT_train))\n",
        "y_train = np.concatenate((label_train, aug_label_train))\n",
        "\n",
        "print(\"x_train: \",X_train.shape)\n",
        "print(\"y_train: \",y_train.shape)\n",
        "# Build test set\n",
        "X_test = np.concatenate((MEL_SPECT_test, AUG_MEL_SPECT_test))\n",
        "# X_test = MEL_SPECT_test\n",
        "y_test = np.concatenate((label_test, aug_label_test))\n",
        "# y_test = label_test\n",
        "print(X_test.shape)\n",
        "print(y_test.shape)\n"
      ],
      "metadata": {
        "colab": {
          "base_uri": "https://localhost:8080/"
        },
        "id": "m3FANhgdViOM",
        "outputId": "f8103f71-8ece-40fb-d8a3-90f0e2920876"
      },
      "execution_count": null,
      "outputs": [
        {
          "output_type": "stream",
          "name": "stdout",
          "text": [
            "x_train:  (3225, 128, 384)\n",
            "y_train:  (3225,)\n",
            "(807, 128, 384)\n",
            "(807,)\n"
          ]
        }
      ]
    },
    {
      "cell_type": "code",
      "source": [
        "# Delete\n",
        "# del MEL_SPECT_train,MEL_SPECT_test\n",
        "del MEL_SPECT_train, AUG_MEL_SPECT_train, label_train, AUG_MEL_SPECT_test, MEL_SPECT_test, label_test\n",
        "del mel_spect, augmented_mel_spect, labels"
      ],
      "metadata": {
        "id": "YePDCf8EDBH8"
      },
      "execution_count": null,
      "outputs": []
    },
    {
      "cell_type": "code",
      "source": [
        "win_ts = 128\n",
        "hop_ts = 64\n",
        "\n",
        "def frame(x, win_step=128, win_size=64):\n",
        "    nb_frames = 1 + int((x.shape[2] - win_size) / win_step)\n",
        "    frames = np.zeros((x.shape[0], nb_frames, x.shape[1], win_size)).astype(np.float32)\n",
        "    for t in range(nb_frames):\n",
        "        frames[:,t,:,:] = np.copy(x[:,:,(t * win_step):(t * win_step + win_size)]).astype(np.float32)\n",
        "    return frames\n",
        "\n",
        "X_train = frame(X_train, hop_ts, win_ts)\n",
        "X_test = frame(X_test, hop_ts, win_ts)\n"
      ],
      "metadata": {
        "id": "9PQvkF_7VoMR"
      },
      "execution_count": null,
      "outputs": []
    },
    {
      "cell_type": "code",
      "source": [
        "\n",
        "X_test.shape"
      ],
      "metadata": {
        "colab": {
          "base_uri": "https://localhost:8080/"
        },
        "id": "cLfDOehmVp5v",
        "outputId": "741e0bf4-f954-4298-b402-f0a2d4918208"
      },
      "execution_count": null,
      "outputs": [
        {
          "output_type": "execute_result",
          "data": {
            "text/plain": [
              "(807, 5, 128, 128)"
            ]
          },
          "metadata": {},
          "execution_count": 18
        }
      ]
    },
    {
      "cell_type": "code",
      "source": [
        "# Save Train and test set\n",
        "pickle.dump(X_train.astype(np.float16), open(file_path_model+'[X_train].p', 'wb'))\n",
        "pickle.dump(y_train, open(file_path_model+'[y_train].p', 'wb'))\n",
        "pickle.dump(X_test.astype(np.float16), open(file_path_model+'[X_test].p', 'wb'))\n",
        "pickle.dump(y_test, open(file_path_model+'[y_test].p', 'wb'))"
      ],
      "metadata": {
        "id": "ai5r1KnDVro4"
      },
      "execution_count": null,
      "outputs": []
    },
    {
      "cell_type": "code",
      "source": [
        "import os\n",
        "from glob import glob\n",
        "import pickle\n",
        "import numpy as np\n",
        "import pandas as pd\n",
        "from keras.utils.vis_utils import plot_model\n",
        "### Plot imports ###\n",
        "from IPython.display import Image\n",
        "import matplotlib.pyplot as plt\n",
        "\n",
        "### Time Distributed ConvNet imports ###\n",
        "import tensorflow as tf\n",
        "from tensorflow.keras.models import Sequential, Model\n",
        "from tensorflow.keras.layers import Input, Dense, Dropout, Activation, TimeDistributed, concatenate\n",
        "from tensorflow.keras.layers import Conv2D, MaxPooling2D, AveragePooling2D, BatchNormalization, LeakyReLU, Flatten\n",
        "from tensorflow.keras.layers import LSTM\n",
        "from tensorflow.keras.optimizers import Adam, SGD\n",
        "from tensorflow.keras.callbacks import EarlyStopping, ModelCheckpoint, ReduceLROnPlateau\n",
        "from tensorflow.keras import backend as K\n",
        "from keras.utils import np_utils\n",
        "from keras.utils.vis_utils import plot_model\n",
        "from sklearn.preprocessing import LabelEncoder\n",
        "\n",
        "### Warning ###\n",
        "import warnings\n",
        "warnings.filterwarnings('ignore')"
      ],
      "metadata": {
        "id": "Y4BEJ9ZtVyv7"
      },
      "execution_count": null,
      "outputs": []
    },
    {
      "cell_type": "code",
      "source": [
        "file_path = '/content/drive/MyDrive/Review_3/ravdess/RAVDESS/'\n",
        "file_path_model = '/content/drive/MyDrive/Review_3/ravdess/augmented_ravdess_mfcc/'"
      ],
      "metadata": {
        "id": "a6JU9w23rL5y"
      },
      "execution_count": null,
      "outputs": []
    },
    {
      "cell_type": "code",
      "source": [
        "from google.colab import drive\n",
        "drive.mount('/content/drive')"
      ],
      "metadata": {
        "colab": {
          "base_uri": "https://localhost:8080/"
        },
        "id": "Qh1fjWt7V0yR",
        "outputId": "de7527c9-51a4-4eb5-b19b-b4e5b58b1f01"
      },
      "execution_count": null,
      "outputs": [
        {
          "output_type": "stream",
          "name": "stdout",
          "text": [
            "Mounted at /content/drive\n"
          ]
        }
      ]
    },
    {
      "cell_type": "code",
      "source": [
        "\n",
        "X_train = pickle.load(open(file_path_model+'[X_train].p', 'rb'))\n",
        "y_train = pickle.load(open(file_path_model+'[y_train].p', 'rb'))\n",
        "y_test = pickle.load(open(file_path_model+'[y_test].p', 'rb'))\n",
        "X_test = pickle.load(open(file_path_model+'[X_test].p', 'rb'))"
      ],
      "metadata": {
        "id": "SwPl1CcDV2mz"
      },
      "execution_count": null,
      "outputs": []
    },
    {
      "cell_type": "code",
      "source": [
        "print(X_train.shape)\n",
        "print(y_train.shape)\n",
        "print(X_test.shape)\n",
        "print(y_test.shape) "
      ],
      "metadata": {
        "colab": {
          "base_uri": "https://localhost:8080/"
        },
        "id": "blFAeZSBV8zT",
        "outputId": "fc7591e8-2732-449c-bfb7-6020b6296f95"
      },
      "execution_count": null,
      "outputs": [
        {
          "output_type": "stream",
          "name": "stdout",
          "text": [
            "(3225, 5, 128, 128)\n",
            "(3225,)\n",
            "(807, 5, 128, 128)\n",
            "(807,)\n"
          ]
        }
      ]
    },
    {
      "cell_type": "code",
      "source": [
        "print(file_path_model)\n",
        "lb = LabelEncoder()\n",
        "y_train = np_utils.to_categorical(lb.fit_transform(np.ravel(y_train)))\n",
        "y_test = np_utils.to_categorical(lb.transform(np.ravel(y_test)))"
      ],
      "metadata": {
        "id": "d07gF5cEV-1B",
        "colab": {
          "base_uri": "https://localhost:8080/"
        },
        "outputId": "803ef3bf-61d0-43b7-9224-bc2e2b8497d9"
      },
      "execution_count": null,
      "outputs": [
        {
          "output_type": "stream",
          "name": "stdout",
          "text": [
            "/content/drive/MyDrive/Review_3/ravdess/augmented_ravdess_mfcc/\n"
          ]
        }
      ]
    },
    {
      "cell_type": "code",
      "source": [
        "# Reshape for convolution\n",
        "X_train = X_train.reshape(X_train.shape[0], X_train.shape[1] , X_train.shape[2], X_train.shape[3], 1)\n",
        "X_test = X_test.reshape(X_test.shape[0], X_test.shape[1] , X_test.shape[2], X_test.shape[3], 1)"
      ],
      "metadata": {
        "id": "upkJ5BtRWCA3"
      },
      "execution_count": null,
      "outputs": []
    },
    {
      "cell_type": "code",
      "source": [
        "X_train.shape[1:]"
      ],
      "metadata": {
        "colab": {
          "base_uri": "https://localhost:8080/"
        },
        "id": "UjcdxKTUWEM6",
        "outputId": "4fee6a89-a87a-4f9c-ba50-8751c70cc7df"
      },
      "execution_count": null,
      "outputs": [
        {
          "output_type": "execute_result",
          "data": {
            "text/plain": [
              "(5, 128, 128, 1)"
            ]
          },
          "metadata": {},
          "execution_count": 8
        }
      ]
    },
    {
      "cell_type": "code",
      "source": [
        "K.clear_session()\n",
        "\n",
        "input_y = Input(shape=X_train.shape[1:], name='Input_MELSPECT')\n",
        "\n",
        "y = TimeDistributed(Conv2D(64, kernel_size=(3, 3), padding='same'), name='Conv_1_MELSPECT')(input_y)\n",
        "y = TimeDistributed(BatchNormalization(), name='BatchNorm_1_MELSPECT')(y)\n",
        "y = TimeDistributed(Activation('elu'), name='Activ_1_MELSPECT')(y)\n",
        "y = TimeDistributed(MaxPooling2D(pool_size=(2, 2), strides=(2, 2), padding='same'), name='MaxPool_1_MELSPECT')(y)\n",
        "y = TimeDistributed(Dropout(0.2), name='Drop_1_MELSPECT')(y)     \n",
        "\n",
        "y = TimeDistributed(Conv2D(64, kernel_size=(3, 3), strides=(1, 1), padding='same'), name='Conv_2_MELSPECT')(y)\n",
        "y = TimeDistributed(BatchNormalization(), name='BatchNorm_2_MELSPECT')(y)\n",
        "y = TimeDistributed(Activation('elu'), name='Activ_2_MELSPECT')(y)\n",
        "y = TimeDistributed(MaxPooling2D(pool_size=(4, 4), strides=(4, 4), padding='same'), name='MaxPool_2_MELSPECT')(y)\n",
        "y = TimeDistributed(Dropout(0.2), name='Drop_2_MELSPECT')(y)\n",
        "\n",
        "y = TimeDistributed(Conv2D(128, kernel_size=(3, 3), strides=(1, 1), padding='same'), name='Conv_3_MELSPECT')(y)\n",
        "y = TimeDistributed(BatchNormalization(), name='BatchNorm_3_MELSPECT')(y)\n",
        "y = TimeDistributed(Activation('elu'), name='Activ_3_MELSPECT')(y)\n",
        "y = TimeDistributed(MaxPooling2D(pool_size=(4, 4), strides=(4, 4), padding='same'), name='MaxPool_3_MELSPECT')(y)\n",
        "y = TimeDistributed(Dropout(0.2), name='Drop_3_MELSPECT')(y)\n",
        "\n",
        "y = TimeDistributed(Conv2D(128, kernel_size=(3, 3), strides=(1, 1), padding='same'), name='Conv_4_MELSPECT')(y)\n",
        "y = TimeDistributed(BatchNormalization(), name='BatchNorm_4_MELSPECT')(y)\n",
        "y = TimeDistributed(Activation('elu'), name='Activ_4_MELSPECT')(y)\n",
        "y = TimeDistributed(MaxPooling2D(pool_size=(4, 4), strides=(4, 4), padding='same'), name='MaxPool_4_MELSPECT')(y)\n",
        "y = TimeDistributed(Dropout(0.2), name='Drop_4_MELSPECT')(y)  \n",
        "\n",
        "y = TimeDistributed(Flatten(), name='Flat_MELSPECT')(y)                                           \n",
        "# Apply 2 LSTM layer and one FC\n",
        "y = LSTM(256, return_sequences=False, dropout=0.2, name='LSTM_1')(y)\n",
        "y = Dense(y_train.shape[1], activation='softmax', name='FC')(y)\n",
        "\n",
        "# Build final model\n",
        "model = Model(inputs=input_y, outputs=y)\n",
        "model.summary()"
      ],
      "metadata": {
        "colab": {
          "base_uri": "https://localhost:8080/"
        },
        "id": "0_W4EmvTWFpH",
        "outputId": "2d1d440d-4927-4ff9-af04-559ee59009f3"
      },
      "execution_count": null,
      "outputs": [
        {
          "output_type": "stream",
          "name": "stdout",
          "text": [
            "Model: \"model\"\n",
            "_________________________________________________________________\n",
            " Layer (type)                Output Shape              Param #   \n",
            "=================================================================\n",
            " Input_MELSPECT (InputLayer)  [(None, 5, 128, 128, 1)]  0        \n",
            "                                                                 \n",
            " Conv_1_MELSPECT (TimeDistri  (None, 5, 128, 128, 64)  640       \n",
            " buted)                                                          \n",
            "                                                                 \n",
            " BatchNorm_1_MELSPECT (TimeD  (None, 5, 128, 128, 64)  256       \n",
            " istributed)                                                     \n",
            "                                                                 \n",
            " Activ_1_MELSPECT (TimeDistr  (None, 5, 128, 128, 64)  0         \n",
            " ibuted)                                                         \n",
            "                                                                 \n",
            " MaxPool_1_MELSPECT (TimeDis  (None, 5, 64, 64, 64)    0         \n",
            " tributed)                                                       \n",
            "                                                                 \n",
            " Drop_1_MELSPECT (TimeDistri  (None, 5, 64, 64, 64)    0         \n",
            " buted)                                                          \n",
            "                                                                 \n",
            " Conv_2_MELSPECT (TimeDistri  (None, 5, 64, 64, 64)    36928     \n",
            " buted)                                                          \n",
            "                                                                 \n",
            " BatchNorm_2_MELSPECT (TimeD  (None, 5, 64, 64, 64)    256       \n",
            " istributed)                                                     \n",
            "                                                                 \n",
            " Activ_2_MELSPECT (TimeDistr  (None, 5, 64, 64, 64)    0         \n",
            " ibuted)                                                         \n",
            "                                                                 \n",
            " MaxPool_2_MELSPECT (TimeDis  (None, 5, 16, 16, 64)    0         \n",
            " tributed)                                                       \n",
            "                                                                 \n",
            " Drop_2_MELSPECT (TimeDistri  (None, 5, 16, 16, 64)    0         \n",
            " buted)                                                          \n",
            "                                                                 \n",
            " Conv_3_MELSPECT (TimeDistri  (None, 5, 16, 16, 128)   73856     \n",
            " buted)                                                          \n",
            "                                                                 \n",
            " BatchNorm_3_MELSPECT (TimeD  (None, 5, 16, 16, 128)   512       \n",
            " istributed)                                                     \n",
            "                                                                 \n",
            " Activ_3_MELSPECT (TimeDistr  (None, 5, 16, 16, 128)   0         \n",
            " ibuted)                                                         \n",
            "                                                                 \n",
            " MaxPool_3_MELSPECT (TimeDis  (None, 5, 4, 4, 128)     0         \n",
            " tributed)                                                       \n",
            "                                                                 \n",
            " Drop_3_MELSPECT (TimeDistri  (None, 5, 4, 4, 128)     0         \n",
            " buted)                                                          \n",
            "                                                                 \n",
            " Conv_4_MELSPECT (TimeDistri  (None, 5, 4, 4, 128)     147584    \n",
            " buted)                                                          \n",
            "                                                                 \n",
            " BatchNorm_4_MELSPECT (TimeD  (None, 5, 4, 4, 128)     512       \n",
            " istributed)                                                     \n",
            "                                                                 \n",
            " Activ_4_MELSPECT (TimeDistr  (None, 5, 4, 4, 128)     0         \n",
            " ibuted)                                                         \n",
            "                                                                 \n",
            " MaxPool_4_MELSPECT (TimeDis  (None, 5, 1, 1, 128)     0         \n",
            " tributed)                                                       \n",
            "                                                                 \n",
            " Drop_4_MELSPECT (TimeDistri  (None, 5, 1, 1, 128)     0         \n",
            " buted)                                                          \n",
            "                                                                 \n",
            " Flat_MELSPECT (TimeDistribu  (None, 5, 128)           0         \n",
            " ted)                                                            \n",
            "                                                                 \n",
            " LSTM_1 (LSTM)               (None, 256)               394240    \n",
            "                                                                 \n",
            " FC (Dense)                  (None, 7)                 1799      \n",
            "                                                                 \n",
            "=================================================================\n",
            "Total params: 656,583\n",
            "Trainable params: 655,815\n",
            "Non-trainable params: 768\n",
            "_________________________________________________________________\n"
          ]
        }
      ]
    },
    {
      "cell_type": "code",
      "source": [
        "gpu_options = tf.compat.v1.GPUOptions(allow_growth=True)\n",
        "session = tf.compat.v1.InteractiveSession(config=tf.compat.v1.ConfigProto(gpu_options=gpu_options))"
      ],
      "metadata": {
        "id": "bwN8vEiPWHaI"
      },
      "execution_count": null,
      "outputs": []
    },
    {
      "cell_type": "code",
      "source": [
        "# Compile model\n",
        "model.compile(optimizer=SGD(lr=0.01, decay=1e-6, momentum=0.8), loss='categorical_crossentropy', metrics=['accuracy'])\n",
        "\n",
        "# Save best model\n",
        "best_model_save = ModelCheckpoint(file_path_model+'best_Model.hdf5', save_best_only=True, monitor='accuracy', mode='max')\n",
        "\n",
        "# Early stopping\n",
        "early_stopping = EarlyStopping(monitor='accuracy', patience=30, verbose=1, mode='max')\n",
        "\n",
        "# Fit model\n",
        "history = model.fit(X_train, y_train, batch_size=64, epochs=200, validation_data=(X_test, y_test), callbacks=[early_stopping, best_model_save,tf.keras.callbacks.CSVLogger(file_path_model+'source_history.csv')])"
      ],
      "metadata": {
        "colab": {
          "base_uri": "https://localhost:8080/"
        },
        "id": "IQyyZt8PWJ9D",
        "outputId": "62528232-e654-42e9-cfce-8b29bbe17787"
      },
      "execution_count": null,
      "outputs": [
        {
          "output_type": "stream",
          "name": "stdout",
          "text": [
            "Epoch 1/200\n",
            "51/51 [==============================] - 42s 518ms/step - loss: 1.9532 - accuracy: 0.1569 - val_loss: 2.1801 - val_accuracy: 0.1375\n",
            "Epoch 2/200\n",
            "51/51 [==============================] - 24s 473ms/step - loss: 1.8617 - accuracy: 0.2291 - val_loss: 2.1795 - val_accuracy: 0.1512\n",
            "Epoch 3/200\n",
            "51/51 [==============================] - 24s 479ms/step - loss: 1.7587 - accuracy: 0.2878 - val_loss: 1.8306 - val_accuracy: 0.2230\n",
            "Epoch 4/200\n",
            "51/51 [==============================] - 25s 488ms/step - loss: 1.6808 - accuracy: 0.3184 - val_loss: 2.1815 - val_accuracy: 0.2131\n",
            "Epoch 5/200\n",
            "51/51 [==============================] - 25s 484ms/step - loss: 1.6222 - accuracy: 0.3386 - val_loss: 1.7857 - val_accuracy: 0.3482\n",
            "Epoch 6/200\n",
            "51/51 [==============================] - 25s 498ms/step - loss: 1.5705 - accuracy: 0.3665 - val_loss: 1.7180 - val_accuracy: 0.3408\n",
            "Epoch 7/200\n",
            "51/51 [==============================] - 25s 487ms/step - loss: 1.5498 - accuracy: 0.3715 - val_loss: 1.5978 - val_accuracy: 0.3767\n",
            "Epoch 8/200\n",
            "51/51 [==============================] - 25s 487ms/step - loss: 1.5061 - accuracy: 0.3994 - val_loss: 1.5362 - val_accuracy: 0.4102\n",
            "Epoch 9/200\n",
            "51/51 [==============================] - 25s 487ms/step - loss: 1.4902 - accuracy: 0.4118 - val_loss: 2.2234 - val_accuracy: 0.2937\n",
            "Epoch 10/200\n",
            "51/51 [==============================] - 25s 486ms/step - loss: 1.4315 - accuracy: 0.4236 - val_loss: 2.0841 - val_accuracy: 0.2689\n",
            "Epoch 11/200\n",
            "51/51 [==============================] - 25s 486ms/step - loss: 1.4037 - accuracy: 0.4502 - val_loss: 1.6298 - val_accuracy: 0.4002\n",
            "Epoch 12/200\n",
            "51/51 [==============================] - 25s 484ms/step - loss: 1.3657 - accuracy: 0.4639 - val_loss: 1.4649 - val_accuracy: 0.4275\n",
            "Epoch 13/200\n",
            "51/51 [==============================] - 25s 487ms/step - loss: 1.3341 - accuracy: 0.4828 - val_loss: 1.4507 - val_accuracy: 0.4325\n",
            "Epoch 14/200\n",
            "51/51 [==============================] - 25s 491ms/step - loss: 1.3004 - accuracy: 0.4905 - val_loss: 1.6302 - val_accuracy: 0.3978\n",
            "Epoch 15/200\n",
            "51/51 [==============================] - 25s 484ms/step - loss: 1.2743 - accuracy: 0.5026 - val_loss: 1.6301 - val_accuracy: 0.4139\n",
            "Epoch 16/200\n",
            "51/51 [==============================] - 25s 483ms/step - loss: 1.2464 - accuracy: 0.5181 - val_loss: 2.1808 - val_accuracy: 0.3271\n",
            "Epoch 17/200\n",
            "51/51 [==============================] - 25s 485ms/step - loss: 1.2112 - accuracy: 0.5371 - val_loss: 1.6660 - val_accuracy: 0.4250\n",
            "Epoch 18/200\n",
            "51/51 [==============================] - 25s 485ms/step - loss: 1.1851 - accuracy: 0.5398 - val_loss: 2.4559 - val_accuracy: 0.2887\n",
            "Epoch 19/200\n",
            "51/51 [==============================] - 25s 485ms/step - loss: 1.1361 - accuracy: 0.5730 - val_loss: 1.7828 - val_accuracy: 0.3705\n",
            "Epoch 20/200\n",
            "51/51 [==============================] - 25s 486ms/step - loss: 1.1267 - accuracy: 0.5743 - val_loss: 2.0719 - val_accuracy: 0.3730\n",
            "Epoch 21/200\n",
            "51/51 [==============================] - 25s 485ms/step - loss: 1.0859 - accuracy: 0.5972 - val_loss: 3.1735 - val_accuracy: 0.2503\n",
            "Epoch 22/200\n",
            "51/51 [==============================] - 24s 476ms/step - loss: 1.0788 - accuracy: 0.5895 - val_loss: 2.0793 - val_accuracy: 0.3767\n",
            "Epoch 23/200\n",
            "51/51 [==============================] - 25s 485ms/step - loss: 1.0619 - accuracy: 0.6074 - val_loss: 1.7073 - val_accuracy: 0.4399\n",
            "Epoch 24/200\n",
            "51/51 [==============================] - 24s 475ms/step - loss: 1.0467 - accuracy: 0.6040 - val_loss: 1.6773 - val_accuracy: 0.4461\n",
            "Epoch 25/200\n",
            "51/51 [==============================] - 25s 484ms/step - loss: 1.0020 - accuracy: 0.6282 - val_loss: 2.1188 - val_accuracy: 0.4077\n",
            "Epoch 26/200\n",
            "51/51 [==============================] - 24s 475ms/step - loss: 1.0060 - accuracy: 0.6167 - val_loss: 1.4141 - val_accuracy: 0.5006\n",
            "Epoch 27/200\n",
            "51/51 [==============================] - 24s 476ms/step - loss: 0.9830 - accuracy: 0.6251 - val_loss: 1.4904 - val_accuracy: 0.4796\n",
            "Epoch 28/200\n",
            "51/51 [==============================] - 25s 486ms/step - loss: 0.9670 - accuracy: 0.6425 - val_loss: 1.2588 - val_accuracy: 0.5366\n",
            "Epoch 29/200\n",
            "51/51 [==============================] - 24s 477ms/step - loss: 0.9610 - accuracy: 0.6301 - val_loss: 2.2109 - val_accuracy: 0.3247\n",
            "Epoch 30/200\n",
            "51/51 [==============================] - 25s 485ms/step - loss: 0.9154 - accuracy: 0.6586 - val_loss: 1.3451 - val_accuracy: 0.5180\n",
            "Epoch 31/200\n",
            "51/51 [==============================] - 24s 476ms/step - loss: 0.9343 - accuracy: 0.6490 - val_loss: 1.5878 - val_accuracy: 0.4895\n",
            "Epoch 32/200\n",
            "51/51 [==============================] - 25s 484ms/step - loss: 0.9026 - accuracy: 0.6617 - val_loss: 1.2454 - val_accuracy: 0.5316\n",
            "Epoch 33/200\n",
            "51/51 [==============================] - 24s 476ms/step - loss: 0.9067 - accuracy: 0.6558 - val_loss: 1.1578 - val_accuracy: 0.5489\n",
            "Epoch 34/200\n",
            "51/51 [==============================] - 25s 486ms/step - loss: 0.8731 - accuracy: 0.6673 - val_loss: 2.0083 - val_accuracy: 0.4411\n",
            "Epoch 35/200\n",
            "51/51 [==============================] - 25s 486ms/step - loss: 0.8478 - accuracy: 0.6853 - val_loss: 1.1778 - val_accuracy: 0.5725\n",
            "Epoch 36/200\n",
            "51/51 [==============================] - 24s 476ms/step - loss: 0.8382 - accuracy: 0.6806 - val_loss: 1.1356 - val_accuracy: 0.5688\n",
            "Epoch 37/200\n",
            "51/51 [==============================] - 24s 477ms/step - loss: 0.8265 - accuracy: 0.6853 - val_loss: 1.3479 - val_accuracy: 0.5465\n",
            "Epoch 38/200\n",
            "51/51 [==============================] - 25s 486ms/step - loss: 0.8312 - accuracy: 0.6871 - val_loss: 1.4267 - val_accuracy: 0.5118\n",
            "Epoch 39/200\n",
            "51/51 [==============================] - 25s 486ms/step - loss: 0.8187 - accuracy: 0.6902 - val_loss: 1.3901 - val_accuracy: 0.5229\n",
            "Epoch 40/200\n",
            "51/51 [==============================] - 25s 487ms/step - loss: 0.7948 - accuracy: 0.7067 - val_loss: 1.7877 - val_accuracy: 0.4622\n",
            "Epoch 41/200\n",
            "51/51 [==============================] - 25s 487ms/step - loss: 0.7568 - accuracy: 0.7126 - val_loss: 1.0666 - val_accuracy: 0.6245\n",
            "Epoch 42/200\n",
            "51/51 [==============================] - 25s 486ms/step - loss: 0.7649 - accuracy: 0.7138 - val_loss: 1.2267 - val_accuracy: 0.5378\n",
            "Epoch 43/200\n",
            "51/51 [==============================] - 25s 485ms/step - loss: 0.7451 - accuracy: 0.7222 - val_loss: 1.5038 - val_accuracy: 0.5118\n",
            "Epoch 44/200\n",
            "51/51 [==============================] - 25s 484ms/step - loss: 0.7414 - accuracy: 0.7231 - val_loss: 1.0812 - val_accuracy: 0.5998\n",
            "Epoch 45/200\n",
            "51/51 [==============================] - 24s 477ms/step - loss: 0.7463 - accuracy: 0.7212 - val_loss: 1.2210 - val_accuracy: 0.5700\n",
            "Epoch 46/200\n",
            "51/51 [==============================] - 25s 485ms/step - loss: 0.7191 - accuracy: 0.7299 - val_loss: 1.4235 - val_accuracy: 0.5527\n",
            "Epoch 47/200\n",
            "51/51 [==============================] - 24s 476ms/step - loss: 0.7295 - accuracy: 0.7271 - val_loss: 1.4850 - val_accuracy: 0.4845\n",
            "Epoch 48/200\n",
            "51/51 [==============================] - 25s 485ms/step - loss: 0.6959 - accuracy: 0.7392 - val_loss: 1.3190 - val_accuracy: 0.5353\n",
            "Epoch 49/200\n",
            "51/51 [==============================] - 25s 485ms/step - loss: 0.6777 - accuracy: 0.7488 - val_loss: 1.3636 - val_accuracy: 0.5353\n",
            "Epoch 50/200\n",
            "51/51 [==============================] - 25s 488ms/step - loss: 0.6820 - accuracy: 0.7510 - val_loss: 1.1792 - val_accuracy: 0.5973\n",
            "Epoch 51/200\n",
            "51/51 [==============================] - 25s 486ms/step - loss: 0.6577 - accuracy: 0.7547 - val_loss: 1.2158 - val_accuracy: 0.5700\n",
            "Epoch 52/200\n",
            "51/51 [==============================] - 25s 484ms/step - loss: 0.6340 - accuracy: 0.7690 - val_loss: 1.2367 - val_accuracy: 0.5874\n",
            "Epoch 53/200\n",
            "51/51 [==============================] - 24s 476ms/step - loss: 0.6741 - accuracy: 0.7501 - val_loss: 1.2221 - val_accuracy: 0.5849\n",
            "Epoch 54/200\n",
            "51/51 [==============================] - 24s 478ms/step - loss: 0.6417 - accuracy: 0.7572 - val_loss: 1.1387 - val_accuracy: 0.6121\n",
            "Epoch 55/200\n",
            "51/51 [==============================] - 25s 486ms/step - loss: 0.6068 - accuracy: 0.7767 - val_loss: 1.1579 - val_accuracy: 0.5960\n",
            "Epoch 56/200\n",
            "51/51 [==============================] - 24s 475ms/step - loss: 0.5949 - accuracy: 0.7647 - val_loss: 1.1971 - val_accuracy: 0.5960\n",
            "Epoch 57/200\n",
            "51/51 [==============================] - 25s 484ms/step - loss: 0.5899 - accuracy: 0.7829 - val_loss: 1.0963 - val_accuracy: 0.5886\n",
            "Epoch 58/200\n",
            "51/51 [==============================] - 24s 475ms/step - loss: 0.6016 - accuracy: 0.7746 - val_loss: 1.6681 - val_accuracy: 0.5019\n",
            "Epoch 59/200\n",
            "51/51 [==============================] - 24s 477ms/step - loss: 0.5716 - accuracy: 0.7820 - val_loss: 1.2642 - val_accuracy: 0.5762\n",
            "Epoch 60/200\n",
            "51/51 [==============================] - 25s 485ms/step - loss: 0.5533 - accuracy: 0.7981 - val_loss: 0.9494 - val_accuracy: 0.6468\n",
            "Epoch 61/200\n",
            "51/51 [==============================] - 25s 485ms/step - loss: 0.5379 - accuracy: 0.8009 - val_loss: 1.4975 - val_accuracy: 0.5675\n",
            "Epoch 62/200\n",
            "51/51 [==============================] - 24s 477ms/step - loss: 0.5560 - accuracy: 0.7913 - val_loss: 0.9231 - val_accuracy: 0.6741\n",
            "Epoch 63/200\n",
            "51/51 [==============================] - 24s 476ms/step - loss: 0.5451 - accuracy: 0.7960 - val_loss: 2.0704 - val_accuracy: 0.4461\n",
            "Epoch 64/200\n",
            "51/51 [==============================] - 24s 476ms/step - loss: 0.5334 - accuracy: 0.8006 - val_loss: 1.1819 - val_accuracy: 0.6159\n",
            "Epoch 65/200\n",
            "51/51 [==============================] - 25s 485ms/step - loss: 0.4963 - accuracy: 0.8149 - val_loss: 1.2506 - val_accuracy: 0.5874\n",
            "Epoch 66/200\n",
            "51/51 [==============================] - 24s 475ms/step - loss: 0.5098 - accuracy: 0.8112 - val_loss: 1.5290 - val_accuracy: 0.5093\n",
            "Epoch 67/200\n",
            "51/51 [==============================] - 25s 486ms/step - loss: 0.4878 - accuracy: 0.8186 - val_loss: 1.5689 - val_accuracy: 0.5576\n",
            "Epoch 68/200\n",
            "51/51 [==============================] - 25s 486ms/step - loss: 0.4766 - accuracy: 0.8310 - val_loss: 1.9106 - val_accuracy: 0.4857\n",
            "Epoch 69/200\n",
            "51/51 [==============================] - 25s 487ms/step - loss: 0.4718 - accuracy: 0.8319 - val_loss: 2.0743 - val_accuracy: 0.4796\n",
            "Epoch 70/200\n",
            "51/51 [==============================] - 25s 485ms/step - loss: 0.4600 - accuracy: 0.8329 - val_loss: 0.8422 - val_accuracy: 0.6927\n",
            "Epoch 71/200\n",
            "51/51 [==============================] - 24s 476ms/step - loss: 0.4599 - accuracy: 0.8310 - val_loss: 1.7154 - val_accuracy: 0.5378\n",
            "Epoch 72/200\n",
            "51/51 [==============================] - 25s 484ms/step - loss: 0.4437 - accuracy: 0.8353 - val_loss: 0.9031 - val_accuracy: 0.6679\n",
            "Epoch 73/200\n",
            "51/51 [==============================] - 25s 484ms/step - loss: 0.4519 - accuracy: 0.8366 - val_loss: 1.5564 - val_accuracy: 0.5960\n",
            "Epoch 74/200\n",
            "51/51 [==============================] - 25s 484ms/step - loss: 0.4147 - accuracy: 0.8530 - val_loss: 1.0023 - val_accuracy: 0.6691\n",
            "Epoch 75/200\n",
            "51/51 [==============================] - 24s 476ms/step - loss: 0.4445 - accuracy: 0.8335 - val_loss: 0.9554 - val_accuracy: 0.6568\n",
            "Epoch 76/200\n",
            "51/51 [==============================] - 25s 486ms/step - loss: 0.4036 - accuracy: 0.8555 - val_loss: 0.8920 - val_accuracy: 0.6691\n",
            "Epoch 77/200\n",
            "51/51 [==============================] - 24s 477ms/step - loss: 0.4005 - accuracy: 0.8509 - val_loss: 2.2532 - val_accuracy: 0.4771\n",
            "Epoch 78/200\n",
            "51/51 [==============================] - 25s 489ms/step - loss: 0.3962 - accuracy: 0.8564 - val_loss: 1.2811 - val_accuracy: 0.5713\n",
            "Epoch 79/200\n",
            "51/51 [==============================] - 24s 476ms/step - loss: 0.4099 - accuracy: 0.8481 - val_loss: 1.2371 - val_accuracy: 0.6134\n",
            "Epoch 80/200\n",
            "51/51 [==============================] - 24s 476ms/step - loss: 0.3878 - accuracy: 0.8546 - val_loss: 1.2275 - val_accuracy: 0.6270\n",
            "Epoch 81/200\n",
            "51/51 [==============================] - 24s 476ms/step - loss: 0.3971 - accuracy: 0.8558 - val_loss: 1.8937 - val_accuracy: 0.5130\n",
            "Epoch 82/200\n",
            "51/51 [==============================] - 25s 484ms/step - loss: 0.3753 - accuracy: 0.8592 - val_loss: 1.2907 - val_accuracy: 0.6059\n",
            "Epoch 83/200\n",
            "51/51 [==============================] - 25s 486ms/step - loss: 0.3463 - accuracy: 0.8766 - val_loss: 1.5985 - val_accuracy: 0.5948\n",
            "Epoch 84/200\n",
            "51/51 [==============================] - 24s 477ms/step - loss: 0.3474 - accuracy: 0.8713 - val_loss: 1.4458 - val_accuracy: 0.6059\n",
            "Epoch 85/200\n",
            "51/51 [==============================] - 24s 477ms/step - loss: 0.3670 - accuracy: 0.8636 - val_loss: 1.2591 - val_accuracy: 0.6258\n",
            "Epoch 86/200\n",
            "51/51 [==============================] - 24s 477ms/step - loss: 0.3439 - accuracy: 0.8722 - val_loss: 1.2011 - val_accuracy: 0.6369\n",
            "Epoch 87/200\n",
            "51/51 [==============================] - 25s 484ms/step - loss: 0.3311 - accuracy: 0.8794 - val_loss: 1.2709 - val_accuracy: 0.6221\n",
            "Epoch 88/200\n",
            "51/51 [==============================] - 24s 476ms/step - loss: 0.3335 - accuracy: 0.8763 - val_loss: 1.6185 - val_accuracy: 0.5725\n",
            "Epoch 89/200\n",
            "51/51 [==============================] - 25s 485ms/step - loss: 0.3136 - accuracy: 0.8862 - val_loss: 1.1220 - val_accuracy: 0.6506\n",
            "Epoch 90/200\n",
            "51/51 [==============================] - 25s 487ms/step - loss: 0.2987 - accuracy: 0.8887 - val_loss: 1.2739 - val_accuracy: 0.6196\n",
            "Epoch 91/200\n",
            "51/51 [==============================] - 24s 476ms/step - loss: 0.3137 - accuracy: 0.8843 - val_loss: 1.2026 - val_accuracy: 0.6233\n",
            "Epoch 92/200\n",
            "51/51 [==============================] - 24s 476ms/step - loss: 0.3000 - accuracy: 0.8878 - val_loss: 1.2525 - val_accuracy: 0.6493\n",
            "Epoch 93/200\n",
            "51/51 [==============================] - 25s 486ms/step - loss: 0.2971 - accuracy: 0.8896 - val_loss: 1.0678 - val_accuracy: 0.6840\n",
            "Epoch 94/200\n",
            "51/51 [==============================] - 25s 486ms/step - loss: 0.2859 - accuracy: 0.8961 - val_loss: 1.2756 - val_accuracy: 0.6183\n",
            "Epoch 95/200\n",
            "51/51 [==============================] - 25s 485ms/step - loss: 0.2852 - accuracy: 0.9026 - val_loss: 1.1649 - val_accuracy: 0.6617\n",
            "Epoch 96/200\n",
            "51/51 [==============================] - 24s 476ms/step - loss: 0.2721 - accuracy: 0.9011 - val_loss: 0.9864 - val_accuracy: 0.6753\n",
            "Epoch 97/200\n",
            "51/51 [==============================] - 24s 477ms/step - loss: 0.2692 - accuracy: 0.9026 - val_loss: 1.3235 - val_accuracy: 0.6406\n",
            "Epoch 98/200\n",
            "51/51 [==============================] - 25s 486ms/step - loss: 0.2600 - accuracy: 0.9070 - val_loss: 1.0449 - val_accuracy: 0.6592\n",
            "Epoch 99/200\n",
            "51/51 [==============================] - 25s 485ms/step - loss: 0.2328 - accuracy: 0.9219 - val_loss: 1.3475 - val_accuracy: 0.6555\n",
            "Epoch 100/200\n",
            "51/51 [==============================] - 24s 476ms/step - loss: 0.2426 - accuracy: 0.9129 - val_loss: 2.0514 - val_accuracy: 0.5502\n",
            "Epoch 101/200\n",
            "51/51 [==============================] - 24s 475ms/step - loss: 0.2491 - accuracy: 0.9098 - val_loss: 1.2387 - val_accuracy: 0.6568\n",
            "Epoch 102/200\n",
            "51/51 [==============================] - 24s 476ms/step - loss: 0.2256 - accuracy: 0.9169 - val_loss: 2.4789 - val_accuracy: 0.4857\n",
            "Epoch 103/200\n",
            "51/51 [==============================] - 25s 486ms/step - loss: 0.2196 - accuracy: 0.9253 - val_loss: 1.5422 - val_accuracy: 0.5874\n",
            "Epoch 104/200\n",
            "51/51 [==============================] - 24s 475ms/step - loss: 0.2412 - accuracy: 0.9178 - val_loss: 1.9161 - val_accuracy: 0.6072\n",
            "Epoch 105/200\n",
            "51/51 [==============================] - 24s 475ms/step - loss: 0.2180 - accuracy: 0.9197 - val_loss: 1.2101 - val_accuracy: 0.6506\n",
            "Epoch 106/200\n",
            "51/51 [==============================] - 25s 487ms/step - loss: 0.2004 - accuracy: 0.9309 - val_loss: 0.8723 - val_accuracy: 0.7026\n",
            "Epoch 107/200\n",
            "51/51 [==============================] - 24s 476ms/step - loss: 0.1942 - accuracy: 0.9299 - val_loss: 1.0243 - val_accuracy: 0.7063\n",
            "Epoch 108/200\n",
            "51/51 [==============================] - 25s 485ms/step - loss: 0.1986 - accuracy: 0.9324 - val_loss: 1.5553 - val_accuracy: 0.6344\n",
            "Epoch 109/200\n",
            "51/51 [==============================] - 24s 475ms/step - loss: 0.1979 - accuracy: 0.9281 - val_loss: 1.0694 - val_accuracy: 0.6976\n",
            "Epoch 110/200\n",
            "51/51 [==============================] - 24s 475ms/step - loss: 0.2044 - accuracy: 0.9262 - val_loss: 1.1483 - val_accuracy: 0.6493\n",
            "Epoch 111/200\n",
            "51/51 [==============================] - 25s 485ms/step - loss: 0.1862 - accuracy: 0.9330 - val_loss: 1.6910 - val_accuracy: 0.6084\n",
            "Epoch 112/200\n",
            "51/51 [==============================] - 25s 484ms/step - loss: 0.1744 - accuracy: 0.9405 - val_loss: 1.3969 - val_accuracy: 0.6295\n",
            "Epoch 113/200\n",
            "51/51 [==============================] - 24s 475ms/step - loss: 0.1806 - accuracy: 0.9352 - val_loss: 1.0838 - val_accuracy: 0.6667\n",
            "Epoch 114/200\n",
            "51/51 [==============================] - 24s 475ms/step - loss: 0.1797 - accuracy: 0.9355 - val_loss: 1.0239 - val_accuracy: 0.6964\n",
            "Epoch 115/200\n",
            "51/51 [==============================] - 24s 475ms/step - loss: 0.1817 - accuracy: 0.9336 - val_loss: 1.4376 - val_accuracy: 0.5985\n",
            "Epoch 116/200\n",
            "51/51 [==============================] - 25s 486ms/step - loss: 0.1596 - accuracy: 0.9442 - val_loss: 1.0584 - val_accuracy: 0.6840\n",
            "Epoch 117/200\n",
            "51/51 [==============================] - 24s 475ms/step - loss: 0.1566 - accuracy: 0.9439 - val_loss: 1.0818 - val_accuracy: 0.6989\n",
            "Epoch 118/200\n",
            "51/51 [==============================] - 24s 475ms/step - loss: 0.1748 - accuracy: 0.9380 - val_loss: 0.9239 - val_accuracy: 0.6939\n",
            "Epoch 119/200\n",
            "51/51 [==============================] - 25s 486ms/step - loss: 0.1545 - accuracy: 0.9460 - val_loss: 1.2364 - val_accuracy: 0.6853\n",
            "Epoch 120/200\n",
            "51/51 [==============================] - 25s 486ms/step - loss: 0.1466 - accuracy: 0.9479 - val_loss: 1.2658 - val_accuracy: 0.6803\n",
            "Epoch 121/200\n",
            "51/51 [==============================] - 25s 485ms/step - loss: 0.1356 - accuracy: 0.9594 - val_loss: 1.3580 - val_accuracy: 0.6444\n",
            "Epoch 122/200\n",
            "51/51 [==============================] - 24s 477ms/step - loss: 0.1286 - accuracy: 0.9507 - val_loss: 1.0870 - val_accuracy: 0.6964\n",
            "Epoch 123/200\n",
            "51/51 [==============================] - 24s 477ms/step - loss: 0.1686 - accuracy: 0.9371 - val_loss: 2.1814 - val_accuracy: 0.5440\n",
            "Epoch 124/200\n",
            "51/51 [==============================] - 24s 476ms/step - loss: 0.1354 - accuracy: 0.9522 - val_loss: 0.9840 - val_accuracy: 0.6976\n",
            "Epoch 125/200\n",
            "51/51 [==============================] - 24s 475ms/step - loss: 0.1336 - accuracy: 0.9529 - val_loss: 1.0453 - val_accuracy: 0.7237\n",
            "Epoch 126/200\n",
            "51/51 [==============================] - 24s 476ms/step - loss: 0.1230 - accuracy: 0.9566 - val_loss: 0.7968 - val_accuracy: 0.7509\n",
            "Epoch 127/200\n",
            "51/51 [==============================] - 24s 476ms/step - loss: 0.1348 - accuracy: 0.9541 - val_loss: 1.0404 - val_accuracy: 0.6865\n",
            "Epoch 128/200\n",
            "51/51 [==============================] - 24s 476ms/step - loss: 0.1278 - accuracy: 0.9575 - val_loss: 0.9970 - val_accuracy: 0.6976\n",
            "Epoch 129/200\n",
            "51/51 [==============================] - 25s 484ms/step - loss: 0.1086 - accuracy: 0.9637 - val_loss: 1.1393 - val_accuracy: 0.6642\n",
            "Epoch 130/200\n",
            "51/51 [==============================] - 24s 476ms/step - loss: 0.1182 - accuracy: 0.9594 - val_loss: 0.8593 - val_accuracy: 0.7571\n",
            "Epoch 131/200\n",
            "51/51 [==============================] - 24s 477ms/step - loss: 0.1173 - accuracy: 0.9628 - val_loss: 1.2424 - val_accuracy: 0.6828\n",
            "Epoch 132/200\n",
            "51/51 [==============================] - 24s 477ms/step - loss: 0.1198 - accuracy: 0.9600 - val_loss: 1.6795 - val_accuracy: 0.6369\n",
            "Epoch 133/200\n",
            "51/51 [==============================] - 25s 485ms/step - loss: 0.1104 - accuracy: 0.9653 - val_loss: 1.4570 - val_accuracy: 0.6691\n",
            "Epoch 134/200\n",
            "51/51 [==============================] - 24s 476ms/step - loss: 0.1107 - accuracy: 0.9591 - val_loss: 1.7811 - val_accuracy: 0.6233\n",
            "Epoch 135/200\n",
            "51/51 [==============================] - 24s 474ms/step - loss: 0.1047 - accuracy: 0.9634 - val_loss: 1.1755 - val_accuracy: 0.6828\n",
            "Epoch 136/200\n",
            "51/51 [==============================] - 25s 486ms/step - loss: 0.1032 - accuracy: 0.9671 - val_loss: 1.4683 - val_accuracy: 0.6283\n",
            "Epoch 137/200\n",
            "51/51 [==============================] - 24s 475ms/step - loss: 0.1049 - accuracy: 0.9659 - val_loss: 1.0929 - val_accuracy: 0.6753\n",
            "Epoch 138/200\n",
            "51/51 [==============================] - 25s 486ms/step - loss: 0.0965 - accuracy: 0.9693 - val_loss: 1.9623 - val_accuracy: 0.5452\n",
            "Epoch 139/200\n",
            "51/51 [==============================] - 25s 485ms/step - loss: 0.0858 - accuracy: 0.9736 - val_loss: 1.2132 - val_accuracy: 0.6865\n",
            "Epoch 140/200\n",
            "51/51 [==============================] - 24s 477ms/step - loss: 0.0996 - accuracy: 0.9643 - val_loss: 0.7994 - val_accuracy: 0.7472\n",
            "Epoch 141/200\n",
            "51/51 [==============================] - 24s 477ms/step - loss: 0.1039 - accuracy: 0.9631 - val_loss: 1.9047 - val_accuracy: 0.6183\n",
            "Epoch 142/200\n",
            "51/51 [==============================] - 24s 477ms/step - loss: 0.0954 - accuracy: 0.9693 - val_loss: 1.0476 - val_accuracy: 0.7026\n",
            "Epoch 143/200\n",
            "51/51 [==============================] - 24s 476ms/step - loss: 0.0798 - accuracy: 0.9736 - val_loss: 1.2455 - val_accuracy: 0.6493\n",
            "Epoch 144/200\n",
            "51/51 [==============================] - 24s 475ms/step - loss: 0.0855 - accuracy: 0.9715 - val_loss: 1.3489 - val_accuracy: 0.6679\n",
            "Epoch 145/200\n",
            "51/51 [==============================] - 24s 476ms/step - loss: 0.0907 - accuracy: 0.9705 - val_loss: 1.5083 - val_accuracy: 0.6568\n",
            "Epoch 146/200\n",
            "51/51 [==============================] - 24s 476ms/step - loss: 0.0954 - accuracy: 0.9699 - val_loss: 1.4542 - val_accuracy: 0.6592\n",
            "Epoch 147/200\n",
            "51/51 [==============================] - 24s 476ms/step - loss: 0.0853 - accuracy: 0.9724 - val_loss: 1.0049 - val_accuracy: 0.7274\n",
            "Epoch 148/200\n",
            "51/51 [==============================] - 25s 493ms/step - loss: 0.0746 - accuracy: 0.9780 - val_loss: 1.2780 - val_accuracy: 0.6803\n",
            "Epoch 149/200\n",
            "51/51 [==============================] - 24s 476ms/step - loss: 0.0748 - accuracy: 0.9752 - val_loss: 1.3058 - val_accuracy: 0.6729\n",
            "Epoch 150/200\n",
            "51/51 [==============================] - 24s 477ms/step - loss: 0.0870 - accuracy: 0.9724 - val_loss: 1.1218 - val_accuracy: 0.7076\n",
            "Epoch 151/200\n",
            "51/51 [==============================] - 25s 486ms/step - loss: 0.0688 - accuracy: 0.9805 - val_loss: 0.9546 - val_accuracy: 0.7373\n",
            "Epoch 152/200\n",
            "51/51 [==============================] - 24s 477ms/step - loss: 0.0820 - accuracy: 0.9705 - val_loss: 1.2964 - val_accuracy: 0.6667\n",
            "Epoch 153/200\n",
            "51/51 [==============================] - 24s 476ms/step - loss: 0.0868 - accuracy: 0.9678 - val_loss: 1.0512 - val_accuracy: 0.7138\n",
            "Epoch 154/200\n",
            "51/51 [==============================] - 24s 476ms/step - loss: 0.0657 - accuracy: 0.9795 - val_loss: 0.9865 - val_accuracy: 0.7063\n",
            "Epoch 155/200\n",
            "51/51 [==============================] - 24s 477ms/step - loss: 0.0676 - accuracy: 0.9789 - val_loss: 1.0873 - val_accuracy: 0.7001\n",
            "Epoch 156/200\n",
            "51/51 [==============================] - 24s 476ms/step - loss: 0.0725 - accuracy: 0.9771 - val_loss: 0.8977 - val_accuracy: 0.7522\n",
            "Epoch 157/200\n",
            "51/51 [==============================] - 25s 485ms/step - loss: 0.0519 - accuracy: 0.9860 - val_loss: 1.1908 - val_accuracy: 0.7001\n",
            "Epoch 158/200\n",
            "51/51 [==============================] - 24s 476ms/step - loss: 0.0746 - accuracy: 0.9743 - val_loss: 1.1310 - val_accuracy: 0.7200\n",
            "Epoch 159/200\n",
            "51/51 [==============================] - 24s 476ms/step - loss: 0.0555 - accuracy: 0.9839 - val_loss: 1.2365 - val_accuracy: 0.6952\n",
            "Epoch 160/200\n",
            "51/51 [==============================] - 24s 477ms/step - loss: 0.0632 - accuracy: 0.9817 - val_loss: 0.9329 - val_accuracy: 0.7423\n",
            "Epoch 161/200\n",
            "51/51 [==============================] - 24s 477ms/step - loss: 0.0614 - accuracy: 0.9802 - val_loss: 1.0737 - val_accuracy: 0.6815\n",
            "Epoch 162/200\n",
            "51/51 [==============================] - 24s 477ms/step - loss: 0.0613 - accuracy: 0.9783 - val_loss: 1.1135 - val_accuracy: 0.7348\n",
            "Epoch 163/200\n",
            "51/51 [==============================] - 24s 476ms/step - loss: 0.0484 - accuracy: 0.9845 - val_loss: 1.3216 - val_accuracy: 0.6766\n",
            "Epoch 164/200\n",
            "51/51 [==============================] - 24s 477ms/step - loss: 0.0580 - accuracy: 0.9820 - val_loss: 1.1064 - val_accuracy: 0.7113\n",
            "Epoch 165/200\n",
            "51/51 [==============================] - 24s 477ms/step - loss: 0.0519 - accuracy: 0.9848 - val_loss: 1.1195 - val_accuracy: 0.6890\n",
            "Epoch 166/200\n",
            "51/51 [==============================] - 25s 484ms/step - loss: 0.0483 - accuracy: 0.9867 - val_loss: 1.3520 - val_accuracy: 0.6890\n",
            "Epoch 167/200\n",
            "51/51 [==============================] - 24s 477ms/step - loss: 0.0559 - accuracy: 0.9823 - val_loss: 1.3207 - val_accuracy: 0.7014\n",
            "Epoch 168/200\n",
            "51/51 [==============================] - 24s 476ms/step - loss: 0.0605 - accuracy: 0.9777 - val_loss: 1.4322 - val_accuracy: 0.6654\n",
            "Epoch 169/200\n",
            "51/51 [==============================] - 24s 475ms/step - loss: 0.0563 - accuracy: 0.9823 - val_loss: 1.3403 - val_accuracy: 0.6543\n",
            "Epoch 170/200\n",
            "51/51 [==============================] - 24s 475ms/step - loss: 0.0614 - accuracy: 0.9811 - val_loss: 1.2976 - val_accuracy: 0.6741\n",
            "Epoch 171/200\n",
            "51/51 [==============================] - 24s 476ms/step - loss: 0.0487 - accuracy: 0.9851 - val_loss: 1.1465 - val_accuracy: 0.6952\n",
            "Epoch 172/200\n",
            "51/51 [==============================] - 24s 476ms/step - loss: 0.0657 - accuracy: 0.9783 - val_loss: 1.4630 - val_accuracy: 0.6853\n",
            "Epoch 173/200\n",
            "51/51 [==============================] - 25s 488ms/step - loss: 0.0411 - accuracy: 0.9873 - val_loss: 1.2348 - val_accuracy: 0.6939\n",
            "Epoch 174/200\n",
            "51/51 [==============================] - 24s 477ms/step - loss: 0.0491 - accuracy: 0.9833 - val_loss: 1.5651 - val_accuracy: 0.6394\n",
            "Epoch 175/200\n",
            "51/51 [==============================] - 24s 477ms/step - loss: 0.0446 - accuracy: 0.9864 - val_loss: 1.2644 - val_accuracy: 0.7076\n",
            "Epoch 176/200\n",
            "51/51 [==============================] - 25s 487ms/step - loss: 0.0394 - accuracy: 0.9882 - val_loss: 0.9803 - val_accuracy: 0.7621\n",
            "Epoch 177/200\n",
            "51/51 [==============================] - 25s 487ms/step - loss: 0.0407 - accuracy: 0.9885 - val_loss: 1.7777 - val_accuracy: 0.6654\n",
            "Epoch 178/200\n",
            "51/51 [==============================] - 24s 476ms/step - loss: 0.0471 - accuracy: 0.9857 - val_loss: 1.3534 - val_accuracy: 0.6877\n",
            "Epoch 179/200\n",
            "51/51 [==============================] - 24s 476ms/step - loss: 0.0532 - accuracy: 0.9808 - val_loss: 2.5686 - val_accuracy: 0.6047\n",
            "Epoch 180/200\n",
            "51/51 [==============================] - 24s 475ms/step - loss: 0.0386 - accuracy: 0.9879 - val_loss: 1.8172 - val_accuracy: 0.6344\n",
            "Epoch 181/200\n",
            "51/51 [==============================] - 24s 476ms/step - loss: 0.0508 - accuracy: 0.9836 - val_loss: 1.1885 - val_accuracy: 0.7125\n",
            "Epoch 182/200\n",
            "51/51 [==============================] - 24s 475ms/step - loss: 0.0514 - accuracy: 0.9820 - val_loss: 1.5162 - val_accuracy: 0.6766\n",
            "Epoch 183/200\n",
            "51/51 [==============================] - 24s 476ms/step - loss: 0.0419 - accuracy: 0.9870 - val_loss: 1.0396 - val_accuracy: 0.7485\n",
            "Epoch 184/200\n",
            "51/51 [==============================] - 24s 477ms/step - loss: 0.0452 - accuracy: 0.9867 - val_loss: 0.9261 - val_accuracy: 0.7410\n",
            "Epoch 185/200\n",
            "51/51 [==============================] - 24s 476ms/step - loss: 0.0493 - accuracy: 0.9848 - val_loss: 1.4303 - val_accuracy: 0.6580\n",
            "Epoch 186/200\n",
            "51/51 [==============================] - 24s 476ms/step - loss: 0.0479 - accuracy: 0.9820 - val_loss: 1.0756 - val_accuracy: 0.7423\n",
            "Epoch 187/200\n",
            "51/51 [==============================] - 25s 486ms/step - loss: 0.0384 - accuracy: 0.9895 - val_loss: 1.2324 - val_accuracy: 0.7113\n",
            "Epoch 188/200\n",
            "51/51 [==============================] - 24s 475ms/step - loss: 0.0417 - accuracy: 0.9864 - val_loss: 2.7315 - val_accuracy: 0.5366\n",
            "Epoch 189/200\n",
            "51/51 [==============================] - 24s 477ms/step - loss: 0.0415 - accuracy: 0.9864 - val_loss: 2.0929 - val_accuracy: 0.5774\n",
            "Epoch 190/200\n",
            "51/51 [==============================] - 25s 487ms/step - loss: 0.0362 - accuracy: 0.9901 - val_loss: 1.0376 - val_accuracy: 0.7509\n",
            "Epoch 191/200\n",
            "51/51 [==============================] - 24s 475ms/step - loss: 0.0370 - accuracy: 0.9891 - val_loss: 0.9509 - val_accuracy: 0.7485\n",
            "Epoch 192/200\n",
            "51/51 [==============================] - 24s 475ms/step - loss: 0.0372 - accuracy: 0.9891 - val_loss: 1.1724 - val_accuracy: 0.7138\n",
            "Epoch 193/200\n",
            "51/51 [==============================] - 24s 475ms/step - loss: 0.0479 - accuracy: 0.9842 - val_loss: 1.4127 - val_accuracy: 0.6629\n",
            "Epoch 194/200\n",
            "51/51 [==============================] - 24s 475ms/step - loss: 0.0358 - accuracy: 0.9882 - val_loss: 1.1762 - val_accuracy: 0.7200\n",
            "Epoch 195/200\n",
            "51/51 [==============================] - 25s 487ms/step - loss: 0.0284 - accuracy: 0.9904 - val_loss: 1.3862 - val_accuracy: 0.6791\n",
            "Epoch 196/200\n",
            "51/51 [==============================] - 24s 475ms/step - loss: 0.0354 - accuracy: 0.9879 - val_loss: 1.6065 - val_accuracy: 0.6654\n",
            "Epoch 197/200\n",
            "51/51 [==============================] - 24s 477ms/step - loss: 0.0360 - accuracy: 0.9895 - val_loss: 1.0574 - val_accuracy: 0.7051\n",
            "Epoch 198/200\n",
            "51/51 [==============================] - 24s 477ms/step - loss: 0.0361 - accuracy: 0.9898 - val_loss: 1.6169 - val_accuracy: 0.6865\n",
            "Epoch 199/200\n",
            "51/51 [==============================] - 25s 487ms/step - loss: 0.0228 - accuracy: 0.9944 - val_loss: 1.1874 - val_accuracy: 0.7249\n",
            "Epoch 200/200\n",
            "51/51 [==============================] - 24s 477ms/step - loss: 0.0459 - accuracy: 0.9839 - val_loss: 1.1084 - val_accuracy: 0.7175\n"
          ]
        }
      ]
    },
    {
      "cell_type": "code",
      "source": [
        "model.save(file_path_model+'[CNN-LSTM]Model.h5')\n",
        "model.save_weights(file_path_model+'[CNN-LSTM]Model_Weights.h5')"
      ],
      "metadata": {
        "id": "s-iarzQeWUBm"
      },
      "execution_count": null,
      "outputs": []
    },
    {
      "cell_type": "code",
      "source": [
        "model.evaluate(X_test,y_test)"
      ],
      "metadata": {
        "id": "ZBQLG32TWNBC",
        "colab": {
          "base_uri": "https://localhost:8080/"
        },
        "outputId": "80cad285-f914-44d3-da0f-8cc93b3e7f42"
      },
      "execution_count": null,
      "outputs": [
        {
          "output_type": "stream",
          "name": "stdout",
          "text": [
            "26/26 [==============================] - 3s 83ms/step - loss: 1.1084 - accuracy: 0.7175\n"
          ]
        },
        {
          "output_type": "execute_result",
          "data": {
            "text/plain": [
              "[1.1083580255508423, 0.7174721360206604]"
            ]
          },
          "metadata": {},
          "execution_count": 13
        }
      ]
    },
    {
      "cell_type": "code",
      "source": [
        "y_pred=model.predict(X_test)\n",
        "y_classes = y_pred.argmax(axis=-1)"
      ],
      "metadata": {
        "id": "mo-g0I30WPMm"
      },
      "execution_count": null,
      "outputs": []
    },
    {
      "cell_type": "code",
      "source": [
        "np.unique(y_classes)"
      ],
      "metadata": {
        "id": "5V0pw4UPWRKG",
        "colab": {
          "base_uri": "https://localhost:8080/"
        },
        "outputId": "d9a994ba-c3bc-4f93-e905-9d596cbad9fd"
      },
      "execution_count": null,
      "outputs": [
        {
          "output_type": "execute_result",
          "data": {
            "text/plain": [
              "array([0, 1, 2, 3, 4, 5, 6])"
            ]
          },
          "metadata": {},
          "execution_count": 15
        }
      ]
    },
    {
      "cell_type": "code",
      "source": [
        "history={}\n",
        "history[\"history\"] = pd.read_csv(file_path_model+'source_history.csv')\n",
        "history[\"history\"].head()"
      ],
      "metadata": {
        "id": "PQdU57vXWSyD",
        "colab": {
          "base_uri": "https://localhost:8080/",
          "height": 206
        },
        "outputId": "1e30ffa8-b6e5-4b9f-9255-e137dbd8377a"
      },
      "execution_count": null,
      "outputs": [
        {
          "output_type": "execute_result",
          "data": {
            "text/plain": [
              "   epoch  accuracy      loss  val_accuracy  val_loss\n",
              "0      0  0.156899  1.953249      0.137546  2.180119\n",
              "1      1  0.229147  1.861719      0.151177  2.179495\n",
              "2      2  0.287752  1.758672      0.223048  1.830642\n",
              "3      3  0.318450  1.680804      0.213135  2.181459\n",
              "4      4  0.338605  1.622225      0.348203  1.785731"
            ],
            "text/html": [
              "\n",
              "  <div id=\"df-b7b02de4-b9ab-4e8c-9f93-5572fe886d9d\">\n",
              "    <div class=\"colab-df-container\">\n",
              "      <div>\n",
              "<style scoped>\n",
              "    .dataframe tbody tr th:only-of-type {\n",
              "        vertical-align: middle;\n",
              "    }\n",
              "\n",
              "    .dataframe tbody tr th {\n",
              "        vertical-align: top;\n",
              "    }\n",
              "\n",
              "    .dataframe thead th {\n",
              "        text-align: right;\n",
              "    }\n",
              "</style>\n",
              "<table border=\"1\" class=\"dataframe\">\n",
              "  <thead>\n",
              "    <tr style=\"text-align: right;\">\n",
              "      <th></th>\n",
              "      <th>epoch</th>\n",
              "      <th>accuracy</th>\n",
              "      <th>loss</th>\n",
              "      <th>val_accuracy</th>\n",
              "      <th>val_loss</th>\n",
              "    </tr>\n",
              "  </thead>\n",
              "  <tbody>\n",
              "    <tr>\n",
              "      <th>0</th>\n",
              "      <td>0</td>\n",
              "      <td>0.156899</td>\n",
              "      <td>1.953249</td>\n",
              "      <td>0.137546</td>\n",
              "      <td>2.180119</td>\n",
              "    </tr>\n",
              "    <tr>\n",
              "      <th>1</th>\n",
              "      <td>1</td>\n",
              "      <td>0.229147</td>\n",
              "      <td>1.861719</td>\n",
              "      <td>0.151177</td>\n",
              "      <td>2.179495</td>\n",
              "    </tr>\n",
              "    <tr>\n",
              "      <th>2</th>\n",
              "      <td>2</td>\n",
              "      <td>0.287752</td>\n",
              "      <td>1.758672</td>\n",
              "      <td>0.223048</td>\n",
              "      <td>1.830642</td>\n",
              "    </tr>\n",
              "    <tr>\n",
              "      <th>3</th>\n",
              "      <td>3</td>\n",
              "      <td>0.318450</td>\n",
              "      <td>1.680804</td>\n",
              "      <td>0.213135</td>\n",
              "      <td>2.181459</td>\n",
              "    </tr>\n",
              "    <tr>\n",
              "      <th>4</th>\n",
              "      <td>4</td>\n",
              "      <td>0.338605</td>\n",
              "      <td>1.622225</td>\n",
              "      <td>0.348203</td>\n",
              "      <td>1.785731</td>\n",
              "    </tr>\n",
              "  </tbody>\n",
              "</table>\n",
              "</div>\n",
              "      <button class=\"colab-df-convert\" onclick=\"convertToInteractive('df-b7b02de4-b9ab-4e8c-9f93-5572fe886d9d')\"\n",
              "              title=\"Convert this dataframe to an interactive table.\"\n",
              "              style=\"display:none;\">\n",
              "        \n",
              "  <svg xmlns=\"http://www.w3.org/2000/svg\" height=\"24px\"viewBox=\"0 0 24 24\"\n",
              "       width=\"24px\">\n",
              "    <path d=\"M0 0h24v24H0V0z\" fill=\"none\"/>\n",
              "    <path d=\"M18.56 5.44l.94 2.06.94-2.06 2.06-.94-2.06-.94-.94-2.06-.94 2.06-2.06.94zm-11 1L8.5 8.5l.94-2.06 2.06-.94-2.06-.94L8.5 2.5l-.94 2.06-2.06.94zm10 10l.94 2.06.94-2.06 2.06-.94-2.06-.94-.94-2.06-.94 2.06-2.06.94z\"/><path d=\"M17.41 7.96l-1.37-1.37c-.4-.4-.92-.59-1.43-.59-.52 0-1.04.2-1.43.59L10.3 9.45l-7.72 7.72c-.78.78-.78 2.05 0 2.83L4 21.41c.39.39.9.59 1.41.59.51 0 1.02-.2 1.41-.59l7.78-7.78 2.81-2.81c.8-.78.8-2.07 0-2.86zM5.41 20L4 18.59l7.72-7.72 1.47 1.35L5.41 20z\"/>\n",
              "  </svg>\n",
              "      </button>\n",
              "      \n",
              "  <style>\n",
              "    .colab-df-container {\n",
              "      display:flex;\n",
              "      flex-wrap:wrap;\n",
              "      gap: 12px;\n",
              "    }\n",
              "\n",
              "    .colab-df-convert {\n",
              "      background-color: #E8F0FE;\n",
              "      border: none;\n",
              "      border-radius: 50%;\n",
              "      cursor: pointer;\n",
              "      display: none;\n",
              "      fill: #1967D2;\n",
              "      height: 32px;\n",
              "      padding: 0 0 0 0;\n",
              "      width: 32px;\n",
              "    }\n",
              "\n",
              "    .colab-df-convert:hover {\n",
              "      background-color: #E2EBFA;\n",
              "      box-shadow: 0px 1px 2px rgba(60, 64, 67, 0.3), 0px 1px 3px 1px rgba(60, 64, 67, 0.15);\n",
              "      fill: #174EA6;\n",
              "    }\n",
              "\n",
              "    [theme=dark] .colab-df-convert {\n",
              "      background-color: #3B4455;\n",
              "      fill: #D2E3FC;\n",
              "    }\n",
              "\n",
              "    [theme=dark] .colab-df-convert:hover {\n",
              "      background-color: #434B5C;\n",
              "      box-shadow: 0px 1px 3px 1px rgba(0, 0, 0, 0.15);\n",
              "      filter: drop-shadow(0px 1px 2px rgba(0, 0, 0, 0.3));\n",
              "      fill: #FFFFFF;\n",
              "    }\n",
              "  </style>\n",
              "\n",
              "      <script>\n",
              "        const buttonEl =\n",
              "          document.querySelector('#df-b7b02de4-b9ab-4e8c-9f93-5572fe886d9d button.colab-df-convert');\n",
              "        buttonEl.style.display =\n",
              "          google.colab.kernel.accessAllowed ? 'block' : 'none';\n",
              "\n",
              "        async function convertToInteractive(key) {\n",
              "          const element = document.querySelector('#df-b7b02de4-b9ab-4e8c-9f93-5572fe886d9d');\n",
              "          const dataTable =\n",
              "            await google.colab.kernel.invokeFunction('convertToInteractive',\n",
              "                                                     [key], {});\n",
              "          if (!dataTable) return;\n",
              "\n",
              "          const docLinkHtml = 'Like what you see? Visit the ' +\n",
              "            '<a target=\"_blank\" href=https://colab.research.google.com/notebooks/data_table.ipynb>data table notebook</a>'\n",
              "            + ' to learn more about interactive tables.';\n",
              "          element.innerHTML = '';\n",
              "          dataTable['output_type'] = 'display_data';\n",
              "          await google.colab.output.renderOutput(dataTable, element);\n",
              "          const docLink = document.createElement('div');\n",
              "          docLink.innerHTML = docLinkHtml;\n",
              "          element.appendChild(docLink);\n",
              "        }\n",
              "      </script>\n",
              "    </div>\n",
              "  </div>\n",
              "  "
            ]
          },
          "metadata": {},
          "execution_count": 17
        }
      ]
    },
    {
      "cell_type": "code",
      "source": [
        "plt.figure(figsize=(25,10))\n",
        "plt.subplot(1,2,1)\n",
        "plt.plot(history['history']['accuracy'],'-b')\n",
        "plt.plot(history['history']['val_accuracy'],'r')\n",
        "plt.legend(['Training accuracy','Testing accuracy'])\n",
        "plt.axis([0, 160, 0, 1])\n",
        "plt.xlabel('Epochs')\n",
        "plt.ylabel('Accuracy')"
      ],
      "metadata": {
        "id": "sAx431i0WYuZ",
        "colab": {
          "base_uri": "https://localhost:8080/",
          "height": 628
        },
        "outputId": "f04e828b-a9ad-4192-c832-98f5df8690c6"
      },
      "execution_count": null,
      "outputs": [
        {
          "output_type": "execute_result",
          "data": {
            "text/plain": [
              "Text(0, 0.5, 'Accuracy')"
            ]
          },
          "metadata": {},
          "execution_count": 18
        },
        {
          "output_type": "display_data",
          "data": {
            "text/plain": [
              "<Figure size 1800x720 with 1 Axes>"
            ],
            "image/png": "[encoded data removed]"
          },
          "metadata": {
            "needs_background": "light"
          }
        }
      ]
    },
    {
      "cell_type": "code",
      "source": [
        "y_test.shape"
      ],
      "metadata": {
        "colab": {
          "base_uri": "https://localhost:8080/"
        },
        "id": "tCrxzZkNVvGh",
        "outputId": "b56bffc6-0c37-474c-c656-2021c83f00a6"
      },
      "execution_count": null,
      "outputs": [
        {
          "output_type": "execute_result",
          "data": {
            "text/plain": [
              "(807, 7)"
            ]
          },
          "metadata": {},
          "execution_count": 19
        }
      ]
    },
    {
      "cell_type": "code",
      "source": [
        "y_pred.shape"
      ],
      "metadata": {
        "colab": {
          "base_uri": "https://localhost:8080/"
        },
        "id": "z3-kUe4BVxRG",
        "outputId": "62fc80a2-42b9-44b6-b1fc-71ed00f67439"
      },
      "execution_count": null,
      "outputs": [
        {
          "output_type": "execute_result",
          "data": {
            "text/plain": [
              "(807, 7)"
            ]
          },
          "metadata": {},
          "execution_count": 20
        }
      ]
    },
    {
      "cell_type": "code",
      "source": [
        "y_pred1=np.around(y_pred)\n",
        "y_pred1"
      ],
      "metadata": {
        "colab": {
          "base_uri": "https://localhost:8080/"
        },
        "id": "6366Lhp7Vy9O",
        "outputId": "7ffdca59-e213-4328-cb86-65c3e89295ba"
      },
      "execution_count": null,
      "outputs": [
        {
          "output_type": "execute_result",
          "data": {
            "text/plain": [
              "array([[0., 0., 0., ..., 1., 0., 0.],\n",
              "       [0., 1., 0., ..., 0., 0., 0.],\n",
              "       [0., 0., 0., ..., 1., 0., 0.],\n",
              "       ...,\n",
              "       [0., 0., 1., ..., 0., 0., 0.],\n",
              "       [1., 0., 0., ..., 0., 0., 0.],\n",
              "       [1., 0., 0., ..., 0., 0., 0.]], dtype=float32)"
            ]
          },
          "metadata": {},
          "execution_count": 21
        }
      ]
    },
    {
      "cell_type": "code",
      "source": [
        "y_pred1.shape"
      ],
      "metadata": {
        "colab": {
          "base_uri": "https://localhost:8080/"
        },
        "id": "1F1rOXm3V81_",
        "outputId": "c9fac47a-e662-4a0c-ab27-964f8b20ce88"
      },
      "execution_count": null,
      "outputs": [
        {
          "output_type": "execute_result",
          "data": {
            "text/plain": [
              "(807, 7)"
            ]
          },
          "metadata": {},
          "execution_count": 22
        }
      ]
    },
    {
      "cell_type": "code",
      "source": [
        "# Importing all necessary libraries\n",
        "from sklearn.metrics import accuracy_score\n",
        "# Calculating the accuracy of classifier\n",
        "print(f\"Accuracy of the classifier is: {accuracy_score(y_test,y_pred1)}\")"
      ],
      "metadata": {
        "colab": {
          "base_uri": "https://localhost:8080/"
        },
        "id": "zv4M8tibFlRz",
        "outputId": "37613cb2-7d55-45cf-8b6f-d11fceae5f14"
      },
      "execution_count": null,
      "outputs": [
        {
          "output_type": "stream",
          "name": "stdout",
          "text": [
            "Accuracy of the classifier is: 0.7063197026022305\n"
          ]
        }
      ]
    },
    {
      "cell_type": "code",
      "source": [
        "gfcc_dict={\"y_test_gfcc\":y_test,\"y_pred_gfcc\":y_pred1}\n",
        "gfcc_dict"
      ],
      "metadata": {
        "colab": {
          "base_uri": "https://localhost:8080/"
        },
        "id": "8YA7zu-OWRTk",
        "outputId": "260b6291-0711-42b8-f617-51c5f7654b76"
      },
      "execution_count": null,
      "outputs": [
        {
          "output_type": "execute_result",
          "data": {
            "text/plain": [
              "{'y_pred_gfcc': array([[0., 0., 0., ..., 1., 0., 0.],\n",
              "        [0., 1., 0., ..., 0., 0., 0.],\n",
              "        [0., 0., 0., ..., 1., 0., 0.],\n",
              "        ...,\n",
              "        [0., 0., 1., ..., 0., 0., 0.],\n",
              "        [1., 0., 0., ..., 0., 0., 0.],\n",
              "        [1., 0., 0., ..., 0., 0., 0.]], dtype=float32),\n",
              " 'y_test_gfcc': array([[0., 0., 0., ..., 1., 0., 0.],\n",
              "        [0., 0., 0., ..., 0., 0., 1.],\n",
              "        [0., 0., 0., ..., 1., 0., 0.],\n",
              "        ...,\n",
              "        [0., 0., 1., ..., 0., 0., 0.],\n",
              "        [0., 0., 0., ..., 0., 0., 1.],\n",
              "        [0., 0., 0., ..., 0., 0., 1.]], dtype=float32)}"
            ]
          },
          "metadata": {},
          "execution_count": 24
        }
      ]
    },
    {
      "cell_type": "code",
      "source": [
        "from sklearn.metrics import precision_score\n",
        "\n",
        "# Calculating the precision score of classifier\n",
        "print(f\"Precision Score of the classifier is: {precision_score(y_test,y_pred1,average='micro')}\")"
      ],
      "metadata": {
        "colab": {
          "base_uri": "https://localhost:8080/"
        },
        "id": "glxrmdx5W1kA",
        "outputId": "0c8b3cbb-ab6d-4434-b9a6-5bb96533b5e5"
      },
      "execution_count": null,
      "outputs": [
        {
          "output_type": "stream",
          "name": "stdout",
          "text": [
            "Precision Score of the classifier is: 0.7298335467349552\n"
          ]
        }
      ]
    },
    {
      "cell_type": "code",
      "source": [
        "from sklearn.metrics import f1_score\n",
        "\n",
        "# Calculating the F1 score of classifier\n",
        "print(f\"F1 Score of the classifier is: {f1_score(y_test, y_pred1,average='micro')}\")"
      ],
      "metadata": {
        "colab": {
          "base_uri": "https://localhost:8080/"
        },
        "id": "PMgk_7v7aIfm",
        "outputId": "a9ab337a-97b6-4e14-abe1-39c9e2044d0d"
      },
      "execution_count": null,
      "outputs": [
        {
          "output_type": "stream",
          "name": "stdout",
          "text": [
            "F1 Score of the classifier is: 0.7178841309823679\n"
          ]
        }
      ]
    },
    {
      "cell_type": "code",
      "source": [
        "y_pred1"
      ],
      "metadata": {
        "colab": {
          "base_uri": "https://localhost:8080/"
        },
        "id": "LfYZqDGtXIOK",
        "outputId": "d431bb6e-b83c-42f6-e750-ed389ea933d3"
      },
      "execution_count": null,
      "outputs": [
        {
          "output_type": "execute_result",
          "data": {
            "text/plain": [
              "array([[0., 0., 0., ..., 1., 0., 0.],\n",
              "       [0., 1., 0., ..., 0., 0., 0.],\n",
              "       [0., 0., 0., ..., 1., 0., 0.],\n",
              "       ...,\n",
              "       [0., 0., 1., ..., 0., 0., 0.],\n",
              "       [1., 0., 0., ..., 0., 0., 0.],\n",
              "       [1., 0., 0., ..., 0., 0., 0.]], dtype=float32)"
            ]
          },
          "metadata": {},
          "execution_count": 27
        }
      ]
    },
    {
      "cell_type": "code",
      "source": [
        "y_test"
      ],
      "metadata": {
        "colab": {
          "base_uri": "https://localhost:8080/"
        },
        "id": "nc5wBhy4XNox",
        "outputId": "b09f29c5-c330-4093-f4a1-054c61ffbbb0"
      },
      "execution_count": null,
      "outputs": [
        {
          "output_type": "execute_result",
          "data": {
            "text/plain": [
              "array([[0., 0., 0., ..., 1., 0., 0.],\n",
              "       [0., 0., 0., ..., 0., 0., 1.],\n",
              "       [0., 0., 0., ..., 1., 0., 0.],\n",
              "       ...,\n",
              "       [0., 0., 1., ..., 0., 0., 0.],\n",
              "       [0., 0., 0., ..., 0., 0., 1.],\n",
              "       [0., 0., 0., ..., 0., 0., 1.]], dtype=float32)"
            ]
          },
          "metadata": {},
          "execution_count": 28
        }
      ]
    },
    {
      "cell_type": "code",
      "source": [
        "y_test"
      ],
      "metadata": {
        "colab": {
          "base_uri": "https://localhost:8080/"
        },
        "id": "tTq6gPQMXPpO",
        "outputId": "f58ae003-cb17-4db0-949c-14af8714e3ca"
      },
      "execution_count": null,
      "outputs": [
        {
          "output_type": "execute_result",
          "data": {
            "text/plain": [
              "array([[0., 0., 0., ..., 1., 0., 0.],\n",
              "       [0., 0., 0., ..., 0., 0., 1.],\n",
              "       [0., 0., 0., ..., 1., 0., 0.],\n",
              "       ...,\n",
              "       [0., 0., 1., ..., 0., 0., 0.],\n",
              "       [0., 0., 0., ..., 0., 0., 1.],\n",
              "       [0., 0., 0., ..., 0., 0., 1.]], dtype=float32)"
            ]
          },
          "metadata": {},
          "execution_count": 29
        }
      ]
    },
    {
      "cell_type": "code",
      "source": [
        "pickle.dump(gfcc_dict, open(file_path_model+'gfcc_dict_values.p', 'wb'))"
      ],
      "metadata": {
        "id": "I907WT-3YJu7"
      },
      "execution_count": null,
      "outputs": []
    },
    {
      "cell_type": "code",
      "source": [
        ""
      ],
      "metadata": {
        "id": "Fmom68hTb1Wr"
      },
      "execution_count": null,
      "outputs": []
    }
  ]
}