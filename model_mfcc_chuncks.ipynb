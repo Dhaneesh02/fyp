{
  "nbformat": 4,
  "nbformat_minor": 0,
  "metadata": {
    "colab": {
      "name": "model_mfcc_chuncks.ipynb",
      "provenance": [],
      "collapsed_sections": [],
      "machine_shape": "hm",
      "authorship_tag": "ABX9TyOPrgaB42Inli37a1mEmP/I",
      "include_colab_link": true
    },
    "kernelspec": {
      "name": "python3",
      "display_name": "Python 3"
    },
    "language_info": {
      "name": "python"
    },
    "accelerator": "GPU"
  },
  "cells": [
    {
      "cell_type": "markdown",
      "metadata": {
        "id": "view-in-github",
        "colab_type": "text"
      },
      "source": [
        "<a href=\"https://colab.research.google.com/github/Dhaneesh02/fyp/blob/debug-1/model_mfcc_chuncks.ipynb\" target=\"_parent\"><img src=\"https://colab.research.google.com/assets/colab-badge.svg\" alt=\"Open In Colab\"/></a>"
      ]
    },
    {
      "cell_type": "code",
      "source": [
        "file_path = '/content/drive/MyDrive/Review_3/'\n",
        "file_path_model = '/content/drive/MyDrive/Review_3/mfcc_chuncks/'"
      ],
      "metadata": {
        "id": "GPFdVXjCAnTS"
      },
      "execution_count": null,
      "outputs": []
    },
    {
      "cell_type": "code",
      "execution_count": null,
      "metadata": {
        "colab": {
          "base_uri": "https://localhost:8080/",
          "height": 17
        },
        "id": "-mK_p7Vx-Gr_",
        "outputId": "1d369ab8-63bf-447f-a441-ab93a4a02117"
      },
      "outputs": [
        {
          "output_type": "display_data",
          "data": {
            "text/html": [
              "        <script type=\"text/javascript\">\n",
              "        window.PlotlyConfig = {MathJaxConfig: 'local'};\n",
              "        if (window.MathJax) {MathJax.Hub.Config({SVG: {font: \"STIX-Web\"}});}\n",
              "        if (typeof require !== 'undefined') {\n",
              "        require.undef(\"plotly\");\n",
              "        requirejs.config({\n",
              "            paths: {\n",
              "                'plotly': ['https://cdn.plot.ly/plotly-2.8.3.min']\n",
              "            }\n",
              "        });\n",
              "        require(['plotly'], function(Plotly) {\n",
              "            window._Plotly = Plotly;\n",
              "        });\n",
              "        }\n",
              "        </script>\n",
              "        "
            ]
          },
          "metadata": {}
        }
      ],
      "source": [
        "### General imports ###\n",
        "import os\n",
        "from glob import glob\n",
        "import pickle\n",
        "import itertools\n",
        "from scipy.stats import zscore\n",
        "from sklearn.model_selection import train_test_split\n",
        "import random\n",
        "import sys\n",
        "\n",
        "\n",
        "## Package\n",
        "import glob \n",
        "import keras\n",
        "import IPython.display as ipd\n",
        "import librosa\n",
        "import librosa.display\n",
        "import matplotlib.pyplot as plt\n",
        "import numpy as np\n",
        "import pandas as pd\n",
        "import plotly.graph_objs as go\n",
        "import plotly.offline as py\n",
        "import plotly.tools as tls\n",
        "import seaborn as sns\n",
        "import scipy.io.wavfile\n",
        "import tensorflow as tf\n",
        "py.init_notebook_mode(connected=True)\n",
        "\n",
        "\n",
        "## Keras\n",
        "from keras import regularizers\n",
        "from keras.callbacks import ModelCheckpoint, LearningRateScheduler, EarlyStopping\n",
        "from keras.callbacks import  History, ReduceLROnPlateau, CSVLogger\n",
        "from keras.models import Model, Sequential\n",
        "from keras.layers import Dense, Embedding, LSTM\n",
        "from keras.layers import Input, Flatten, Dropout, Activation, BatchNormalization\n",
        "from keras.layers import Conv1D, MaxPooling1D, AveragePooling1D\n",
        "from keras.preprocessing import sequence\n",
        "from keras.preprocessing.sequence import pad_sequences\n",
        "from keras.preprocessing.text import Tokenizer\n",
        "from keras.utils import np_utils\n",
        "\n",
        "\n",
        "## Sklearn\n",
        "from sklearn.metrics import confusion_matrix\n",
        "from sklearn.preprocessing import LabelEncoder\n",
        "\n",
        "\n",
        "## Rest\n",
        "from scipy.fftpack import fft\n",
        "from scipy import signal\n",
        "from scipy.io import wavfile\n",
        "from tqdm import tqdm\n",
        "\n",
        "input_duration=3\n",
        "# % pylab inline\n",
        "### Graph imports ###\n",
        "from PIL import Image\n",
        "import librosa\n",
        "### Audio import ###\n",
        "\n",
        "import IPython\n",
        "from IPython.display import Audio"
      ]
    },
    {
      "cell_type": "code",
      "source": [
        "from google.colab import drive\n",
        "drive.mount('/content/drive')"
      ],
      "metadata": {
        "colab": {
          "base_uri": "https://localhost:8080/"
        },
        "id": "5V_9hUndAisL",
        "outputId": "73da788d-2a92-4079-edac-ba348391d3ff"
      },
      "execution_count": null,
      "outputs": [
        {
          "output_type": "stream",
          "name": "stdout",
          "text": [
            "Mounted at /content/drive\n"
          ]
        }
      ]
    },
    {
      "cell_type": "code",
      "source": [
        "import csv\n",
        "from dataclasses import dataclass\n",
        "file = open(file_path+\"filtered_annotations_msp_3500.csv\")\n",
        "csvreader = csv.reader(file)\n",
        "header = next(csvreader)\n",
        "# print(header)\n",
        "csv_data = []\n",
        "for row in csvreader:\n",
        "    csv_data.append(row)\n",
        "\n",
        "file.close()\n",
        "labelling_data = dict()\n",
        "\n",
        "for i in csv_data:\n",
        "    labelling_data[i[0]]=i[1]\n",
        "    \n",
        "  \n",
        "print(len(csv_data))"
      ],
      "metadata": {
        "colab": {
          "base_uri": "https://localhost:8080/"
        },
        "id": "vKgpGgWIAmCb",
        "outputId": "874df009-5e4e-42a5-85ca-e047de8e7c26"
      },
      "execution_count": null,
      "outputs": [
        {
          "output_type": "stream",
          "name": "stdout",
          "text": [
            "3500\n"
          ]
        }
      ]
    },
    {
      "cell_type": "code",
      "source": [
        "!pip install pydub\n",
        "from pydub import AudioSegment\n",
        "from pydub.silence import split_on_silence,detect_silence,detect_nonsilent"
      ],
      "metadata": {
        "colab": {
          "base_uri": "https://localhost:8080/"
        },
        "id": "7WUE1sPkBPaL",
        "outputId": "cc18eeba-41e4-4de4-b058-dbc0ec9e9dd7"
      },
      "execution_count": null,
      "outputs": [
        {
          "output_type": "stream",
          "name": "stdout",
          "text": [
            "Looking in indexes: https://pypi.org/simple, https://us-python.pkg.dev/colab-wheels/public/simple/\n",
            "Collecting pydub\n",
            "  Downloading pydub-0.25.1-py2.py3-none-any.whl (32 kB)\n",
            "Installing collected packages: pydub\n",
            "Successfully installed pydub-0.25.1\n"
          ]
        }
      ]
    },
    {
      "cell_type": "code",
      "source": [
        "# # Start feature extraction\n",
        "# print(\"Import Data: START\")\n",
        "\n",
        "# # Audio file path and names\n",
        "# file_path_dataset = '/content/drive/MyDrive/Review_3/Data_msp_3500/'\n",
        "\n",
        "# # Initialize features and labels list\n",
        "# signal = []\n",
        "# labels = []\n",
        "\n",
        "# # Sample rate (16.0 kHz)\n",
        "# sample_rate = 16000     \n",
        "\n",
        "# # Max pad length (3.0 sec)\n",
        "# max_pad_len = 49100\n",
        "\n",
        "\n",
        "# file_names=[]\n",
        "\n",
        "# #data_visualisation\n",
        "# count = 0\n",
        "\n",
        "# def find_breaking_duration(self, arr, threshold, step=2500, prev=0):\n",
        "#   result =0 \n",
        "#   for [i,j] in arr:\n",
        "#     if(j<threshold):\n",
        "#       result=j\n",
        "#     else:\n",
        "#       break\n",
        "#   if (threshold-result) > 1000:\n",
        "#     return prev+step\n",
        "#   return result\n",
        "\n",
        "# max_=0\n",
        "# print(\"Import Data: RUNNING ... files\")\n",
        "# for i in labelling_data:\n",
        "#   cur_file = file_path_dataset + i\n",
        "#   y, sr = librosa.core.load(cur_file, sr=sample_rate, offset=0)\n",
        "#   y = zscore(y)\n",
        "#   # print(len(y))\n",
        "#   file_ = AudioSegment.from_wav(cur_file)\n",
        "#   #each chunck to hava a length of 3 sec\n",
        "#   silence = detect_silence(file_, min_silence_len = 100, silence_thresh=-35)\n",
        "#   # print(silence)\n",
        "#   prev_breakpoint = 0\n",
        "#   file_c = 0 \n",
        "#   for j in range(2500, len(file_), 2500):\n",
        "#     break_point = find_breaking_duration(arr = silence, threshold = j, prev = prev_breakpoint) \n",
        "#     if prev_breakpoint == 0:\n",
        "#       y_padded = np.zeros(max_pad_len)\n",
        "#       breakpoint = (breakpoint/1000)*16366 \n",
        "#       y_padded[:breakpoint] = y[:breakpoint]\n",
        "#     else:\n",
        "#       y_padded = np.zeros(max_pad_len)\n",
        "#       breakpoint = (breakpoint/1000)*16366\n",
        "#       prev_breakpoint = (prev_breakpoint/1000)*16366\n",
        "#       y_padded[prev_breakpoint:breakpoint] = y[prev_breakpoint:breakpoint]\n",
        "#     prev_breakpoint = break_point\n",
        "#     signal.append(y_padded)\n",
        "#     labels.append(labelling_data[i])\n",
        "#     temp_name = i[:-4]\n",
        "#     file_names.append(temp_name+\"_\"+str(file_c)+\".wav\")\n",
        "#     filr_c += 1\n",
        "#   if count%400 == 0:\n",
        "#     print(count,len(signal))\n",
        "#   if count==3:\n",
        "#     break\n",
        "#   count += 1\n",
        "# # Cast labels to array\n",
        "# labels = np.asarray(labels).ravel()\n",
        "\n",
        "# # Stop feature extraction\n",
        "# print(\"Import Data: END \\n\")\n",
        "# print(\"Number of audio files imported: {}\".format(labels.shape[0]),\"  \",count)\n"
      ],
      "metadata": {
        "id": "dNyTPKf0A4zA"
      },
      "execution_count": null,
      "outputs": []
    },
    {
      "cell_type": "code",
      "source": [
        "# Start feature extraction\n",
        "print(\"Import Data: START\")\n",
        "\n",
        "# Audio file path and names\n",
        "file_path_dataset = '/content/drive/MyDrive/Review_3/Data_msp_3500/'\n",
        "\n",
        "# Initialize features and labels list\n",
        "signal = []\n",
        "labels = []\n",
        "\n",
        "# Sample rate (16.0 kHz)\n",
        "sample_rate = 16000     \n",
        "\n",
        "# Max pad length (3.0 sec)\n",
        "max_pad_len = 49100\n",
        "\n",
        "\n",
        "file_names=[]\n",
        "\n",
        "#data_visualisation\n",
        "count = 0\n",
        "\n",
        "final_emo = {'Happy':0,'Sad':0,'Neutral':0,'Surprise':0,'Angry':0,'Disgust':0,'Fear':0}\n",
        "\n",
        "max_=0\n",
        "print(\"Import Data: RUNNING ... files\")\n",
        "for i in labelling_data:\n",
        "  cur_file = file_path_dataset + i\n",
        "  y, sr = librosa.core.load(cur_file, sr=sample_rate, offset=0)\n",
        "  y = zscore(y)\n",
        "  step = 2600\n",
        "  file_ = AudioSegment.from_wav(cur_file)\n",
        "  # print(len(file_))\n",
        "  prev_breakpoint = 0\n",
        "  file_c  = 0\n",
        "  itr_c = 0\n",
        "  for j in range(2600, len(file_), 2600):\n",
        "    if j == step:\n",
        "      y_padded = np.zeros(max_pad_len)\n",
        "      breakpoint = round((j/1000)*16366) \n",
        "      inc = round((200/1000)*16366)\n",
        "      y_padded[:breakpoint+inc] = y[:breakpoint+inc]\n",
        "    else:\n",
        "      breakpoint = round((j/1000)*16366)\n",
        "      inc = round((200/1000)*16366)      \n",
        "      y_temp = y[prev_breakpoint-inc:breakpoint+inc]\n",
        "      y_padded = np.zeros(max_pad_len-len(y_temp))\n",
        "      y_padded = np.concatenate((y_temp, y_padded))\n",
        "    prev_breakpoint = breakpoint\n",
        "    signal.append(y_padded)\n",
        "    labels.append(labelling_data[i])\n",
        "    final_emo[labelling_data[i]]+=1\n",
        "    temp_name = i[:-4]\n",
        "    file_names.append(temp_name+\"_\"+str(file_c)+\".wav\")\n",
        "    file_c += 1\n",
        "    itr_c += 1\n",
        "    if itr_c == 3:\n",
        "      break\n",
        "  if count%100 == 0:\n",
        "    print(count,len(signal))\n",
        "  # if count==10:\n",
        "  #   break\n",
        "  count += 1\n",
        "# Cast labels to array\n",
        "labels = np.asarray(labels).ravel()\n",
        "\n",
        "# Stop feature extraction\n",
        "print(\"Import Data: END \\n\")\n",
        "print(\"Number of audio files imported: {}\".format(labels.shape[0]),\"  \",count)\n",
        "print(final_emo)"
      ],
      "metadata": {
        "colab": {
          "base_uri": "https://localhost:8080/"
        },
        "id": "OGGHfU6qJ3FF",
        "outputId": "1b36d22f-9ff6-4185-b747-f0f1d215e01d"
      },
      "execution_count": null,
      "outputs": [
        {
          "output_type": "stream",
          "name": "stdout",
          "text": [
            "Import Data: START\n",
            "Import Data: RUNNING ... files\n",
            "0 3\n",
            "100 300\n",
            "200 597\n",
            "300 897\n",
            "400 1197\n",
            "500 1495\n",
            "600 1793\n",
            "700 2090\n",
            "800 2386\n",
            "900 2685\n",
            "1000 2985\n",
            "1100 3285\n",
            "1200 3583\n",
            "1300 3883\n",
            "1400 4180\n",
            "1500 4477\n",
            "1600 4773\n",
            "1700 5068\n",
            "1800 5364\n",
            "1900 5659\n",
            "2000 5954\n",
            "2100 6252\n",
            "2200 6548\n",
            "2300 6842\n",
            "2400 7136\n",
            "2500 7430\n",
            "2600 7723\n",
            "2700 8015\n",
            "2800 8306\n",
            "2900 8593\n",
            "3000 8883\n",
            "3100 9170\n",
            "3200 9463\n",
            "3300 9763\n",
            "3400 10056\n",
            "Import Data: END \n",
            "\n",
            "Number of audio files imported: 10306    3500\n",
            "{'Happy': 1500, 'Sad': 1500, 'Neutral': 1500, 'Surprise': 1500, 'Angry': 1500, 'Disgust': 1500, 'Fear': 1306}\n"
          ]
        }
      ]
    },
    {
      "cell_type": "code",
      "source": [
        "pickle.dump(signal, open(file_path_model+'signal.p', 'wb'))\n",
        "pickle.dump(file_names, open(file_path_model+'file_names.p', 'wb'))\n",
        "pickle.dump(labels, open(file_path_model+'labels.p', 'wb'))"
      ],
      "metadata": {
        "id": "YdUtIvqsSHh3"
      },
      "execution_count": null,
      "outputs": []
    },
    {
      "cell_type": "code",
      "source": [
        "# file_path = '/content/drive/MyDrive/Review_3/'\n",
        "\n",
        "# # Initialize features and labels list\n",
        "# signal = []\n",
        "# labels = []\n",
        "# file_names = []\n",
        "\n",
        "# # Sample rate (16.0 kHz)\n",
        "# sample_rate = 16000     \n",
        "\n",
        "# # Max pad length (3.0 sec)\n",
        "# max_pad_len = 49100\n",
        "\n",
        "\n",
        "# signal=pickle.load(open(file_path_model+\"signal.p\",\"rb\"))\n",
        "# file_names=pickle.load(open(file_path_model+\"file_names.p\",\"rb\"))\n",
        "# labels=pickle.load(open(file_path_model+\"labels.p\",\"rb\"))\n",
        "\n",
        "# #data_visualisation\n",
        "# count = len(signal)\n",
        "# print(\"Import Data: END \\n\")\n",
        "# print(\"Number of audio files imported: {}\".format(labels.shape[0]))"
      ],
      "metadata": {
        "id": "S_FvEvcHSPcV"
      },
      "execution_count": null,
      "outputs": []
    },
    {
      "cell_type": "code",
      "source": [
        "# Number of augmented data\n",
        "nb_augmented = 1\n",
        "# Function to add noise to a signals with a desired Signal Noise ratio (SNR)\n",
        "def noisy_signal(signal, snr_low=15, snr_high=30, nb_augmented=1):\n",
        "    # Signal length\n",
        "    signal_len = len(signal)\n",
        "\n",
        "    # Generate White noise\n",
        "    noise = np.random.normal(size=(nb_augmented, signal_len))\n",
        "    \n",
        "    # Compute signal and noise power\n",
        "    s_power = np.sum((signal / (2.0 ** 15)) ** 2) / signal_len\n",
        "    n_power = np.sum((noise / (2.0 ** 15)) ** 2, axis=1) / signal_len\n",
        "    \n",
        "    # Random SNR: Uniform [15, 30]\n",
        "    snr = np.random.randint(snr_low, snr_high)\n",
        "    \n",
        "    # Compute K coeff for each noise\n",
        "    K = np.sqrt((s_power / n_power) * 10 ** (- snr / 10))\n",
        "    K = np.ones((signal_len, nb_augmented)) * K\n",
        "    \n",
        "    # Generate noisy signal\n",
        "    return signal + K.T * noise"
      ],
      "metadata": {
        "id": "EXibgPfnSXO1"
      },
      "execution_count": null,
      "outputs": []
    },
    {
      "cell_type": "code",
      "source": [
        "# Generate noisy signals from signal list\n",
        "print(\"Data Augmentation: START\")\n",
        "# augmented_signal = list(map(noisy_signal, signal))\n",
        "c=0\n",
        "print(len(signal))\n",
        "augmented_signal = []\n",
        "for i in signal:\n",
        "  augmented_signal.append(noisy_signal(i)[0])\n",
        "  if c%300==0:\n",
        "    print(c)\n",
        "  c+=1\n",
        "print(\"Data Augmentation: END!\")\n",
        "print(len(augmented_signal))"
      ],
      "metadata": {
        "colab": {
          "base_uri": "https://localhost:8080/"
        },
        "id": "AeC7JFqVSZJK",
        "outputId": "ec746bca-141b-4838-d5bd-6a277355d430"
      },
      "execution_count": null,
      "outputs": [
        {
          "output_type": "stream",
          "name": "stdout",
          "text": [
            "Data Augmentation: START\n",
            "10306\n",
            "0\n",
            "300\n",
            "600\n",
            "900\n",
            "1200\n",
            "1500\n",
            "1800\n",
            "2100\n",
            "2400\n",
            "2700\n",
            "3000\n",
            "3300\n",
            "3600\n",
            "3900\n",
            "4200\n",
            "4500\n",
            "4800\n",
            "5100\n",
            "5400\n",
            "5700\n",
            "6000\n",
            "6300\n",
            "6600\n",
            "6900\n",
            "7200\n",
            "7500\n",
            "7800\n",
            "8100\n",
            "8400\n",
            "8700\n",
            "9000\n",
            "9300\n",
            "9600\n",
            "9900\n",
            "10200\n",
            "Data Augmentation: END!\n",
            "10306\n"
          ]
        }
      ]
    },
    {
      "cell_type": "code",
      "source": [
        "g=0\n",
        "def mel_spectrogram(y, sr=16000, n_fft=512, win_length=256, hop_length=128, window='hamming', n_mels=128, fmax=4000):\n",
        "    global g\n",
        "    if g%300==0:\n",
        "      print(g) \n",
        "    g+=1\n",
        "    # Compute spectogram\n",
        "    mel_spect = np.abs(librosa.stft(y, n_fft=n_fft, window=window, win_length=win_length, hop_length=hop_length)) ** 2\n",
        "    \n",
        "    # Compute mel spectrogram\n",
        "    mel_spect = librosa.feature.melspectrogram(S=mel_spect, sr=sr, n_mels=n_mels, fmax=fmax)\n",
        "    \n",
        "    # Compute log-mel spectrogram\n",
        "    mel_spect = librosa.power_to_db(mel_spect, ref=np.max)\n",
        "    \n",
        "    return mel_spect"
      ],
      "metadata": {
        "id": "yzfb0WqySa6j"
      },
      "execution_count": null,
      "outputs": []
    },
    {
      "cell_type": "code",
      "source": [
        "import gc"
      ],
      "metadata": {
        "id": "04OsnhpTSccC"
      },
      "execution_count": null,
      "outputs": []
    },
    {
      "cell_type": "code",
      "source": [
        "# Start feature extraction\n",
        "print(\"Feature extraction: START\")\n",
        "\n",
        "# Compute spectogram for all audio file\n",
        "mel_spect = []\n",
        "# print(len(signal),len(s))\n",
        "for i in range(len(signal)):\n",
        "  mel_spect.append(mel_spectrogram(signal[i]))\n",
        "\n",
        "\n",
        "mel_spect = np.asarray(mel_spect)\n",
        "del signal\n",
        "gc.collect()\n",
        "\n",
        "# Stop feature extraction\n",
        "print(\"Feature extraction: END!\")"
      ],
      "metadata": {
        "colab": {
          "base_uri": "https://localhost:8080/"
        },
        "id": "tupYZ1xOSext",
        "outputId": "5394c7dd-9621-4308-c243-c00e1b94bb72"
      },
      "execution_count": null,
      "outputs": [
        {
          "output_type": "stream",
          "name": "stdout",
          "text": [
            "Feature extraction: START\n",
            "0\n",
            "300\n",
            "600\n",
            "900\n",
            "1200\n",
            "1500\n",
            "1800\n",
            "2100\n",
            "2400\n",
            "2700\n",
            "3000\n",
            "3300\n",
            "3600\n",
            "3900\n",
            "4200\n",
            "4500\n",
            "4800\n",
            "5100\n",
            "5400\n",
            "5700\n",
            "6000\n",
            "6300\n",
            "6600\n",
            "6900\n",
            "7200\n",
            "7500\n",
            "7800\n",
            "8100\n",
            "8400\n",
            "8700\n",
            "9000\n",
            "9300\n",
            "9600\n",
            "9900\n",
            "10200\n",
            "Feature extraction: END!\n"
          ]
        }
      ]
    },
    {
      "cell_type": "code",
      "source": [
        "pickle.dump(mel_spect, open(file_path_model+'mel_spect.p', 'wb'), protocol=4)\n"
      ],
      "metadata": {
        "id": "6Om1_EFPlnpN"
      },
      "execution_count": null,
      "outputs": []
    },
    {
      "cell_type": "code",
      "source": [
        "# Start feature extraction\n",
        "print(\"Feature extraction: START\")\n",
        "\n",
        "augmented_mel_spect = []\n",
        "for i in range(len(augmented_signal)):\n",
        "  augmented_mel_spect.append(mel_spectrogram(augmented_signal[i]))\n",
        "augmented_mel_spect =  np.asarray(augmented_mel_spect)\n",
        "del augmented_signal\n",
        "gc.collect()\n",
        "\n",
        "# Stop feature extraction\n",
        "print(\"Feature extraction: END!\")"
      ],
      "metadata": {
        "colab": {
          "base_uri": "https://localhost:8080/"
        },
        "id": "-IyrHo--SgJF",
        "outputId": "93c4900a-dbb0-4b0c-de58-9f71d9ab39f8"
      },
      "execution_count": null,
      "outputs": [
        {
          "output_type": "stream",
          "name": "stdout",
          "text": [
            "Feature extraction: START\n",
            "10500\n",
            "10800\n",
            "11100\n",
            "11400\n",
            "11700\n",
            "12000\n",
            "12300\n",
            "12600\n",
            "12900\n",
            "13200\n",
            "13500\n",
            "13800\n",
            "14100\n",
            "14400\n",
            "14700\n",
            "15000\n",
            "15300\n",
            "15600\n",
            "15900\n",
            "16200\n",
            "16500\n",
            "16800\n",
            "17100\n",
            "17400\n",
            "17700\n",
            "18000\n",
            "18300\n",
            "18600\n",
            "18900\n",
            "19200\n",
            "19500\n",
            "19800\n",
            "20100\n",
            "20400\n",
            "Feature extraction: END!\n"
          ]
        }
      ]
    },
    {
      "cell_type": "code",
      "source": [
        "\n",
        "print(mel_spect.shape)\n",
        "print(augmented_mel_spect.shape)\n",
        "print(labels.shape)"
      ],
      "metadata": {
        "colab": {
          "base_uri": "https://localhost:8080/"
        },
        "id": "KHvOgKOzSjcK",
        "outputId": "53d7c761-7001-493f-d2ab-6f7ba4af6d18"
      },
      "execution_count": null,
      "outputs": [
        {
          "output_type": "stream",
          "name": "stdout",
          "text": [
            "(10306, 128, 384)\n",
            "(10306, 128, 384)\n",
            "(10306,)\n"
          ]
        }
      ]
    },
    {
      "cell_type": "code",
      "source": [
        "\n",
        "pickle.dump(augmented_mel_spect, open(file_path_model+'augmented_mel_spect.p', 'wb'), protocol=4)\n"
      ],
      "metadata": {
        "id": "imb3qHesSlec"
      },
      "execution_count": null,
      "outputs": []
    },
    {
      "cell_type": "code",
      "source": [
        "labels=pickle.load(open(file_path_model+\"labels.p\",\"rb\"))"
      ],
      "metadata": {
        "id": "PI1pmF_IVdSF"
      },
      "execution_count": null,
      "outputs": []
    },
    {
      "cell_type": "code",
      "source": [
        "# Build Train and test dataset\n",
        "# MEL_SPECT_train, MEL_SPECT_test,  label_train, label_test = train_test_split(mel_spect,  labels, test_size=0.2)\n",
        "MEL_SPECT_train, MEL_SPECT_test, AUG_MEL_SPECT_train, AUG_MEL_SPECT_test, label_train, label_test = train_test_split(mel_spect, augmented_mel_spect, labels, test_size=0.2)\n",
        "\n",
        "# Build augmented labels and train\n",
        "# aug_label_train = np.asarray(list(itertools.chain.from_iterable([[label] * nb_augmented for label in label_train])))\n",
        "# AUG_MEL_SPECT_train = np.asarray(list(itertools.chain.from_iterable(AUG_MEL_SPECT_train)))\n",
        "# AUG_MEL_SPECT_test = np.asarray(list(itertools.chain.from_iterable(AUG_MEL_SPECT_test)))\n",
        "# aug_label_test = np.asarray(list(itertools.chain.from_iterable([[label] * nb_augmented for label in label_test])))\n",
        "# print(AUG_MEL_SPECT_train.shape)\n",
        "# print(AUG_MEL_SPECT_test.shape)\n",
        "# Concatenate original and augmented\n",
        "# X_train = MEL_SPECT_train\n",
        "# y_train = label_train\n",
        "X_train = np.concatenate((MEL_SPECT_train, AUG_MEL_SPECT_train))\n",
        "y_train = np.concatenate((label_train, label_train))\n",
        "\n",
        "print(\"x_train: \",X_train.shape)\n",
        "print(\"y_train: \",y_train.shape)\n",
        "# Build test set\n",
        "X_test = np.concatenate((MEL_SPECT_test, AUG_MEL_SPECT_test))\n",
        "# X_test = MEL_SPECT_test\n",
        "y_test = np.concatenate((label_test, label_test))\n",
        "# y_test = label_test\n",
        "print(X_test.shape)\n",
        "print(y_test.shape)\n",
        "# Delete\n",
        "# del MEL_SPECT_train,MEL_SPECT_test\n",
        "del MEL_SPECT_train, AUG_MEL_SPECT_train, label_train, AUG_MEL_SPECT_test, MEL_SPECT_test, label_test\n",
        "del mel_spect, augmented_mel_spect, labels"
      ],
      "metadata": {
        "colab": {
          "base_uri": "https://localhost:8080/"
        },
        "id": "m3FANhgdViOM",
        "outputId": "dd544e1f-a933-4d6d-d887-58b37bca9488"
      },
      "execution_count": null,
      "outputs": [
        {
          "output_type": "stream",
          "name": "stdout",
          "text": [
            "x_train:  (16488, 128, 384)\n",
            "y_train:  (16488,)\n",
            "(4124, 128, 384)\n",
            "(4124,)\n"
          ]
        }
      ]
    },
    {
      "cell_type": "code",
      "source": [
        "win_ts = 128\n",
        "hop_ts = 64\n",
        "\n",
        "def frame(x, win_step=128, win_size=64):\n",
        "    nb_frames = 1 + int((x.shape[2] - win_size) / win_step)\n",
        "    frames = np.zeros((x.shape[0], nb_frames, x.shape[1], win_size)).astype(np.float32)\n",
        "    for t in range(nb_frames):\n",
        "        frames[:,t,:,:] = np.copy(x[:,:,(t * win_step):(t * win_step + win_size)]).astype(np.float32)\n",
        "    return frames\n",
        "\n",
        "X_train = frame(X_train, hop_ts, win_ts)\n",
        "X_test = frame(X_test, hop_ts, win_ts)\n"
      ],
      "metadata": {
        "id": "9PQvkF_7VoMR"
      },
      "execution_count": null,
      "outputs": []
    },
    {
      "cell_type": "code",
      "source": [
        "\n",
        "X_test.shape"
      ],
      "metadata": {
        "colab": {
          "base_uri": "https://localhost:8080/"
        },
        "id": "cLfDOehmVp5v",
        "outputId": "e5eaa49e-0962-45ed-ee9b-4aed87ac733b"
      },
      "execution_count": null,
      "outputs": [
        {
          "output_type": "execute_result",
          "data": {
            "text/plain": [
              "(4124, 5, 128, 128)"
            ]
          },
          "metadata": {},
          "execution_count": 26
        }
      ]
    },
    {
      "cell_type": "code",
      "source": [
        "# Save Train and test set\n",
        "pickle.dump(X_train.astype(np.float16), open(file_path_model+'[msp_mfcc][X_train].p', 'wb'))\n",
        "pickle.dump(y_train, open(file_path_model+'[msp_mfcc][y_train].p', 'wb'))\n",
        "pickle.dump(X_test.astype(np.float16), open(file_path_model+'[msp_mfcc][X_test].p', 'wb'))\n",
        "pickle.dump(y_test, open(file_path_model+'[msp_mfcc][y_test].p', 'wb'))"
      ],
      "metadata": {
        "id": "ai5r1KnDVro4"
      },
      "execution_count": null,
      "outputs": []
    },
    {
      "cell_type": "code",
      "source": [
        "import os\n",
        "from glob import glob\n",
        "import pickle\n",
        "import numpy as np\n",
        "import pandas as pd\n",
        "from keras.utils.vis_utils import plot_model\n",
        "### Plot imports ###\n",
        "from IPython.display import Image\n",
        "import matplotlib.pyplot as plt\n",
        "\n",
        "### Time Distributed ConvNet imports ###\n",
        "import tensorflow as tf\n",
        "from tensorflow.keras.models import Sequential, Model\n",
        "from tensorflow.keras.layers import Input, Dense, Dropout, Activation, TimeDistributed, concatenate\n",
        "from tensorflow.keras.layers import Conv2D, MaxPooling2D, AveragePooling2D, BatchNormalization, LeakyReLU, Flatten\n",
        "from tensorflow.keras.layers import LSTM\n",
        "from tensorflow.keras.optimizers import Adam, SGD\n",
        "from tensorflow.keras.callbacks import EarlyStopping, ModelCheckpoint, ReduceLROnPlateau\n",
        "from tensorflow.keras import backend as K\n",
        "from keras.utils import np_utils\n",
        "from keras.utils.vis_utils import plot_model\n",
        "from sklearn.preprocessing import LabelEncoder\n",
        "\n",
        "### Warning ###\n",
        "import warnings\n",
        "warnings.filterwarnings('ignore')"
      ],
      "metadata": {
        "id": "Y4BEJ9ZtVyv7"
      },
      "execution_count": 1,
      "outputs": []
    },
    {
      "cell_type": "code",
      "source": [
        "file_path = '/content/drive/MyDrive/Review_3/'\n",
        "file_path_model = '/content/drive/MyDrive/Review_3/mfcc_chuncks/'"
      ],
      "metadata": {
        "id": "a6JU9w23rL5y"
      },
      "execution_count": 2,
      "outputs": []
    },
    {
      "cell_type": "code",
      "source": [
        "from google.colab import drive\n",
        "drive.mount('/content/drive')"
      ],
      "metadata": {
        "colab": {
          "base_uri": "https://localhost:8080/"
        },
        "id": "Qh1fjWt7V0yR",
        "outputId": "a3d918d5-2a3a-4993-c1ff-35ed6cd99153"
      },
      "execution_count": 3,
      "outputs": [
        {
          "output_type": "stream",
          "name": "stdout",
          "text": [
            "Mounted at /content/drive\n"
          ]
        }
      ]
    },
    {
      "cell_type": "code",
      "source": [
        "\n",
        "X_train = pickle.load(open(file_path_model+'[msp_mfcc][X_train].p', 'rb'))\n",
        "y_train = pickle.load(open(file_path_model+'[msp_mfcc][y_train].p', 'rb'))\n",
        "y_test = pickle.load(open(file_path_model+'[msp_mfcc][y_test].p', 'rb'))\n",
        "X_test = pickle.load(open(file_path_model+'[msp_mfcc][X_test].p', 'rb'))"
      ],
      "metadata": {
        "id": "SwPl1CcDV2mz"
      },
      "execution_count": 4,
      "outputs": []
    },
    {
      "cell_type": "code",
      "source": [
        "print(X_train.shape)\n",
        "print(y_train.shape)\n",
        "print(X_test.shape)\n",
        "print(y_test.shape)"
      ],
      "metadata": {
        "colab": {
          "base_uri": "https://localhost:8080/"
        },
        "id": "blFAeZSBV8zT",
        "outputId": "f334d509-207a-4054-b5a3-d1b42dee81cd"
      },
      "execution_count": 5,
      "outputs": [
        {
          "output_type": "stream",
          "name": "stdout",
          "text": [
            "(16488, 5, 128, 128)\n",
            "(16488,)\n",
            "(4124, 5, 128, 128)\n",
            "(4124,)\n"
          ]
        }
      ]
    },
    {
      "cell_type": "code",
      "source": [
        "lb = LabelEncoder()\n",
        "y_train = np_utils.to_categorical(lb.fit_transform(np.ravel(y_train)))\n",
        "y_test = np_utils.to_categorical(lb.transform(np.ravel(y_test)))"
      ],
      "metadata": {
        "id": "d07gF5cEV-1B"
      },
      "execution_count": 25,
      "outputs": []
    },
    {
      "cell_type": "code",
      "source": [
        "# Reshape for convolution\n",
        "X_train = X_train.reshape(X_train.shape[0], X_train.shape[1] , X_train.shape[2], X_train.shape[3], 1)\n",
        "X_test = X_test.reshape(X_test.shape[0], X_test.shape[1] , X_test.shape[2], X_test.shape[3], 1)"
      ],
      "metadata": {
        "id": "upkJ5BtRWCA3"
      },
      "execution_count": 26,
      "outputs": []
    },
    {
      "cell_type": "code",
      "source": [
        "X_train.shape[1:]"
      ],
      "metadata": {
        "colab": {
          "base_uri": "https://localhost:8080/"
        },
        "id": "UjcdxKTUWEM6",
        "outputId": "87093587-d9c2-4c52-b690-34a68cf5886d"
      },
      "execution_count": null,
      "outputs": [
        {
          "output_type": "execute_result",
          "data": {
            "text/plain": [
              "(5, 128, 128, 1)"
            ]
          },
          "metadata": {},
          "execution_count": 9
        }
      ]
    },
    {
      "cell_type": "code",
      "source": [
        "K.clear_session()\n",
        "\n",
        "input_y = Input(shape=X_train.shape[1:], name='Input_MELSPECT')\n",
        "\n",
        "y = TimeDistributed(Conv2D(64, kernel_size=(3, 3), padding='same'), name='Conv_1_MELSPECT')(input_y)\n",
        "y = TimeDistributed(BatchNormalization(), name='BatchNorm_1_MELSPECT')(y)\n",
        "y = TimeDistributed(Activation('elu'), name='Activ_1_MELSPECT')(y)\n",
        "y = TimeDistributed(MaxPooling2D(pool_size=(2, 2), strides=(2, 2), padding='same'), name='MaxPool_1_MELSPECT')(y)\n",
        "y = TimeDistributed(Dropout(0.2), name='Drop_1_MELSPECT')(y)     \n",
        "\n",
        "y = TimeDistributed(Conv2D(64, kernel_size=(3, 3), strides=(1, 1), padding='same'), name='Conv_2_MELSPECT')(y)\n",
        "y = TimeDistributed(BatchNormalization(), name='BatchNorm_2_MELSPECT')(y)\n",
        "y = TimeDistributed(Activation('elu'), name='Activ_2_MELSPECT')(y)\n",
        "y = TimeDistributed(MaxPooling2D(pool_size=(4, 4), strides=(4, 4), padding='same'), name='MaxPool_2_MELSPECT')(y)\n",
        "y = TimeDistributed(Dropout(0.2), name='Drop_2_MELSPECT')(y)\n",
        "\n",
        "y = TimeDistributed(Conv2D(128, kernel_size=(3, 3), strides=(1, 1), padding='same'), name='Conv_3_MELSPECT')(y)\n",
        "y = TimeDistributed(BatchNormalization(), name='BatchNorm_3_MELSPECT')(y)\n",
        "y = TimeDistributed(Activation('elu'), name='Activ_3_MELSPECT')(y)\n",
        "y = TimeDistributed(MaxPooling2D(pool_size=(4, 4), strides=(4, 4), padding='same'), name='MaxPool_3_MELSPECT')(y)\n",
        "y = TimeDistributed(Dropout(0.2), name='Drop_3_MELSPECT')(y)\n",
        "\n",
        "y = TimeDistributed(Conv2D(128, kernel_size=(3, 3), strides=(1, 1), padding='same'), name='Conv_4_MELSPECT')(y)\n",
        "y = TimeDistributed(BatchNormalization(), name='BatchNorm_4_MELSPECT')(y)\n",
        "y = TimeDistributed(Activation('elu'), name='Activ_4_MELSPECT')(y)\n",
        "y = TimeDistributed(MaxPooling2D(pool_size=(4, 4), strides=(4, 4), padding='same'), name='MaxPool_4_MELSPECT')(y)\n",
        "y = TimeDistributed(Dropout(0.2), name='Drop_4_MELSPECT')(y)  \n",
        "\n",
        "y = TimeDistributed(Flatten(), name='Flat_MELSPECT')(y)                                           \n",
        "# Apply 2 LSTM layer and one FC\n",
        "y = LSTM(256, return_sequences=False, dropout=0.2, name='LSTM_1')(y)\n",
        "y = Dense(y_train.shape[1], activation='softmax', name='FC')(y)\n",
        "\n",
        "# Build final model\n",
        "model = Model(inputs=input_y, outputs=y)\n",
        "model.summary()"
      ],
      "metadata": {
        "colab": {
          "base_uri": "https://localhost:8080/"
        },
        "id": "0_W4EmvTWFpH",
        "outputId": "a65a6830-4e29-4b6c-f2eb-f13dab34ca08"
      },
      "execution_count": null,
      "outputs": [
        {
          "output_type": "stream",
          "name": "stdout",
          "text": [
            "Model: \"model\"\n",
            "_________________________________________________________________\n",
            " Layer (type)                Output Shape              Param #   \n",
            "=================================================================\n",
            " Input_MELSPECT (InputLayer)  [(None, 5, 128, 128, 1)]  0        \n",
            "                                                                 \n",
            " Conv_1_MELSPECT (TimeDistri  (None, 5, 128, 128, 64)  640       \n",
            " buted)                                                          \n",
            "                                                                 \n",
            " BatchNorm_1_MELSPECT (TimeD  (None, 5, 128, 128, 64)  256       \n",
            " istributed)                                                     \n",
            "                                                                 \n",
            " Activ_1_MELSPECT (TimeDistr  (None, 5, 128, 128, 64)  0         \n",
            " ibuted)                                                         \n",
            "                                                                 \n",
            " MaxPool_1_MELSPECT (TimeDis  (None, 5, 64, 64, 64)    0         \n",
            " tributed)                                                       \n",
            "                                                                 \n",
            " Drop_1_MELSPECT (TimeDistri  (None, 5, 64, 64, 64)    0         \n",
            " buted)                                                          \n",
            "                                                                 \n",
            " Conv_2_MELSPECT (TimeDistri  (None, 5, 64, 64, 64)    36928     \n",
            " buted)                                                          \n",
            "                                                                 \n",
            " BatchNorm_2_MELSPECT (TimeD  (None, 5, 64, 64, 64)    256       \n",
            " istributed)                                                     \n",
            "                                                                 \n",
            " Activ_2_MELSPECT (TimeDistr  (None, 5, 64, 64, 64)    0         \n",
            " ibuted)                                                         \n",
            "                                                                 \n",
            " MaxPool_2_MELSPECT (TimeDis  (None, 5, 16, 16, 64)    0         \n",
            " tributed)                                                       \n",
            "                                                                 \n",
            " Drop_2_MELSPECT (TimeDistri  (None, 5, 16, 16, 64)    0         \n",
            " buted)                                                          \n",
            "                                                                 \n",
            " Conv_3_MELSPECT (TimeDistri  (None, 5, 16, 16, 128)   73856     \n",
            " buted)                                                          \n",
            "                                                                 \n",
            " BatchNorm_3_MELSPECT (TimeD  (None, 5, 16, 16, 128)   512       \n",
            " istributed)                                                     \n",
            "                                                                 \n",
            " Activ_3_MELSPECT (TimeDistr  (None, 5, 16, 16, 128)   0         \n",
            " ibuted)                                                         \n",
            "                                                                 \n",
            " MaxPool_3_MELSPECT (TimeDis  (None, 5, 4, 4, 128)     0         \n",
            " tributed)                                                       \n",
            "                                                                 \n",
            " Drop_3_MELSPECT (TimeDistri  (None, 5, 4, 4, 128)     0         \n",
            " buted)                                                          \n",
            "                                                                 \n",
            " Conv_4_MELSPECT (TimeDistri  (None, 5, 4, 4, 128)     147584    \n",
            " buted)                                                          \n",
            "                                                                 \n",
            " BatchNorm_4_MELSPECT (TimeD  (None, 5, 4, 4, 128)     512       \n",
            " istributed)                                                     \n",
            "                                                                 \n",
            " Activ_4_MELSPECT (TimeDistr  (None, 5, 4, 4, 128)     0         \n",
            " ibuted)                                                         \n",
            "                                                                 \n",
            " MaxPool_4_MELSPECT (TimeDis  (None, 5, 1, 1, 128)     0         \n",
            " tributed)                                                       \n",
            "                                                                 \n",
            " Drop_4_MELSPECT (TimeDistri  (None, 5, 1, 1, 128)     0         \n",
            " buted)                                                          \n",
            "                                                                 \n",
            " Flat_MELSPECT (TimeDistribu  (None, 5, 128)           0         \n",
            " ted)                                                            \n",
            "                                                                 \n",
            " LSTM_1 (LSTM)               (None, 256)               394240    \n",
            "                                                                 \n",
            " FC (Dense)                  (None, 7)                 1799      \n",
            "                                                                 \n",
            "=================================================================\n",
            "Total params: 656,583\n",
            "Trainable params: 655,815\n",
            "Non-trainable params: 768\n",
            "_________________________________________________________________\n"
          ]
        }
      ]
    },
    {
      "cell_type": "code",
      "source": [
        "gpu_options = tf.compat.v1.GPUOptions(allow_growth=True)\n",
        "session = tf.compat.v1.InteractiveSession(config=tf.compat.v1.ConfigProto(gpu_options=gpu_options))"
      ],
      "metadata": {
        "id": "bwN8vEiPWHaI"
      },
      "execution_count": null,
      "outputs": []
    },
    {
      "cell_type": "code",
      "source": [
        "# Compile model\n",
        "model.compile(optimizer=SGD(lr=0.01, decay=1e-6, momentum=0.8), loss='categorical_crossentropy', metrics=['accuracy'])\n",
        "\n",
        "# Save best model\n",
        "best_model_save = ModelCheckpoint(file_path_model+'msp_CNN_LSTM_Model_1.hdf5', save_best_only=True, monitor='accuracy', mode='max')\n",
        "\n",
        "# Early stopping\n",
        "early_stopping = EarlyStopping(monitor='accuracy', patience=30, verbose=1, mode='max')\n",
        "\n",
        "# Fit model\n",
        "history = model.fit(X_train, y_train, batch_size=64, epochs=100, validation_data=(X_test, y_test), callbacks=[early_stopping, best_model_save,tf.keras.callbacks.CSVLogger(file_path_model+'msp_mel_source_history_1.csv')])"
      ],
      "metadata": {
        "id": "IQyyZt8PWJ9D"
      },
      "execution_count": null,
      "outputs": []
    },
    {
      "cell_type": "code",
      "source": [
        "model.save(file_path_model+'msp_mfcc_[CNN-LSTM]Model_100epoch.h5')\n",
        "model.save_weights(file_path_model+'msp_mfcc_[CNN-LSTM]Model_Weights_100epoch.h5')"
      ],
      "metadata": {
        "id": "s-iarzQeWUBm"
      },
      "execution_count": null,
      "outputs": []
    },
    {
      "cell_type": "code",
      "source": [
        "model.evaluate(X_test,y_test)"
      ],
      "metadata": {
        "colab": {
          "base_uri": "https://localhost:8080/"
        },
        "id": "ZBQLG32TWNBC",
        "outputId": "1b9b845d-dabb-4b8d-95a4-f45ba7ef1f37"
      },
      "execution_count": null,
      "outputs": [
        {
          "output_type": "stream",
          "name": "stdout",
          "text": [
            "129/129 [==============================] - 9s 67ms/step - loss: 1.9428 - accuracy: 0.2929\n"
          ]
        },
        {
          "output_type": "execute_result",
          "data": {
            "text/plain": [
              "[1.942789912223816, 0.29291948676109314]"
            ]
          },
          "metadata": {},
          "execution_count": 14
        }
      ]
    },
    {
      "cell_type": "code",
      "source": [
        "y_pred=model.predict(X_test)\n",
        "y_classes = y_pred.argmax(axis=-1)"
      ],
      "metadata": {
        "id": "mo-g0I30WPMm"
      },
      "execution_count": null,
      "outputs": []
    },
    {
      "cell_type": "code",
      "source": [
        "np.unique(y_classes)"
      ],
      "metadata": {
        "colab": {
          "base_uri": "https://localhost:8080/"
        },
        "id": "5V0pw4UPWRKG",
        "outputId": "3744270a-9672-4ed0-d080-c1208e54c2b5"
      },
      "execution_count": null,
      "outputs": [
        {
          "output_type": "execute_result",
          "data": {
            "text/plain": [
              "array([0, 1, 2, 3, 4, 5, 6])"
            ]
          },
          "metadata": {},
          "execution_count": 16
        }
      ]
    },
    {
      "cell_type": "code",
      "source": [
        "history={}\n",
        "history[\"history\"] = pd.read_csv(file_path_model+'msp_mel_source_history.csv')\n",
        "history[\"history\"].head()"
      ],
      "metadata": {
        "colab": {
          "base_uri": "https://localhost:8080/",
          "height": 287
        },
        "id": "PQdU57vXWSyD",
        "outputId": "b77df020-3690-48b2-b3ec-d5da47a26f94"
      },
      "execution_count": 38,
      "outputs": [
        {
          "output_type": "execute_result",
          "data": {
            "text/plain": [
              "   epoch  accuracy      loss  val_accuracy  val_loss  Unnamed: 5  Unnamed: 6  \\\n",
              "0      0  0.166485  1.953532      0.175073  1.994526         NaN         NaN   \n",
              "1      1  0.209061  1.908828      0.161736  2.220616         NaN         NaN   \n",
              "2      2  0.225922  1.884941      0.147672  2.295731    0.507643         NaN   \n",
              "3      3  0.235869  1.870680      0.194229  2.169810         NaN         NaN   \n",
              "4      4  0.244420  1.862561      0.200776  2.052232         NaN         NaN   \n",
              "\n",
              "   Unnamed: 7  Unnamed: 8  Unnamed: 9  \n",
              "0         NaN         NaN         NaN  \n",
              "1         NaN         NaN         NaN  \n",
              "2         NaN         NaN         NaN  \n",
              "3         NaN         NaN         NaN  \n",
              "4         NaN         NaN         NaN  "
            ],
            "text/html": [
              "\n",
              "  <div id=\"df-98f5e42f-4b9f-49f7-9466-39e85e57fd4c\">\n",
              "    <div class=\"colab-df-container\">\n",
              "      <div>\n",
              "<style scoped>\n",
              "    .dataframe tbody tr th:only-of-type {\n",
              "        vertical-align: middle;\n",
              "    }\n",
              "\n",
              "    .dataframe tbody tr th {\n",
              "        vertical-align: top;\n",
              "    }\n",
              "\n",
              "    .dataframe thead th {\n",
              "        text-align: right;\n",
              "    }\n",
              "</style>\n",
              "<table border=\"1\" class=\"dataframe\">\n",
              "  <thead>\n",
              "    <tr style=\"text-align: right;\">\n",
              "      <th></th>\n",
              "      <th>epoch</th>\n",
              "      <th>accuracy</th>\n",
              "      <th>loss</th>\n",
              "      <th>val_accuracy</th>\n",
              "      <th>val_loss</th>\n",
              "      <th>Unnamed: 5</th>\n",
              "      <th>Unnamed: 6</th>\n",
              "      <th>Unnamed: 7</th>\n",
              "      <th>Unnamed: 8</th>\n",
              "      <th>Unnamed: 9</th>\n",
              "    </tr>\n",
              "  </thead>\n",
              "  <tbody>\n",
              "    <tr>\n",
              "      <th>0</th>\n",
              "      <td>0</td>\n",
              "      <td>0.166485</td>\n",
              "      <td>1.953532</td>\n",
              "      <td>0.175073</td>\n",
              "      <td>1.994526</td>\n",
              "      <td>NaN</td>\n",
              "      <td>NaN</td>\n",
              "      <td>NaN</td>\n",
              "      <td>NaN</td>\n",
              "      <td>NaN</td>\n",
              "    </tr>\n",
              "    <tr>\n",
              "      <th>1</th>\n",
              "      <td>1</td>\n",
              "      <td>0.209061</td>\n",
              "      <td>1.908828</td>\n",
              "      <td>0.161736</td>\n",
              "      <td>2.220616</td>\n",
              "      <td>NaN</td>\n",
              "      <td>NaN</td>\n",
              "      <td>NaN</td>\n",
              "      <td>NaN</td>\n",
              "      <td>NaN</td>\n",
              "    </tr>\n",
              "    <tr>\n",
              "      <th>2</th>\n",
              "      <td>2</td>\n",
              "      <td>0.225922</td>\n",
              "      <td>1.884941</td>\n",
              "      <td>0.147672</td>\n",
              "      <td>2.295731</td>\n",
              "      <td>0.507643</td>\n",
              "      <td>NaN</td>\n",
              "      <td>NaN</td>\n",
              "      <td>NaN</td>\n",
              "      <td>NaN</td>\n",
              "    </tr>\n",
              "    <tr>\n",
              "      <th>3</th>\n",
              "      <td>3</td>\n",
              "      <td>0.235869</td>\n",
              "      <td>1.870680</td>\n",
              "      <td>0.194229</td>\n",
              "      <td>2.169810</td>\n",
              "      <td>NaN</td>\n",
              "      <td>NaN</td>\n",
              "      <td>NaN</td>\n",
              "      <td>NaN</td>\n",
              "      <td>NaN</td>\n",
              "    </tr>\n",
              "    <tr>\n",
              "      <th>4</th>\n",
              "      <td>4</td>\n",
              "      <td>0.244420</td>\n",
              "      <td>1.862561</td>\n",
              "      <td>0.200776</td>\n",
              "      <td>2.052232</td>\n",
              "      <td>NaN</td>\n",
              "      <td>NaN</td>\n",
              "      <td>NaN</td>\n",
              "      <td>NaN</td>\n",
              "      <td>NaN</td>\n",
              "    </tr>\n",
              "  </tbody>\n",
              "</table>\n",
              "</div>\n",
              "      <button class=\"colab-df-convert\" onclick=\"convertToInteractive('df-98f5e42f-4b9f-49f7-9466-39e85e57fd4c')\"\n",
              "              title=\"Convert this dataframe to an interactive table.\"\n",
              "              style=\"display:none;\">\n",
              "        \n",
              "  <svg xmlns=\"http://www.w3.org/2000/svg\" height=\"24px\"viewBox=\"0 0 24 24\"\n",
              "       width=\"24px\">\n",
              "    <path d=\"M0 0h24v24H0V0z\" fill=\"none\"/>\n",
              "    <path d=\"M18.56 5.44l.94 2.06.94-2.06 2.06-.94-2.06-.94-.94-2.06-.94 2.06-2.06.94zm-11 1L8.5 8.5l.94-2.06 2.06-.94-2.06-.94L8.5 2.5l-.94 2.06-2.06.94zm10 10l.94 2.06.94-2.06 2.06-.94-2.06-.94-.94-2.06-.94 2.06-2.06.94z\"/><path d=\"M17.41 7.96l-1.37-1.37c-.4-.4-.92-.59-1.43-.59-.52 0-1.04.2-1.43.59L10.3 9.45l-7.72 7.72c-.78.78-.78 2.05 0 2.83L4 21.41c.39.39.9.59 1.41.59.51 0 1.02-.2 1.41-.59l7.78-7.78 2.81-2.81c.8-.78.8-2.07 0-2.86zM5.41 20L4 18.59l7.72-7.72 1.47 1.35L5.41 20z\"/>\n",
              "  </svg>\n",
              "      </button>\n",
              "      \n",
              "  <style>\n",
              "    .colab-df-container {\n",
              "      display:flex;\n",
              "      flex-wrap:wrap;\n",
              "      gap: 12px;\n",
              "    }\n",
              "\n",
              "    .colab-df-convert {\n",
              "      background-color: #E8F0FE;\n",
              "      border: none;\n",
              "      border-radius: 50%;\n",
              "      cursor: pointer;\n",
              "      display: none;\n",
              "      fill: #1967D2;\n",
              "      height: 32px;\n",
              "      padding: 0 0 0 0;\n",
              "      width: 32px;\n",
              "    }\n",
              "\n",
              "    .colab-df-convert:hover {\n",
              "      background-color: #E2EBFA;\n",
              "      box-shadow: 0px 1px 2px rgba(60, 64, 67, 0.3), 0px 1px 3px 1px rgba(60, 64, 67, 0.15);\n",
              "      fill: #174EA6;\n",
              "    }\n",
              "\n",
              "    [theme=dark] .colab-df-convert {\n",
              "      background-color: #3B4455;\n",
              "      fill: #D2E3FC;\n",
              "    }\n",
              "\n",
              "    [theme=dark] .colab-df-convert:hover {\n",
              "      background-color: #434B5C;\n",
              "      box-shadow: 0px 1px 3px 1px rgba(0, 0, 0, 0.15);\n",
              "      filter: drop-shadow(0px 1px 2px rgba(0, 0, 0, 0.3));\n",
              "      fill: #FFFFFF;\n",
              "    }\n",
              "  </style>\n",
              "\n",
              "      <script>\n",
              "        const buttonEl =\n",
              "          document.querySelector('#df-98f5e42f-4b9f-49f7-9466-39e85e57fd4c button.colab-df-convert');\n",
              "        buttonEl.style.display =\n",
              "          google.colab.kernel.accessAllowed ? 'block' : 'none';\n",
              "\n",
              "        async function convertToInteractive(key) {\n",
              "          const element = document.querySelector('#df-98f5e42f-4b9f-49f7-9466-39e85e57fd4c');\n",
              "          const dataTable =\n",
              "            await google.colab.kernel.invokeFunction('convertToInteractive',\n",
              "                                                     [key], {});\n",
              "          if (!dataTable) return;\n",
              "\n",
              "          const docLinkHtml = 'Like what you see? Visit the ' +\n",
              "            '<a target=\"_blank\" href=https://colab.research.google.com/notebooks/data_table.ipynb>data table notebook</a>'\n",
              "            + ' to learn more about interactive tables.';\n",
              "          element.innerHTML = '';\n",
              "          dataTable['output_type'] = 'display_data';\n",
              "          await google.colab.output.renderOutput(dataTable, element);\n",
              "          const docLink = document.createElement('div');\n",
              "          docLink.innerHTML = docLinkHtml;\n",
              "          element.appendChild(docLink);\n",
              "        }\n",
              "      </script>\n",
              "    </div>\n",
              "  </div>\n",
              "  "
            ]
          },
          "metadata": {},
          "execution_count": 38
        }
      ]
    },
    {
      "cell_type": "code",
      "source": [
        "plt.figure(figsize=(25,10))\n",
        "plt.subplot(1,2,1)\n",
        "plt.plot(history['history']['accuracy'],'-b')\n",
        "plt.plot(history['history']['val_accuracy'],'r')\n",
        "plt.legend(['Training accuracy','Testing accuracy'])\n",
        "plt.axis([0, 100, 0, 1])\n",
        "plt.xlabel('Epochs')\n",
        "plt.ylabel('Accuracy')"
      ],
      "metadata": {
        "colab": {
          "base_uri": "https://localhost:8080/",
          "height": 606
        },
        "id": "sAx431i0WYuZ",
        "outputId": "ec67ce7c-08de-45f8-bfac-cb1e3502b7cc"
      },
      "execution_count": 39,
      "outputs": [
        {
          "output_type": "execute_result",
          "data": {
            "text/plain": [
              "Text(0, 0.5, 'Accuracy')"
            ]
          },
          "metadata": {},
          "execution_count": 39
        },
        {
          "output_type": "display_data",
          "data": {
            "text/plain": [
              "<Figure size 1800x720 with 1 Axes>"
            ],
            "image/png": "[encoded data removed]"
          },
          "metadata": {
            "needs_background": "light"
          }
        }
      ]
    },
    {
      "cell_type": "code",
      "source": [
        "max(history['history']['val_accuracy'])"
      ],
      "metadata": {
        "id": "SrGpHRGgmMbx",
        "colab": {
          "base_uri": "https://localhost:8080/"
        },
        "outputId": "c0593633-cef1-4f6b-ba4f-27180a204d27"
      },
      "execution_count": 22,
      "outputs": [
        {
          "output_type": "execute_result",
          "data": {
            "text/plain": [
              "0.507643055"
            ]
          },
          "metadata": {},
          "execution_count": 22
        }
      ]
    },
    {
      "cell_type": "code",
      "source": [
        "from keras.models import load_model\n",
        "\n",
        "model=load_model(file_path_model+\"msp_mfcc_[CNN-LSTM]Model_100epoch.h5\")\n"
      ],
      "metadata": {
        "id": "o7hE0j4VK_3J"
      },
      "execution_count": 27,
      "outputs": []
    },
    {
      "cell_type": "code",
      "source": [
        "lb = LabelEncoder()\n",
        "y_train = np_utils.to_categorical(lb.fit_transform(np.ravel(y_train)))\n",
        "y_test = np_utils.to_categorical(lb.transform(np.ravel(y_test)))\n",
        "X_test = X_test.reshape(X_test.shape[0], X_test.shape[1] , X_test.shape[2], X_test.shape[3], 1)\n",
        "y_pred=model.predict(X_test)\n",
        "y_classes = y_pred.argmax(axis=-1)"
      ],
      "metadata": {
        "id": "jZ5InjUWLBI_"
      },
      "execution_count": 28,
      "outputs": []
    },
    {
      "cell_type": "code",
      "source": [
        "y_pred1=np.around(y_pred)\n",
        "y_pred1"
      ],
      "metadata": {
        "colab": {
          "base_uri": "https://localhost:8080/"
        },
        "id": "qdBfJ3T0LC_i",
        "outputId": "bc433b17-86c2-4b46-eb5f-7c8a08470669"
      },
      "execution_count": 29,
      "outputs": [
        {
          "output_type": "execute_result",
          "data": {
            "text/plain": [
              "array([[1., 0., 0., ..., 0., 0., 0.],\n",
              "       [0., 0., 0., ..., 0., 0., 0.],\n",
              "       [0., 0., 0., ..., 0., 0., 0.],\n",
              "       ...,\n",
              "       [0., 0., 0., ..., 0., 0., 0.],\n",
              "       [0., 0., 0., ..., 0., 0., 1.],\n",
              "       [1., 0., 0., ..., 0., 0., 0.]], dtype=float32)"
            ]
          },
          "metadata": {},
          "execution_count": 29
        }
      ]
    },
    {
      "cell_type": "code",
      "source": [
        "gfcc_dict={\"y_test_gfcc\":y_test,\"y_pred_gfcc\":y_pred1}\n",
        "gfcc_dict"
      ],
      "metadata": {
        "colab": {
          "base_uri": "https://localhost:8080/"
        },
        "id": "TMtPU6T1LFJW",
        "outputId": "630638ea-6840-4b15-c388-a7d1b2067a83"
      },
      "execution_count": 30,
      "outputs": [
        {
          "output_type": "execute_result",
          "data": {
            "text/plain": [
              "{'y_pred_gfcc': array([[1., 0., 0., ..., 0., 0., 0.],\n",
              "        [0., 0., 0., ..., 0., 0., 0.],\n",
              "        [0., 0., 0., ..., 0., 0., 0.],\n",
              "        ...,\n",
              "        [0., 0., 0., ..., 0., 0., 0.],\n",
              "        [0., 0., 0., ..., 0., 0., 1.],\n",
              "        [1., 0., 0., ..., 0., 0., 0.]], dtype=float32),\n",
              " 'y_test_gfcc': array([[0., 1.],\n",
              "        [1., 0.],\n",
              "        [1., 0.],\n",
              "        ...,\n",
              "        [0., 1.],\n",
              "        [0., 1.],\n",
              "        [1., 0.]], dtype=float32)}"
            ]
          },
          "metadata": {},
          "execution_count": 30
        }
      ]
    },
    {
      "cell_type": "code",
      "source": [
        "from sklearn.metrics import f1_score\n",
        "\n",
        "# Calculating the F1 score of classifier\n",
        "print(f\"F1 Score of the classifier is: {f1_score(y_test, y_pred1,average='micro')}\")"
      ],
      "metadata": {
        "id": "I5I7--fMLHKz"
      },
      "execution_count": null,
      "outputs": []
    },
    {
      "cell_type": "code",
      "source": [
        "from sklearn.metrics import precision_score\n",
        "\n",
        "# Calculating the precision score of classifier\n",
        "print(f\"Precision Score of the classifier is: {precision_score(y_test,y_pred1,average='micro')}\")"
      ],
      "metadata": {
        "id": "BNXdNGAMLKdD"
      },
      "execution_count": null,
      "outputs": []
    },
    {
      "cell_type": "code",
      "source": [
        "y_test"
      ],
      "metadata": {
        "id": "_-ApvtNDLMjg"
      },
      "execution_count": null,
      "outputs": []
    },
    {
      "cell_type": "code",
      "source": [
        "y_pred"
      ],
      "metadata": {
        "id": "K1dCkzLtLOaN"
      },
      "execution_count": null,
      "outputs": []
    },
    {
      "cell_type": "code",
      "source": [
        "pickle.dump(gfcc_dict, open(file_path_model+'dict_values.p', 'wb'))"
      ],
      "metadata": {
        "id": "fmZl1De9LQsL"
      },
      "execution_count": null,
      "outputs": []
    },
    {
      "cell_type": "code",
      "source": [
        ""
      ],
      "metadata": {
        "id": "RgvCN_anTOlS"
      },
      "execution_count": null,
      "outputs": []
    }
  ]
}