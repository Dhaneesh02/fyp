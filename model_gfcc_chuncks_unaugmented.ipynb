{
  "nbformat": 4,
  "nbformat_minor": 0,
  "metadata": {
    "colab": {
      "name": "model_gfcc_chuncks_unaugmented.ipynb",
      "provenance": [],
      "machine_shape": "hm",
      "collapsed_sections": [],
      "include_colab_link": true
    },
    "kernelspec": {
      "name": "python3",
      "display_name": "Python 3"
    },
    "language_info": {
      "name": "python"
    },
    "accelerator": "GPU"
  },
  "cells": [
    {
      "cell_type": "markdown",
      "metadata": {
        "id": "view-in-github",
        "colab_type": "text"
      },
      "source": [
        "<a href=\"https://colab.research.google.com/github/Dhaneesh02/fyp/blob/model_gfcc_chuncks_unaugmented/model_gfcc_chuncks_unaugmented.ipynb\" target=\"_parent\"><img src=\"https://colab.research.google.com/assets/colab-badge.svg\" alt=\"Open In Colab\"/></a>"
      ]
    },
    {
      "cell_type": "code",
      "source": [
        "file_path = '/content/drive/MyDrive/Review_3/'\n",
        "file_path_model = '/content/drive/MyDrive/Review_3/gfcc_chuncks_unaugmented/'"
      ],
      "metadata": {
        "id": "GPFdVXjCAnTS"
      },
      "execution_count": null,
      "outputs": []
    },
    {
      "cell_type": "code",
      "execution_count": null,
      "metadata": {
        "colab": {
          "base_uri": "https://localhost:8080/",
          "height": 17
        },
        "id": "-mK_p7Vx-Gr_",
        "outputId": "da2641ce-abf5-41fc-97e1-20de823d86ac"
      },
      "outputs": [
        {
          "output_type": "display_data",
          "data": {
            "text/html": [
              "        <script type=\"text/javascript\">\n",
              "        window.PlotlyConfig = {MathJaxConfig: 'local'};\n",
              "        if (window.MathJax) {MathJax.Hub.Config({SVG: {font: \"STIX-Web\"}});}\n",
              "        if (typeof require !== 'undefined') {\n",
              "        require.undef(\"plotly\");\n",
              "        requirejs.config({\n",
              "            paths: {\n",
              "                'plotly': ['https://cdn.plot.ly/plotly-2.8.3.min']\n",
              "            }\n",
              "        });\n",
              "        require(['plotly'], function(Plotly) {\n",
              "            window._Plotly = Plotly;\n",
              "        });\n",
              "        }\n",
              "        </script>\n",
              "        "
            ]
          },
          "metadata": {}
        }
      ],
      "source": [
        "### General imports ###\n",
        "import os\n",
        "from glob import glob\n",
        "import pickle\n",
        "import itertools\n",
        "from scipy.stats import zscore\n",
        "from sklearn.model_selection import train_test_split\n",
        "import random\n",
        "import sys\n",
        "\n",
        "\n",
        "## Package\n",
        "import glob \n",
        "import keras\n",
        "import IPython.display as ipd\n",
        "import librosa\n",
        "import librosa.display\n",
        "import matplotlib.pyplot as plt\n",
        "import numpy as np\n",
        "import pandas as pd\n",
        "import plotly.graph_objs as go\n",
        "import plotly.offline as py\n",
        "import plotly.tools as tls\n",
        "import seaborn as sns\n",
        "import scipy.io.wavfile\n",
        "import tensorflow as tf\n",
        "py.init_notebook_mode(connected=True)\n",
        "\n",
        "\n",
        "## Keras\n",
        "from keras import regularizers\n",
        "from keras.callbacks import ModelCheckpoint, LearningRateScheduler, EarlyStopping\n",
        "from keras.callbacks import  History, ReduceLROnPlateau, CSVLogger\n",
        "from keras.models import Model, Sequential\n",
        "from keras.layers import Dense, Embedding, LSTM\n",
        "from keras.layers import Input, Flatten, Dropout, Activation, BatchNormalization\n",
        "from keras.layers import Conv1D, MaxPooling1D, AveragePooling1D\n",
        "from keras.preprocessing import sequence\n",
        "from keras.preprocessing.sequence import pad_sequences\n",
        "from keras.preprocessing.text import Tokenizer\n",
        "from keras.utils import np_utils\n",
        "\n",
        "\n",
        "## Sklearn\n",
        "from sklearn.metrics import confusion_matrix\n",
        "from sklearn.preprocessing import LabelEncoder\n",
        "\n",
        "\n",
        "## Rest\n",
        "from scipy.fftpack import fft\n",
        "from scipy import signal\n",
        "from scipy.io import wavfile\n",
        "from tqdm import tqdm\n",
        "\n",
        "input_duration=3\n",
        "# % pylab inline\n",
        "### Graph imports ###\n",
        "from PIL import Image\n",
        "import librosa\n",
        "### Audio import ###\n",
        "\n",
        "import IPython\n",
        "from IPython.display import Audio"
      ]
    },
    {
      "cell_type": "code",
      "source": [
        "from google.colab import drive\n",
        "drive.mount('/content/drive')"
      ],
      "metadata": {
        "colab": {
          "base_uri": "https://localhost:8080/"
        },
        "id": "5V_9hUndAisL",
        "outputId": "05aede82-78f2-4081-dd19-155c4471b549"
      },
      "execution_count": null,
      "outputs": [
        {
          "output_type": "stream",
          "name": "stdout",
          "text": [
            "Mounted at /content/drive\n"
          ]
        }
      ]
    },
    {
      "cell_type": "code",
      "source": [
        "import csv\n",
        "from dataclasses import dataclass\n",
        "file = open(file_path+\"filtered_annotations_msp_3500.csv\")\n",
        "csvreader = csv.reader(file)\n",
        "header = next(csvreader)\n",
        "# print(header)\n",
        "csv_data = []\n",
        "for row in csvreader:\n",
        "    csv_data.append(row)\n",
        "\n",
        "file.close()\n",
        "labelling_data = dict()\n",
        "\n",
        "for i in csv_data:\n",
        "    labelling_data[i[0]]=i[1]\n",
        "    \n",
        "  \n",
        "print(len(csv_data))"
      ],
      "metadata": {
        "colab": {
          "base_uri": "https://localhost:8080/"
        },
        "id": "vKgpGgWIAmCb",
        "outputId": "a46587aa-573a-474f-8f9c-19c05e11a0bc"
      },
      "execution_count": null,
      "outputs": [
        {
          "output_type": "stream",
          "name": "stdout",
          "text": [
            "3500\n"
          ]
        }
      ]
    },
    {
      "cell_type": "code",
      "source": [
        "!pip install pydub\n",
        "from pydub import AudioSegment\n",
        "from pydub.silence import split_on_silence,detect_silence,detect_nonsilent"
      ],
      "metadata": {
        "colab": {
          "base_uri": "https://localhost:8080/"
        },
        "id": "7WUE1sPkBPaL",
        "outputId": "a2920a7f-9f90-4001-9f13-460bb4f069aa"
      },
      "execution_count": null,
      "outputs": [
        {
          "output_type": "stream",
          "name": "stdout",
          "text": [
            "Looking in indexes: https://pypi.org/simple, https://us-python.pkg.dev/colab-wheels/public/simple/\n",
            "Collecting pydub\n",
            "  Downloading pydub-0.25.1-py2.py3-none-any.whl (32 kB)\n",
            "Installing collected packages: pydub\n",
            "Successfully installed pydub-0.25.1\n"
          ]
        }
      ]
    },
    {
      "cell_type": "code",
      "source": [
        "# # Start feature extraction\n",
        "# print(\"Import Data: START\")\n",
        "\n",
        "# # Audio file path and names\n",
        "# file_path_dataset = '/content/drive/MyDrive/Review_3/Data_msp_3500/'\n",
        "\n",
        "# # Initialize features and labels list\n",
        "# signal = []\n",
        "# labels = []\n",
        "\n",
        "# # Sample rate (16.0 kHz)\n",
        "# sample_rate = 16000     \n",
        "\n",
        "# # Max pad length (3.0 sec)\n",
        "# max_pad_len = 49100\n",
        "\n",
        "\n",
        "# file_names=[]\n",
        "\n",
        "# #data_visualisation\n",
        "# count = 0\n",
        "\n",
        "# def find_breaking_duration(self, arr, threshold, step=2500, prev=0):\n",
        "#   result =0 \n",
        "#   for [i,j] in arr:\n",
        "#     if(j<threshold):\n",
        "#       result=j\n",
        "#     else:\n",
        "#       break\n",
        "#   if (threshold-result) > 1000:\n",
        "#     return prev+step\n",
        "#   return result\n",
        "\n",
        "# max_=0\n",
        "# print(\"Import Data: RUNNING ... files\")\n",
        "# for i in labelling_data:\n",
        "#   cur_file = file_path_dataset + i\n",
        "#   y, sr = librosa.core.load(cur_file, sr=sample_rate, offset=0)\n",
        "#   y = zscore(y)\n",
        "#   # print(len(y))\n",
        "#   file_ = AudioSegment.from_wav(cur_file)\n",
        "#   #each chunck to hava a length of 3 sec\n",
        "#   silence = detect_silence(file_, min_silence_len = 100, silence_thresh=-35)\n",
        "#   # print(silence)\n",
        "#   prev_breakpoint = 0\n",
        "#   file_c = 0 \n",
        "#   for j in range(2500, len(file_), 2500):\n",
        "#     break_point = find_breaking_duration(arr = silence, threshold = j, prev = prev_breakpoint) \n",
        "#     if prev_breakpoint == 0:\n",
        "#       y_padded = np.zeros(max_pad_len)\n",
        "#       breakpoint = (breakpoint/1000)*16366 \n",
        "#       y_padded[:breakpoint] = y[:breakpoint]\n",
        "#     else:\n",
        "#       y_padded = np.zeros(max_pad_len)\n",
        "#       breakpoint = (breakpoint/1000)*16366\n",
        "#       prev_breakpoint = (prev_breakpoint/1000)*16366\n",
        "#       y_padded[prev_breakpoint:breakpoint] = y[prev_breakpoint:breakpoint]\n",
        "#     prev_breakpoint = break_point\n",
        "#     signal.append(y_padded)\n",
        "#     labels.append(labelling_data[i])\n",
        "#     temp_name = i[:-4]\n",
        "#     file_names.append(temp_name+\"_\"+str(file_c)+\".wav\")\n",
        "#     filr_c += 1\n",
        "#   if count%400 == 0:\n",
        "#     print(count,len(signal))\n",
        "#   if count==3:\n",
        "#     break\n",
        "#   count += 1\n",
        "# # Cast labels to array\n",
        "# labels = np.asarray(labels).ravel()\n",
        "\n",
        "# # Stop feature extraction\n",
        "# print(\"Import Data: END \\n\")\n",
        "# print(\"Number of audio files imported: {}\".format(labels.shape[0]),\"  \",count)\n"
      ],
      "metadata": {
        "id": "dNyTPKf0A4zA"
      },
      "execution_count": null,
      "outputs": []
    },
    {
      "cell_type": "code",
      "source": [
        "# Start feature extraction\n",
        "print(\"Import Data: START\")\n",
        "\n",
        "# Audio file path and names\n",
        "file_path_dataset = '/content/drive/MyDrive/Review_3/Data_msp_3500/'\n",
        "\n",
        "# Initialize features and labels list\n",
        "signal = []\n",
        "labels = []\n",
        "\n",
        "# Sample rate (16.0 kHz)\n",
        "sample_rate = 16000     \n",
        "\n",
        "# Max pad length (3.0 sec)\n",
        "max_pad_len = 49100\n",
        "\n",
        "\n",
        "file_names=[]\n",
        "\n",
        "#data_visualisation\n",
        "count = 0\n",
        "\n",
        "final_emo = {'Happy':0,'Sad':0,'Neutral':0,'Surprise':0,'Angry':0,'Disgust':0,'Fear':0}\n",
        "\n",
        "max_=0\n",
        "print(\"Import Data: RUNNING ... files\")\n",
        "for i in labelling_data:\n",
        "  cur_file = file_path_dataset + i\n",
        "  y, sr = librosa.core.load(cur_file, sr=sample_rate, offset=0)\n",
        "  y = zscore(y)\n",
        "  step = 2600\n",
        "  file_ = AudioSegment.from_wav(cur_file)\n",
        "  # print(len(file_))\n",
        "  prev_breakpoint = 0\n",
        "  file_c  = 0\n",
        "  itr_c = 0\n",
        "  for j in range(2600, len(file_), 2600):\n",
        "    if j == step:\n",
        "      y_padded = np.zeros(max_pad_len)\n",
        "      breakpoint = round((j/1000)*16366) \n",
        "      inc = round((200/1000)*16366)\n",
        "      y_padded[:breakpoint+inc] = y[:breakpoint+inc]\n",
        "    else:\n",
        "      breakpoint = round((j/1000)*16366)\n",
        "      inc = round((200/1000)*16366)      \n",
        "      y_temp = y[prev_breakpoint-inc:breakpoint+inc]\n",
        "      y_padded = np.zeros(max_pad_len-len(y_temp))\n",
        "      y_padded = np.concatenate((y_temp, y_padded))\n",
        "    prev_breakpoint = breakpoint\n",
        "    signal.append(y_padded)\n",
        "    labels.append(labelling_data[i])\n",
        "    final_emo[labelling_data[i]]+=1\n",
        "    temp_name = i[:-4]\n",
        "    file_names.append(temp_name+\"_\"+str(file_c)+\".wav\")\n",
        "    file_c += 1\n",
        "    itr_c += 1\n",
        "    if itr_c == 3:\n",
        "      break\n",
        "  if count%100 == 0:\n",
        "    print(count,len(signal))\n",
        "  # if count==10:\n",
        "  #   break\n",
        "  count += 1\n",
        "# Cast labels to array\n",
        "labels = np.asarray(labels).ravel()\n",
        "\n",
        "# Stop feature extraction\n",
        "print(\"Import Data: END \\n\")\n",
        "print(\"Number of audio files imported: {}\".format(labels.shape[0]),\"  \",count)\n",
        "print(final_emo)"
      ],
      "metadata": {
        "colab": {
          "base_uri": "https://localhost:8080/"
        },
        "id": "OGGHfU6qJ3FF",
        "outputId": "a3593b98-a06f-45be-9c8e-d9ba851a30ea"
      },
      "execution_count": null,
      "outputs": [
        {
          "output_type": "stream",
          "name": "stdout",
          "text": [
            "Import Data: START\n",
            "Import Data: RUNNING ... files\n",
            "0 3\n",
            "100 300\n",
            "200 597\n",
            "300 897\n",
            "400 1197\n",
            "500 1495\n",
            "600 1793\n",
            "700 2090\n",
            "800 2386\n",
            "900 2685\n",
            "1000 2985\n",
            "1100 3285\n",
            "1200 3583\n",
            "1300 3883\n",
            "1400 4180\n",
            "1500 4477\n",
            "1600 4773\n",
            "1700 5068\n",
            "1800 5364\n",
            "1900 5659\n",
            "2000 5954\n",
            "2100 6252\n",
            "2200 6548\n",
            "2300 6842\n",
            "2400 7136\n",
            "2500 7430\n",
            "2600 7723\n",
            "2700 8015\n",
            "2800 8306\n",
            "2900 8593\n",
            "3000 8883\n",
            "3100 9170\n",
            "3200 9463\n",
            "3300 9763\n",
            "3400 10056\n",
            "Import Data: END \n",
            "\n",
            "Number of audio files imported: 10306    3500\n",
            "{'Happy': 1500, 'Sad': 1500, 'Neutral': 1500, 'Surprise': 1500, 'Angry': 1500, 'Disgust': 1500, 'Fear': 1306}\n"
          ]
        }
      ]
    },
    {
      "cell_type": "code",
      "source": [
        "pickle.dump(signal, open(file_path_model+'signal.p', 'wb'))\n",
        "pickle.dump(file_names, open(file_path_model+'file_names.p', 'wb'))\n",
        "pickle.dump(labels, open(file_path_model+'labels.p', 'wb'))"
      ],
      "metadata": {
        "id": "YdUtIvqsSHh3"
      },
      "execution_count": null,
      "outputs": []
    },
    {
      "cell_type": "code",
      "source": [
        "file_path = '/content/drive/MyDrive/Review_3/'\n",
        "\n",
        "# Initialize features and labels list\n",
        "signal = []\n",
        "labels = []\n",
        "file_names = []\n",
        "\n",
        "# Sample rate (16.0 kHz)\n",
        "sample_rate = 16000     \n",
        "\n",
        "# Max pad length (3.0 sec)\n",
        "max_pad_len = 49100\n",
        "\n",
        "\n",
        "signal=pickle.load(open(file_path_model+\"signal.p\",\"rb\"))\n",
        "file_names=pickle.load(open(file_path_model+\"file_names.p\",\"rb\"))\n",
        "labels=pickle.load(open(file_path_model+\"labels.p\",\"rb\"))\n",
        "\n",
        "#data_visualisation\n",
        "count = len(signal)\n",
        "print(\"Import Data: END \\n\")\n",
        "print(\"Number of audio files imported: {}\".format(labels.shape[0]))"
      ],
      "metadata": {
        "id": "S_FvEvcHSPcV",
        "colab": {
          "base_uri": "https://localhost:8080/"
        },
        "outputId": "0551e214-2aa9-437e-842e-bbfb0f83a370"
      },
      "execution_count": null,
      "outputs": [
        {
          "output_type": "stream",
          "name": "stdout",
          "text": [
            "Import Data: END \n",
            "\n",
            "Number of audio files imported: 10306\n"
          ]
        }
      ]
    },
    {
      "cell_type": "code",
      "source": [
        "# # Number of augmented data\n",
        "# nb_augmented = 1\n",
        "# # Function to add noise to a signals with a desired Signal Noise ratio (SNR)\n",
        "# def noisy_signal(signal, snr_low=15, snr_high=30, nb_augmented=1):\n",
        "#     # Signal length\n",
        "#     signal_len = len(signal)\n",
        "\n",
        "#     # Generate White noise\n",
        "#     noise = np.random.normal(size=(nb_augmented, signal_len))\n",
        "    \n",
        "#     # Compute signal and noise power\n",
        "#     s_power = np.sum((signal / (2.0 ** 15)) ** 2) / signal_len\n",
        "#     n_power = np.sum((noise / (2.0 ** 15)) ** 2, axis=1) / signal_len\n",
        "    \n",
        "#     # Random SNR: Uniform [15, 30]\n",
        "#     snr = np.random.randint(snr_low, snr_high)\n",
        "    \n",
        "#     # Compute K coeff for each noise\n",
        "#     K = np.sqrt((s_power / n_power) * 10 ** (- snr / 10))\n",
        "#     K = np.ones((signal_len, nb_augmented)) * K\n",
        "    \n",
        "#     # Generate noisy signal\n",
        "#     return signal + K.T * noise"
      ],
      "metadata": {
        "id": "EXibgPfnSXO1"
      },
      "execution_count": null,
      "outputs": []
    },
    {
      "cell_type": "code",
      "source": [
        "# # Generate noisy signals from signal list\n",
        "# print(\"Data Augmentation: START\")\n",
        "# # augmented_signal = list(map(noisy_signal, signal))\n",
        "# c=0\n",
        "# print(len(signal))\n",
        "# augmented_signal = []\n",
        "# for i in signal:\n",
        "#   augmented_signal.append(noisy_signal(i)[0])\n",
        "#   if c%300==0:\n",
        "#     print(c)\n",
        "#   c+=1\n",
        "# print(\"Data Augmentation: END!\")\n",
        "# print(len(augmented_signal))"
      ],
      "metadata": {
        "colab": {
          "base_uri": "https://localhost:8080/"
        },
        "id": "AeC7JFqVSZJK",
        "outputId": "058a6cee-f66a-45a9-f27a-966d357d575e"
      },
      "execution_count": null,
      "outputs": [
        {
          "output_type": "stream",
          "name": "stdout",
          "text": [
            "Data Augmentation: START\n",
            "10306\n",
            "0\n",
            "300\n",
            "600\n",
            "900\n",
            "1200\n",
            "1500\n",
            "1800\n",
            "2100\n",
            "2400\n",
            "2700\n",
            "3000\n",
            "3300\n",
            "3600\n",
            "3900\n",
            "4200\n",
            "4500\n",
            "4800\n",
            "5100\n",
            "5400\n",
            "5700\n",
            "6000\n",
            "6300\n",
            "6600\n",
            "6900\n",
            "7200\n",
            "7500\n",
            "7800\n",
            "8100\n",
            "8400\n",
            "8700\n",
            "9000\n",
            "9300\n",
            "9600\n",
            "9900\n",
            "10200\n",
            "Data Augmentation: END!\n",
            "10306\n"
          ]
        }
      ]
    },
    {
      "cell_type": "code",
      "source": [
        "g=0\n",
        "def mel_spectrogram(y, sr=16000, n_fft=512, win_length=256, hop_length=128, window='hamming', n_mels=128, fmax=4000):\n",
        "    global g\n",
        "    if g%300==0:\n",
        "      print(g) \n",
        "    g+=1\n",
        "    # Compute spectogram\n",
        "    mel_spect = np.abs(librosa.stft(y, n_fft=n_fft, window=window, win_length=win_length, hop_length=hop_length)) ** 2\n",
        "    \n",
        "    # Compute mel spectrogram\n",
        "    mel_spect = librosa.feature.melspectrogram(S=mel_spect, sr=sr, n_mels=n_mels, fmax=fmax)\n",
        "    \n",
        "    # Compute log-mel spectrogram\n",
        "    mel_spect = librosa.power_to_db(mel_spect, ref=np.max)\n",
        "    \n",
        "    return mel_spect"
      ],
      "metadata": {
        "id": "yzfb0WqySa6j"
      },
      "execution_count": null,
      "outputs": []
    },
    {
      "cell_type": "code",
      "source": [
        "import gc"
      ],
      "metadata": {
        "id": "04OsnhpTSccC"
      },
      "execution_count": null,
      "outputs": []
    },
    {
      "cell_type": "code",
      "source": [
        "#librosa.version.version=0.7.2\n",
        "#spafe.sys.version=3.7.6 \n",
        "!pip install spafe\n",
        "import spafe\n",
        "from librosa import display\n",
        "from spafe.fbanks.gammatone_fbanks import gammatone_filter_banks\n"
      ],
      "metadata": {
        "colab": {
          "base_uri": "https://localhost:8080/"
        },
        "id": "C5UzYfS17rvt",
        "outputId": "d710d74b-34a3-4cc5-d9ee-4c6ef5043b60"
      },
      "execution_count": null,
      "outputs": [
        {
          "output_type": "stream",
          "name": "stdout",
          "text": [
            "Looking in indexes: https://pypi.org/simple, https://us-python.pkg.dev/colab-wheels/public/simple/\n",
            "Collecting spafe\n",
            "  Downloading spafe-0.1.2-py3-none-any.whl (77 kB)\n",
            "\u001b[K     |████████████████████████████████| 77 kB 4.4 MB/s \n",
            "\u001b[?25hRequirement already satisfied: scipy>=1.3.1 in /usr/local/lib/python3.7/dist-packages (from spafe) (1.4.1)\n",
            "Requirement already satisfied: numpy>=1.17.2 in /usr/local/lib/python3.7/dist-packages (from spafe) (1.21.6)\n",
            "Installing collected packages: spafe\n",
            "Successfully installed spafe-0.1.2\n"
          ]
        }
      ]
    },
    {
      "cell_type": "code",
      "source": [
        "def Log_Gammatone_Spectrum(y, sr=16000, n_fft=512, win_length=256, hop_length=128, window='hamming', n_mels=128, fmax=4000): \n",
        "    # y,sr=librosa.load(File_name,sr)\n",
        "    gam_spect = np.abs(librosa.stft(y, n_fft=n_fft, window=window, win_length=win_length, hop_length=hop_length)) ** 2\n",
        "    \n",
        "    gammatone_filter_bank = gammatone_filter_banks(nfilts=128, nfft=512, fs=sr, low_freq=50, high_freq=None, scale='contsant', order=4)\n",
        "    # print(gam_spect.shape,gammatone_filter_bank.shape)\n",
        "\n",
        "    Gam=gammatone_filter_bank.dot(gam_spect)\n",
        "    LogGamSpec = librosa.power_to_db(Gam,ref=np.max)\n",
        "    # display.specshow(LogGamSpec,y_axis='log')\n",
        "    return LogGamSpec"
      ],
      "metadata": {
        "id": "VYcmXiTb7kL8"
      },
      "execution_count": null,
      "outputs": []
    },
    {
      "cell_type": "code",
      "source": [
        "# Start feature extraction\n",
        "print(\"Feature extraction: START\")\n",
        "\n",
        "# Compute spectogram for all audio file\n",
        "mel_spect = []\n",
        "# print(len(signal),len(s))\n",
        "for i in range(len(signal)):\n",
        "  mel_spect.append(Log_Gammatone_Spectrum(signal[i]))\n",
        "\n",
        "\n",
        "mel_spect = np.asarray(mel_spect)\n",
        "del signal\n",
        "gc.collect()\n",
        "\n",
        "# Stop feature extraction\n",
        "print(\"Feature extraction: END!\")"
      ],
      "metadata": {
        "colab": {
          "base_uri": "https://localhost:8080/"
        },
        "id": "tupYZ1xOSext",
        "outputId": "87d0fd8b-2f6f-44ea-dac5-9954d9ad44b6"
      },
      "execution_count": null,
      "outputs": [
        {
          "output_type": "stream",
          "name": "stdout",
          "text": [
            "Feature extraction: START\n",
            "Feature extraction: END!\n"
          ]
        }
      ]
    },
    {
      "cell_type": "code",
      "source": [
        "pickle.dump(mel_spect, open(file_path_model+'mel_spect.p', 'wb'), protocol=4)\n"
      ],
      "metadata": {
        "id": "6Om1_EFPlnpN"
      },
      "execution_count": null,
      "outputs": []
    },
    {
      "cell_type": "code",
      "source": [
        "# # Start feature extraction\n",
        "# print(\"Feature extraction: START\")\n",
        "\n",
        "# augmented_mel_spect = []\n",
        "# for i in range(len(augmented_signal)):\n",
        "#   augmented_mel_spect.append(Log_Gammatone_Spectrum(augmented_signal[i]))\n",
        "# augmented_mel_spect =  np.asarray(augmented_mel_spect)\n",
        "# del augmented_signal\n",
        "# gc.collect()\n",
        "\n",
        "# # Stop feature extraction\n",
        "# print(\"Feature extraction: END!\")"
      ],
      "metadata": {
        "id": "-IyrHo--SgJF"
      },
      "execution_count": null,
      "outputs": []
    },
    {
      "cell_type": "code",
      "source": [
        "\n",
        "# print(mel_spect.shape)\n",
        "# print(augmented_mel_spect.shape)\n",
        "# print(labels.shape)"
      ],
      "metadata": {
        "id": "KHvOgKOzSjcK"
      },
      "execution_count": null,
      "outputs": []
    },
    {
      "cell_type": "code",
      "source": [
        "\n",
        "# pickle.dump(augmented_mel_spect, open(file_path_model+'augmented_mel_spect.p', 'wb'), protocol=4)\n"
      ],
      "metadata": {
        "id": "imb3qHesSlec"
      },
      "execution_count": null,
      "outputs": []
    },
    {
      "cell_type": "code",
      "source": [
        "labels=pickle.load(open(file_path_model+\"labels.p\",\"rb\"))"
      ],
      "metadata": {
        "id": "PI1pmF_IVdSF"
      },
      "execution_count": null,
      "outputs": []
    },
    {
      "cell_type": "code",
      "source": [
        "# Build Train and test dataset\n",
        "MEL_SPECT_train, MEL_SPECT_test,  label_train, label_test = train_test_split(mel_spect,  labels, test_size=0.2)\n",
        "# MEL_SPECT_train, MEL_SPECT_test, AUG_MEL_SPECT_train, AUG_MEL_SPECT_test, label_train, label_test = train_test_split(mel_spect, augmented_mel_spect, labels, test_size=0.2)\n",
        "\n",
        "# Build augmented labels and train\n",
        "# aug_label_train = np.asarray(list(itertools.chain.from_iterable([[label] * nb_augmented for label in label_train])))\n",
        "# AUG_MEL_SPECT_train = np.asarray(list(itertools.chain.from_iterable(AUG_MEL_SPECT_train)))\n",
        "# AUG_MEL_SPECT_test = np.asarray(list(itertools.chain.from_iterable(AUG_MEL_SPECT_test)))\n",
        "# aug_label_test = np.asarray(list(itertools.chain.from_iterable([[label] * nb_augmented for label in label_test])))\n",
        "# print(AUG_MEL_SPECT_train.shape)\n",
        "# print(AUG_MEL_SPECT_test.shape)\n",
        "# Concatenate original and augmented\n",
        "X_train = MEL_SPECT_train\n",
        "y_train = label_train\n",
        "# X_train = np.concatenate((MEL_SPECT_train, AUG_MEL_SPECT_train))\n",
        "# y_train = np.concatenate((label_train, label_train))\n",
        "\n",
        "print(\"x_train: \",X_train.shape)\n",
        "print(\"y_train: \",y_train.shape)\n",
        "# Build test set\n",
        "# X_test = np.concatenate((MEL_SPECT_test, AUG_MEL_SPECT_test))\n",
        "X_test = MEL_SPECT_test\n",
        "# y_test = np.concatenate((label_test, label_test))\n",
        "y_test = label_test\n",
        "print(X_test.shape)\n",
        "print(y_test.shape)\n",
        "# Delete\n",
        "del MEL_SPECT_train,MEL_SPECT_test\n",
        "# del MEL_SPECT_train, AUG_MEL_SPECT_train, label_train, AUG_MEL_SPECT_test, MEL_SPECT_test, label_test\n",
        "del mel_spect, augmented_mel_spect, labels"
      ],
      "metadata": {
        "colab": {
          "base_uri": "https://localhost:8080/",
          "height": 317
        },
        "id": "m3FANhgdViOM",
        "outputId": "05e29a26-7825-4d7e-f426-7e974e203740"
      },
      "execution_count": null,
      "outputs": [
        {
          "output_type": "stream",
          "name": "stdout",
          "text": [
            "x_train:  (8244, 128, 384)\n",
            "y_train:  (8244,)\n",
            "(2062, 128, 384)\n",
            "(2062,)\n"
          ]
        },
        {
          "output_type": "error",
          "ename": "NameError",
          "evalue": "ignored",
          "traceback": [
            "\u001b[0;31m---------------------------------------------------------------------------\u001b[0m",
            "\u001b[0;31mNameError\u001b[0m                                 Traceback (most recent call last)",
            "\u001b[0;32m<ipython-input-17-6089341e072f>\u001b[0m in \u001b[0;36m<module>\u001b[0;34m()\u001b[0m\n\u001b[1;32m     27\u001b[0m \u001b[0;31m# Delete\u001b[0m\u001b[0;34m\u001b[0m\u001b[0;34m\u001b[0m\u001b[0;34m\u001b[0m\u001b[0m\n\u001b[1;32m     28\u001b[0m \u001b[0;31m# del MEL_SPECT_train,MEL_SPECT_test\u001b[0m\u001b[0;34m\u001b[0m\u001b[0;34m\u001b[0m\u001b[0;34m\u001b[0m\u001b[0m\n\u001b[0;32m---> 29\u001b[0;31m \u001b[0;32mdel\u001b[0m \u001b[0mMEL_SPECT_train\u001b[0m\u001b[0;34m,\u001b[0m \u001b[0mAUG_MEL_SPECT_train\u001b[0m\u001b[0;34m,\u001b[0m \u001b[0mlabel_train\u001b[0m\u001b[0;34m,\u001b[0m \u001b[0mAUG_MEL_SPECT_test\u001b[0m\u001b[0;34m,\u001b[0m \u001b[0mMEL_SPECT_test\u001b[0m\u001b[0;34m,\u001b[0m \u001b[0mlabel_test\u001b[0m\u001b[0;34m\u001b[0m\u001b[0;34m\u001b[0m\u001b[0m\n\u001b[0m\u001b[1;32m     30\u001b[0m \u001b[0;32mdel\u001b[0m \u001b[0mmel_spect\u001b[0m\u001b[0;34m,\u001b[0m \u001b[0maugmented_mel_spect\u001b[0m\u001b[0;34m,\u001b[0m \u001b[0mlabels\u001b[0m\u001b[0;34m\u001b[0m\u001b[0;34m\u001b[0m\u001b[0m\n",
            "\u001b[0;31mNameError\u001b[0m: name 'AUG_MEL_SPECT_train' is not defined"
          ]
        }
      ]
    },
    {
      "cell_type": "code",
      "source": [
        "del MEL_SPECT_train,MEL_SPECT_test,signal"
      ],
      "metadata": {
        "colab": {
          "base_uri": "https://localhost:8080/",
          "height": 171
        },
        "id": "kB5eB4bziwZL",
        "outputId": "eab804bb-bb63-4523-dfa5-fbbfb4f97e72"
      },
      "execution_count": null,
      "outputs": [
        {
          "output_type": "error",
          "ename": "NameError",
          "evalue": "ignored",
          "traceback": [
            "\u001b[0;31m---------------------------------------------------------------------------\u001b[0m",
            "\u001b[0;31mNameError\u001b[0m                                 Traceback (most recent call last)",
            "\u001b[0;32m<ipython-input-18-ea8133f41222>\u001b[0m in \u001b[0;36m<module>\u001b[0;34m()\u001b[0m\n\u001b[0;32m----> 1\u001b[0;31m \u001b[0;32mdel\u001b[0m \u001b[0mMEL_SPECT_train\u001b[0m\u001b[0;34m,\u001b[0m\u001b[0mMEL_SPECT_test\u001b[0m\u001b[0;34m,\u001b[0m\u001b[0msignal\u001b[0m\u001b[0;34m\u001b[0m\u001b[0;34m\u001b[0m\u001b[0m\n\u001b[0m",
            "\u001b[0;31mNameError\u001b[0m: name 'MEL_SPECT_train' is not defined"
          ]
        }
      ]
    },
    {
      "cell_type": "code",
      "source": [
        "win_ts = 128\n",
        "hop_ts = 64\n",
        "\n",
        "def frame(x, win_step=128, win_size=64):\n",
        "    nb_frames = 1 + int((x.shape[2] - win_size) / win_step)\n",
        "    frames = np.zeros((x.shape[0], nb_frames, x.shape[1], win_size)).astype(np.float32)\n",
        "    for t in range(nb_frames):\n",
        "        frames[:,t,:,:] = np.copy(x[:,:,(t * win_step):(t * win_step + win_size)]).astype(np.float32)\n",
        "    return frames\n",
        "\n",
        "X_train = frame(X_train, hop_ts, win_ts)\n",
        "X_test = frame(X_test, hop_ts, win_ts)\n"
      ],
      "metadata": {
        "id": "9PQvkF_7VoMR"
      },
      "execution_count": null,
      "outputs": []
    },
    {
      "cell_type": "code",
      "source": [
        "\n",
        "X_test.shape"
      ],
      "metadata": {
        "colab": {
          "base_uri": "https://localhost:8080/"
        },
        "id": "cLfDOehmVp5v",
        "outputId": "42ce57d4-49df-4020-ab0a-f273f988e54e"
      },
      "execution_count": null,
      "outputs": [
        {
          "output_type": "execute_result",
          "data": {
            "text/plain": [
              "(2062, 5, 128, 128)"
            ]
          },
          "metadata": {},
          "execution_count": 20
        }
      ]
    },
    {
      "cell_type": "code",
      "source": [
        "# Save Train and test set\n",
        "pickle.dump(X_train.astype(np.float16), open(file_path_model+'[msp_mfcc][X_train].p', 'wb'))\n",
        "pickle.dump(y_train, open(file_path_model+'[msp_mfcc][y_train].p', 'wb'))\n",
        "pickle.dump(X_test.astype(np.float16), open(file_path_model+'[msp_mfcc][X_test].p', 'wb'))\n",
        "pickle.dump(y_test, open(file_path_model+'[msp_mfcc][y_test].p', 'wb'))"
      ],
      "metadata": {
        "id": "ai5r1KnDVro4"
      },
      "execution_count": null,
      "outputs": []
    },
    {
      "cell_type": "code",
      "source": [
        "import os\n",
        "from glob import glob\n",
        "import pickle\n",
        "import numpy as np\n",
        "import pandas as pd\n",
        "from keras.utils.vis_utils import plot_model\n",
        "### Plot imports ###\n",
        "from IPython.display import Image\n",
        "import matplotlib.pyplot as plt\n",
        "\n",
        "### Time Distributed ConvNet imports ###\n",
        "import tensorflow as tf\n",
        "from tensorflow.keras.models import Sequential, Model\n",
        "from tensorflow.keras.layers import Input, Dense, Dropout, Activation, TimeDistributed, concatenate\n",
        "from tensorflow.keras.layers import Conv2D, MaxPooling2D, AveragePooling2D, BatchNormalization, LeakyReLU, Flatten\n",
        "from tensorflow.keras.layers import LSTM\n",
        "from tensorflow.keras.optimizers import Adam, SGD\n",
        "from tensorflow.keras.callbacks import EarlyStopping, ModelCheckpoint, ReduceLROnPlateau\n",
        "from tensorflow.keras import backend as K\n",
        "from keras.utils import np_utils\n",
        "from keras.utils.vis_utils import plot_model\n",
        "from sklearn.preprocessing import LabelEncoder\n",
        "\n",
        "### Warning ###\n",
        "import warnings\n",
        "warnings.filterwarnings('ignore')"
      ],
      "metadata": {
        "id": "Y4BEJ9ZtVyv7"
      },
      "execution_count": null,
      "outputs": []
    },
    {
      "cell_type": "code",
      "source": [
        "file_path = '/content/drive/MyDrive/Review_3/'\n",
        "file_path_model = '/content/drive/MyDrive/Review_3/gfcc_chuncks_unaugmented/'"
      ],
      "metadata": {
        "id": "a6JU9w23rL5y"
      },
      "execution_count": null,
      "outputs": []
    },
    {
      "cell_type": "code",
      "source": [
        "from google.colab import drive\n",
        "drive.mount('/content/drive')"
      ],
      "metadata": {
        "colab": {
          "base_uri": "https://localhost:8080/"
        },
        "id": "Qh1fjWt7V0yR",
        "outputId": "9bd74476-5942-4fe8-c69f-5c297aac3c1b"
      },
      "execution_count": null,
      "outputs": [
        {
          "output_type": "stream",
          "name": "stdout",
          "text": [
            "Drive already mounted at /content/drive; to attempt to forcibly remount, call drive.mount(\"/content/drive\", force_remount=True).\n"
          ]
        }
      ]
    },
    {
      "cell_type": "code",
      "source": [
        "\n",
        "X_train = pickle.load(open(file_path_model+'[msp_mfcc][X_train].p', 'rb'))\n",
        "y_train = pickle.load(open(file_path_model+'[msp_mfcc][y_train].p', 'rb'))\n",
        "y_test = pickle.load(open(file_path_model+'[msp_mfcc][y_test].p', 'rb'))\n",
        "X_test = pickle.load(open(file_path_model+'[msp_mfcc][X_test].p', 'rb'))"
      ],
      "metadata": {
        "id": "SwPl1CcDV2mz"
      },
      "execution_count": null,
      "outputs": []
    },
    {
      "cell_type": "code",
      "source": [
        "print(X_train.shape)\n",
        "print(y_train.shape)\n",
        "print(X_test.shape)\n",
        "print(y_test.shape) "
      ],
      "metadata": {
        "colab": {
          "base_uri": "https://localhost:8080/"
        },
        "id": "blFAeZSBV8zT",
        "outputId": "7d6aae78-7a26-42d6-94ab-10d70ae3b6d2"
      },
      "execution_count": null,
      "outputs": [
        {
          "output_type": "stream",
          "name": "stdout",
          "text": [
            "(8244, 5, 128, 128)\n",
            "(8244,)\n",
            "(2062, 5, 128, 128)\n",
            "(2062,)\n"
          ]
        }
      ]
    },
    {
      "cell_type": "code",
      "source": [
        "print(file_path_model)\n",
        "lb = LabelEncoder()\n",
        "y_train = np_utils.to_categorical(lb.fit_transform(np.ravel(y_train)))\n",
        "y_test = np_utils.to_categorical(lb.transform(np.ravel(y_test)))"
      ],
      "metadata": {
        "id": "d07gF5cEV-1B",
        "colab": {
          "base_uri": "https://localhost:8080/"
        },
        "outputId": "7f745991-1842-480b-c483-374e256ad4f4"
      },
      "execution_count": null,
      "outputs": [
        {
          "output_type": "stream",
          "name": "stdout",
          "text": [
            "/content/drive/MyDrive/Review_3/gfcc_chuncks_unaugmented/\n"
          ]
        }
      ]
    },
    {
      "cell_type": "code",
      "source": [
        "# Reshape for convolution\n",
        "X_train = X_train.reshape(X_train.shape[0], X_train.shape[1] , X_train.shape[2], X_train.shape[3], 1)\n",
        "X_test = X_test.reshape(X_test.shape[0], X_test.shape[1] , X_test.shape[2], X_test.shape[3], 1)"
      ],
      "metadata": {
        "id": "upkJ5BtRWCA3"
      },
      "execution_count": null,
      "outputs": []
    },
    {
      "cell_type": "code",
      "source": [
        "X_train.shape[1:]"
      ],
      "metadata": {
        "colab": {
          "base_uri": "https://localhost:8080/"
        },
        "id": "UjcdxKTUWEM6",
        "outputId": "ee91d42c-7434-4341-9b98-e9e485f3f2fe"
      },
      "execution_count": null,
      "outputs": [
        {
          "output_type": "execute_result",
          "data": {
            "text/plain": [
              "(5, 128, 128, 1)"
            ]
          },
          "metadata": {},
          "execution_count": 39
        }
      ]
    },
    {
      "cell_type": "code",
      "source": [
        "K.clear_session()\n",
        "\n",
        "input_y = Input(shape=X_train.shape[1:], name='Input_MELSPECT')\n",
        "\n",
        "y = TimeDistributed(Conv2D(64, kernel_size=(3, 3), padding='same'), name='Conv_1_MELSPECT')(input_y)\n",
        "y = TimeDistributed(BatchNormalization(), name='BatchNorm_1_MELSPECT')(y)\n",
        "y = TimeDistributed(Activation('elu'), name='Activ_1_MELSPECT')(y)\n",
        "y = TimeDistributed(MaxPooling2D(pool_size=(2, 2), strides=(2, 2), padding='same'), name='MaxPool_1_MELSPECT')(y)\n",
        "y = TimeDistributed(Dropout(0.2), name='Drop_1_MELSPECT')(y)     \n",
        "\n",
        "y = TimeDistributed(Conv2D(64, kernel_size=(3, 3), strides=(1, 1), padding='same'), name='Conv_2_MELSPECT')(y)\n",
        "y = TimeDistributed(BatchNormalization(), name='BatchNorm_2_MELSPECT')(y)\n",
        "y = TimeDistributed(Activation('elu'), name='Activ_2_MELSPECT')(y)\n",
        "y = TimeDistributed(MaxPooling2D(pool_size=(4, 4), strides=(4, 4), padding='same'), name='MaxPool_2_MELSPECT')(y)\n",
        "y = TimeDistributed(Dropout(0.2), name='Drop_2_MELSPECT')(y)\n",
        "\n",
        "y = TimeDistributed(Conv2D(128, kernel_size=(3, 3), strides=(1, 1), padding='same'), name='Conv_3_MELSPECT')(y)\n",
        "y = TimeDistributed(BatchNormalization(), name='BatchNorm_3_MELSPECT')(y)\n",
        "y = TimeDistributed(Activation('elu'), name='Activ_3_MELSPECT')(y)\n",
        "y = TimeDistributed(MaxPooling2D(pool_size=(4, 4), strides=(4, 4), padding='same'), name='MaxPool_3_MELSPECT')(y)\n",
        "y = TimeDistributed(Dropout(0.2), name='Drop_3_MELSPECT')(y)\n",
        "\n",
        "y = TimeDistributed(Conv2D(128, kernel_size=(3, 3), strides=(1, 1), padding='same'), name='Conv_4_MELSPECT')(y)\n",
        "y = TimeDistributed(BatchNormalization(), name='BatchNorm_4_MELSPECT')(y)\n",
        "y = TimeDistributed(Activation('elu'), name='Activ_4_MELSPECT')(y)\n",
        "y = TimeDistributed(MaxPooling2D(pool_size=(4, 4), strides=(4, 4), padding='same'), name='MaxPool_4_MELSPECT')(y)\n",
        "y = TimeDistributed(Dropout(0.2), name='Drop_4_MELSPECT')(y)  \n",
        "\n",
        "y = TimeDistributed(Flatten(), name='Flat_MELSPECT')(y)                                           \n",
        "# Apply 2 LSTM layer and one FC\n",
        "y = LSTM(256, return_sequences=False, dropout=0.2, name='LSTM_1')(y)\n",
        "y = Dense(y_train.shape[1], activation='softmax', name='FC')(y)\n",
        "\n",
        "# Build final model\n",
        "model = Model(inputs=input_y, outputs=y)\n",
        "model.summary()"
      ],
      "metadata": {
        "colab": {
          "base_uri": "https://localhost:8080/"
        },
        "id": "0_W4EmvTWFpH",
        "outputId": "01475416-e8aa-4e83-cf69-03636459afd5"
      },
      "execution_count": null,
      "outputs": [
        {
          "output_type": "stream",
          "name": "stdout",
          "text": [
            "Model: \"model\"\n",
            "_________________________________________________________________\n",
            " Layer (type)                Output Shape              Param #   \n",
            "=================================================================\n",
            " Input_MELSPECT (InputLayer)  [(None, 5, 128, 128, 1)]  0        \n",
            "                                                                 \n",
            " Conv_1_MELSPECT (TimeDistri  (None, 5, 128, 128, 64)  640       \n",
            " buted)                                                          \n",
            "                                                                 \n",
            " BatchNorm_1_MELSPECT (TimeD  (None, 5, 128, 128, 64)  256       \n",
            " istributed)                                                     \n",
            "                                                                 \n",
            " Activ_1_MELSPECT (TimeDistr  (None, 5, 128, 128, 64)  0         \n",
            " ibuted)                                                         \n",
            "                                                                 \n",
            " MaxPool_1_MELSPECT (TimeDis  (None, 5, 64, 64, 64)    0         \n",
            " tributed)                                                       \n",
            "                                                                 \n",
            " Drop_1_MELSPECT (TimeDistri  (None, 5, 64, 64, 64)    0         \n",
            " buted)                                                          \n",
            "                                                                 \n",
            " Conv_2_MELSPECT (TimeDistri  (None, 5, 64, 64, 64)    36928     \n",
            " buted)                                                          \n",
            "                                                                 \n",
            " BatchNorm_2_MELSPECT (TimeD  (None, 5, 64, 64, 64)    256       \n",
            " istributed)                                                     \n",
            "                                                                 \n",
            " Activ_2_MELSPECT (TimeDistr  (None, 5, 64, 64, 64)    0         \n",
            " ibuted)                                                         \n",
            "                                                                 \n",
            " MaxPool_2_MELSPECT (TimeDis  (None, 5, 16, 16, 64)    0         \n",
            " tributed)                                                       \n",
            "                                                                 \n",
            " Drop_2_MELSPECT (TimeDistri  (None, 5, 16, 16, 64)    0         \n",
            " buted)                                                          \n",
            "                                                                 \n",
            " Conv_3_MELSPECT (TimeDistri  (None, 5, 16, 16, 128)   73856     \n",
            " buted)                                                          \n",
            "                                                                 \n",
            " BatchNorm_3_MELSPECT (TimeD  (None, 5, 16, 16, 128)   512       \n",
            " istributed)                                                     \n",
            "                                                                 \n",
            " Activ_3_MELSPECT (TimeDistr  (None, 5, 16, 16, 128)   0         \n",
            " ibuted)                                                         \n",
            "                                                                 \n",
            " MaxPool_3_MELSPECT (TimeDis  (None, 5, 4, 4, 128)     0         \n",
            " tributed)                                                       \n",
            "                                                                 \n",
            " Drop_3_MELSPECT (TimeDistri  (None, 5, 4, 4, 128)     0         \n",
            " buted)                                                          \n",
            "                                                                 \n",
            " Conv_4_MELSPECT (TimeDistri  (None, 5, 4, 4, 128)     147584    \n",
            " buted)                                                          \n",
            "                                                                 \n",
            " BatchNorm_4_MELSPECT (TimeD  (None, 5, 4, 4, 128)     512       \n",
            " istributed)                                                     \n",
            "                                                                 \n",
            " Activ_4_MELSPECT (TimeDistr  (None, 5, 4, 4, 128)     0         \n",
            " ibuted)                                                         \n",
            "                                                                 \n",
            " MaxPool_4_MELSPECT (TimeDis  (None, 5, 1, 1, 128)     0         \n",
            " tributed)                                                       \n",
            "                                                                 \n",
            " Drop_4_MELSPECT (TimeDistri  (None, 5, 1, 1, 128)     0         \n",
            " buted)                                                          \n",
            "                                                                 \n",
            " Flat_MELSPECT (TimeDistribu  (None, 5, 128)           0         \n",
            " ted)                                                            \n",
            "                                                                 \n",
            " LSTM_1 (LSTM)               (None, 256)               394240    \n",
            "                                                                 \n",
            " FC (Dense)                  (None, 7)                 1799      \n",
            "                                                                 \n",
            "=================================================================\n",
            "Total params: 656,583\n",
            "Trainable params: 655,815\n",
            "Non-trainable params: 768\n",
            "_________________________________________________________________\n"
          ]
        }
      ]
    },
    {
      "cell_type": "code",
      "source": [
        "gpu_options = tf.compat.v1.GPUOptions(allow_growth=True)\n",
        "session = tf.compat.v1.InteractiveSession(config=tf.compat.v1.ConfigProto(gpu_options=gpu_options))"
      ],
      "metadata": {
        "id": "bwN8vEiPWHaI"
      },
      "execution_count": null,
      "outputs": []
    },
    {
      "cell_type": "code",
      "source": [
        "# Compile model\n",
        "model.compile(optimizer=SGD(lr=0.01, decay=1e-6, momentum=0.8), loss='categorical_crossentropy', metrics=['accuracy'])\n",
        "\n",
        "# Save best model\n",
        "best_model_save = ModelCheckpoint(file_path_model+'msp_CNN_LSTM_Model_1.hdf5', save_best_only=True, monitor='accuracy', mode='max')\n",
        "\n",
        "# Early stopping\n",
        "early_stopping = EarlyStopping(monitor='accuracy', patience=30, verbose=1, mode='max')\n",
        "\n",
        "# Fit model\n",
        "history = model.fit(X_train, y_train, batch_size=64, epochs=125, validation_data=(X_test, y_test), callbacks=[early_stopping, best_model_save,tf.keras.callbacks.CSVLogger(file_path_model+'msp_gam_source_history_1.csv')])"
      ],
      "metadata": {
        "colab": {
          "base_uri": "https://localhost:8080/"
        },
        "id": "IQyyZt8PWJ9D",
        "outputId": "469bd001-7c7c-4550-c226-7dd21ad900ce"
      },
      "execution_count": null,
      "outputs": [
        {
          "output_type": "stream",
          "name": "stdout",
          "text": [
            "Epoch 1/125\n",
            "129/129 [==============================] - 34s 247ms/step - loss: 1.9638 - accuracy: 0.1543 - val_loss: 1.9470 - val_accuracy: 0.1581\n",
            "Epoch 2/125\n",
            "129/129 [==============================] - 30s 229ms/step - loss: 1.9384 - accuracy: 0.1670 - val_loss: 2.0229 - val_accuracy: 0.1571\n",
            "Epoch 3/125\n",
            "129/129 [==============================] - 30s 229ms/step - loss: 1.9277 - accuracy: 0.1853 - val_loss: 2.1585 - val_accuracy: 0.1494\n",
            "Epoch 4/125\n",
            "129/129 [==============================] - 30s 229ms/step - loss: 1.9153 - accuracy: 0.1963 - val_loss: 2.2264 - val_accuracy: 0.1552\n",
            "Epoch 5/125\n",
            "129/129 [==============================] - 29s 229ms/step - loss: 1.9054 - accuracy: 0.2038 - val_loss: 2.1296 - val_accuracy: 0.1503\n",
            "Epoch 6/125\n",
            "129/129 [==============================] - 30s 229ms/step - loss: 1.8973 - accuracy: 0.2118 - val_loss: 2.2857 - val_accuracy: 0.1532\n",
            "Epoch 7/125\n",
            "129/129 [==============================] - 30s 229ms/step - loss: 1.8914 - accuracy: 0.2159 - val_loss: 2.3938 - val_accuracy: 0.1494\n",
            "Epoch 8/125\n",
            "129/129 [==============================] - 29s 229ms/step - loss: 1.8823 - accuracy: 0.2214 - val_loss: 2.5105 - val_accuracy: 0.1523\n",
            "Epoch 9/125\n",
            "129/129 [==============================] - 30s 229ms/step - loss: 1.8788 - accuracy: 0.2327 - val_loss: 2.0362 - val_accuracy: 0.1896\n",
            "Epoch 10/125\n",
            "129/129 [==============================] - 29s 229ms/step - loss: 1.8697 - accuracy: 0.2342 - val_loss: 2.0411 - val_accuracy: 0.1882\n",
            "Epoch 11/125\n",
            "129/129 [==============================] - 30s 229ms/step - loss: 1.8643 - accuracy: 0.2431 - val_loss: 2.1135 - val_accuracy: 0.1765\n",
            "Epoch 12/125\n",
            "129/129 [==============================] - 29s 229ms/step - loss: 1.8592 - accuracy: 0.2450 - val_loss: 2.0571 - val_accuracy: 0.1901\n",
            "Epoch 13/125\n",
            "129/129 [==============================] - 29s 225ms/step - loss: 1.8525 - accuracy: 0.2424 - val_loss: 2.5254 - val_accuracy: 0.1435\n",
            "Epoch 14/125\n",
            "129/129 [==============================] - 30s 229ms/step - loss: 1.8499 - accuracy: 0.2496 - val_loss: 2.3622 - val_accuracy: 0.1663\n",
            "Epoch 15/125\n",
            "129/129 [==============================] - 30s 229ms/step - loss: 1.8450 - accuracy: 0.2562 - val_loss: 1.9336 - val_accuracy: 0.1741\n",
            "Epoch 16/125\n",
            "129/129 [==============================] - 29s 226ms/step - loss: 1.8382 - accuracy: 0.2544 - val_loss: 2.4725 - val_accuracy: 0.1576\n",
            "Epoch 17/125\n",
            "129/129 [==============================] - 29s 229ms/step - loss: 1.8290 - accuracy: 0.2618 - val_loss: 2.2386 - val_accuracy: 0.1794\n",
            "Epoch 18/125\n",
            "129/129 [==============================] - 30s 229ms/step - loss: 1.8302 - accuracy: 0.2646 - val_loss: 2.5090 - val_accuracy: 0.1644\n",
            "Epoch 19/125\n",
            "129/129 [==============================] - 29s 229ms/step - loss: 1.8250 - accuracy: 0.2655 - val_loss: 2.7599 - val_accuracy: 0.1697\n",
            "Epoch 20/125\n",
            "129/129 [==============================] - 29s 229ms/step - loss: 1.8214 - accuracy: 0.2673 - val_loss: 2.4474 - val_accuracy: 0.1673\n",
            "Epoch 21/125\n",
            "129/129 [==============================] - 29s 226ms/step - loss: 1.8167 - accuracy: 0.2653 - val_loss: 2.2185 - val_accuracy: 0.1596\n",
            "Epoch 22/125\n",
            "129/129 [==============================] - 30s 229ms/step - loss: 1.8162 - accuracy: 0.2769 - val_loss: 2.2337 - val_accuracy: 0.1799\n",
            "Epoch 23/125\n",
            "129/129 [==============================] - 29s 225ms/step - loss: 1.8111 - accuracy: 0.2754 - val_loss: 2.0633 - val_accuracy: 0.2056\n",
            "Epoch 24/125\n",
            "129/129 [==============================] - 29s 225ms/step - loss: 1.8067 - accuracy: 0.2749 - val_loss: 2.2230 - val_accuracy: 0.1828\n",
            "Epoch 25/125\n",
            "129/129 [==============================] - 29s 225ms/step - loss: 1.8062 - accuracy: 0.2761 - val_loss: 2.1435 - val_accuracy: 0.1920\n",
            "Epoch 26/125\n",
            "129/129 [==============================] - 29s 226ms/step - loss: 1.8016 - accuracy: 0.2767 - val_loss: 2.1330 - val_accuracy: 0.1654\n",
            "Epoch 27/125\n",
            "129/129 [==============================] - 29s 226ms/step - loss: 1.8048 - accuracy: 0.2762 - val_loss: 2.6472 - val_accuracy: 0.1717\n",
            "Epoch 28/125\n",
            "129/129 [==============================] - 29s 226ms/step - loss: 1.7982 - accuracy: 0.2756 - val_loss: 2.4447 - val_accuracy: 0.1649\n",
            "Epoch 29/125\n",
            "129/129 [==============================] - 29s 229ms/step - loss: 1.7913 - accuracy: 0.2837 - val_loss: 2.0068 - val_accuracy: 0.2163\n",
            "Epoch 30/125\n",
            "129/129 [==============================] - 29s 229ms/step - loss: 1.7863 - accuracy: 0.2889 - val_loss: 2.3987 - val_accuracy: 0.1731\n",
            "Epoch 31/125\n",
            "129/129 [==============================] - 29s 225ms/step - loss: 1.7900 - accuracy: 0.2888 - val_loss: 2.1354 - val_accuracy: 0.2008\n",
            "Epoch 32/125\n",
            "129/129 [==============================] - 29s 229ms/step - loss: 1.7852 - accuracy: 0.2908 - val_loss: 1.9359 - val_accuracy: 0.2338\n",
            "Epoch 33/125\n",
            "129/129 [==============================] - 29s 226ms/step - loss: 1.7829 - accuracy: 0.2904 - val_loss: 2.1382 - val_accuracy: 0.2008\n",
            "Epoch 34/125\n",
            "129/129 [==============================] - 29s 226ms/step - loss: 1.7802 - accuracy: 0.2908 - val_loss: 2.0360 - val_accuracy: 0.2090\n",
            "Epoch 35/125\n",
            "129/129 [==============================] - 30s 229ms/step - loss: 1.7733 - accuracy: 0.2937 - val_loss: 2.2559 - val_accuracy: 0.1877\n",
            "Epoch 36/125\n",
            "129/129 [==============================] - 29s 229ms/step - loss: 1.7759 - accuracy: 0.2952 - val_loss: 2.2874 - val_accuracy: 0.1867\n",
            "Epoch 37/125\n",
            "129/129 [==============================] - 29s 226ms/step - loss: 1.7737 - accuracy: 0.2909 - val_loss: 2.3035 - val_accuracy: 0.1809\n",
            "Epoch 38/125\n",
            "129/129 [==============================] - 29s 229ms/step - loss: 1.7668 - accuracy: 0.3002 - val_loss: 1.9193 - val_accuracy: 0.2401\n",
            "Epoch 39/125\n",
            "129/129 [==============================] - 29s 226ms/step - loss: 1.7645 - accuracy: 0.2989 - val_loss: 2.0107 - val_accuracy: 0.2119\n",
            "Epoch 40/125\n",
            "129/129 [==============================] - 29s 225ms/step - loss: 1.7634 - accuracy: 0.2957 - val_loss: 2.0250 - val_accuracy: 0.2236\n",
            "Epoch 41/125\n",
            "129/129 [==============================] - 29s 229ms/step - loss: 1.7632 - accuracy: 0.3036 - val_loss: 2.0245 - val_accuracy: 0.2226\n",
            "Epoch 42/125\n",
            "129/129 [==============================] - 31s 239ms/step - loss: 1.7544 - accuracy: 0.3085 - val_loss: 1.9817 - val_accuracy: 0.2241\n",
            "Epoch 43/125\n",
            "129/129 [==============================] - 29s 225ms/step - loss: 1.7563 - accuracy: 0.3063 - val_loss: 2.0167 - val_accuracy: 0.2231\n",
            "Epoch 44/125\n",
            "129/129 [==============================] - 29s 225ms/step - loss: 1.7542 - accuracy: 0.3028 - val_loss: 2.1734 - val_accuracy: 0.2032\n",
            "Epoch 45/125\n",
            "129/129 [==============================] - 29s 229ms/step - loss: 1.7484 - accuracy: 0.3128 - val_loss: 2.3061 - val_accuracy: 0.1901\n",
            "Epoch 46/125\n",
            "129/129 [==============================] - 29s 229ms/step - loss: 1.7474 - accuracy: 0.3132 - val_loss: 2.0586 - val_accuracy: 0.2003\n",
            "Epoch 47/125\n",
            "129/129 [==============================] - 29s 225ms/step - loss: 1.7508 - accuracy: 0.3075 - val_loss: 2.1009 - val_accuracy: 0.2182\n",
            "Epoch 48/125\n",
            "129/129 [==============================] - 30s 229ms/step - loss: 1.7416 - accuracy: 0.3166 - val_loss: 2.0486 - val_accuracy: 0.2202\n",
            "Epoch 49/125\n",
            "129/129 [==============================] - 29s 226ms/step - loss: 1.7330 - accuracy: 0.3154 - val_loss: 1.9802 - val_accuracy: 0.2226\n",
            "Epoch 50/125\n",
            "129/129 [==============================] - 29s 229ms/step - loss: 1.7338 - accuracy: 0.3207 - val_loss: 1.9150 - val_accuracy: 0.2517\n",
            "Epoch 51/125\n",
            "129/129 [==============================] - 29s 226ms/step - loss: 1.7359 - accuracy: 0.3178 - val_loss: 2.3537 - val_accuracy: 0.1804\n",
            "Epoch 52/125\n",
            "129/129 [==============================] - 29s 225ms/step - loss: 1.7292 - accuracy: 0.3184 - val_loss: 1.9732 - val_accuracy: 0.2362\n",
            "Epoch 53/125\n",
            "129/129 [==============================] - 30s 229ms/step - loss: 1.7279 - accuracy: 0.3230 - val_loss: 2.4483 - val_accuracy: 0.2042\n",
            "Epoch 54/125\n",
            "129/129 [==============================] - 29s 226ms/step - loss: 1.7232 - accuracy: 0.3208 - val_loss: 1.9559 - val_accuracy: 0.2425\n",
            "Epoch 55/125\n",
            "129/129 [==============================] - 29s 225ms/step - loss: 1.7252 - accuracy: 0.3194 - val_loss: 2.0604 - val_accuracy: 0.2299\n",
            "Epoch 56/125\n",
            "129/129 [==============================] - 29s 226ms/step - loss: 1.7239 - accuracy: 0.3224 - val_loss: 2.0310 - val_accuracy: 0.2444\n",
            "Epoch 57/125\n",
            "129/129 [==============================] - 29s 229ms/step - loss: 1.7174 - accuracy: 0.3313 - val_loss: 1.8757 - val_accuracy: 0.2692\n",
            "Epoch 58/125\n",
            "129/129 [==============================] - 29s 226ms/step - loss: 1.7191 - accuracy: 0.3269 - val_loss: 2.0582 - val_accuracy: 0.2279\n",
            "Epoch 59/125\n",
            "129/129 [==============================] - 29s 226ms/step - loss: 1.7154 - accuracy: 0.3304 - val_loss: 2.2531 - val_accuracy: 0.2313\n",
            "Epoch 60/125\n",
            "129/129 [==============================] - 29s 225ms/step - loss: 1.7110 - accuracy: 0.3296 - val_loss: 1.9401 - val_accuracy: 0.2561\n",
            "Epoch 61/125\n",
            "129/129 [==============================] - 30s 229ms/step - loss: 1.7036 - accuracy: 0.3348 - val_loss: 1.9464 - val_accuracy: 0.2430\n",
            "Epoch 62/125\n",
            "129/129 [==============================] - 29s 226ms/step - loss: 1.7087 - accuracy: 0.3253 - val_loss: 1.8663 - val_accuracy: 0.2818\n",
            "Epoch 63/125\n",
            "129/129 [==============================] - 29s 226ms/step - loss: 1.7036 - accuracy: 0.3291 - val_loss: 2.0272 - val_accuracy: 0.2376\n",
            "Epoch 64/125\n",
            "129/129 [==============================] - 29s 226ms/step - loss: 1.7035 - accuracy: 0.3286 - val_loss: 1.9126 - val_accuracy: 0.2677\n",
            "Epoch 65/125\n",
            "129/129 [==============================] - 29s 229ms/step - loss: 1.6940 - accuracy: 0.3450 - val_loss: 1.8817 - val_accuracy: 0.2696\n",
            "Epoch 66/125\n",
            "129/129 [==============================] - 29s 226ms/step - loss: 1.6968 - accuracy: 0.3406 - val_loss: 1.9680 - val_accuracy: 0.2536\n",
            "Epoch 67/125\n",
            "129/129 [==============================] - 29s 226ms/step - loss: 1.6929 - accuracy: 0.3432 - val_loss: 2.0727 - val_accuracy: 0.2245\n",
            "Epoch 68/125\n",
            "129/129 [==============================] - 29s 225ms/step - loss: 1.6927 - accuracy: 0.3417 - val_loss: 2.0489 - val_accuracy: 0.2333\n",
            "Epoch 69/125\n",
            "129/129 [==============================] - 29s 226ms/step - loss: 1.6887 - accuracy: 0.3423 - val_loss: 2.5611 - val_accuracy: 0.1906\n",
            "Epoch 70/125\n",
            "129/129 [==============================] - 30s 229ms/step - loss: 1.6801 - accuracy: 0.3500 - val_loss: 1.9595 - val_accuracy: 0.2536\n",
            "Epoch 71/125\n",
            "129/129 [==============================] - 29s 225ms/step - loss: 1.6771 - accuracy: 0.3467 - val_loss: 2.6894 - val_accuracy: 0.1799\n",
            "Epoch 72/125\n",
            "129/129 [==============================] - 30s 229ms/step - loss: 1.6785 - accuracy: 0.3537 - val_loss: 2.1593 - val_accuracy: 0.2182\n",
            "Epoch 73/125\n",
            "129/129 [==============================] - 29s 225ms/step - loss: 1.6787 - accuracy: 0.3424 - val_loss: 2.3041 - val_accuracy: 0.2129\n",
            "Epoch 74/125\n",
            "129/129 [==============================] - 29s 225ms/step - loss: 1.6828 - accuracy: 0.3486 - val_loss: 1.8321 - val_accuracy: 0.2929\n",
            "Epoch 75/125\n",
            "129/129 [==============================] - 29s 226ms/step - loss: 1.6721 - accuracy: 0.3405 - val_loss: 2.1317 - val_accuracy: 0.2274\n",
            "Epoch 76/125\n",
            "129/129 [==============================] - 29s 229ms/step - loss: 1.6669 - accuracy: 0.3572 - val_loss: 2.0361 - val_accuracy: 0.2532\n",
            "Epoch 77/125\n",
            "129/129 [==============================] - 29s 226ms/step - loss: 1.6661 - accuracy: 0.3514 - val_loss: 1.8475 - val_accuracy: 0.2832\n",
            "Epoch 78/125\n",
            "129/129 [==============================] - 29s 226ms/step - loss: 1.6671 - accuracy: 0.3502 - val_loss: 1.9244 - val_accuracy: 0.2774\n",
            "Epoch 79/125\n",
            "129/129 [==============================] - 29s 226ms/step - loss: 1.6584 - accuracy: 0.3538 - val_loss: 1.9735 - val_accuracy: 0.2575\n",
            "Epoch 80/125\n",
            "129/129 [==============================] - 30s 229ms/step - loss: 1.6614 - accuracy: 0.3589 - val_loss: 2.2256 - val_accuracy: 0.2221\n",
            "Epoch 81/125\n",
            "129/129 [==============================] - 30s 229ms/step - loss: 1.6511 - accuracy: 0.3603 - val_loss: 1.8463 - val_accuracy: 0.2929\n",
            "Epoch 82/125\n",
            "129/129 [==============================] - 29s 226ms/step - loss: 1.6521 - accuracy: 0.3569 - val_loss: 1.9212 - val_accuracy: 0.2764\n",
            "Epoch 83/125\n",
            "129/129 [==============================] - 29s 229ms/step - loss: 1.6485 - accuracy: 0.3674 - val_loss: 1.9445 - val_accuracy: 0.2658\n",
            "Epoch 84/125\n",
            "129/129 [==============================] - 29s 225ms/step - loss: 1.6451 - accuracy: 0.3627 - val_loss: 2.0119 - val_accuracy: 0.2696\n",
            "Epoch 85/125\n",
            "129/129 [==============================] - 29s 225ms/step - loss: 1.6495 - accuracy: 0.3661 - val_loss: 1.8671 - val_accuracy: 0.2823\n",
            "Epoch 86/125\n",
            "129/129 [==============================] - 30s 229ms/step - loss: 1.6297 - accuracy: 0.3719 - val_loss: 2.0442 - val_accuracy: 0.2522\n",
            "Epoch 87/125\n",
            "129/129 [==============================] - 29s 226ms/step - loss: 1.6388 - accuracy: 0.3705 - val_loss: 2.1550 - val_accuracy: 0.2371\n",
            "Epoch 88/125\n",
            "129/129 [==============================] - 29s 225ms/step - loss: 1.6346 - accuracy: 0.3709 - val_loss: 1.8439 - val_accuracy: 0.2915\n",
            "Epoch 89/125\n",
            "129/129 [==============================] - 29s 226ms/step - loss: 1.6287 - accuracy: 0.3705 - val_loss: 2.1970 - val_accuracy: 0.2386\n",
            "Epoch 90/125\n",
            "129/129 [==============================] - 29s 225ms/step - loss: 1.6361 - accuracy: 0.3666 - val_loss: 2.1732 - val_accuracy: 0.2371\n",
            "Epoch 91/125\n",
            "129/129 [==============================] - 30s 229ms/step - loss: 1.6196 - accuracy: 0.3775 - val_loss: 1.8887 - val_accuracy: 0.2827\n",
            "Epoch 92/125\n",
            "129/129 [==============================] - 29s 226ms/step - loss: 1.6198 - accuracy: 0.3735 - val_loss: 1.9307 - val_accuracy: 0.2847\n",
            "Epoch 93/125\n",
            "129/129 [==============================] - 29s 225ms/step - loss: 1.6222 - accuracy: 0.3772 - val_loss: 1.9489 - val_accuracy: 0.2711\n",
            "Epoch 94/125\n",
            "129/129 [==============================] - 29s 225ms/step - loss: 1.6133 - accuracy: 0.3752 - val_loss: 1.9637 - val_accuracy: 0.2721\n",
            "Epoch 95/125\n",
            "129/129 [==============================] - 30s 229ms/step - loss: 1.6111 - accuracy: 0.3837 - val_loss: 1.9569 - val_accuracy: 0.2706\n",
            "Epoch 96/125\n",
            "129/129 [==============================] - 29s 225ms/step - loss: 1.6129 - accuracy: 0.3776 - val_loss: 2.0555 - val_accuracy: 0.2556\n",
            "Epoch 97/125\n",
            "129/129 [==============================] - 30s 229ms/step - loss: 1.6014 - accuracy: 0.3860 - val_loss: 2.1977 - val_accuracy: 0.2347\n",
            "Epoch 98/125\n",
            "129/129 [==============================] - 29s 226ms/step - loss: 1.6044 - accuracy: 0.3802 - val_loss: 1.9472 - val_accuracy: 0.2696\n",
            "Epoch 99/125\n",
            "129/129 [==============================] - 29s 226ms/step - loss: 1.6067 - accuracy: 0.3840 - val_loss: 2.0143 - val_accuracy: 0.2789\n",
            "Epoch 100/125\n",
            "129/129 [==============================] - 30s 229ms/step - loss: 1.5926 - accuracy: 0.3873 - val_loss: 2.6868 - val_accuracy: 0.1867\n",
            "Epoch 101/125\n",
            "129/129 [==============================] - 30s 229ms/step - loss: 1.5910 - accuracy: 0.3895 - val_loss: 1.7996 - val_accuracy: 0.3094\n",
            "Epoch 102/125\n",
            "129/129 [==============================] - 30s 229ms/step - loss: 1.5914 - accuracy: 0.3925 - val_loss: 2.0267 - val_accuracy: 0.2687\n",
            "Epoch 103/125\n",
            "129/129 [==============================] - 30s 229ms/step - loss: 1.5838 - accuracy: 0.3948 - val_loss: 1.9364 - val_accuracy: 0.2755\n",
            "Epoch 104/125\n",
            "129/129 [==============================] - 29s 226ms/step - loss: 1.5844 - accuracy: 0.3906 - val_loss: 1.9106 - val_accuracy: 0.2813\n",
            "Epoch 105/125\n",
            "129/129 [==============================] - 30s 230ms/step - loss: 1.5803 - accuracy: 0.4041 - val_loss: 2.1900 - val_accuracy: 0.2371\n",
            "Epoch 106/125\n",
            "129/129 [==============================] - 29s 226ms/step - loss: 1.5733 - accuracy: 0.3924 - val_loss: 2.1305 - val_accuracy: 0.2522\n",
            "Epoch 107/125\n",
            "129/129 [==============================] - 29s 226ms/step - loss: 1.5715 - accuracy: 0.4037 - val_loss: 1.7672 - val_accuracy: 0.3162\n",
            "Epoch 108/125\n",
            "129/129 [==============================] - 29s 229ms/step - loss: 1.5608 - accuracy: 0.4065 - val_loss: 2.0669 - val_accuracy: 0.2667\n",
            "Epoch 109/125\n",
            "129/129 [==============================] - 29s 226ms/step - loss: 1.5620 - accuracy: 0.4021 - val_loss: 2.1248 - val_accuracy: 0.2498\n",
            "Epoch 110/125\n",
            "129/129 [==============================] - 29s 226ms/step - loss: 1.5541 - accuracy: 0.4062 - val_loss: 1.9937 - val_accuracy: 0.2755\n",
            "Epoch 111/125\n",
            "129/129 [==============================] - 29s 226ms/step - loss: 1.5613 - accuracy: 0.4032 - val_loss: 1.8683 - val_accuracy: 0.2973\n",
            "Epoch 112/125\n",
            "129/129 [==============================] - 30s 229ms/step - loss: 1.5523 - accuracy: 0.4113 - val_loss: 1.9210 - val_accuracy: 0.2861\n",
            "Epoch 113/125\n",
            "129/129 [==============================] - 29s 226ms/step - loss: 1.5524 - accuracy: 0.4060 - val_loss: 1.9539 - val_accuracy: 0.2740\n",
            "Epoch 114/125\n",
            "129/129 [==============================] - 30s 229ms/step - loss: 1.5407 - accuracy: 0.4123 - val_loss: 1.7763 - val_accuracy: 0.3215\n",
            "Epoch 115/125\n",
            "129/129 [==============================] - 29s 226ms/step - loss: 1.5461 - accuracy: 0.4105 - val_loss: 1.8561 - val_accuracy: 0.3099\n",
            "Epoch 116/125\n",
            "129/129 [==============================] - 30s 229ms/step - loss: 1.5316 - accuracy: 0.4222 - val_loss: 2.0080 - val_accuracy: 0.2973\n",
            "Epoch 117/125\n",
            "129/129 [==============================] - 29s 226ms/step - loss: 1.5326 - accuracy: 0.4159 - val_loss: 1.8522 - val_accuracy: 0.3016\n",
            "Epoch 118/125\n",
            "129/129 [==============================] - 29s 226ms/step - loss: 1.5314 - accuracy: 0.4146 - val_loss: 1.9259 - val_accuracy: 0.3118\n",
            "Epoch 119/125\n",
            "129/129 [==============================] - 29s 226ms/step - loss: 1.5323 - accuracy: 0.4182 - val_loss: 1.8509 - val_accuracy: 0.3162\n",
            "Epoch 120/125\n",
            "129/129 [==============================] - 29s 226ms/step - loss: 1.5223 - accuracy: 0.4179 - val_loss: 1.9680 - val_accuracy: 0.2949\n",
            "Epoch 121/125\n",
            "129/129 [==============================] - 30s 230ms/step - loss: 1.5132 - accuracy: 0.4256 - val_loss: 1.7888 - val_accuracy: 0.3220\n",
            "Epoch 122/125\n",
            "129/129 [==============================] - 29s 226ms/step - loss: 1.5197 - accuracy: 0.4196 - val_loss: 1.9389 - val_accuracy: 0.2987\n",
            "Epoch 123/125\n",
            "129/129 [==============================] - 30s 229ms/step - loss: 1.5070 - accuracy: 0.4288 - val_loss: 1.9881 - val_accuracy: 0.2890\n",
            "Epoch 124/125\n",
            "129/129 [==============================] - 29s 226ms/step - loss: 1.5132 - accuracy: 0.4222 - val_loss: 1.7915 - val_accuracy: 0.3162\n",
            "Epoch 125/125\n",
            "129/129 [==============================] - 30s 229ms/step - loss: 1.5062 - accuracy: 0.4292 - val_loss: 1.7760 - val_accuracy: 0.3244\n"
          ]
        }
      ]
    },
    {
      "cell_type": "code",
      "source": [
        "model.save(file_path_model+'msp_mfcc_[CNN-LSTM]Model_gfcc.h5')\n",
        "model.save_weights(file_path_model+'msp_mfcc_[CNN-LSTM]Model_Weights_gfcc.h5')"
      ],
      "metadata": {
        "id": "s-iarzQeWUBm"
      },
      "execution_count": null,
      "outputs": []
    },
    {
      "cell_type": "code",
      "source": [
        "model.evaluate(X_test,y_test)"
      ],
      "metadata": {
        "id": "ZBQLG32TWNBC",
        "colab": {
          "base_uri": "https://localhost:8080/"
        },
        "outputId": "1e6c2e1f-c6f8-4bbf-f50d-81c1a763569f"
      },
      "execution_count": null,
      "outputs": [
        {
          "output_type": "stream",
          "name": "stdout",
          "text": [
            "65/65 [==============================] - 2s 33ms/step - loss: 1.7760 - accuracy: 0.3244\n"
          ]
        },
        {
          "output_type": "execute_result",
          "data": {
            "text/plain": [
              "[1.7759901285171509, 0.3244422972202301]"
            ]
          },
          "metadata": {},
          "execution_count": 44
        }
      ]
    },
    {
      "cell_type": "code",
      "source": [
        "y_pred=model.predict(X_test)\n",
        "y_classes = y_pred.argmax(axis=-1)"
      ],
      "metadata": {
        "id": "mo-g0I30WPMm"
      },
      "execution_count": null,
      "outputs": []
    },
    {
      "cell_type": "code",
      "source": [
        "np.unique(y_classes)"
      ],
      "metadata": {
        "id": "5V0pw4UPWRKG",
        "colab": {
          "base_uri": "https://localhost:8080/"
        },
        "outputId": "f4075269-4365-4e8c-93ff-9a8456de949b"
      },
      "execution_count": null,
      "outputs": [
        {
          "output_type": "execute_result",
          "data": {
            "text/plain": [
              "array([0, 1, 2, 3, 4, 5, 6])"
            ]
          },
          "metadata": {},
          "execution_count": 46
        }
      ]
    },
    {
      "cell_type": "code",
      "source": [
        "history={}\n",
        "history[\"history\"] = pd.read_csv(file_path_model+'msp_gam_source_history.csv')\n",
        "history[\"history\"].head()"
      ],
      "metadata": {
        "id": "PQdU57vXWSyD",
        "colab": {
          "base_uri": "https://localhost:8080/",
          "height": 206
        },
        "outputId": "679edbba-dca0-40e3-be9d-6a2c1ff3c81a"
      },
      "execution_count": null,
      "outputs": [
        {
          "output_type": "execute_result",
          "data": {
            "text/plain": [
              "   epoch  accuracy      loss  val_accuracy  val_loss\n",
              "0      0  0.154294  1.963778      0.158099  1.947025\n",
              "1      1  0.167031  1.938429      0.157129  2.022937\n",
              "2      2  0.185347  1.927721      0.149370  2.158496\n",
              "3      3  0.196264  1.915265      0.155189  2.226440\n",
              "4      4  0.203785  1.905400      0.150339  2.129636"
            ],
            "text/html": [
              "\n",
              "  <div id=\"df-a3d3379c-b74c-4099-8027-66904d03ade9\">\n",
              "    <div class=\"colab-df-container\">\n",
              "      <div>\n",
              "<style scoped>\n",
              "    .dataframe tbody tr th:only-of-type {\n",
              "        vertical-align: middle;\n",
              "    }\n",
              "\n",
              "    .dataframe tbody tr th {\n",
              "        vertical-align: top;\n",
              "    }\n",
              "\n",
              "    .dataframe thead th {\n",
              "        text-align: right;\n",
              "    }\n",
              "</style>\n",
              "<table border=\"1\" class=\"dataframe\">\n",
              "  <thead>\n",
              "    <tr style=\"text-align: right;\">\n",
              "      <th></th>\n",
              "      <th>epoch</th>\n",
              "      <th>accuracy</th>\n",
              "      <th>loss</th>\n",
              "      <th>val_accuracy</th>\n",
              "      <th>val_loss</th>\n",
              "    </tr>\n",
              "  </thead>\n",
              "  <tbody>\n",
              "    <tr>\n",
              "      <th>0</th>\n",
              "      <td>0</td>\n",
              "      <td>0.154294</td>\n",
              "      <td>1.963778</td>\n",
              "      <td>0.158099</td>\n",
              "      <td>1.947025</td>\n",
              "    </tr>\n",
              "    <tr>\n",
              "      <th>1</th>\n",
              "      <td>1</td>\n",
              "      <td>0.167031</td>\n",
              "      <td>1.938429</td>\n",
              "      <td>0.157129</td>\n",
              "      <td>2.022937</td>\n",
              "    </tr>\n",
              "    <tr>\n",
              "      <th>2</th>\n",
              "      <td>2</td>\n",
              "      <td>0.185347</td>\n",
              "      <td>1.927721</td>\n",
              "      <td>0.149370</td>\n",
              "      <td>2.158496</td>\n",
              "    </tr>\n",
              "    <tr>\n",
              "      <th>3</th>\n",
              "      <td>3</td>\n",
              "      <td>0.196264</td>\n",
              "      <td>1.915265</td>\n",
              "      <td>0.155189</td>\n",
              "      <td>2.226440</td>\n",
              "    </tr>\n",
              "    <tr>\n",
              "      <th>4</th>\n",
              "      <td>4</td>\n",
              "      <td>0.203785</td>\n",
              "      <td>1.905400</td>\n",
              "      <td>0.150339</td>\n",
              "      <td>2.129636</td>\n",
              "    </tr>\n",
              "  </tbody>\n",
              "</table>\n",
              "</div>\n",
              "      <button class=\"colab-df-convert\" onclick=\"convertToInteractive('df-a3d3379c-b74c-4099-8027-66904d03ade9')\"\n",
              "              title=\"Convert this dataframe to an interactive table.\"\n",
              "              style=\"display:none;\">\n",
              "        \n",
              "  <svg xmlns=\"http://www.w3.org/2000/svg\" height=\"24px\"viewBox=\"0 0 24 24\"\n",
              "       width=\"24px\">\n",
              "    <path d=\"M0 0h24v24H0V0z\" fill=\"none\"/>\n",
              "    <path d=\"M18.56 5.44l.94 2.06.94-2.06 2.06-.94-2.06-.94-.94-2.06-.94 2.06-2.06.94zm-11 1L8.5 8.5l.94-2.06 2.06-.94-2.06-.94L8.5 2.5l-.94 2.06-2.06.94zm10 10l.94 2.06.94-2.06 2.06-.94-2.06-.94-.94-2.06-.94 2.06-2.06.94z\"/><path d=\"M17.41 7.96l-1.37-1.37c-.4-.4-.92-.59-1.43-.59-.52 0-1.04.2-1.43.59L10.3 9.45l-7.72 7.72c-.78.78-.78 2.05 0 2.83L4 21.41c.39.39.9.59 1.41.59.51 0 1.02-.2 1.41-.59l7.78-7.78 2.81-2.81c.8-.78.8-2.07 0-2.86zM5.41 20L4 18.59l7.72-7.72 1.47 1.35L5.41 20z\"/>\n",
              "  </svg>\n",
              "      </button>\n",
              "      \n",
              "  <style>\n",
              "    .colab-df-container {\n",
              "      display:flex;\n",
              "      flex-wrap:wrap;\n",
              "      gap: 12px;\n",
              "    }\n",
              "\n",
              "    .colab-df-convert {\n",
              "      background-color: #E8F0FE;\n",
              "      border: none;\n",
              "      border-radius: 50%;\n",
              "      cursor: pointer;\n",
              "      display: none;\n",
              "      fill: #1967D2;\n",
              "      height: 32px;\n",
              "      padding: 0 0 0 0;\n",
              "      width: 32px;\n",
              "    }\n",
              "\n",
              "    .colab-df-convert:hover {\n",
              "      background-color: #E2EBFA;\n",
              "      box-shadow: 0px 1px 2px rgba(60, 64, 67, 0.3), 0px 1px 3px 1px rgba(60, 64, 67, 0.15);\n",
              "      fill: #174EA6;\n",
              "    }\n",
              "\n",
              "    [theme=dark] .colab-df-convert {\n",
              "      background-color: #3B4455;\n",
              "      fill: #D2E3FC;\n",
              "    }\n",
              "\n",
              "    [theme=dark] .colab-df-convert:hover {\n",
              "      background-color: #434B5C;\n",
              "      box-shadow: 0px 1px 3px 1px rgba(0, 0, 0, 0.15);\n",
              "      filter: drop-shadow(0px 1px 2px rgba(0, 0, 0, 0.3));\n",
              "      fill: #FFFFFF;\n",
              "    }\n",
              "  </style>\n",
              "\n",
              "      <script>\n",
              "        const buttonEl =\n",
              "          document.querySelector('#df-a3d3379c-b74c-4099-8027-66904d03ade9 button.colab-df-convert');\n",
              "        buttonEl.style.display =\n",
              "          google.colab.kernel.accessAllowed ? 'block' : 'none';\n",
              "\n",
              "        async function convertToInteractive(key) {\n",
              "          const element = document.querySelector('#df-a3d3379c-b74c-4099-8027-66904d03ade9');\n",
              "          const dataTable =\n",
              "            await google.colab.kernel.invokeFunction('convertToInteractive',\n",
              "                                                     [key], {});\n",
              "          if (!dataTable) return;\n",
              "\n",
              "          const docLinkHtml = 'Like what you see? Visit the ' +\n",
              "            '<a target=\"_blank\" href=https://colab.research.google.com/notebooks/data_table.ipynb>data table notebook</a>'\n",
              "            + ' to learn more about interactive tables.';\n",
              "          element.innerHTML = '';\n",
              "          dataTable['output_type'] = 'display_data';\n",
              "          await google.colab.output.renderOutput(dataTable, element);\n",
              "          const docLink = document.createElement('div');\n",
              "          docLink.innerHTML = docLinkHtml;\n",
              "          element.appendChild(docLink);\n",
              "        }\n",
              "      </script>\n",
              "    </div>\n",
              "  </div>\n",
              "  "
            ]
          },
          "metadata": {},
          "execution_count": 47
        }
      ]
    },
    {
      "cell_type": "code",
      "source": [
        "plt.figure(figsize=(25,10))\n",
        "plt.subplot(1,2,1)\n",
        "plt.plot(history['history']['accuracy'],'-b')\n",
        "plt.plot(history['history']['val_accuracy'],'r')\n",
        "plt.legend(['Training accuracy','Testing accuracy'])\n",
        "plt.axis([0, 160, 0, 1])\n",
        "plt.xlabel('Epochs')\n",
        "plt.ylabel('Accuracy')"
      ],
      "metadata": {
        "id": "sAx431i0WYuZ",
        "colab": {
          "base_uri": "https://localhost:8080/",
          "height": 628
        },
        "outputId": "2590a959-5abb-4f11-9c0a-0448daccae63"
      },
      "execution_count": null,
      "outputs": [
        {
          "output_type": "execute_result",
          "data": {
            "text/plain": [
              "Text(0, 0.5, 'Accuracy')"
            ]
          },
          "metadata": {},
          "execution_count": 48
        },
        {
          "output_type": "display_data",
          "data": {
            "text/plain": [
              "<Figure size 1800x720 with 1 Axes>"
            ],
            "image/png": "[encoded data removed]"
          },
          "metadata": {
            "needs_background": "light"
          }
        }
      ]
    },
    {
      "cell_type": "code",
      "source": [
        "# Importing all necessary libraries\n",
        "from sklearn.metrics import accuracy_score\n",
        "# Calculating the accuracy of classifier\n",
        "print(f\"Accuracy of the classifier is: {accuracy_score(y_test,y_pred1)}\")"
      ],
      "metadata": {
        "id": "SrGpHRGgmMbx",
        "colab": {
          "base_uri": "https://localhost:8080/",
          "height": 207
        },
        "outputId": "9405d1f0-d6ea-4a46-d7c0-237ff39af5a6"
      },
      "execution_count": null,
      "outputs": [
        {
          "output_type": "error",
          "ename": "NameError",
          "evalue": "ignored",
          "traceback": [
            "\u001b[0;31m---------------------------------------------------------------------------\u001b[0m",
            "\u001b[0;31mNameError\u001b[0m                                 Traceback (most recent call last)",
            "\u001b[0;32m<ipython-input-49-691302d64d1b>\u001b[0m in \u001b[0;36m<module>\u001b[0;34m()\u001b[0m\n\u001b[1;32m      2\u001b[0m \u001b[0;32mfrom\u001b[0m \u001b[0msklearn\u001b[0m\u001b[0;34m.\u001b[0m\u001b[0mmetrics\u001b[0m \u001b[0;32mimport\u001b[0m \u001b[0maccuracy_score\u001b[0m\u001b[0;34m\u001b[0m\u001b[0;34m\u001b[0m\u001b[0m\n\u001b[1;32m      3\u001b[0m \u001b[0;31m# Calculating the accuracy of classifier\u001b[0m\u001b[0;34m\u001b[0m\u001b[0;34m\u001b[0m\u001b[0;34m\u001b[0m\u001b[0m\n\u001b[0;32m----> 4\u001b[0;31m \u001b[0mprint\u001b[0m\u001b[0;34m(\u001b[0m\u001b[0;34mf\"Accuracy of the classifier is: {accuracy_score(y_test,y_pred1)}\"\u001b[0m\u001b[0;34m)\u001b[0m\u001b[0;34m\u001b[0m\u001b[0;34m\u001b[0m\u001b[0m\n\u001b[0m",
            "\u001b[0;31mNameError\u001b[0m: name 'y_pred1' is not defined"
          ]
        }
      ]
    },
    {
      "cell_type": "code",
      "source": [
        "y_test.shape"
      ],
      "metadata": {
        "id": "tCrxzZkNVvGh"
      },
      "execution_count": null,
      "outputs": []
    },
    {
      "cell_type": "code",
      "source": [
        "y_pred.shape"
      ],
      "metadata": {
        "id": "z3-kUe4BVxRG"
      },
      "execution_count": null,
      "outputs": []
    },
    {
      "cell_type": "code",
      "source": [
        "y_pred1=np.around(y_pred)\n",
        "y_pred1"
      ],
      "metadata": {
        "id": "6366Lhp7Vy9O"
      },
      "execution_count": null,
      "outputs": []
    },
    {
      "cell_type": "code",
      "source": [
        "y_pred1.shape"
      ],
      "metadata": {
        "id": "1F1rOXm3V81_"
      },
      "execution_count": null,
      "outputs": []
    },
    {
      "cell_type": "code",
      "source": [
        "gfcc_dict={\"y_test_gfcc\":y_test,\"y_pred_gfcc\":y_pred1}\n",
        "gfcc_dict"
      ],
      "metadata": {
        "id": "8YA7zu-OWRTk"
      },
      "execution_count": null,
      "outputs": []
    },
    {
      "cell_type": "code",
      "source": [
        "from sklearn.metrics import precision_score\n",
        "\n",
        "# Calculating the precision score of classifier\n",
        "print(f\"Precision Score of the classifier is: {precision_score(y_test,y_pred1,average='micro')}\")"
      ],
      "metadata": {
        "id": "glxrmdx5W1kA"
      },
      "execution_count": null,
      "outputs": []
    },
    {
      "cell_type": "code",
      "source": [
        "from sklearn.metrics import f1_score\n",
        "\n",
        "# Calculating the F1 score of classifier\n",
        "print(f\"F1 Score of the classifier is: {f1_score(y_test, y_pred1,average='micro')}\")"
      ],
      "metadata": {
        "id": "PMgk_7v7aIfm"
      },
      "execution_count": null,
      "outputs": []
    },
    {
      "cell_type": "code",
      "source": [
        "y_pred1"
      ],
      "metadata": {
        "id": "LfYZqDGtXIOK"
      },
      "execution_count": null,
      "outputs": []
    },
    {
      "cell_type": "code",
      "source": [
        "y_test"
      ],
      "metadata": {
        "id": "nc5wBhy4XNox"
      },
      "execution_count": null,
      "outputs": []
    },
    {
      "cell_type": "code",
      "source": [
        "y_test"
      ],
      "metadata": {
        "id": "tTq6gPQMXPpO"
      },
      "execution_count": null,
      "outputs": []
    },
    {
      "cell_type": "code",
      "source": [
        "pickle.dump(gfcc_dict, open(file_path_model+'gfcc_dict_values.p', 'wb'))"
      ],
      "metadata": {
        "id": "I907WT-3YJu7"
      },
      "execution_count": null,
      "outputs": []
    },
    {
      "cell_type": "code",
      "source": [
        ""
      ],
      "metadata": {
        "id": "Fmom68hTb1Wr"
      },
      "execution_count": null,
      "outputs": []
    }
  ]
}