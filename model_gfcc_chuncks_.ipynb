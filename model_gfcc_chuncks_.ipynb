{
  "nbformat": 4,
  "nbformat_minor": 0,
  "metadata": {
    "colab": {
      "name": "model_gfcc_chuncks .ipynb",
      "provenance": [],
      "machine_shape": "hm",
      "collapsed_sections": [],
      "toc_visible": true,
      "include_colab_link": true
    },
    "kernelspec": {
      "name": "python3",
      "display_name": "Python 3"
    },
    "language_info": {
      "name": "python"
    },
    "accelerator": "GPU"
  },
  "cells": [
    {
      "cell_type": "markdown",
      "metadata": {
        "id": "view-in-github",
        "colab_type": "text"
      },
      "source": [
        "<a href=\"https://colab.research.google.com/github/Dhaneesh02/fyp/blob/debug-1/model_gfcc_chuncks_.ipynb\" target=\"_parent\"><img src=\"https://colab.research.google.com/assets/colab-badge.svg\" alt=\"Open In Colab\"/></a>"
      ]
    },
    {
      "cell_type": "code",
      "source": [
        "file_path = '/content/drive/MyDrive/Review_3/'\n",
        "file_path_model = '/content/drive/MyDrive/Review_3/gfcc_chuncks/'"
      ],
      "metadata": {
        "id": "GPFdVXjCAnTS"
      },
      "execution_count": 1,
      "outputs": []
    },
    {
      "cell_type": "code",
      "source": [
        ""
      ],
      "metadata": {
        "id": "MtGxmCV-VBgr"
      },
      "execution_count": 1,
      "outputs": []
    },
    {
      "cell_type": "code",
      "execution_count": 2,
      "metadata": {
        "colab": {
          "base_uri": "https://localhost:8080/",
          "height": 17
        },
        "id": "-mK_p7Vx-Gr_",
        "outputId": "da24f894-8c28-4753-b7c1-06e090632ea6"
      },
      "outputs": [
        {
          "output_type": "display_data",
          "data": {
            "text/html": [
              "        <script type=\"text/javascript\">\n",
              "        window.PlotlyConfig = {MathJaxConfig: 'local'};\n",
              "        if (window.MathJax) {MathJax.Hub.Config({SVG: {font: \"STIX-Web\"}});}\n",
              "        if (typeof require !== 'undefined') {\n",
              "        require.undef(\"plotly\");\n",
              "        requirejs.config({\n",
              "            paths: {\n",
              "                'plotly': ['https://cdn.plot.ly/plotly-2.8.3.min']\n",
              "            }\n",
              "        });\n",
              "        require(['plotly'], function(Plotly) {\n",
              "            window._Plotly = Plotly;\n",
              "        });\n",
              "        }\n",
              "        </script>\n",
              "        "
            ]
          },
          "metadata": {}
        }
      ],
      "source": [
        "### General imports ###\n",
        "import os\n",
        "from glob import glob\n",
        "import pickle\n",
        "import itertools\n",
        "from scipy.stats import zscore\n",
        "from sklearn.model_selection import train_test_split\n",
        "import random\n",
        "import sys\n",
        "\n",
        "\n",
        "## Package\n",
        "import glob \n",
        "import keras\n",
        "import IPython.display as ipd\n",
        "import librosa\n",
        "import librosa.display\n",
        "import matplotlib.pyplot as plt\n",
        "import numpy as np\n",
        "import pandas as pd\n",
        "import plotly.graph_objs as go\n",
        "import plotly.offline as py\n",
        "import plotly.tools as tls\n",
        "import seaborn as sns\n",
        "import scipy.io.wavfile\n",
        "import tensorflow as tf\n",
        "py.init_notebook_mode(connected=True)\n",
        "\n",
        "\n",
        "## Keras\n",
        "from keras import regularizers\n",
        "from keras.callbacks import ModelCheckpoint, LearningRateScheduler, EarlyStopping\n",
        "from keras.callbacks import  History, ReduceLROnPlateau, CSVLogger\n",
        "from keras.models import Model, Sequential\n",
        "from keras.layers import Dense, Embedding, LSTM\n",
        "from keras.layers import Input, Flatten, Dropout, Activation, BatchNormalization\n",
        "from keras.layers import Conv1D, MaxPooling1D, AveragePooling1D\n",
        "from keras.preprocessing import sequence\n",
        "from keras.preprocessing.sequence import pad_sequences\n",
        "from keras.preprocessing.text import Tokenizer\n",
        "from keras.utils import np_utils\n",
        "\n",
        "\n",
        "## Sklearn\n",
        "from sklearn.metrics import confusion_matrix\n",
        "from sklearn.preprocessing import LabelEncoder\n",
        "\n",
        "\n",
        "## Rest\n",
        "from scipy.fftpack import fft\n",
        "from scipy import signal\n",
        "from scipy.io import wavfile\n",
        "from tqdm import tqdm\n",
        "\n",
        "input_duration=3\n",
        "# % pylab inline\n",
        "### Graph imports ###\n",
        "from PIL import Image\n",
        "import librosa\n",
        "### Audio import ###\n",
        "\n",
        "import IPython\n",
        "from IPython.display import Audio"
      ]
    },
    {
      "cell_type": "code",
      "source": [
        "from google.colab import drive\n",
        "drive.mount('/content/drive')"
      ],
      "metadata": {
        "colab": {
          "base_uri": "https://localhost:8080/"
        },
        "id": "5V_9hUndAisL",
        "outputId": "7907af2f-d50f-4198-8d80-a1c9eb850f65"
      },
      "execution_count": 3,
      "outputs": [
        {
          "output_type": "stream",
          "name": "stdout",
          "text": [
            "Mounted at /content/drive\n"
          ]
        }
      ]
    },
    {
      "cell_type": "code",
      "source": [
        "import csv\n",
        "from dataclasses import dataclass\n",
        "file = open(file_path+\"filtered_annotations_msp_3500.csv\")\n",
        "csvreader = csv.reader(file)\n",
        "header = next(csvreader)\n",
        "# print(header)\n",
        "csv_data = []\n",
        "for row in csvreader:\n",
        "    csv_data.append(row)\n",
        "\n",
        "file.close()\n",
        "labelling_data = dict()\n",
        "\n",
        "for i in csv_data:\n",
        "    labelling_data[i[0]]=i[1]\n",
        "    \n",
        "  \n",
        "print(len(csv_data))"
      ],
      "metadata": {
        "colab": {
          "base_uri": "https://localhost:8080/"
        },
        "id": "vKgpGgWIAmCb",
        "outputId": "a6298910-7ca8-4bb1-85b2-522081d9b410"
      },
      "execution_count": null,
      "outputs": [
        {
          "output_type": "stream",
          "name": "stdout",
          "text": [
            "3500\n"
          ]
        }
      ]
    },
    {
      "cell_type": "code",
      "source": [
        "!pip install pydub\n",
        "from pydub import AudioSegment\n",
        "from pydub.silence import split_on_silence,detect_silence,detect_nonsilent"
      ],
      "metadata": {
        "colab": {
          "base_uri": "https://localhost:8080/"
        },
        "id": "7WUE1sPkBPaL",
        "outputId": "1f899130-97a2-4c09-a260-9a8236eb92bc"
      },
      "execution_count": null,
      "outputs": [
        {
          "output_type": "stream",
          "name": "stdout",
          "text": [
            "Looking in indexes: https://pypi.org/simple, https://us-python.pkg.dev/colab-wheels/public/simple/\n",
            "Collecting pydub\n",
            "  Downloading pydub-0.25.1-py2.py3-none-any.whl (32 kB)\n",
            "Installing collected packages: pydub\n",
            "Successfully installed pydub-0.25.1\n"
          ]
        }
      ]
    },
    {
      "cell_type": "code",
      "source": [
        "# # Start feature extraction\n",
        "# print(\"Import Data: START\")\n",
        "\n",
        "# # Audio file path and names\n",
        "# file_path_dataset = '/content/drive/MyDrive/Review_3/Data_msp_3500/'\n",
        "\n",
        "# # Initialize features and labels list\n",
        "# signal = []\n",
        "# labels = []\n",
        "\n",
        "# # Sample rate (16.0 kHz)\n",
        "# sample_rate = 16000     \n",
        "\n",
        "# # Max pad length (3.0 sec)\n",
        "# max_pad_len = 49100\n",
        "\n",
        "\n",
        "# file_names=[]\n",
        "\n",
        "# #data_visualisation\n",
        "# count = 0\n",
        "\n",
        "# def find_breaking_duration(self, arr, threshold, step=2500, prev=0):\n",
        "#   result =0 \n",
        "#   for [i,j] in arr:\n",
        "#     if(j<threshold):\n",
        "#       result=j\n",
        "#     else:\n",
        "#       break\n",
        "#   if (threshold-result) > 1000:\n",
        "#     return prev+step\n",
        "#   return result\n",
        "\n",
        "# max_=0\n",
        "# print(\"Import Data: RUNNING ... files\")\n",
        "# for i in labelling_data:\n",
        "#   cur_file = file_path_dataset + i\n",
        "#   y, sr = librosa.core.load(cur_file, sr=sample_rate, offset=0)\n",
        "#   y = zscore(y)\n",
        "#   # print(len(y))\n",
        "#   file_ = AudioSegment.from_wav(cur_file)\n",
        "#   #each chunck to hava a length of 3 sec\n",
        "#   silence = detect_silence(file_, min_silence_len = 100, silence_thresh=-35)\n",
        "#   # print(silence)\n",
        "#   prev_breakpoint = 0\n",
        "#   file_c = 0 \n",
        "#   for j in range(2500, len(file_), 2500):\n",
        "#     break_point = find_breaking_duration(arr = silence, threshold = j, prev = prev_breakpoint) \n",
        "#     if prev_breakpoint == 0:\n",
        "#       y_padded = np.zeros(max_pad_len)\n",
        "#       breakpoint = (breakpoint/1000)*16366 \n",
        "#       y_padded[:breakpoint] = y[:breakpoint]\n",
        "#     else:\n",
        "#       y_padded = np.zeros(max_pad_len)\n",
        "#       breakpoint = (breakpoint/1000)*16366\n",
        "#       prev_breakpoint = (prev_breakpoint/1000)*16366\n",
        "#       y_padded[prev_breakpoint:breakpoint] = y[prev_breakpoint:breakpoint]\n",
        "#     prev_breakpoint = break_point\n",
        "#     signal.append(y_padded)\n",
        "#     labels.append(labelling_data[i])\n",
        "#     temp_name = i[:-4]\n",
        "#     file_names.append(temp_name+\"_\"+str(file_c)+\".wav\")\n",
        "#     filr_c += 1\n",
        "#   if count%400 == 0:\n",
        "#     print(count,len(signal))\n",
        "#   if count==3:\n",
        "#     break\n",
        "#   count += 1\n",
        "# # Cast labels to array\n",
        "# labels = np.asarray(labels).ravel()\n",
        "\n",
        "# # Stop feature extraction\n",
        "# print(\"Import Data: END \\n\")\n",
        "# print(\"Number of audio files imported: {}\".format(labels.shape[0]),\"  \",count)\n"
      ],
      "metadata": {
        "id": "dNyTPKf0A4zA"
      },
      "execution_count": null,
      "outputs": []
    },
    {
      "cell_type": "code",
      "source": [
        "# Start feature extraction\n",
        "print(\"Import Data: START\")\n",
        "\n",
        "# Audio file path and names\n",
        "file_path_dataset = '/content/drive/MyDrive/Review_3/Data_msp_3500/'\n",
        "\n",
        "# Initialize features and labels list\n",
        "signal = []\n",
        "labels = []\n",
        "\n",
        "# Sample rate (16.0 kHz)\n",
        "sample_rate = 16000     \n",
        "\n",
        "# Max pad length (3.0 sec)\n",
        "max_pad_len = 49100\n",
        "\n",
        "\n",
        "file_names=[]\n",
        "\n",
        "#data_visualisation\n",
        "count = 0\n",
        "\n",
        "final_emo = {'Happy':0,'Sad':0,'Neutral':0,'Surprise':0,'Angry':0,'Disgust':0,'Fear':0}\n",
        "\n",
        "max_=0\n",
        "print(\"Import Data: RUNNING ... files\")\n",
        "for i in labelling_data:\n",
        "  cur_file = file_path_dataset + i\n",
        "  y, sr = librosa.core.load(cur_file, sr=sample_rate, offset=0)\n",
        "  y = zscore(y)\n",
        "  step = 2600\n",
        "  file_ = AudioSegment.from_wav(cur_file)\n",
        "  # print(len(file_))\n",
        "  prev_breakpoint = 0\n",
        "  file_c  = 0\n",
        "  itr_c = 0\n",
        "  for j in range(2600, len(file_), 2600):\n",
        "    if j == step:\n",
        "      y_padded = np.zeros(max_pad_len)\n",
        "      breakpoint = round((j/1000)*16366) \n",
        "      inc = round((200/1000)*16366)\n",
        "      y_padded[:breakpoint+inc] = y[:breakpoint+inc]\n",
        "    else:\n",
        "      breakpoint = round((j/1000)*16366)\n",
        "      inc = round((200/1000)*16366)      \n",
        "      y_temp = y[prev_breakpoint-inc:breakpoint+inc]\n",
        "      y_padded = np.zeros(max_pad_len-len(y_temp))\n",
        "      y_padded = np.concatenate((y_temp, y_padded))\n",
        "    prev_breakpoint = breakpoint\n",
        "    signal.append(y_padded)\n",
        "    labels.append(labelling_data[i])\n",
        "    final_emo[labelling_data[i]]+=1\n",
        "    temp_name = i[:-4]\n",
        "    file_names.append(temp_name+\"_\"+str(file_c)+\".wav\")\n",
        "    file_c += 1\n",
        "    itr_c += 1\n",
        "    if itr_c == 3:\n",
        "      break\n",
        "  if count%100 == 0:\n",
        "    print(count,len(signal))\n",
        "  # if count==10:\n",
        "  #   break\n",
        "  count += 1\n",
        "# Cast labels to array\n",
        "labels = np.asarray(labels).ravel()\n",
        "\n",
        "# Stop feature extraction\n",
        "print(\"Import Data: END \\n\")\n",
        "print(\"Number of audio files imported: {}\".format(labels.shape[0]),\"  \",count)\n",
        "print(final_emo)"
      ],
      "metadata": {
        "colab": {
          "base_uri": "https://localhost:8080/"
        },
        "id": "OGGHfU6qJ3FF",
        "outputId": "a3593b98-a06f-45be-9c8e-d9ba851a30ea"
      },
      "execution_count": null,
      "outputs": [
        {
          "output_type": "stream",
          "name": "stdout",
          "text": [
            "Import Data: START\n",
            "Import Data: RUNNING ... files\n",
            "0 3\n",
            "100 300\n",
            "200 597\n",
            "300 897\n",
            "400 1197\n",
            "500 1495\n",
            "600 1793\n",
            "700 2090\n",
            "800 2386\n",
            "900 2685\n",
            "1000 2985\n",
            "1100 3285\n",
            "1200 3583\n",
            "1300 3883\n",
            "1400 4180\n",
            "1500 4477\n",
            "1600 4773\n",
            "1700 5068\n",
            "1800 5364\n",
            "1900 5659\n",
            "2000 5954\n",
            "2100 6252\n",
            "2200 6548\n",
            "2300 6842\n",
            "2400 7136\n",
            "2500 7430\n",
            "2600 7723\n",
            "2700 8015\n",
            "2800 8306\n",
            "2900 8593\n",
            "3000 8883\n",
            "3100 9170\n",
            "3200 9463\n",
            "3300 9763\n",
            "3400 10056\n",
            "Import Data: END \n",
            "\n",
            "Number of audio files imported: 10306    3500\n",
            "{'Happy': 1500, 'Sad': 1500, 'Neutral': 1500, 'Surprise': 1500, 'Angry': 1500, 'Disgust': 1500, 'Fear': 1306}\n"
          ]
        }
      ]
    },
    {
      "cell_type": "code",
      "source": [
        "pickle.dump(signal, open(file_path_model+'signal.p', 'wb'))\n",
        "pickle.dump(file_names, open(file_path_model+'file_names.p', 'wb'))\n",
        "pickle.dump(labels, open(file_path_model+'labels.p', 'wb'))"
      ],
      "metadata": {
        "id": "YdUtIvqsSHh3"
      },
      "execution_count": null,
      "outputs": []
    },
    {
      "cell_type": "code",
      "source": [
        "# file_path = '/content/drive/MyDrive/Review_3/'\n",
        "\n",
        "# # Initialize features and labels list\n",
        "# signal = []\n",
        "# labels = []\n",
        "# file_names = []\n",
        "\n",
        "# # Sample rate (16.0 kHz)\n",
        "# sample_rate = 16000     \n",
        "\n",
        "# # Max pad length (3.0 sec)\n",
        "# max_pad_len = 49100\n",
        "\n",
        "\n",
        "# signal=pickle.load(open(file_path_model+\"signal.p\",\"rb\"))\n",
        "# file_names=pickle.load(open(file_path_model+\"file_names.p\",\"rb\"))\n",
        "# labels=pickle.load(open(file_path_model+\"labels.p\",\"rb\"))\n",
        "\n",
        "# #data_visualisation\n",
        "# count = len(signal)\n",
        "# print(\"Import Data: END \\n\")\n",
        "# print(\"Number of audio files imported: {}\".format(labels.shape[0]))"
      ],
      "metadata": {
        "id": "S_FvEvcHSPcV"
      },
      "execution_count": null,
      "outputs": []
    },
    {
      "cell_type": "code",
      "source": [
        "# Number of augmented data\n",
        "nb_augmented = 1\n",
        "# Function to add noise to a signals with a desired Signal Noise ratio (SNR)\n",
        "def noisy_signal(signal, snr_low=15, snr_high=30, nb_augmented=1):\n",
        "    # Signal length\n",
        "    signal_len = len(signal)\n",
        "\n",
        "    # Generate White noise\n",
        "    noise = np.random.normal(size=(nb_augmented, signal_len))\n",
        "    \n",
        "    # Compute signal and noise power\n",
        "    s_power = np.sum((signal / (2.0 ** 15)) ** 2) / signal_len\n",
        "    n_power = np.sum((noise / (2.0 ** 15)) ** 2, axis=1) / signal_len\n",
        "    \n",
        "    # Random SNR: Uniform [15, 30]\n",
        "    snr = np.random.randint(snr_low, snr_high)\n",
        "    \n",
        "    # Compute K coeff for each noise\n",
        "    K = np.sqrt((s_power / n_power) * 10 ** (- snr / 10))\n",
        "    K = np.ones((signal_len, nb_augmented)) * K\n",
        "    \n",
        "    # Generate noisy signal\n",
        "    return signal + K.T * noise"
      ],
      "metadata": {
        "id": "EXibgPfnSXO1"
      },
      "execution_count": null,
      "outputs": []
    },
    {
      "cell_type": "code",
      "source": [
        "# Generate noisy signals from signal list\n",
        "print(\"Data Augmentation: START\")\n",
        "# augmented_signal = list(map(noisy_signal, signal))\n",
        "c=0\n",
        "print(len(signal))\n",
        "augmented_signal = []\n",
        "for i in signal:\n",
        "  augmented_signal.append(noisy_signal(i)[0])\n",
        "  if c%300==0:\n",
        "    print(c)\n",
        "  c+=1\n",
        "print(\"Data Augmentation: END!\")\n",
        "print(len(augmented_signal))"
      ],
      "metadata": {
        "colab": {
          "base_uri": "https://localhost:8080/"
        },
        "id": "AeC7JFqVSZJK",
        "outputId": "058a6cee-f66a-45a9-f27a-966d357d575e"
      },
      "execution_count": null,
      "outputs": [
        {
          "output_type": "stream",
          "name": "stdout",
          "text": [
            "Data Augmentation: START\n",
            "10306\n",
            "0\n",
            "300\n",
            "600\n",
            "900\n",
            "1200\n",
            "1500\n",
            "1800\n",
            "2100\n",
            "2400\n",
            "2700\n",
            "3000\n",
            "3300\n",
            "3600\n",
            "3900\n",
            "4200\n",
            "4500\n",
            "4800\n",
            "5100\n",
            "5400\n",
            "5700\n",
            "6000\n",
            "6300\n",
            "6600\n",
            "6900\n",
            "7200\n",
            "7500\n",
            "7800\n",
            "8100\n",
            "8400\n",
            "8700\n",
            "9000\n",
            "9300\n",
            "9600\n",
            "9900\n",
            "10200\n",
            "Data Augmentation: END!\n",
            "10306\n"
          ]
        }
      ]
    },
    {
      "cell_type": "code",
      "source": [
        "g=0\n",
        "def mel_spectrogram(y, sr=16000, n_fft=512, win_length=256, hop_length=128, window='hamming', n_mels=128, fmax=4000):\n",
        "    global g\n",
        "    if g%300==0:\n",
        "      print(g) \n",
        "    g+=1\n",
        "    # Compute spectogram\n",
        "    mel_spect = np.abs(librosa.stft(y, n_fft=n_fft, window=window, win_length=win_length, hop_length=hop_length)) ** 2\n",
        "    \n",
        "    # Compute mel spectrogram\n",
        "    mel_spect = librosa.feature.melspectrogram(S=mel_spect, sr=sr, n_mels=n_mels, fmax=fmax)\n",
        "    \n",
        "    # Compute log-mel spectrogram\n",
        "    mel_spect = librosa.power_to_db(mel_spect, ref=np.max)\n",
        "    \n",
        "    return mel_spect"
      ],
      "metadata": {
        "id": "yzfb0WqySa6j"
      },
      "execution_count": null,
      "outputs": []
    },
    {
      "cell_type": "code",
      "source": [
        "import gc"
      ],
      "metadata": {
        "id": "04OsnhpTSccC"
      },
      "execution_count": null,
      "outputs": []
    },
    {
      "cell_type": "code",
      "source": [
        "#librosa.version.version=0.7.2\n",
        "#spafe.sys.version=3.7.6 \n",
        "!pip install spafe\n",
        "import spafe\n",
        "from librosa import display\n",
        "from spafe.fbanks.gammatone_fbanks import gammatone_filter_banks\n"
      ],
      "metadata": {
        "colab": {
          "base_uri": "https://localhost:8080/"
        },
        "id": "C5UzYfS17rvt",
        "outputId": "7e9f9c5b-958c-49a3-b2ca-197da5384d14"
      },
      "execution_count": null,
      "outputs": [
        {
          "output_type": "stream",
          "name": "stdout",
          "text": [
            "Looking in indexes: https://pypi.org/simple, https://us-python.pkg.dev/colab-wheels/public/simple/\n",
            "Collecting spafe\n",
            "  Downloading spafe-0.1.2-py3-none-any.whl (77 kB)\n",
            "\u001b[K     |████████████████████████████████| 77 kB 2.9 MB/s \n",
            "\u001b[?25hRequirement already satisfied: scipy>=1.3.1 in /usr/local/lib/python3.7/dist-packages (from spafe) (1.4.1)\n",
            "Requirement already satisfied: numpy>=1.17.2 in /usr/local/lib/python3.7/dist-packages (from spafe) (1.21.6)\n",
            "Installing collected packages: spafe\n",
            "Successfully installed spafe-0.1.2\n"
          ]
        }
      ]
    },
    {
      "cell_type": "code",
      "source": [
        "def Log_Gammatone_Spectrum(y, sr=16000, n_fft=512, win_length=256, hop_length=128, window='hamming', n_mels=128, fmax=4000): \n",
        "    # y,sr=librosa.load(File_name,sr)\n",
        "    gam_spect = np.abs(librosa.stft(y, n_fft=n_fft, window=window, win_length=win_length, hop_length=hop_length)) ** 2\n",
        "    \n",
        "    gammatone_filter_bank = gammatone_filter_banks(nfilts=128, nfft=512, fs=sr, low_freq=50, high_freq=None, scale='contsant', order=4)\n",
        "    # print(gam_spect.shape,gammatone_filter_bank.shape)\n",
        "\n",
        "    Gam=gammatone_filter_bank.dot(gam_spect)\n",
        "    LogGamSpec = librosa.power_to_db(Gam,ref=np.max)\n",
        "    # display.specshow(LogGamSpec,y_axis='log')\n",
        "    return LogGamSpec"
      ],
      "metadata": {
        "id": "VYcmXiTb7kL8"
      },
      "execution_count": null,
      "outputs": []
    },
    {
      "cell_type": "code",
      "source": [
        "# Start feature extraction\n",
        "print(\"Feature extraction: START\")\n",
        "\n",
        "# Compute spectogram for all audio file\n",
        "mel_spect = []\n",
        "# print(len(signal),len(s))\n",
        "for i in range(len(signal)):\n",
        "  mel_spect.append(Log_Gammatone_Spectrum(signal[i]))\n",
        "\n",
        "\n",
        "mel_spect = np.asarray(mel_spect)\n",
        "del signal\n",
        "gc.collect()\n",
        "\n",
        "# Stop feature extraction\n",
        "print(\"Feature extraction: END!\")"
      ],
      "metadata": {
        "colab": {
          "base_uri": "https://localhost:8080/"
        },
        "id": "tupYZ1xOSext",
        "outputId": "b82577b7-59bb-448e-8eb6-5cff3d6b5f14"
      },
      "execution_count": null,
      "outputs": [
        {
          "output_type": "stream",
          "name": "stdout",
          "text": [
            "Feature extraction: START\n",
            "Feature extraction: END!\n"
          ]
        }
      ]
    },
    {
      "cell_type": "code",
      "source": [
        "pickle.dump(mel_spect, open(file_path_model+'mel_spect.p', 'wb'), protocol=4)\n"
      ],
      "metadata": {
        "id": "6Om1_EFPlnpN"
      },
      "execution_count": null,
      "outputs": []
    },
    {
      "cell_type": "code",
      "source": [
        "# Start feature extraction\n",
        "print(\"Feature extraction: START\")\n",
        "\n",
        "augmented_mel_spect = []\n",
        "for i in range(len(augmented_signal)):\n",
        "  augmented_mel_spect.append(Log_Gammatone_Spectrum(augmented_signal[i]))\n",
        "augmented_mel_spect =  np.asarray(augmented_mel_spect)\n",
        "del augmented_signal\n",
        "gc.collect()\n",
        "\n",
        "# Stop feature extraction\n",
        "print(\"Feature extraction: END!\")"
      ],
      "metadata": {
        "colab": {
          "base_uri": "https://localhost:8080/"
        },
        "id": "-IyrHo--SgJF",
        "outputId": "a4aa1995-b9ab-4bf7-bfa7-4a55199800bf"
      },
      "execution_count": null,
      "outputs": [
        {
          "output_type": "stream",
          "name": "stdout",
          "text": [
            "Feature extraction: START\n",
            "Feature extraction: END!\n"
          ]
        }
      ]
    },
    {
      "cell_type": "code",
      "source": [
        "\n",
        "print(mel_spect.shape)\n",
        "print(augmented_mel_spect.shape)\n",
        "print(labels.shape)"
      ],
      "metadata": {
        "colab": {
          "base_uri": "https://localhost:8080/"
        },
        "id": "KHvOgKOzSjcK",
        "outputId": "c1c320da-f54e-4557-bd45-d80ee91ea7fa"
      },
      "execution_count": null,
      "outputs": [
        {
          "output_type": "stream",
          "name": "stdout",
          "text": [
            "(10306, 128, 384)\n",
            "(10306, 128, 384)\n",
            "(10306,)\n"
          ]
        }
      ]
    },
    {
      "cell_type": "code",
      "source": [
        "\n",
        "pickle.dump(augmented_mel_spect, open(file_path_model+'augmented_mel_spect.p', 'wb'), protocol=4)\n"
      ],
      "metadata": {
        "id": "imb3qHesSlec"
      },
      "execution_count": null,
      "outputs": []
    },
    {
      "cell_type": "code",
      "source": [
        "labels=pickle.load(open(file_path_model+\"labels.p\",\"rb\"))"
      ],
      "metadata": {
        "id": "PI1pmF_IVdSF"
      },
      "execution_count": null,
      "outputs": []
    },
    {
      "cell_type": "code",
      "source": [
        "# Build Train and test dataset\n",
        "# MEL_SPECT_train, MEL_SPECT_test,  label_train, label_test = train_test_split(mel_spect,  labels, test_size=0.2)\n",
        "MEL_SPECT_train, MEL_SPECT_test, AUG_MEL_SPECT_train, AUG_MEL_SPECT_test, label_train, label_test = train_test_split(mel_spect, augmented_mel_spect, labels, test_size=0.2)\n",
        "\n",
        "# Build augmented labels and train\n",
        "# aug_label_train = np.asarray(list(itertools.chain.from_iterable([[label] * nb_augmented for label in label_train])))\n",
        "# AUG_MEL_SPECT_train = np.asarray(list(itertools.chain.from_iterable(AUG_MEL_SPECT_train)))\n",
        "# AUG_MEL_SPECT_test = np.asarray(list(itertools.chain.from_iterable(AUG_MEL_SPECT_test)))\n",
        "# aug_label_test = np.asarray(list(itertools.chain.from_iterable([[label] * nb_augmented for label in label_test])))\n",
        "# print(AUG_MEL_SPECT_train.shape)\n",
        "# print(AUG_MEL_SPECT_test.shape)\n",
        "# Concatenate original and augmented\n",
        "# X_train = MEL_SPECT_train\n",
        "# y_train = label_train\n",
        "X_train = np.concatenate((MEL_SPECT_train, AUG_MEL_SPECT_train))\n",
        "y_train = np.concatenate((label_train, label_train))\n",
        "\n",
        "print(\"x_train: \",X_train.shape)\n",
        "print(\"y_train: \",y_train.shape)\n",
        "# Build test set\n",
        "X_test = np.concatenate((MEL_SPECT_test, AUG_MEL_SPECT_test))\n",
        "# X_test = MEL_SPECT_test\n",
        "y_test = np.concatenate((label_test, label_test))\n",
        "# y_test = label_test\n",
        "print(X_test.shape)\n",
        "print(y_test.shape)\n",
        "# Delete\n",
        "# del MEL_SPECT_train,MEL_SPECT_test\n",
        "del MEL_SPECT_train, AUG_MEL_SPECT_train, label_train, AUG_MEL_SPECT_test, MEL_SPECT_test, label_test\n",
        "del mel_spect, augmented_mel_spect, labels"
      ],
      "metadata": {
        "colab": {
          "base_uri": "https://localhost:8080/"
        },
        "id": "m3FANhgdViOM",
        "outputId": "30c052ae-4df7-4ffd-91f0-8e246839598b"
      },
      "execution_count": null,
      "outputs": [
        {
          "output_type": "stream",
          "name": "stdout",
          "text": [
            "x_train:  (16488, 128, 384)\n",
            "y_train:  (16488,)\n",
            "(4124, 128, 384)\n",
            "(4124,)\n"
          ]
        }
      ]
    },
    {
      "cell_type": "code",
      "source": [
        "win_ts = 128\n",
        "hop_ts = 64\n",
        "\n",
        "def frame(x, win_step=128, win_size=64):\n",
        "    nb_frames = 1 + int((x.shape[2] - win_size) / win_step)\n",
        "    frames = np.zeros((x.shape[0], nb_frames, x.shape[1], win_size)).astype(np.float32)\n",
        "    for t in range(nb_frames):\n",
        "        frames[:,t,:,:] = np.copy(x[:,:,(t * win_step):(t * win_step + win_size)]).astype(np.float32)\n",
        "    return frames\n",
        "\n",
        "X_train = frame(X_train, hop_ts, win_ts)\n",
        "X_test = frame(X_test, hop_ts, win_ts)\n"
      ],
      "metadata": {
        "id": "9PQvkF_7VoMR"
      },
      "execution_count": null,
      "outputs": []
    },
    {
      "cell_type": "code",
      "source": [
        "\n",
        "X_test.shape"
      ],
      "metadata": {
        "colab": {
          "base_uri": "https://localhost:8080/"
        },
        "id": "cLfDOehmVp5v",
        "outputId": "c54fd83d-8df8-417c-954e-fc70ff27a64c"
      },
      "execution_count": null,
      "outputs": [
        {
          "output_type": "execute_result",
          "data": {
            "text/plain": [
              "(4124, 5, 128, 128)"
            ]
          },
          "metadata": {},
          "execution_count": 24
        }
      ]
    },
    {
      "cell_type": "code",
      "source": [
        "# Save Train and test set\n",
        "pickle.dump(X_train.astype(np.float16), open(file_path_model+'[msp_mfcc][X_train].p', 'wb'))\n",
        "pickle.dump(y_train, open(file_path_model+'[msp_mfcc][y_train].p', 'wb'))\n",
        "pickle.dump(X_test.astype(np.float16), open(file_path_model+'[msp_mfcc][X_test].p', 'wb'))\n",
        "pickle.dump(y_test, open(file_path_model+'[msp_mfcc][y_test].p', 'wb'))"
      ],
      "metadata": {
        "id": "ai5r1KnDVro4"
      },
      "execution_count": null,
      "outputs": []
    },
    {
      "cell_type": "code",
      "source": [
        "import os\n",
        "from glob import glob\n",
        "import pickle\n",
        "import numpy as np\n",
        "import pandas as pd\n",
        "from keras.utils.vis_utils import plot_model\n",
        "### Plot imports ###\n",
        "from IPython.display import Image\n",
        "import matplotlib.pyplot as plt\n",
        "\n",
        "### Time Distributed ConvNet imports ###\n",
        "import tensorflow as tf\n",
        "from tensorflow.keras.models import Sequential, Model\n",
        "from tensorflow.keras.layers import Input, Dense, Dropout, Activation, TimeDistributed, concatenate\n",
        "from tensorflow.keras.layers import Conv2D, MaxPooling2D, AveragePooling2D, BatchNormalization, LeakyReLU, Flatten\n",
        "from tensorflow.keras.layers import LSTM\n",
        "from tensorflow.keras.optimizers import Adam, SGD\n",
        "from tensorflow.keras.callbacks import EarlyStopping, ModelCheckpoint, ReduceLROnPlateau\n",
        "from tensorflow.keras import backend as K\n",
        "from keras.utils import np_utils\n",
        "from keras.utils.vis_utils import plot_model\n",
        "from sklearn.preprocessing import LabelEncoder\n",
        "\n",
        "### Warning ###\n",
        "import warnings\n",
        "warnings.filterwarnings('ignore')"
      ],
      "metadata": {
        "id": "Y4BEJ9ZtVyv7"
      },
      "execution_count": 4,
      "outputs": []
    },
    {
      "cell_type": "code",
      "source": [
        "file_path = '/content/drive/MyDrive/Review_3/'\n",
        "file_path_model = '/content/drive/MyDrive/Review_3/gfcc_chuncks/'"
      ],
      "metadata": {
        "id": "a6JU9w23rL5y"
      },
      "execution_count": 5,
      "outputs": []
    },
    {
      "cell_type": "code",
      "source": [
        "from google.colab import drive\n",
        "drive.mount('/content/drive')"
      ],
      "metadata": {
        "colab": {
          "base_uri": "https://localhost:8080/"
        },
        "id": "Qh1fjWt7V0yR",
        "outputId": "9cff50ba-e826-4182-a540-a5ec1a4012c1"
      },
      "execution_count": 6,
      "outputs": [
        {
          "output_type": "stream",
          "name": "stdout",
          "text": [
            "Drive already mounted at /content/drive; to attempt to forcibly remount, call drive.mount(\"/content/drive\", force_remount=True).\n"
          ]
        }
      ]
    },
    {
      "cell_type": "code",
      "source": [
        "\n",
        "X_train = pickle.load(open(file_path_model+'[msp_mfcc][X_train].p', 'rb'))\n",
        "y_train = pickle.load(open(file_path_model+'[msp_mfcc][y_train].p', 'rb'))\n",
        "y_test = pickle.load(open(file_path_model+'[msp_mfcc][y_test].p', 'rb'))\n",
        "X_test = pickle.load(open(file_path_model+'[msp_mfcc][X_test].p', 'rb'))"
      ],
      "metadata": {
        "id": "SwPl1CcDV2mz"
      },
      "execution_count": 7,
      "outputs": []
    },
    {
      "cell_type": "code",
      "source": [
        "print(X_train.shape)\n",
        "print(y_train.shape)\n",
        "print(X_test.shape)\n",
        "print(y_test.shape) "
      ],
      "metadata": {
        "colab": {
          "base_uri": "https://localhost:8080/"
        },
        "id": "blFAeZSBV8zT",
        "outputId": "2364d98d-d4cd-410c-ecfc-54bd677ee452"
      },
      "execution_count": 8,
      "outputs": [
        {
          "output_type": "stream",
          "name": "stdout",
          "text": [
            "(16488, 5, 128, 128)\n",
            "(16488,)\n",
            "(4124, 5, 128, 128)\n",
            "(4124,)\n"
          ]
        }
      ]
    },
    {
      "cell_type": "code",
      "source": [
        "print(file_path_model)\n",
        "lb = LabelEncoder()\n",
        "y_train = np_utils.to_categorical(lb.fit_transform(np.ravel(y_train)))\n",
        "y_test = np_utils.to_categorical(lb.transform(np.ravel(y_test)))"
      ],
      "metadata": {
        "id": "d07gF5cEV-1B",
        "colab": {
          "base_uri": "https://localhost:8080/"
        },
        "outputId": "783e9a3f-c6ec-450e-85f0-2f5d11e5541a"
      },
      "execution_count": 9,
      "outputs": [
        {
          "output_type": "stream",
          "name": "stdout",
          "text": [
            "/content/drive/MyDrive/Review_3/gfcc_chuncks/\n"
          ]
        }
      ]
    },
    {
      "cell_type": "code",
      "source": [
        "# Reshape for convolution\n",
        "X_train = X_train.reshape(X_train.shape[0], X_train.shape[1] , X_train.shape[2], X_train.shape[3], 1)\n",
        "X_test = X_test.reshape(X_test.shape[0], X_test.shape[1] , X_test.shape[2], X_test.shape[3], 1)"
      ],
      "metadata": {
        "id": "upkJ5BtRWCA3"
      },
      "execution_count": 10,
      "outputs": []
    },
    {
      "cell_type": "code",
      "source": [
        "X_train.shape[1:]"
      ],
      "metadata": {
        "colab": {
          "base_uri": "https://localhost:8080/"
        },
        "id": "UjcdxKTUWEM6",
        "outputId": "b744546a-4769-4cb1-b21e-779966419466"
      },
      "execution_count": 11,
      "outputs": [
        {
          "output_type": "execute_result",
          "data": {
            "text/plain": [
              "(5, 128, 128, 1)"
            ]
          },
          "metadata": {},
          "execution_count": 11
        }
      ]
    },
    {
      "cell_type": "code",
      "source": [
        "K.clear_session()\n",
        "\n",
        "input_y = Input(shape=X_train.shape[1:], name='Input_MELSPECT')\n",
        "\n",
        "y = TimeDistributed(Conv2D(64, kernel_size=(3, 3), padding='same'), name='Conv_1_MELSPECT')(input_y)\n",
        "y = TimeDistributed(BatchNormalization(), name='BatchNorm_1_MELSPECT')(y)\n",
        "y = TimeDistributed(Activation('elu'), name='Activ_1_MELSPECT')(y)\n",
        "y = TimeDistributed(MaxPooling2D(pool_size=(2, 2), strides=(2, 2), padding='same'), name='MaxPool_1_MELSPECT')(y)\n",
        "y = TimeDistributed(Dropout(0.2), name='Drop_1_MELSPECT')(y)     \n",
        "\n",
        "y = TimeDistributed(Conv2D(64, kernel_size=(3, 3), strides=(1, 1), padding='same'), name='Conv_2_MELSPECT')(y)\n",
        "y = TimeDistributed(BatchNormalization(), name='BatchNorm_2_MELSPECT')(y)\n",
        "y = TimeDistributed(Activation('elu'), name='Activ_2_MELSPECT')(y)\n",
        "y = TimeDistributed(MaxPooling2D(pool_size=(4, 4), strides=(4, 4), padding='same'), name='MaxPool_2_MELSPECT')(y)\n",
        "y = TimeDistributed(Dropout(0.2), name='Drop_2_MELSPECT')(y)\n",
        "\n",
        "y = TimeDistributed(Conv2D(128, kernel_size=(3, 3), strides=(1, 1), padding='same'), name='Conv_3_MELSPECT')(y)\n",
        "y = TimeDistributed(BatchNormalization(), name='BatchNorm_3_MELSPECT')(y)\n",
        "y = TimeDistributed(Activation('elu'), name='Activ_3_MELSPECT')(y)\n",
        "y = TimeDistributed(MaxPooling2D(pool_size=(4, 4), strides=(4, 4), padding='same'), name='MaxPool_3_MELSPECT')(y)\n",
        "y = TimeDistributed(Dropout(0.2), name='Drop_3_MELSPECT')(y)\n",
        "\n",
        "y = TimeDistributed(Conv2D(128, kernel_size=(3, 3), strides=(1, 1), padding='same'), name='Conv_4_MELSPECT')(y)\n",
        "y = TimeDistributed(BatchNormalization(), name='BatchNorm_4_MELSPECT')(y)\n",
        "y = TimeDistributed(Activation('elu'), name='Activ_4_MELSPECT')(y)\n",
        "y = TimeDistributed(MaxPooling2D(pool_size=(4, 4), strides=(4, 4), padding='same'), name='MaxPool_4_MELSPECT')(y)\n",
        "y = TimeDistributed(Dropout(0.2), name='Drop_4_MELSPECT')(y)  \n",
        "\n",
        "y = TimeDistributed(Flatten(), name='Flat_MELSPECT')(y)                                           \n",
        "# Apply 2 LSTM layer and one FC\n",
        "y = LSTM(256, return_sequences=False, dropout=0.2, name='LSTM_1')(y)\n",
        "y = Dense(y_train.shape[1], activation='softmax', name='FC')(y)\n",
        "\n",
        "# Build final model\n",
        "model = Model(inputs=input_y, outputs=y)\n",
        "model.summary()"
      ],
      "metadata": {
        "colab": {
          "base_uri": "https://localhost:8080/"
        },
        "id": "0_W4EmvTWFpH",
        "outputId": "b7253512-e6b7-45c6-f5d7-5b64034fa779"
      },
      "execution_count": 12,
      "outputs": [
        {
          "output_type": "stream",
          "name": "stdout",
          "text": [
            "Model: \"model\"\n",
            "_________________________________________________________________\n",
            " Layer (type)                Output Shape              Param #   \n",
            "=================================================================\n",
            " Input_MELSPECT (InputLayer)  [(None, 5, 128, 128, 1)]  0        \n",
            "                                                                 \n",
            " Conv_1_MELSPECT (TimeDistri  (None, 5, 128, 128, 64)  640       \n",
            " buted)                                                          \n",
            "                                                                 \n",
            " BatchNorm_1_MELSPECT (TimeD  (None, 5, 128, 128, 64)  256       \n",
            " istributed)                                                     \n",
            "                                                                 \n",
            " Activ_1_MELSPECT (TimeDistr  (None, 5, 128, 128, 64)  0         \n",
            " ibuted)                                                         \n",
            "                                                                 \n",
            " MaxPool_1_MELSPECT (TimeDis  (None, 5, 64, 64, 64)    0         \n",
            " tributed)                                                       \n",
            "                                                                 \n",
            " Drop_1_MELSPECT (TimeDistri  (None, 5, 64, 64, 64)    0         \n",
            " buted)                                                          \n",
            "                                                                 \n",
            " Conv_2_MELSPECT (TimeDistri  (None, 5, 64, 64, 64)    36928     \n",
            " buted)                                                          \n",
            "                                                                 \n",
            " BatchNorm_2_MELSPECT (TimeD  (None, 5, 64, 64, 64)    256       \n",
            " istributed)                                                     \n",
            "                                                                 \n",
            " Activ_2_MELSPECT (TimeDistr  (None, 5, 64, 64, 64)    0         \n",
            " ibuted)                                                         \n",
            "                                                                 \n",
            " MaxPool_2_MELSPECT (TimeDis  (None, 5, 16, 16, 64)    0         \n",
            " tributed)                                                       \n",
            "                                                                 \n",
            " Drop_2_MELSPECT (TimeDistri  (None, 5, 16, 16, 64)    0         \n",
            " buted)                                                          \n",
            "                                                                 \n",
            " Conv_3_MELSPECT (TimeDistri  (None, 5, 16, 16, 128)   73856     \n",
            " buted)                                                          \n",
            "                                                                 \n",
            " BatchNorm_3_MELSPECT (TimeD  (None, 5, 16, 16, 128)   512       \n",
            " istributed)                                                     \n",
            "                                                                 \n",
            " Activ_3_MELSPECT (TimeDistr  (None, 5, 16, 16, 128)   0         \n",
            " ibuted)                                                         \n",
            "                                                                 \n",
            " MaxPool_3_MELSPECT (TimeDis  (None, 5, 4, 4, 128)     0         \n",
            " tributed)                                                       \n",
            "                                                                 \n",
            " Drop_3_MELSPECT (TimeDistri  (None, 5, 4, 4, 128)     0         \n",
            " buted)                                                          \n",
            "                                                                 \n",
            " Conv_4_MELSPECT (TimeDistri  (None, 5, 4, 4, 128)     147584    \n",
            " buted)                                                          \n",
            "                                                                 \n",
            " BatchNorm_4_MELSPECT (TimeD  (None, 5, 4, 4, 128)     512       \n",
            " istributed)                                                     \n",
            "                                                                 \n",
            " Activ_4_MELSPECT (TimeDistr  (None, 5, 4, 4, 128)     0         \n",
            " ibuted)                                                         \n",
            "                                                                 \n",
            " MaxPool_4_MELSPECT (TimeDis  (None, 5, 1, 1, 128)     0         \n",
            " tributed)                                                       \n",
            "                                                                 \n",
            " Drop_4_MELSPECT (TimeDistri  (None, 5, 1, 1, 128)     0         \n",
            " buted)                                                          \n",
            "                                                                 \n",
            " Flat_MELSPECT (TimeDistribu  (None, 5, 128)           0         \n",
            " ted)                                                            \n",
            "                                                                 \n",
            " LSTM_1 (LSTM)               (None, 256)               394240    \n",
            "                                                                 \n",
            " FC (Dense)                  (None, 7)                 1799      \n",
            "                                                                 \n",
            "=================================================================\n",
            "Total params: 656,583\n",
            "Trainable params: 655,815\n",
            "Non-trainable params: 768\n",
            "_________________________________________________________________\n"
          ]
        }
      ]
    },
    {
      "cell_type": "code",
      "source": [
        "gpu_options = tf.compat.v1.GPUOptions(allow_growth=True)\n",
        "session = tf.compat.v1.InteractiveSession(config=tf.compat.v1.ConfigProto(gpu_options=gpu_options))"
      ],
      "metadata": {
        "id": "bwN8vEiPWHaI"
      },
      "execution_count": null,
      "outputs": []
    },
    {
      "cell_type": "code",
      "source": [
        "# Compile model\n",
        "model.compile(optimizer=SGD(lr=0.01, decay=1e-6, momentum=0.8), loss='categorical_crossentropy', metrics=['accuracy'])\n",
        "\n",
        "# Save best model\n",
        "best_model_save = ModelCheckpoint(file_path_model+'msp_CNN_LSTM_Model.hdf5', save_best_only=True, monitor='accuracy', mode='max')\n",
        "\n",
        "# Early stopping\n",
        "early_stopping = EarlyStopping(monitor='accuracy', patience=30, verbose=1, mode='max')\n",
        "\n",
        "# Fit model\n",
        "history = model.fit(X_train, y_train, batch_size=64, epochs=160, validation_data=(X_test, y_test), callbacks=[early_stopping, best_model_save,tf.keras.callbacks.CSVLogger(file_path_model+'msp_gam_source_history.csv')])"
      ],
      "metadata": {
        "colab": {
          "base_uri": "https://localhost:8080/"
        },
        "id": "IQyyZt8PWJ9D",
        "outputId": "926f5487-3b5d-450d-8eec-f2e149b0f451"
      },
      "execution_count": null,
      "outputs": [
        {
          "output_type": "stream",
          "name": "stdout",
          "text": [
            "Epoch 1/160\n",
            "258/258 [==============================] - 73s 233ms/step - loss: 1.9567 - accuracy: 0.1567 - val_loss: 2.0498 - val_accuracy: 0.1494\n",
            "Epoch 2/160\n",
            "258/258 [==============================] - 58s 225ms/step - loss: 1.9323 - accuracy: 0.1816 - val_loss: 2.0813 - val_accuracy: 0.1680\n",
            "Epoch 3/160\n",
            "258/258 [==============================] - 58s 226ms/step - loss: 1.9190 - accuracy: 0.1946 - val_loss: 2.0378 - val_accuracy: 0.1794\n",
            "Epoch 4/160\n",
            "258/258 [==============================] - 58s 225ms/step - loss: 1.9029 - accuracy: 0.2105 - val_loss: 2.0603 - val_accuracy: 0.1736\n",
            "Epoch 5/160\n",
            "258/258 [==============================] - 58s 225ms/step - loss: 1.8909 - accuracy: 0.2156 - val_loss: 2.2613 - val_accuracy: 0.1838\n",
            "Epoch 6/160\n",
            "258/258 [==============================] - 58s 225ms/step - loss: 1.8766 - accuracy: 0.2292 - val_loss: 1.9664 - val_accuracy: 0.2097\n",
            "Epoch 7/160\n",
            "258/258 [==============================] - 58s 225ms/step - loss: 1.8650 - accuracy: 0.2354 - val_loss: 1.9084 - val_accuracy: 0.2156\n",
            "Epoch 8/160\n",
            "258/258 [==============================] - 58s 225ms/step - loss: 1.8541 - accuracy: 0.2448 - val_loss: 1.9511 - val_accuracy: 0.2284\n",
            "Epoch 9/160\n",
            "258/258 [==============================] - 58s 225ms/step - loss: 1.8459 - accuracy: 0.2485 - val_loss: 2.2344 - val_accuracy: 0.1870\n",
            "Epoch 10/160\n",
            "258/258 [==============================] - 58s 225ms/step - loss: 1.8410 - accuracy: 0.2492 - val_loss: 2.1149 - val_accuracy: 0.1933\n",
            "Epoch 11/160\n",
            "258/258 [==============================] - 58s 226ms/step - loss: 1.8324 - accuracy: 0.2569 - val_loss: 2.1114 - val_accuracy: 0.2073\n",
            "Epoch 12/160\n",
            "258/258 [==============================] - 58s 225ms/step - loss: 1.8283 - accuracy: 0.2613 - val_loss: 1.9464 - val_accuracy: 0.2328\n",
            "Epoch 13/160\n",
            "258/258 [==============================] - 58s 225ms/step - loss: 1.8203 - accuracy: 0.2647 - val_loss: 1.9918 - val_accuracy: 0.2226\n",
            "Epoch 14/160\n",
            "258/258 [==============================] - 58s 225ms/step - loss: 1.8141 - accuracy: 0.2713 - val_loss: 2.0885 - val_accuracy: 0.2059\n",
            "Epoch 15/160\n",
            "258/258 [==============================] - 58s 223ms/step - loss: 1.8129 - accuracy: 0.2706 - val_loss: 2.0709 - val_accuracy: 0.2042\n",
            "Epoch 16/160\n",
            "258/258 [==============================] - 58s 225ms/step - loss: 1.8077 - accuracy: 0.2723 - val_loss: 2.0957 - val_accuracy: 0.2199\n",
            "Epoch 17/160\n",
            "258/258 [==============================] - 57s 223ms/step - loss: 1.8022 - accuracy: 0.2714 - val_loss: 2.1853 - val_accuracy: 0.2003\n",
            "Epoch 18/160\n",
            "258/258 [==============================] - 58s 225ms/step - loss: 1.7988 - accuracy: 0.2764 - val_loss: 1.9947 - val_accuracy: 0.2194\n",
            "Epoch 19/160\n",
            "258/258 [==============================] - 58s 225ms/step - loss: 1.7962 - accuracy: 0.2788 - val_loss: 1.9157 - val_accuracy: 0.2347\n",
            "Epoch 20/160\n",
            "258/258 [==============================] - 58s 225ms/step - loss: 1.7907 - accuracy: 0.2856 - val_loss: 1.9299 - val_accuracy: 0.2313\n",
            "Epoch 21/160\n",
            "258/258 [==============================] - 57s 222ms/step - loss: 1.7868 - accuracy: 0.2837 - val_loss: 2.3364 - val_accuracy: 0.1993\n",
            "Epoch 22/160\n",
            "258/258 [==============================] - 57s 223ms/step - loss: 1.7831 - accuracy: 0.2855 - val_loss: 2.0147 - val_accuracy: 0.1976\n",
            "Epoch 23/160\n",
            "258/258 [==============================] - 58s 225ms/step - loss: 1.7776 - accuracy: 0.2870 - val_loss: 1.8340 - val_accuracy: 0.2643\n",
            "Epoch 24/160\n",
            "258/258 [==============================] - 58s 225ms/step - loss: 1.7740 - accuracy: 0.2899 - val_loss: 2.2386 - val_accuracy: 0.2037\n",
            "Epoch 25/160\n",
            "258/258 [==============================] - 58s 226ms/step - loss: 1.7717 - accuracy: 0.2943 - val_loss: 1.9782 - val_accuracy: 0.2243\n",
            "Epoch 26/160\n",
            "258/258 [==============================] - 57s 223ms/step - loss: 1.7730 - accuracy: 0.2907 - val_loss: 2.2385 - val_accuracy: 0.2042\n",
            "Epoch 27/160\n",
            "258/258 [==============================] - 59s 228ms/step - loss: 1.7639 - accuracy: 0.3002 - val_loss: 1.8458 - val_accuracy: 0.2735\n",
            "Epoch 28/160\n",
            "258/258 [==============================] - 57s 223ms/step - loss: 1.7612 - accuracy: 0.2975 - val_loss: 1.8796 - val_accuracy: 0.2679\n",
            "Epoch 29/160\n",
            "258/258 [==============================] - 57s 223ms/step - loss: 1.7549 - accuracy: 0.2997 - val_loss: 1.9589 - val_accuracy: 0.2442\n",
            "Epoch 30/160\n",
            "258/258 [==============================] - 58s 225ms/step - loss: 1.7498 - accuracy: 0.3006 - val_loss: 2.1811 - val_accuracy: 0.2131\n",
            "Epoch 31/160\n",
            "258/258 [==============================] - 58s 226ms/step - loss: 1.7479 - accuracy: 0.3031 - val_loss: 2.0361 - val_accuracy: 0.2328\n",
            "Epoch 32/160\n",
            "258/258 [==============================] - 58s 226ms/step - loss: 1.7460 - accuracy: 0.3086 - val_loss: 1.9125 - val_accuracy: 0.2619\n",
            "Epoch 33/160\n",
            "258/258 [==============================] - 58s 225ms/step - loss: 1.7426 - accuracy: 0.3110 - val_loss: 1.8521 - val_accuracy: 0.2728\n",
            "Epoch 34/160\n",
            "258/258 [==============================] - 58s 226ms/step - loss: 1.7370 - accuracy: 0.3160 - val_loss: 2.1357 - val_accuracy: 0.2209\n",
            "Epoch 35/160\n",
            "258/258 [==============================] - 58s 223ms/step - loss: 1.7364 - accuracy: 0.3133 - val_loss: 1.8084 - val_accuracy: 0.2893\n",
            "Epoch 36/160\n",
            "258/258 [==============================] - 58s 225ms/step - loss: 1.7285 - accuracy: 0.3185 - val_loss: 2.4070 - val_accuracy: 0.2022\n",
            "Epoch 37/160\n",
            "258/258 [==============================] - 58s 223ms/step - loss: 1.7266 - accuracy: 0.3179 - val_loss: 2.2403 - val_accuracy: 0.2107\n",
            "Epoch 38/160\n",
            "258/258 [==============================] - 58s 226ms/step - loss: 1.7217 - accuracy: 0.3201 - val_loss: 1.8453 - val_accuracy: 0.2747\n",
            "Epoch 39/160\n",
            "258/258 [==============================] - 58s 225ms/step - loss: 1.7199 - accuracy: 0.3230 - val_loss: 1.8735 - val_accuracy: 0.2684\n",
            "Epoch 40/160\n",
            "258/258 [==============================] - 58s 226ms/step - loss: 1.7139 - accuracy: 0.3250 - val_loss: 1.8657 - val_accuracy: 0.2806\n",
            "Epoch 41/160\n",
            "258/258 [==============================] - 58s 225ms/step - loss: 1.7077 - accuracy: 0.3270 - val_loss: 1.8828 - val_accuracy: 0.2709\n",
            "Epoch 42/160\n",
            "258/258 [==============================] - 58s 225ms/step - loss: 1.7036 - accuracy: 0.3308 - val_loss: 1.9196 - val_accuracy: 0.2730\n",
            "Epoch 43/160\n",
            "258/258 [==============================] - 58s 225ms/step - loss: 1.7029 - accuracy: 0.3330 - val_loss: 2.2361 - val_accuracy: 0.2243\n",
            "Epoch 44/160\n",
            "258/258 [==============================] - 58s 225ms/step - loss: 1.6980 - accuracy: 0.3386 - val_loss: 2.0587 - val_accuracy: 0.2481\n",
            "Epoch 45/160\n",
            "258/258 [==============================] - 57s 223ms/step - loss: 1.6953 - accuracy: 0.3361 - val_loss: 1.8172 - val_accuracy: 0.2953\n",
            "Epoch 46/160\n",
            "258/258 [==============================] - 58s 225ms/step - loss: 1.6931 - accuracy: 0.3400 - val_loss: 1.9012 - val_accuracy: 0.2776\n",
            "Epoch 47/160\n",
            "258/258 [==============================] - 57s 223ms/step - loss: 1.6830 - accuracy: 0.3394 - val_loss: 1.7689 - val_accuracy: 0.3155\n",
            "Epoch 48/160\n",
            "258/258 [==============================] - 58s 225ms/step - loss: 1.6812 - accuracy: 0.3446 - val_loss: 1.9000 - val_accuracy: 0.2886\n",
            "Epoch 49/160\n",
            "258/258 [==============================] - 57s 223ms/step - loss: 1.6779 - accuracy: 0.3443 - val_loss: 2.0280 - val_accuracy: 0.2527\n",
            "Epoch 50/160\n",
            "258/258 [==============================] - 58s 225ms/step - loss: 1.6717 - accuracy: 0.3495 - val_loss: 1.7840 - val_accuracy: 0.2997\n",
            "Epoch 51/160\n",
            "258/258 [==============================] - 57s 223ms/step - loss: 1.6697 - accuracy: 0.3493 - val_loss: 1.8342 - val_accuracy: 0.2869\n",
            "Epoch 52/160\n",
            "258/258 [==============================] - 58s 225ms/step - loss: 1.6693 - accuracy: 0.3538 - val_loss: 1.7953 - val_accuracy: 0.3072\n",
            "Epoch 53/160\n",
            "258/258 [==============================] - 57s 223ms/step - loss: 1.6584 - accuracy: 0.3484 - val_loss: 1.8724 - val_accuracy: 0.2820\n",
            "Epoch 54/160\n",
            "258/258 [==============================] - 58s 225ms/step - loss: 1.6585 - accuracy: 0.3554 - val_loss: 1.8606 - val_accuracy: 0.2936\n",
            "Epoch 55/160\n",
            "258/258 [==============================] - 57s 223ms/step - loss: 1.6522 - accuracy: 0.3543 - val_loss: 1.9215 - val_accuracy: 0.2774\n",
            "Epoch 56/160\n",
            "258/258 [==============================] - 58s 225ms/step - loss: 1.6434 - accuracy: 0.3634 - val_loss: 1.9211 - val_accuracy: 0.2723\n",
            "Epoch 57/160\n",
            "258/258 [==============================] - 58s 225ms/step - loss: 1.6422 - accuracy: 0.3635 - val_loss: 1.7829 - val_accuracy: 0.3174\n",
            "Epoch 58/160\n",
            "258/258 [==============================] - 58s 225ms/step - loss: 1.6356 - accuracy: 0.3674 - val_loss: 2.1358 - val_accuracy: 0.2464\n",
            "Epoch 59/160\n",
            "258/258 [==============================] - 57s 223ms/step - loss: 1.6292 - accuracy: 0.3631 - val_loss: 1.8232 - val_accuracy: 0.3106\n",
            "Epoch 60/160\n",
            "258/258 [==============================] - 58s 225ms/step - loss: 1.6246 - accuracy: 0.3695 - val_loss: 1.8127 - val_accuracy: 0.3055\n",
            "Epoch 61/160\n",
            "258/258 [==============================] - 58s 225ms/step - loss: 1.6241 - accuracy: 0.3728 - val_loss: 1.8025 - val_accuracy: 0.3026\n",
            "Epoch 62/160\n",
            "258/258 [==============================] - 58s 226ms/step - loss: 1.6139 - accuracy: 0.3759 - val_loss: 1.8172 - val_accuracy: 0.3065\n",
            "Epoch 63/160\n",
            "258/258 [==============================] - 58s 225ms/step - loss: 1.6083 - accuracy: 0.3798 - val_loss: 1.8513 - val_accuracy: 0.2905\n",
            "Epoch 64/160\n",
            "258/258 [==============================] - 58s 225ms/step - loss: 1.6032 - accuracy: 0.3810 - val_loss: 1.7780 - val_accuracy: 0.3220\n",
            "Epoch 65/160\n",
            "258/258 [==============================] - 58s 225ms/step - loss: 1.5988 - accuracy: 0.3853 - val_loss: 1.9789 - val_accuracy: 0.2779\n",
            "Epoch 66/160\n",
            "258/258 [==============================] - 58s 225ms/step - loss: 1.5965 - accuracy: 0.3857 - val_loss: 1.9943 - val_accuracy: 0.2767\n",
            "Epoch 67/160\n",
            "258/258 [==============================] - 58s 225ms/step - loss: 1.5855 - accuracy: 0.3900 - val_loss: 1.8099 - val_accuracy: 0.3080\n",
            "Epoch 68/160\n",
            "258/258 [==============================] - 57s 223ms/step - loss: 1.5800 - accuracy: 0.3895 - val_loss: 1.7925 - val_accuracy: 0.3242\n",
            "Epoch 69/160\n",
            "258/258 [==============================] - 57s 223ms/step - loss: 1.5783 - accuracy: 0.3900 - val_loss: 1.7997 - val_accuracy: 0.3290\n",
            "Epoch 70/160\n",
            "258/258 [==============================] - 58s 225ms/step - loss: 1.5695 - accuracy: 0.3955 - val_loss: 2.0710 - val_accuracy: 0.2679\n",
            "Epoch 71/160\n",
            "258/258 [==============================] - 57s 223ms/step - loss: 1.5674 - accuracy: 0.3941 - val_loss: 1.7942 - val_accuracy: 0.3242\n",
            "Epoch 72/160\n",
            "258/258 [==============================] - 58s 225ms/step - loss: 1.5508 - accuracy: 0.4044 - val_loss: 2.1393 - val_accuracy: 0.2544\n",
            "Epoch 73/160\n",
            "258/258 [==============================] - 58s 225ms/step - loss: 1.5483 - accuracy: 0.4077 - val_loss: 1.7781 - val_accuracy: 0.3121\n",
            "Epoch 74/160\n",
            "258/258 [==============================] - 57s 223ms/step - loss: 1.5409 - accuracy: 0.4073 - val_loss: 2.0795 - val_accuracy: 0.2597\n",
            "Epoch 75/160\n",
            "258/258 [==============================] - 58s 225ms/step - loss: 1.5405 - accuracy: 0.4111 - val_loss: 1.9946 - val_accuracy: 0.2728\n",
            "Epoch 76/160\n",
            "258/258 [==============================] - 58s 225ms/step - loss: 1.5290 - accuracy: 0.4159 - val_loss: 1.7642 - val_accuracy: 0.3232\n",
            "Epoch 77/160\n",
            "258/258 [==============================] - 58s 225ms/step - loss: 1.5237 - accuracy: 0.4197 - val_loss: 1.8300 - val_accuracy: 0.3130\n",
            "Epoch 78/160\n",
            "258/258 [==============================] - 58s 225ms/step - loss: 1.5115 - accuracy: 0.4235 - val_loss: 1.9790 - val_accuracy: 0.3002\n",
            "Epoch 79/160\n",
            "258/258 [==============================] - 57s 223ms/step - loss: 1.5126 - accuracy: 0.4179 - val_loss: 1.8324 - val_accuracy: 0.3155\n",
            "Epoch 80/160\n",
            "258/258 [==============================] - 58s 225ms/step - loss: 1.4889 - accuracy: 0.4328 - val_loss: 1.8379 - val_accuracy: 0.3126\n",
            "Epoch 81/160\n",
            "258/258 [==============================] - 57s 223ms/step - loss: 1.4891 - accuracy: 0.4305 - val_loss: 1.7861 - val_accuracy: 0.3337\n",
            "Epoch 82/160\n",
            "258/258 [==============================] - 58s 225ms/step - loss: 1.4812 - accuracy: 0.4363 - val_loss: 2.1395 - val_accuracy: 0.2709\n",
            "Epoch 83/160\n",
            "258/258 [==============================] - 58s 225ms/step - loss: 1.4768 - accuracy: 0.4381 - val_loss: 1.9985 - val_accuracy: 0.2898\n",
            "Epoch 84/160\n",
            "258/258 [==============================] - 58s 225ms/step - loss: 1.4659 - accuracy: 0.4466 - val_loss: 1.8634 - val_accuracy: 0.3160\n",
            "Epoch 85/160\n",
            "258/258 [==============================] - 58s 226ms/step - loss: 1.4538 - accuracy: 0.4480 - val_loss: 1.9359 - val_accuracy: 0.3070\n",
            "Epoch 86/160\n",
            "258/258 [==============================] - 58s 226ms/step - loss: 1.4374 - accuracy: 0.4572 - val_loss: 1.8580 - val_accuracy: 0.3174\n",
            "Epoch 87/160\n",
            "258/258 [==============================] - 58s 225ms/step - loss: 1.4343 - accuracy: 0.4577 - val_loss: 1.8880 - val_accuracy: 0.3046\n",
            "Epoch 88/160\n",
            "258/258 [==============================] - 58s 225ms/step - loss: 1.4233 - accuracy: 0.4633 - val_loss: 1.8837 - val_accuracy: 0.3220\n",
            "Epoch 89/160\n",
            "258/258 [==============================] - 58s 225ms/step - loss: 1.4092 - accuracy: 0.4693 - val_loss: 1.8657 - val_accuracy: 0.3084\n",
            "Epoch 90/160\n",
            "258/258 [==============================] - 58s 225ms/step - loss: 1.3976 - accuracy: 0.4731 - val_loss: 1.8198 - val_accuracy: 0.3465\n",
            "Epoch 91/160\n",
            "258/258 [==============================] - 58s 225ms/step - loss: 1.3887 - accuracy: 0.4750 - val_loss: 1.9810 - val_accuracy: 0.3223\n",
            "Epoch 92/160\n",
            "258/258 [==============================] - 58s 225ms/step - loss: 1.3806 - accuracy: 0.4793 - val_loss: 1.9287 - val_accuracy: 0.3053\n",
            "Epoch 93/160\n",
            "258/258 [==============================] - 58s 225ms/step - loss: 1.3685 - accuracy: 0.4843 - val_loss: 1.7828 - val_accuracy: 0.3509\n",
            "Epoch 94/160\n",
            "258/258 [==============================] - 58s 225ms/step - loss: 1.3519 - accuracy: 0.4950 - val_loss: 1.9164 - val_accuracy: 0.3274\n",
            "Epoch 95/160\n",
            "258/258 [==============================] - 58s 225ms/step - loss: 1.3306 - accuracy: 0.4998 - val_loss: 2.0234 - val_accuracy: 0.2873\n",
            "Epoch 96/160\n",
            "258/258 [==============================] - 58s 225ms/step - loss: 1.3134 - accuracy: 0.5092 - val_loss: 2.3100 - val_accuracy: 0.2679\n",
            "Epoch 97/160\n",
            "258/258 [==============================] - 58s 225ms/step - loss: 1.3069 - accuracy: 0.5113 - val_loss: 1.8737 - val_accuracy: 0.3317\n",
            "Epoch 98/160\n",
            "258/258 [==============================] - 58s 226ms/step - loss: 1.2982 - accuracy: 0.5168 - val_loss: 1.8654 - val_accuracy: 0.3349\n",
            "Epoch 99/160\n",
            "258/258 [==============================] - 58s 226ms/step - loss: 1.2740 - accuracy: 0.5236 - val_loss: 1.8541 - val_accuracy: 0.3429\n",
            "Epoch 100/160\n",
            "258/258 [==============================] - 58s 226ms/step - loss: 1.2485 - accuracy: 0.5357 - val_loss: 2.0722 - val_accuracy: 0.2929\n",
            "Epoch 101/160\n",
            "258/258 [==============================] - 58s 224ms/step - loss: 1.2564 - accuracy: 0.5264 - val_loss: 1.8857 - val_accuracy: 0.3404\n",
            "Epoch 102/160\n",
            "258/258 [==============================] - 58s 226ms/step - loss: 1.2225 - accuracy: 0.5424 - val_loss: 2.2876 - val_accuracy: 0.2818\n",
            "Epoch 103/160\n",
            "258/258 [==============================] - 58s 226ms/step - loss: 1.2061 - accuracy: 0.5502 - val_loss: 1.8923 - val_accuracy: 0.3155\n",
            "Epoch 104/160\n",
            "258/258 [==============================] - 58s 226ms/step - loss: 1.1844 - accuracy: 0.5634 - val_loss: 1.8877 - val_accuracy: 0.3305\n",
            "Epoch 105/160\n",
            "258/258 [==============================] - 58s 226ms/step - loss: 1.1626 - accuracy: 0.5692 - val_loss: 2.0003 - val_accuracy: 0.3072\n",
            "Epoch 106/160\n",
            "258/258 [==============================] - 58s 226ms/step - loss: 1.1412 - accuracy: 0.5796 - val_loss: 2.1309 - val_accuracy: 0.3135\n",
            "Epoch 107/160\n",
            "258/258 [==============================] - 58s 226ms/step - loss: 1.1269 - accuracy: 0.5885 - val_loss: 2.0385 - val_accuracy: 0.3242\n",
            "Epoch 108/160\n",
            "258/258 [==============================] - 58s 224ms/step - loss: 1.1075 - accuracy: 0.5870 - val_loss: 1.9898 - val_accuracy: 0.3361\n",
            "Epoch 109/160\n",
            "258/258 [==============================] - 58s 226ms/step - loss: 1.0818 - accuracy: 0.6033 - val_loss: 2.1568 - val_accuracy: 0.3094\n",
            "Epoch 110/160\n",
            "258/258 [==============================] - 58s 226ms/step - loss: 1.0593 - accuracy: 0.6126 - val_loss: 1.9964 - val_accuracy: 0.3126\n",
            "Epoch 111/160\n",
            "258/258 [==============================] - 58s 226ms/step - loss: 1.0404 - accuracy: 0.6189 - val_loss: 2.1410 - val_accuracy: 0.3203\n",
            "Epoch 112/160\n",
            "258/258 [==============================] - 58s 226ms/step - loss: 1.0108 - accuracy: 0.6269 - val_loss: 2.2069 - val_accuracy: 0.2900\n",
            "Epoch 113/160\n",
            "258/258 [==============================] - 58s 226ms/step - loss: 0.9856 - accuracy: 0.6411 - val_loss: 2.0177 - val_accuracy: 0.3300\n",
            "Epoch 114/160\n",
            "258/258 [==============================] - 58s 226ms/step - loss: 0.9532 - accuracy: 0.6547 - val_loss: 2.2730 - val_accuracy: 0.3218\n",
            "Epoch 115/160\n",
            "258/258 [==============================] - 58s 226ms/step - loss: 0.9339 - accuracy: 0.6600 - val_loss: 2.1233 - val_accuracy: 0.3361\n",
            "Epoch 116/160\n",
            "258/258 [==============================] - 58s 226ms/step - loss: 0.9176 - accuracy: 0.6638 - val_loss: 2.0462 - val_accuracy: 0.3417\n",
            "Epoch 117/160\n",
            "258/258 [==============================] - 58s 226ms/step - loss: 0.8885 - accuracy: 0.6811 - val_loss: 2.2271 - val_accuracy: 0.3249\n",
            "Epoch 118/160\n",
            "258/258 [==============================] - 58s 226ms/step - loss: 0.8666 - accuracy: 0.6889 - val_loss: 2.1687 - val_accuracy: 0.3373\n",
            "Epoch 119/160\n",
            "258/258 [==============================] - 58s 226ms/step - loss: 0.8304 - accuracy: 0.6997 - val_loss: 2.2148 - val_accuracy: 0.3215\n",
            "Epoch 120/160\n",
            "258/258 [==============================] - 58s 226ms/step - loss: 0.8186 - accuracy: 0.7032 - val_loss: 2.1429 - val_accuracy: 0.3482\n",
            "Epoch 121/160\n",
            "258/258 [==============================] - 58s 226ms/step - loss: 0.7920 - accuracy: 0.7173 - val_loss: 2.4474 - val_accuracy: 0.3189\n",
            "Epoch 122/160\n",
            "258/258 [==============================] - 58s 226ms/step - loss: 0.7649 - accuracy: 0.7200 - val_loss: 2.1513 - val_accuracy: 0.3431\n",
            "Epoch 123/160\n",
            "258/258 [==============================] - 58s 226ms/step - loss: 0.7415 - accuracy: 0.7367 - val_loss: 2.4192 - val_accuracy: 0.2978\n",
            "Epoch 124/160\n",
            "258/258 [==============================] - 58s 226ms/step - loss: 0.7196 - accuracy: 0.7410 - val_loss: 2.6602 - val_accuracy: 0.2936\n",
            "Epoch 125/160\n",
            "258/258 [==============================] - 58s 226ms/step - loss: 0.7060 - accuracy: 0.7444 - val_loss: 2.3886 - val_accuracy: 0.3254\n",
            "Epoch 126/160\n",
            "258/258 [==============================] - 58s 226ms/step - loss: 0.6780 - accuracy: 0.7622 - val_loss: 2.3290 - val_accuracy: 0.3113\n",
            "Epoch 127/160\n",
            "258/258 [==============================] - 58s 226ms/step - loss: 0.6591 - accuracy: 0.7638 - val_loss: 2.2513 - val_accuracy: 0.3218\n",
            "Epoch 128/160\n",
            "258/258 [==============================] - 58s 226ms/step - loss: 0.6489 - accuracy: 0.7717 - val_loss: 2.2023 - val_accuracy: 0.3269\n",
            "Epoch 129/160\n",
            "258/258 [==============================] - 58s 226ms/step - loss: 0.6093 - accuracy: 0.7857 - val_loss: 2.3326 - val_accuracy: 0.3421\n",
            "Epoch 130/160\n",
            "258/258 [==============================] - 58s 224ms/step - loss: 0.6069 - accuracy: 0.7839 - val_loss: 2.2606 - val_accuracy: 0.3215\n",
            "Epoch 131/160\n",
            "258/258 [==============================] - 58s 226ms/step - loss: 0.5842 - accuracy: 0.7906 - val_loss: 2.2927 - val_accuracy: 0.3123\n",
            "Epoch 132/160\n",
            "258/258 [==============================] - 58s 226ms/step - loss: 0.5680 - accuracy: 0.7982 - val_loss: 2.3513 - val_accuracy: 0.3130\n",
            "Epoch 133/160\n",
            "258/258 [==============================] - 58s 226ms/step - loss: 0.5446 - accuracy: 0.8105 - val_loss: 2.3890 - val_accuracy: 0.3307\n",
            "Epoch 134/160\n",
            "258/258 [==============================] - 58s 224ms/step - loss: 0.5411 - accuracy: 0.8071 - val_loss: 2.3598 - val_accuracy: 0.3208\n",
            "Epoch 135/160\n",
            "258/258 [==============================] - 58s 226ms/step - loss: 0.5128 - accuracy: 0.8201 - val_loss: 2.3896 - val_accuracy: 0.3305\n",
            "Epoch 136/160\n",
            "258/258 [==============================] - 58s 224ms/step - loss: 0.5167 - accuracy: 0.8198 - val_loss: 2.7047 - val_accuracy: 0.3259\n",
            "Epoch 137/160\n",
            "258/258 [==============================] - 58s 226ms/step - loss: 0.4989 - accuracy: 0.8245 - val_loss: 2.3874 - val_accuracy: 0.3242\n",
            "Epoch 138/160\n",
            "258/258 [==============================] - 58s 226ms/step - loss: 0.4858 - accuracy: 0.8285 - val_loss: 2.5433 - val_accuracy: 0.3303\n",
            "Epoch 139/160\n",
            "258/258 [==============================] - 58s 226ms/step - loss: 0.4742 - accuracy: 0.8311 - val_loss: 2.4440 - val_accuracy: 0.3244\n",
            "Epoch 140/160\n",
            "258/258 [==============================] - 58s 226ms/step - loss: 0.4534 - accuracy: 0.8442 - val_loss: 2.6480 - val_accuracy: 0.3240\n",
            "Epoch 141/160\n",
            "258/258 [==============================] - 58s 227ms/step - loss: 0.4424 - accuracy: 0.8451 - val_loss: 2.6048 - val_accuracy: 0.3092\n",
            "Epoch 142/160\n",
            "258/258 [==============================] - 58s 226ms/step - loss: 0.4335 - accuracy: 0.8487 - val_loss: 2.5263 - val_accuracy: 0.3147\n",
            "Epoch 143/160\n",
            "258/258 [==============================] - 58s 226ms/step - loss: 0.4247 - accuracy: 0.8565 - val_loss: 2.6938 - val_accuracy: 0.3281\n",
            "Epoch 144/160\n",
            "258/258 [==============================] - 58s 226ms/step - loss: 0.3988 - accuracy: 0.8621 - val_loss: 2.5475 - val_accuracy: 0.3184\n",
            "Epoch 145/160\n",
            "258/258 [==============================] - 58s 224ms/step - loss: 0.4082 - accuracy: 0.8581 - val_loss: 2.5520 - val_accuracy: 0.3337\n",
            "Epoch 146/160\n",
            "258/258 [==============================] - 58s 226ms/step - loss: 0.3906 - accuracy: 0.8678 - val_loss: 2.6675 - val_accuracy: 0.3366\n",
            "Epoch 147/160\n",
            "258/258 [==============================] - 58s 226ms/step - loss: 0.3803 - accuracy: 0.8700 - val_loss: 2.5986 - val_accuracy: 0.3257\n",
            "Epoch 148/160\n",
            "258/258 [==============================] - 58s 226ms/step - loss: 0.3704 - accuracy: 0.8746 - val_loss: 2.6709 - val_accuracy: 0.3332\n",
            "Epoch 149/160\n",
            "258/258 [==============================] - 58s 224ms/step - loss: 0.3629 - accuracy: 0.8728 - val_loss: 3.0396 - val_accuracy: 0.2995\n",
            "Epoch 150/160\n",
            "258/258 [==============================] - 58s 226ms/step - loss: 0.3607 - accuracy: 0.8752 - val_loss: 2.5699 - val_accuracy: 0.3286\n",
            "Epoch 151/160\n",
            "258/258 [==============================] - 58s 226ms/step - loss: 0.3479 - accuracy: 0.8799 - val_loss: 2.6980 - val_accuracy: 0.3320\n",
            "Epoch 152/160\n",
            "258/258 [==============================] - 58s 226ms/step - loss: 0.3428 - accuracy: 0.8817 - val_loss: 2.7530 - val_accuracy: 0.3397\n",
            "Epoch 153/160\n",
            "258/258 [==============================] - 58s 226ms/step - loss: 0.3302 - accuracy: 0.8863 - val_loss: 2.5762 - val_accuracy: 0.3322\n",
            "Epoch 154/160\n",
            "258/258 [==============================] - 58s 226ms/step - loss: 0.3245 - accuracy: 0.8899 - val_loss: 2.6757 - val_accuracy: 0.3237\n",
            "Epoch 155/160\n",
            "258/258 [==============================] - 58s 226ms/step - loss: 0.3139 - accuracy: 0.8920 - val_loss: 3.0119 - val_accuracy: 0.3218\n",
            "Epoch 156/160\n",
            "258/258 [==============================] - 58s 224ms/step - loss: 0.3279 - accuracy: 0.8888 - val_loss: 2.7017 - val_accuracy: 0.3322\n",
            "Epoch 157/160\n",
            "258/258 [==============================] - 58s 226ms/step - loss: 0.3087 - accuracy: 0.8970 - val_loss: 2.7992 - val_accuracy: 0.3324\n",
            "Epoch 158/160\n",
            "258/258 [==============================] - 58s 227ms/step - loss: 0.2887 - accuracy: 0.9031 - val_loss: 2.7447 - val_accuracy: 0.3351\n",
            "Epoch 159/160\n",
            "258/258 [==============================] - 58s 224ms/step - loss: 0.3045 - accuracy: 0.8956 - val_loss: 2.8336 - val_accuracy: 0.3366\n",
            "Epoch 160/160\n",
            "258/258 [==============================] - 58s 224ms/step - loss: 0.2961 - accuracy: 0.8973 - val_loss: 2.8012 - val_accuracy: 0.3317\n"
          ]
        }
      ]
    },
    {
      "cell_type": "code",
      "source": [
        "model.save(file_path_model+'msp_mfcc_[CNN-LSTM]Model_gfcc.h5')\n",
        "model.save_weights(file_path_model+'msp_mfcc_[CNN-LSTM]Model_Weights_gfcc.h5')"
      ],
      "metadata": {
        "id": "s-iarzQeWUBm"
      },
      "execution_count": null,
      "outputs": []
    },
    {
      "cell_type": "code",
      "source": [
        "model.evaluate(X_test,y_test)"
      ],
      "metadata": {
        "id": "ZBQLG32TWNBC",
        "colab": {
          "base_uri": "https://localhost:8080/"
        },
        "outputId": "18132d29-5fa6-4eaa-d536-81a1f0a9432f"
      },
      "execution_count": null,
      "outputs": [
        {
          "output_type": "stream",
          "name": "stdout",
          "text": [
            "129/129 [==============================] - 4s 33ms/step - loss: 2.8012 - accuracy: 0.3317\n"
          ]
        },
        {
          "output_type": "execute_result",
          "data": {
            "text/plain": [
              "[2.8012123107910156, 0.33171677589416504]"
            ]
          },
          "metadata": {},
          "execution_count": 19
        }
      ]
    },
    {
      "cell_type": "code",
      "source": [
        "y_pred=model.predict(X_test)\n",
        "y_classes = y_pred.argmax(axis=-1)"
      ],
      "metadata": {
        "id": "mo-g0I30WPMm"
      },
      "execution_count": null,
      "outputs": []
    },
    {
      "cell_type": "code",
      "source": [
        "np.unique(y_classes)"
      ],
      "metadata": {
        "id": "5V0pw4UPWRKG",
        "colab": {
          "base_uri": "https://localhost:8080/"
        },
        "outputId": "b423eed0-e6c7-404c-fc9b-b2ecae09d31b"
      },
      "execution_count": null,
      "outputs": [
        {
          "output_type": "execute_result",
          "data": {
            "text/plain": [
              "array([0, 1, 2, 3, 4, 5, 6])"
            ]
          },
          "metadata": {},
          "execution_count": 15
        }
      ]
    },
    {
      "cell_type": "code",
      "source": [
        "history={}\n",
        "history[\"history\"] = pd.read_csv(file_path_model+'msp_gam_source_history.csv')\n",
        "history[\"history\"].head()"
      ],
      "metadata": {
        "id": "PQdU57vXWSyD",
        "colab": {
          "base_uri": "https://localhost:8080/",
          "height": 206
        },
        "outputId": "62dcac81-d062-4e6a-f76b-1efa79452ae6"
      },
      "execution_count": 18,
      "outputs": [
        {
          "output_type": "execute_result",
          "data": {
            "text/plain": [
              "   epoch  accuracy      loss  val_accuracy  val_loss  Unnamed: 5  Unnamed: 6  \\\n",
              "0    0.0  0.156720  1.956735      0.149370  2.049818         NaN         NaN   \n",
              "1    1.0  0.181587  1.932294      0.168041  2.081288         NaN         NaN   \n",
              "2    2.0  0.194626  1.918986      0.179437  2.037759         NaN         NaN   \n",
              "3    3.0  0.210517  1.902870      0.173618  2.060284         NaN         NaN   \n",
              "4    4.0  0.215611  1.890862      0.183802  2.261277         NaN         NaN   \n",
              "\n",
              "   Unnamed: 7  \n",
              "0         NaN  \n",
              "1         NaN  \n",
              "2         NaN  \n",
              "3         NaN  \n",
              "4         NaN  "
            ],
            "text/html": [
              "\n",
              "  <div id=\"df-e6bbb382-547b-4371-a768-4832dcca7c6f\">\n",
              "    <div class=\"colab-df-container\">\n",
              "      <div>\n",
              "<style scoped>\n",
              "    .dataframe tbody tr th:only-of-type {\n",
              "        vertical-align: middle;\n",
              "    }\n",
              "\n",
              "    .dataframe tbody tr th {\n",
              "        vertical-align: top;\n",
              "    }\n",
              "\n",
              "    .dataframe thead th {\n",
              "        text-align: right;\n",
              "    }\n",
              "</style>\n",
              "<table border=\"1\" class=\"dataframe\">\n",
              "  <thead>\n",
              "    <tr style=\"text-align: right;\">\n",
              "      <th></th>\n",
              "      <th>epoch</th>\n",
              "      <th>accuracy</th>\n",
              "      <th>loss</th>\n",
              "      <th>val_accuracy</th>\n",
              "      <th>val_loss</th>\n",
              "      <th>Unnamed: 5</th>\n",
              "      <th>Unnamed: 6</th>\n",
              "      <th>Unnamed: 7</th>\n",
              "    </tr>\n",
              "  </thead>\n",
              "  <tbody>\n",
              "    <tr>\n",
              "      <th>0</th>\n",
              "      <td>0.0</td>\n",
              "      <td>0.156720</td>\n",
              "      <td>1.956735</td>\n",
              "      <td>0.149370</td>\n",
              "      <td>2.049818</td>\n",
              "      <td>NaN</td>\n",
              "      <td>NaN</td>\n",
              "      <td>NaN</td>\n",
              "    </tr>\n",
              "    <tr>\n",
              "      <th>1</th>\n",
              "      <td>1.0</td>\n",
              "      <td>0.181587</td>\n",
              "      <td>1.932294</td>\n",
              "      <td>0.168041</td>\n",
              "      <td>2.081288</td>\n",
              "      <td>NaN</td>\n",
              "      <td>NaN</td>\n",
              "      <td>NaN</td>\n",
              "    </tr>\n",
              "    <tr>\n",
              "      <th>2</th>\n",
              "      <td>2.0</td>\n",
              "      <td>0.194626</td>\n",
              "      <td>1.918986</td>\n",
              "      <td>0.179437</td>\n",
              "      <td>2.037759</td>\n",
              "      <td>NaN</td>\n",
              "      <td>NaN</td>\n",
              "      <td>NaN</td>\n",
              "    </tr>\n",
              "    <tr>\n",
              "      <th>3</th>\n",
              "      <td>3.0</td>\n",
              "      <td>0.210517</td>\n",
              "      <td>1.902870</td>\n",
              "      <td>0.173618</td>\n",
              "      <td>2.060284</td>\n",
              "      <td>NaN</td>\n",
              "      <td>NaN</td>\n",
              "      <td>NaN</td>\n",
              "    </tr>\n",
              "    <tr>\n",
              "      <th>4</th>\n",
              "      <td>4.0</td>\n",
              "      <td>0.215611</td>\n",
              "      <td>1.890862</td>\n",
              "      <td>0.183802</td>\n",
              "      <td>2.261277</td>\n",
              "      <td>NaN</td>\n",
              "      <td>NaN</td>\n",
              "      <td>NaN</td>\n",
              "    </tr>\n",
              "  </tbody>\n",
              "</table>\n",
              "</div>\n",
              "      <button class=\"colab-df-convert\" onclick=\"convertToInteractive('df-e6bbb382-547b-4371-a768-4832dcca7c6f')\"\n",
              "              title=\"Convert this dataframe to an interactive table.\"\n",
              "              style=\"display:none;\">\n",
              "        \n",
              "  <svg xmlns=\"http://www.w3.org/2000/svg\" height=\"24px\"viewBox=\"0 0 24 24\"\n",
              "       width=\"24px\">\n",
              "    <path d=\"M0 0h24v24H0V0z\" fill=\"none\"/>\n",
              "    <path d=\"M18.56 5.44l.94 2.06.94-2.06 2.06-.94-2.06-.94-.94-2.06-.94 2.06-2.06.94zm-11 1L8.5 8.5l.94-2.06 2.06-.94-2.06-.94L8.5 2.5l-.94 2.06-2.06.94zm10 10l.94 2.06.94-2.06 2.06-.94-2.06-.94-.94-2.06-.94 2.06-2.06.94z\"/><path d=\"M17.41 7.96l-1.37-1.37c-.4-.4-.92-.59-1.43-.59-.52 0-1.04.2-1.43.59L10.3 9.45l-7.72 7.72c-.78.78-.78 2.05 0 2.83L4 21.41c.39.39.9.59 1.41.59.51 0 1.02-.2 1.41-.59l7.78-7.78 2.81-2.81c.8-.78.8-2.07 0-2.86zM5.41 20L4 18.59l7.72-7.72 1.47 1.35L5.41 20z\"/>\n",
              "  </svg>\n",
              "      </button>\n",
              "      \n",
              "  <style>\n",
              "    .colab-df-container {\n",
              "      display:flex;\n",
              "      flex-wrap:wrap;\n",
              "      gap: 12px;\n",
              "    }\n",
              "\n",
              "    .colab-df-convert {\n",
              "      background-color: #E8F0FE;\n",
              "      border: none;\n",
              "      border-radius: 50%;\n",
              "      cursor: pointer;\n",
              "      display: none;\n",
              "      fill: #1967D2;\n",
              "      height: 32px;\n",
              "      padding: 0 0 0 0;\n",
              "      width: 32px;\n",
              "    }\n",
              "\n",
              "    .colab-df-convert:hover {\n",
              "      background-color: #E2EBFA;\n",
              "      box-shadow: 0px 1px 2px rgba(60, 64, 67, 0.3), 0px 1px 3px 1px rgba(60, 64, 67, 0.15);\n",
              "      fill: #174EA6;\n",
              "    }\n",
              "\n",
              "    [theme=dark] .colab-df-convert {\n",
              "      background-color: #3B4455;\n",
              "      fill: #D2E3FC;\n",
              "    }\n",
              "\n",
              "    [theme=dark] .colab-df-convert:hover {\n",
              "      background-color: #434B5C;\n",
              "      box-shadow: 0px 1px 3px 1px rgba(0, 0, 0, 0.15);\n",
              "      filter: drop-shadow(0px 1px 2px rgba(0, 0, 0, 0.3));\n",
              "      fill: #FFFFFF;\n",
              "    }\n",
              "  </style>\n",
              "\n",
              "      <script>\n",
              "        const buttonEl =\n",
              "          document.querySelector('#df-e6bbb382-547b-4371-a768-4832dcca7c6f button.colab-df-convert');\n",
              "        buttonEl.style.display =\n",
              "          google.colab.kernel.accessAllowed ? 'block' : 'none';\n",
              "\n",
              "        async function convertToInteractive(key) {\n",
              "          const element = document.querySelector('#df-e6bbb382-547b-4371-a768-4832dcca7c6f');\n",
              "          const dataTable =\n",
              "            await google.colab.kernel.invokeFunction('convertToInteractive',\n",
              "                                                     [key], {});\n",
              "          if (!dataTable) return;\n",
              "\n",
              "          const docLinkHtml = 'Like what you see? Visit the ' +\n",
              "            '<a target=\"_blank\" href=https://colab.research.google.com/notebooks/data_table.ipynb>data table notebook</a>'\n",
              "            + ' to learn more about interactive tables.';\n",
              "          element.innerHTML = '';\n",
              "          dataTable['output_type'] = 'display_data';\n",
              "          await google.colab.output.renderOutput(dataTable, element);\n",
              "          const docLink = document.createElement('div');\n",
              "          docLink.innerHTML = docLinkHtml;\n",
              "          element.appendChild(docLink);\n",
              "        }\n",
              "      </script>\n",
              "    </div>\n",
              "  </div>\n",
              "  "
            ]
          },
          "metadata": {},
          "execution_count": 18
        }
      ]
    },
    {
      "cell_type": "code",
      "source": [
        "plt.figure(figsize=(25,10))\n",
        "plt.subplot(1,2,1)\n",
        "plt.plot(history['history']['accuracy'],'-b')\n",
        "plt.plot(history['history']['val_accuracy'],'r')\n",
        "plt.legend(['Training accuracy','Testing accuracy'])\n",
        "plt.axis([0, 119, 0, 1])\n",
        "plt.xlabel('Epochs')\n",
        "plt.ylabel('Accuracy')"
      ],
      "metadata": {
        "id": "sAx431i0WYuZ",
        "colab": {
          "base_uri": "https://localhost:8080/",
          "height": 627
        },
        "outputId": "41fe6f9c-a564-4774-a4da-dfb609393300"
      },
      "execution_count": 20,
      "outputs": [
        {
          "output_type": "execute_result",
          "data": {
            "text/plain": [
              "Text(0, 0.5, 'Accuracy')"
            ]
          },
          "metadata": {},
          "execution_count": 20
        },
        {
          "output_type": "display_data",
          "data": {
            "text/plain": [
              "<Figure size 1800x720 with 1 Axes>"
            ],
            "image/png": "[encoded data removed]"
          },
          "metadata": {
            "needs_background": "light"
          }
        }
      ]
    },
    {
      "cell_type": "code",
      "source": [
        "max(history['history']['val_accuracy'])"
      ],
      "metadata": {
        "colab": {
          "base_uri": "https://localhost:8080/"
        },
        "id": "Jm5pnZYVYFN3",
        "outputId": "0a03095e-a1c1-485e-9b05-bad3583ca594"
      },
      "execution_count": 21,
      "outputs": [
        {
          "output_type": "execute_result",
          "data": {
            "text/plain": [
              "0.527446174"
            ]
          },
          "metadata": {},
          "execution_count": 21
        }
      ]
    },
    {
      "cell_type": "code",
      "source": [
        "y_test.shape"
      ],
      "metadata": {
        "colab": {
          "base_uri": "https://localhost:8080/"
        },
        "id": "tCrxzZkNVvGh",
        "outputId": "736ed306-e9e9-4a94-db69-0346334c81dd"
      },
      "execution_count": null,
      "outputs": [
        {
          "output_type": "execute_result",
          "data": {
            "text/plain": [
              "(4124, 7)"
            ]
          },
          "metadata": {},
          "execution_count": 28
        }
      ]
    },
    {
      "cell_type": "code",
      "source": [
        "y_pred.shape"
      ],
      "metadata": {
        "colab": {
          "base_uri": "https://localhost:8080/"
        },
        "id": "z3-kUe4BVxRG",
        "outputId": "b7e960af-fe16-4254-bab5-a8a8801bb8bb"
      },
      "execution_count": null,
      "outputs": [
        {
          "output_type": "execute_result",
          "data": {
            "text/plain": [
              "(4124, 7)"
            ]
          },
          "metadata": {},
          "execution_count": 29
        }
      ]
    },
    {
      "cell_type": "code",
      "source": [
        "y_pred1=np.around(y_pred)\n",
        "y_pred1"
      ],
      "metadata": {
        "colab": {
          "base_uri": "https://localhost:8080/"
        },
        "id": "6366Lhp7Vy9O",
        "outputId": "22ced817-d1f3-4225-cc73-5708b0e9e88d"
      },
      "execution_count": null,
      "outputs": [
        {
          "output_type": "execute_result",
          "data": {
            "text/plain": [
              "array([[0., 0., 0., ..., 0., 1., 0.],\n",
              "       [0., 0., 0., ..., 0., 0., 0.],\n",
              "       [0., 0., 0., ..., 1., 0., 0.],\n",
              "       ...,\n",
              "       [0., 0., 0., ..., 0., 0., 0.],\n",
              "       [1., 0., 0., ..., 0., 0., 0.],\n",
              "       [0., 0., 0., ..., 0., 0., 0.]], dtype=float32)"
            ]
          },
          "metadata": {},
          "execution_count": 32
        }
      ]
    },
    {
      "cell_type": "code",
      "source": [
        "y_pred1.shape"
      ],
      "metadata": {
        "colab": {
          "base_uri": "https://localhost:8080/"
        },
        "id": "1F1rOXm3V81_",
        "outputId": "f711056c-6b05-4ced-c078-d1ec1a452ef0"
      },
      "execution_count": null,
      "outputs": [
        {
          "output_type": "execute_result",
          "data": {
            "text/plain": [
              "(4124, 7)"
            ]
          },
          "metadata": {},
          "execution_count": 33
        }
      ]
    },
    {
      "cell_type": "code",
      "source": [
        "gfcc_dict={\"y_test_gfcc\":y_test,\"y_pred_gfcc\":y_pred1}\n",
        "gfcc_dict"
      ],
      "metadata": {
        "colab": {
          "base_uri": "https://localhost:8080/"
        },
        "id": "8YA7zu-OWRTk",
        "outputId": "d1d3db47-6c96-405c-d094-c81e8cf4c43a"
      },
      "execution_count": null,
      "outputs": [
        {
          "output_type": "execute_result",
          "data": {
            "text/plain": [
              "{'y_pred_gfcc': array([[0., 0., 0., ..., 0., 1., 0.],\n",
              "        [0., 0., 0., ..., 0., 0., 0.],\n",
              "        [0., 0., 0., ..., 1., 0., 0.],\n",
              "        ...,\n",
              "        [0., 0., 0., ..., 0., 0., 0.],\n",
              "        [1., 0., 0., ..., 0., 0., 0.],\n",
              "        [0., 0., 0., ..., 0., 0., 0.]], dtype=float32),\n",
              " 'y_test_gfcc': array([[1., 0., 0., ..., 0., 0., 0.],\n",
              "        [0., 0., 0., ..., 1., 0., 0.],\n",
              "        [0., 0., 0., ..., 0., 0., 1.],\n",
              "        ...,\n",
              "        [0., 1., 0., ..., 0., 0., 0.],\n",
              "        [0., 0., 1., ..., 0., 0., 0.],\n",
              "        [0., 0., 0., ..., 0., 0., 1.]], dtype=float32)}"
            ]
          },
          "metadata": {},
          "execution_count": 51
        }
      ]
    },
    {
      "cell_type": "code",
      "source": [
        "from sklearn.metrics import precision_score\n",
        "\n",
        "# Calculating the precision score of classifier\n",
        "print(f\"Precision Score of the classifier is: {precision_score(y_test,y_pred1,average='micro')}\")"
      ],
      "metadata": {
        "colab": {
          "base_uri": "https://localhost:8080/"
        },
        "id": "glxrmdx5W1kA",
        "outputId": "0992fe8d-8383-4680-d2cb-465e096898a0"
      },
      "execution_count": 22,
      "outputs": [
        {
          "output_type": "stream",
          "name": "stdout",
          "text": [
            "Precision Score of the classifier is: 0.39229303156640857\n"
          ]
        }
      ]
    },
    {
      "cell_type": "code",
      "source": [
        "from sklearn.metrics import f1_score\n",
        "\n",
        "# Calculating the F1 score of classifier\n",
        "print(f\"F1 Score of the classifier is: {f1_score(y_test, y_pred1,average='micro')}\")"
      ],
      "metadata": {
        "colab": {
          "base_uri": "https://localhost:8080/"
        },
        "id": "PMgk_7v7aIfm",
        "outputId": "41f09393-39a8-4d1d-9506-9b19127d30bf"
      },
      "execution_count": 23,
      "outputs": [
        {
          "output_type": "stream",
          "name": "stdout",
          "text": [
            "F1 Score of the classifier is: 0.3662256081261695\n"
          ]
        }
      ]
    },
    {
      "cell_type": "code",
      "source": [
        "y_pred1"
      ],
      "metadata": {
        "colab": {
          "base_uri": "https://localhost:8080/"
        },
        "id": "LfYZqDGtXIOK",
        "outputId": "f5d081d4-0456-4444-8bb0-7612830e38e2"
      },
      "execution_count": null,
      "outputs": [
        {
          "output_type": "execute_result",
          "data": {
            "text/plain": [
              "array([[0., 0., 0., ..., 0., 1., 0.],\n",
              "       [0., 0., 0., ..., 0., 0., 0.],\n",
              "       [0., 0., 0., ..., 1., 0., 0.],\n",
              "       ...,\n",
              "       [0., 0., 0., ..., 0., 0., 0.],\n",
              "       [1., 0., 0., ..., 0., 0., 0.],\n",
              "       [0., 0., 0., ..., 0., 0., 0.]], dtype=float32)"
            ]
          },
          "metadata": {},
          "execution_count": 38
        }
      ]
    },
    {
      "cell_type": "code",
      "source": [
        "y_test"
      ],
      "metadata": {
        "colab": {
          "base_uri": "https://localhost:8080/"
        },
        "id": "nc5wBhy4XNox",
        "outputId": "bda12306-d6d5-41f3-fa72-28f92595a5ad"
      },
      "execution_count": null,
      "outputs": [
        {
          "output_type": "execute_result",
          "data": {
            "text/plain": [
              "array([[1., 0., 0., ..., 0., 0., 0.],\n",
              "       [0., 0., 0., ..., 1., 0., 0.],\n",
              "       [0., 0., 0., ..., 0., 0., 1.],\n",
              "       ...,\n",
              "       [0., 1., 0., ..., 0., 0., 0.],\n",
              "       [0., 0., 1., ..., 0., 0., 0.],\n",
              "       [0., 0., 0., ..., 0., 0., 1.]], dtype=float32)"
            ]
          },
          "metadata": {},
          "execution_count": 39
        }
      ]
    },
    {
      "cell_type": "code",
      "source": [
        "y_test"
      ],
      "metadata": {
        "colab": {
          "base_uri": "https://localhost:8080/"
        },
        "id": "tTq6gPQMXPpO",
        "outputId": "0641b319-016b-4198-93f6-1772beb90e01"
      },
      "execution_count": null,
      "outputs": [
        {
          "output_type": "execute_result",
          "data": {
            "text/plain": [
              "array([[1., 0., 0., ..., 0., 0., 0.],\n",
              "       [0., 0., 0., ..., 1., 0., 0.],\n",
              "       [0., 0., 0., ..., 0., 0., 1.],\n",
              "       ...,\n",
              "       [0., 1., 0., ..., 0., 0., 0.],\n",
              "       [0., 0., 1., ..., 0., 0., 0.],\n",
              "       [0., 0., 0., ..., 0., 0., 1.]], dtype=float32)"
            ]
          },
          "metadata": {},
          "execution_count": 41
        }
      ]
    },
    {
      "cell_type": "code",
      "source": [
        "pickle.dump(gfcc_dict, open(file_path_model+'gfcc_dict_values.p', 'wb'))"
      ],
      "metadata": {
        "id": "I907WT-3YJu7"
      },
      "execution_count": null,
      "outputs": []
    },
    {
      "cell_type": "code",
      "source": [
        ""
      ],
      "metadata": {
        "id": "Fmom68hTb1Wr"
      },
      "execution_count": null,
      "outputs": []
    }
  ]
}