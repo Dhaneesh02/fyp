{
  "nbformat": 4,
  "nbformat_minor": 0,
  "metadata": {
    "colab": {
      "name": "augmented_ravdess_gfcc_chunks.ipynb",
      "provenance": [],
      "machine_shape": "hm",
      "collapsed_sections": [],
      "include_colab_link": true
    },
    "kernelspec": {
      "name": "python3",
      "display_name": "Python 3"
    },
    "language_info": {
      "name": "python"
    },
    "accelerator": "GPU"
  },
  "cells": [
    {
      "cell_type": "markdown",
      "metadata": {
        "id": "view-in-github",
        "colab_type": "text"
      },
      "source": [
        "<a href=\"https://colab.research.google.com/github/Dhaneesh02/fyp/blob/augmented_ravdess_gfcc_chunks/augmented_ravdess_gfcc_chunks.ipynb\" target=\"_parent\"><img src=\"https://colab.research.google.com/assets/colab-badge.svg\" alt=\"Open In Colab\"/></a>"
      ]
    },
    {
      "cell_type": "code",
      "source": [
        "file_path = '/content/drive/MyDrive/Review_3/ravdess/RAVDESS/'\n",
        "file_path_model = '/content/drive/MyDrive/Review_3/ravdess/augmented_ravdess_gfcc_chunks/'"
      ],
      "metadata": {
        "id": "GPFdVXjCAnTS"
      },
      "execution_count": null,
      "outputs": []
    },
    {
      "cell_type": "code",
      "execution_count": null,
      "metadata": {
        "colab": {
          "base_uri": "https://localhost:8080/",
          "height": 17
        },
        "id": "-mK_p7Vx-Gr_",
        "outputId": "fb114391-e831-4882-a56c-a31074839a5e"
      },
      "outputs": [
        {
          "output_type": "display_data",
          "data": {
            "text/html": [
              "        <script type=\"text/javascript\">\n",
              "        window.PlotlyConfig = {MathJaxConfig: 'local'};\n",
              "        if (window.MathJax) {MathJax.Hub.Config({SVG: {font: \"STIX-Web\"}});}\n",
              "        if (typeof require !== 'undefined') {\n",
              "        require.undef(\"plotly\");\n",
              "        requirejs.config({\n",
              "            paths: {\n",
              "                'plotly': ['https://cdn.plot.ly/plotly-2.8.3.min']\n",
              "            }\n",
              "        });\n",
              "        require(['plotly'], function(Plotly) {\n",
              "            window._Plotly = Plotly;\n",
              "        });\n",
              "        }\n",
              "        </script>\n",
              "        "
            ]
          },
          "metadata": {}
        }
      ],
      "source": [
        "### General imports ###\n",
        "import os\n",
        "from glob import glob\n",
        "import pickle\n",
        "import itertools\n",
        "from scipy.stats import zscore\n",
        "from sklearn.model_selection import train_test_split\n",
        "import random\n",
        "import sys\n",
        "\n",
        "\n",
        "## Package\n",
        "import glob \n",
        "import keras\n",
        "import IPython.display as ipd\n",
        "import librosa\n",
        "import librosa.display\n",
        "import matplotlib.pyplot as plt\n",
        "import numpy as np\n",
        "import pandas as pd\n",
        "import plotly.graph_objs as go\n",
        "import plotly.offline as py\n",
        "import plotly.tools as tls\n",
        "import seaborn as sns\n",
        "import scipy.io.wavfile\n",
        "import tensorflow as tf\n",
        "py.init_notebook_mode(connected=True)\n",
        "\n",
        "\n",
        "## Keras\n",
        "from keras import regularizers\n",
        "from keras.callbacks import ModelCheckpoint, LearningRateScheduler, EarlyStopping\n",
        "from keras.callbacks import  History, ReduceLROnPlateau, CSVLogger\n",
        "from keras.models import Model, Sequential\n",
        "from keras.layers import Dense, Embedding, LSTM\n",
        "from keras.layers import Input, Flatten, Dropout, Activation, BatchNormalization\n",
        "from keras.layers import Conv1D, MaxPooling1D, AveragePooling1D\n",
        "from keras.preprocessing import sequence\n",
        "from keras.preprocessing.sequence import pad_sequences\n",
        "from keras.preprocessing.text import Tokenizer\n",
        "from keras.utils import np_utils\n",
        "\n",
        "\n",
        "## Sklearn\n",
        "from sklearn.metrics import confusion_matrix\n",
        "from sklearn.preprocessing import LabelEncoder\n",
        "\n",
        "\n",
        "## Rest\n",
        "from scipy.fftpack import fft\n",
        "from scipy import signal\n",
        "from scipy.io import wavfile\n",
        "from tqdm import tqdm\n",
        "\n",
        "input_duration=3\n",
        "# % pylab inline\n",
        "### Graph imports ###\n",
        "from PIL import Image\n",
        "import librosa\n",
        "### Audio import ###\n",
        "\n",
        "import IPython\n",
        "from IPython.display import Audio"
      ]
    },
    {
      "cell_type": "code",
      "source": [
        "from google.colab import drive\n",
        "drive.mount('/content/drive')"
      ],
      "metadata": {
        "colab": {
          "base_uri": "https://localhost:8080/"
        },
        "id": "5V_9hUndAisL",
        "outputId": "9b3b856f-59f0-461e-f186-0b62ebc1976e"
      },
      "execution_count": null,
      "outputs": [
        {
          "output_type": "stream",
          "name": "stdout",
          "text": [
            "Mounted at /content/drive\n"
          ]
        }
      ]
    },
    {
      "cell_type": "code",
      "source": [
        "# RAVDESS Database\n",
        "label_dict_ravdess = {'02': 'NEU', '03':'HAP', '04':'SAD', '05':'ANG', '06':'FEA', '07':'DIS', '08':'SUR'}\n",
        "#data_visualistion\n",
        "data_df = pd.DataFrame(columns=['path', 'source', 'actor', 'gender',\n",
        "                                'intensity', 'statement', 'repetition', 'emotion'])\n",
        "# Set audio files labels\n",
        "def set_label_ravdess(audio_file, gender_differentiation):\n",
        "    label = label_dict_ravdess.get(audio_file[6:8])\n",
        "    if gender_differentiation == True:\n",
        "        if int(audio_file[18:20])%2 == 0: # Female\n",
        "            label = 'female_' + label\n",
        "        if int(audio_file[18:20])%2 == 1: # Male\n",
        "            label = 'male_' + label\n",
        "    return label"
      ],
      "metadata": {
        "id": "vKgpGgWIAmCb"
      },
      "execution_count": null,
      "outputs": []
    },
    {
      "cell_type": "code",
      "source": [
        "!pip install pydub\n",
        "from pydub import AudioSegment\n",
        "from pydub.silence import split_on_silence,detect_silence,detect_nonsilent"
      ],
      "metadata": {
        "colab": {
          "base_uri": "https://localhost:8080/"
        },
        "id": "XuN25Z4XMA26",
        "outputId": "6017141d-38e4-4877-dffd-9642168621c1"
      },
      "execution_count": null,
      "outputs": [
        {
          "output_type": "stream",
          "name": "stdout",
          "text": [
            "Looking in indexes: https://pypi.org/simple, https://us-python.pkg.dev/colab-wheels/public/simple/\n",
            "Collecting pydub\n",
            "  Downloading pydub-0.25.1-py2.py3-none-any.whl (32 kB)\n",
            "Installing collected packages: pydub\n",
            "Successfully installed pydub-0.25.1\n"
          ]
        }
      ]
    },
    {
      "cell_type": "code",
      "source": [
        "# Start feature extraction\n",
        "print(\"Import Data: START\")\n",
        "\n",
        "# Initialize features and labels list\n",
        "signal = []\n",
        "labels = []\n",
        "\n",
        "# Sample rate (16.0 kHz)\n",
        "sample_rate = 16000     \n",
        "\n",
        "# Max pad length (1.2 sec)\n",
        "max_pad_len = 22913\n",
        "\n",
        "file_name_list=[]\n",
        "\n",
        "#data_visualisation\n",
        "count = 0\n",
        "\n",
        "# Compute spectogram for all audio file\n",
        "for index,ravdess in enumerate(os.listdir(file_path)):\n",
        "    ravdess=file_path+ravdess+'/'\n",
        "    file_names = os.listdir(ravdess)\n",
        "    # print(len(file_names),file_names)\n",
        "    for audio_index, audio_file in enumerate(file_names):\n",
        "      if audio_file[6:8] in list(label_dict_ravdess.keys()):\n",
        "        # print(audio_index,ravdess,audio_file)\n",
        "        # Read audio file\n",
        "        y, sr = librosa.core.load(ravdess + audio_file, sr=sample_rate, offset=0  )  #y->audio time series\n",
        "\n",
        "        # Z-normalization\n",
        "        # Audio normalization is when you put constant gain to a recording so that you\n",
        "        # can bring the average amplitude to the desired level. In other words,\n",
        "        # it means changing the audio's overall volume to fixed amount.\n",
        "        y = zscore(y)\n",
        "        step = 1000\n",
        "        file_ = AudioSegment.from_wav(ravdess+audio_file)\n",
        "        # print(len(file_))\n",
        "        prev_breakpoint = 0\n",
        "        file_c  = 0\n",
        "        itr_c = 0\n",
        "        for j in range(1000, len(file_), 1000):\n",
        "          if j == step:\n",
        "            y_padded = np.zeros(max_pad_len)\n",
        "            breakpoint = round((j/1000)*16366) \n",
        "            inc = round((200/1000)*16366)\n",
        "            y_padded[:breakpoint+inc] = y[:breakpoint+inc]\n",
        "          else:\n",
        "            breakpoint = round((j/1000)*16366)\n",
        "            inc = round((200/1000)*16366)      \n",
        "            y_temp = y[prev_breakpoint-inc:breakpoint+inc]\n",
        "            y_padded = np.zeros(max_pad_len-len(y_temp))\n",
        "            y_padded = np.concatenate((y_temp, y_padded))\n",
        "          prev_breakpoint = breakpoint\n",
        "          signal.append(y_padded)\n",
        "          labels.append(set_label_ravdess(audio_file, False))\n",
        "          temp_name = audio_file[:-4]\n",
        "          file_name_list.append(audio_file+\"_\"+str(file_c)+\".wav\")\n",
        "          file_c += 1\n",
        "          itr_c += 1\n",
        "          if itr_c == 3:\n",
        "            break\n",
        "        count += 1\n",
        "      # Print running...\n",
        "    print(\"Import Data: RUNNING ... {} files\".format(audio_index))\n",
        "\n",
        "\n",
        "# Cast labels to array\n",
        "labels = np.asarray(labels).ravel()\n",
        "file_names = file_name_list\n",
        "# Stop feature extraction\n",
        "print(\"Import Data: END \\n\")\n",
        "print(\"Number of audio files imported: {}\".format(labels.shape[0]))\n"
      ],
      "metadata": {
        "id": "NnwsDANQBAJM",
        "colab": {
          "base_uri": "https://localhost:8080/"
        },
        "outputId": "8f5c102b-0115-4ef7-9bec-b28a9caf5f2e"
      },
      "execution_count": null,
      "outputs": [
        {
          "output_type": "stream",
          "name": "stdout",
          "text": [
            "Import Data: START\n",
            "Import Data: RUNNING ... 59 files\n",
            "Import Data: RUNNING ... 59 files\n",
            "Import Data: RUNNING ... 59 files\n",
            "Import Data: RUNNING ... 59 files\n",
            "Import Data: RUNNING ... 59 files\n",
            "Import Data: RUNNING ... 59 files\n",
            "Import Data: RUNNING ... 59 files\n",
            "Import Data: RUNNING ... 59 files\n",
            "Import Data: RUNNING ... 59 files\n",
            "Import Data: RUNNING ... 59 files\n",
            "Import Data: RUNNING ... 59 files\n",
            "Import Data: RUNNING ... 59 files\n",
            "Import Data: RUNNING ... 59 files\n",
            "Import Data: RUNNING ... 59 files\n",
            "Import Data: RUNNING ... 59 files\n",
            "Import Data: RUNNING ... 59 files\n",
            "Import Data: RUNNING ... 59 files\n",
            "Import Data: RUNNING ... 59 files\n",
            "Import Data: RUNNING ... 59 files\n",
            "Import Data: RUNNING ... 59 files\n",
            "Import Data: RUNNING ... 59 files\n",
            "Import Data: RUNNING ... 59 files\n",
            "Import Data: RUNNING ... 59 files\n",
            "Import Data: RUNNING ... 59 files\n",
            "Import Data: END \n",
            "\n",
            "Number of audio files imported: 4030\n"
          ]
        }
      ]
    },
    {
      "cell_type": "code",
      "source": [
        "pickle.dump(signal, open(file_path_model+'signal.p', 'wb'))\n",
        "pickle.dump(file_names, open(file_path_model+'file_names.p', 'wb'))\n",
        "pickle.dump(labels, open(file_path_model+'labels.p', 'wb'))"
      ],
      "metadata": {
        "id": "YdUtIvqsSHh3"
      },
      "execution_count": null,
      "outputs": []
    },
    {
      "cell_type": "code",
      "source": [
        "\n",
        "# Initialize features and labels list\n",
        "signal = []\n",
        "labels = []\n",
        "file_names = []\n",
        "\n",
        "# Sample rate (16.0 kHz)\n",
        "sample_rate = 16000     \n",
        "\n",
        "# Max pad length (3.0 sec)\n",
        "max_pad_len = 49100\n",
        "\n",
        "\n",
        "signal=pickle.load(open(file_path_model+\"signal.p\",\"rb\"))\n",
        "file_names=pickle.load(open(file_path_model+\"file_names.p\",\"rb\"))\n",
        "labels=pickle.load(open(file_path_model+\"labels.p\",\"rb\"))\n",
        "\n",
        "#data_visualisation\n",
        "count = len(signal)\n",
        "print(\"Import Data: END \\n\")\n",
        "print(\"Number of audio files imported: {}\".format(labels.shape[0]))"
      ],
      "metadata": {
        "id": "S_FvEvcHSPcV",
        "colab": {
          "base_uri": "https://localhost:8080/"
        },
        "outputId": "9aed0819-982a-4711-a977-97504c8332ec"
      },
      "execution_count": null,
      "outputs": [
        {
          "output_type": "stream",
          "name": "stdout",
          "text": [
            "Import Data: END \n",
            "\n",
            "Number of audio files imported: 4030\n"
          ]
        }
      ]
    },
    {
      "cell_type": "code",
      "source": [
        "# Number of augmented data\n",
        "nb_augmented = 2\n",
        "# Function to add noise to a signals with a desired Signal Noise ratio (SNR)\n",
        "def noisy_signal(signal, snr_low=15, snr_high=30, nb_augmented=2):\n",
        "    # Signal length\n",
        "    signal_len = len(signal)\n",
        "\n",
        "    # Generate White noise\n",
        "    noise = np.random.normal(size=(nb_augmented, signal_len))\n",
        "    \n",
        "    # Compute signal and noise power\n",
        "    s_power = np.sum((signal / (2.0 ** 15)) ** 2) / signal_len\n",
        "    n_power = np.sum((noise / (2.0 ** 15)) ** 2, axis=1) / signal_len\n",
        "    \n",
        "    # Random SNR: Uniform [15, 30]\n",
        "    snr = np.random.randint(snr_low, snr_high)\n",
        "    \n",
        "    # Compute K coeff for each noise\n",
        "    K = np.sqrt((s_power / n_power) * 10 ** (- snr / 10))\n",
        "    K = np.ones((signal_len, nb_augmented)) * K\n",
        "    \n",
        "    # Generate noisy signal\n",
        "    return signal + K.T * noise"
      ],
      "metadata": {
        "id": "EXibgPfnSXO1"
      },
      "execution_count": null,
      "outputs": []
    },
    {
      "cell_type": "code",
      "source": [
        "# Generate noisy signals from signal list\n",
        "print(\"Data Augmentation: START\")\n",
        "augmented_signal = list(map(noisy_signal, signal))\n",
        "print(\"Data Augmentation: END!\")"
      ],
      "metadata": {
        "colab": {
          "base_uri": "https://localhost:8080/"
        },
        "id": "AeC7JFqVSZJK",
        "outputId": "f13cf19a-3b64-4653-f0e1-4207f5c3cd37"
      },
      "execution_count": null,
      "outputs": [
        {
          "output_type": "stream",
          "name": "stdout",
          "text": [
            "Data Augmentation: START\n",
            "Data Augmentation: END!\n"
          ]
        }
      ]
    },
    {
      "cell_type": "code",
      "source": [
        "#librosa.version.version=0.7.2\n",
        "#spafe.sys.version=3.7.6 \n",
        "!pip install spafe\n",
        "import spafe\n",
        "from librosa import display\n",
        "from spafe.fbanks.gammatone_fbanks import gammatone_filter_banks\n"
      ],
      "metadata": {
        "id": "yzfb0WqySa6j",
        "colab": {
          "base_uri": "https://localhost:8080/"
        },
        "outputId": "1cb19454-dbb6-47a0-dcc6-0de88ad8ed97"
      },
      "execution_count": null,
      "outputs": [
        {
          "output_type": "stream",
          "name": "stdout",
          "text": [
            "Looking in indexes: https://pypi.org/simple, https://us-python.pkg.dev/colab-wheels/public/simple/\n",
            "Collecting spafe\n",
            "  Downloading spafe-0.1.2-py3-none-any.whl (77 kB)\n",
            "\u001b[K     |████████████████████████████████| 77 kB 2.9 MB/s \n",
            "\u001b[?25hRequirement already satisfied: numpy>=1.17.2 in /usr/local/lib/python3.7/dist-packages (from spafe) (1.21.6)\n",
            "Requirement already satisfied: scipy>=1.3.1 in /usr/local/lib/python3.7/dist-packages (from spafe) (1.4.1)\n",
            "Installing collected packages: spafe\n",
            "Successfully installed spafe-0.1.2\n"
          ]
        }
      ]
    },
    {
      "cell_type": "code",
      "source": [
        "import gc"
      ],
      "metadata": {
        "id": "04OsnhpTSccC"
      },
      "execution_count": null,
      "outputs": []
    },
    {
      "cell_type": "code",
      "source": [
        "def Log_Gammatone_Spectrum(y, sr=16000, n_fft=512, win_length=256, hop_length=128, window='hamming', n_mels=128, fmax=4000): \n",
        "    # y,sr=librosa.load(File_name,sr)\n",
        "    gam_spect = np.abs(librosa.stft(y, n_fft=n_fft, window=window, win_length=win_length, hop_length=hop_length)) ** 2\n",
        "    \n",
        "    gammatone_filter_bank = gammatone_filter_banks(nfilts=128, nfft=512, fs=sr, low_freq=50, high_freq=None, scale='contsant', order=4)\n",
        "    # print(gam_spect.shape,gammatone_filter_bank.shape)\n",
        "\n",
        "    Gam=gammatone_filter_bank.dot(gam_spect)\n",
        "    LogGamSpec = librosa.power_to_db(Gam,ref=np.max)\n",
        "    # display.specshow(LogGamSpec,y_axis='log')\n",
        "    return LogGamSpec"
      ],
      "metadata": {
        "id": "l1GVip2UbU8d"
      },
      "execution_count": null,
      "outputs": []
    },
    {
      "cell_type": "code",
      "source": [
        "# Start feature extraction\n",
        "print(\"Feature extraction: START\")\n",
        "\n",
        "# Compute spectogram for all audio file\n",
        "mel_spect = []\n",
        "# print(len(signal),len(s))\n",
        "for i in range(len(signal)):\n",
        "  mel_spect.append(Log_Gammatone_Spectrum(signal[i]))\n",
        "\n",
        "\n",
        "mel_spect = np.asarray(mel_spect)\n",
        "del signal\n",
        "gc.collect()\n",
        "\n",
        "# Stop feature extraction\n",
        "print(\"Feature extraction: END!\")"
      ],
      "metadata": {
        "colab": {
          "base_uri": "https://localhost:8080/"
        },
        "id": "tupYZ1xOSext",
        "outputId": "75798564-03f0-4250-fe73-23d52afd098d"
      },
      "execution_count": null,
      "outputs": [
        {
          "output_type": "stream",
          "name": "stdout",
          "text": [
            "Feature extraction: START\n",
            "Feature extraction: END!\n"
          ]
        }
      ]
    },
    {
      "cell_type": "code",
      "source": [
        "pickle.dump(mel_spect, open(file_path_model+'mel_spect.p', 'wb'), protocol=4)\n"
      ],
      "metadata": {
        "id": "6Om1_EFPlnpN"
      },
      "execution_count": null,
      "outputs": []
    },
    {
      "cell_type": "code",
      "source": [
        "# Start feature extraction\n",
        "print(\"Feature extraction: START\")\n",
        "\n",
        "augmented_mel_spect = [np.asarray(list(map(Log_Gammatone_Spectrum, augmented_signal[i]))) for i in range(len(augmented_signal))]\n",
        "del augmented_signal\n",
        "gc.collect()\n",
        "\n",
        "# Stop feature extraction\n",
        "print(\"Feature extraction: END!\")"
      ],
      "metadata": {
        "colab": {
          "base_uri": "https://localhost:8080/"
        },
        "id": "-IyrHo--SgJF",
        "outputId": "7a1fcc7c-4a2f-4136-e8d8-b78bbd271d1c"
      },
      "execution_count": null,
      "outputs": [
        {
          "output_type": "stream",
          "name": "stdout",
          "text": [
            "Feature extraction: START\n",
            "Feature extraction: END!\n"
          ]
        }
      ]
    },
    {
      "cell_type": "code",
      "source": [
        "\n",
        "print(mel_spect.shape)\n",
        "# print(augmented_mel_spect.shape)\n",
        "print(labels.shape)"
      ],
      "metadata": {
        "colab": {
          "base_uri": "https://localhost:8080/"
        },
        "id": "KHvOgKOzSjcK",
        "outputId": "54a6a600-d072-41bc-b89f-321810a9de71"
      },
      "execution_count": null,
      "outputs": [
        {
          "output_type": "stream",
          "name": "stdout",
          "text": [
            "(4030, 128, 180)\n",
            "(4030,)\n"
          ]
        }
      ]
    },
    {
      "cell_type": "code",
      "source": [
        "\n",
        "pickle.dump(augmented_mel_spect, open(file_path_model+'augmented_mel_spect.p', 'wb'), protocol=4)\n"
      ],
      "metadata": {
        "id": "imb3qHesSlec"
      },
      "execution_count": null,
      "outputs": []
    },
    {
      "cell_type": "code",
      "source": [
        "labels=pickle.load(open(file_path_model+\"labels.p\",\"rb\"))"
      ],
      "metadata": {
        "id": "PI1pmF_IVdSF"
      },
      "execution_count": null,
      "outputs": []
    },
    {
      "cell_type": "code",
      "source": [
        "# Build Train and test dataset\n",
        "# MEL_SPECT_train, MEL_SPECT_test,  label_train, label_test = train_test_split(mel_spect,  labels, test_size=0.2)\n",
        "MEL_SPECT_train, MEL_SPECT_test, AUG_MEL_SPECT_train, AUG_MEL_SPECT_test, label_train, label_test = train_test_split(mel_spect, augmented_mel_spect, labels, test_size=0.2)\n",
        "\n",
        "# Build augmented labels and train\n",
        "aug_label_train = np.asarray(list(itertools.chain.from_iterable([[label] * nb_augmented for label in label_train])))\n",
        "AUG_MEL_SPECT_train = np.asarray(list(itertools.chain.from_iterable(AUG_MEL_SPECT_train)))\n",
        "AUG_MEL_SPECT_test = np.asarray(list(itertools.chain.from_iterable(AUG_MEL_SPECT_test)))\n",
        "aug_label_test = np.asarray(list(itertools.chain.from_iterable([[label] * nb_augmented for label in label_test])))\n",
        "# print(AUG_MEL_SPECT_train.shape)\n",
        "# print(AUG_MEL_SPECT_test.shape)\n",
        "# Concatenate original and augmented\n",
        "# X_train = MEL_SPECT_train\n",
        "# y_train = label_train\n",
        "X_train = np.concatenate((MEL_SPECT_train, AUG_MEL_SPECT_train))\n",
        "y_train = np.concatenate((label_train, aug_label_train))\n",
        "\n",
        "print(\"x_train: \",X_train.shape)\n",
        "print(\"y_train: \",y_train.shape)\n",
        "# Build test set\n",
        "X_test = np.concatenate((MEL_SPECT_test, AUG_MEL_SPECT_test))\n",
        "# X_test = MEL_SPECT_test\n",
        "y_test = np.concatenate((label_test, aug_label_test))\n",
        "# y_test = label_test\n",
        "print(X_test.shape)\n",
        "print(y_test.shape)\n"
      ],
      "metadata": {
        "colab": {
          "base_uri": "https://localhost:8080/"
        },
        "id": "m3FANhgdViOM",
        "outputId": "6637e010-3e5b-4000-b8f8-fc9d7cebd6e7"
      },
      "execution_count": null,
      "outputs": [
        {
          "output_type": "stream",
          "name": "stdout",
          "text": [
            "x_train:  (9672, 128, 180)\n",
            "y_train:  (9672,)\n",
            "(2418, 128, 180)\n",
            "(2418,)\n"
          ]
        }
      ]
    },
    {
      "cell_type": "code",
      "source": [
        "# Delete\n",
        "# del MEL_SPECT_train,MEL_SPECT_test\n",
        "del MEL_SPECT_train, AUG_MEL_SPECT_train, label_train, AUG_MEL_SPECT_test, MEL_SPECT_test, label_test\n",
        "del mel_spect, augmented_mel_spect, labels"
      ],
      "metadata": {
        "id": "YePDCf8EDBH8"
      },
      "execution_count": null,
      "outputs": []
    },
    {
      "cell_type": "code",
      "source": [
        "win_ts = 128\n",
        "hop_ts = 64\n",
        "\n",
        "def frame(x, win_step=128, win_size=64):\n",
        "    nb_frames = 1 + int((x.shape[2] - win_size) / win_step)\n",
        "    frames = np.zeros((x.shape[0], nb_frames, x.shape[1], win_size)).astype(np.float32)\n",
        "    for t in range(nb_frames):\n",
        "        frames[:,t,:,:] = np.copy(x[:,:,(t * win_step):(t * win_step + win_size)]).astype(np.float32)\n",
        "    return frames\n",
        "\n",
        "X_train = frame(X_train, hop_ts, win_ts)\n",
        "X_test = frame(X_test, hop_ts, win_ts)\n"
      ],
      "metadata": {
        "id": "9PQvkF_7VoMR"
      },
      "execution_count": null,
      "outputs": []
    },
    {
      "cell_type": "code",
      "source": [
        "\n",
        "X_test.shape"
      ],
      "metadata": {
        "colab": {
          "base_uri": "https://localhost:8080/"
        },
        "id": "cLfDOehmVp5v",
        "outputId": "059b68d4-2213-4cf0-c303-e931829fbd6c"
      },
      "execution_count": null,
      "outputs": [
        {
          "output_type": "execute_result",
          "data": {
            "text/plain": [
              "(2418, 1, 128, 128)"
            ]
          },
          "metadata": {},
          "execution_count": 22
        }
      ]
    },
    {
      "cell_type": "code",
      "source": [
        "# Save Train and test set\n",
        "pickle.dump(X_train.astype(np.float16), open(file_path_model+'[X_train].p', 'wb'))\n",
        "pickle.dump(y_train, open(file_path_model+'[y_train].p', 'wb'))\n",
        "pickle.dump(X_test.astype(np.float16), open(file_path_model+'[X_test].p', 'wb'))\n",
        "pickle.dump(y_test, open(file_path_model+'[y_test].p', 'wb'))"
      ],
      "metadata": {
        "id": "ai5r1KnDVro4"
      },
      "execution_count": null,
      "outputs": []
    },
    {
      "cell_type": "code",
      "source": [
        "import os\n",
        "from glob import glob\n",
        "import pickle\n",
        "import numpy as np\n",
        "import pandas as pd\n",
        "from keras.utils.vis_utils import plot_model\n",
        "### Plot imports ###\n",
        "from IPython.display import Image\n",
        "import matplotlib.pyplot as plt\n",
        "\n",
        "### Time Distributed ConvNet imports ###\n",
        "import tensorflow as tf\n",
        "from tensorflow.keras.models import Sequential, Model\n",
        "from tensorflow.keras.layers import Input, Dense, Dropout, Activation, TimeDistributed, concatenate\n",
        "from tensorflow.keras.layers import Conv2D, MaxPooling2D, AveragePooling2D, BatchNormalization, LeakyReLU, Flatten\n",
        "from tensorflow.keras.layers import LSTM\n",
        "from tensorflow.keras.optimizers import Adam, SGD\n",
        "from tensorflow.keras.callbacks import EarlyStopping, ModelCheckpoint, ReduceLROnPlateau\n",
        "from tensorflow.keras import backend as K\n",
        "from keras.utils import np_utils\n",
        "from keras.utils.vis_utils import plot_model\n",
        "from sklearn.preprocessing import LabelEncoder\n",
        "\n",
        "### Warning ###\n",
        "import warnings\n",
        "warnings.filterwarnings('ignore')"
      ],
      "metadata": {
        "id": "Y4BEJ9ZtVyv7"
      },
      "execution_count": 1,
      "outputs": []
    },
    {
      "cell_type": "code",
      "source": [
        "file_path = '/content/drive/MyDrive/Review_3/ravdess/RAVDESS/'\n",
        "file_path_model = '/content/drive/MyDrive/Review_3/ravdess/augmented_ravdess_gfcc_chunks/'"
      ],
      "metadata": {
        "id": "a6JU9w23rL5y"
      },
      "execution_count": 2,
      "outputs": []
    },
    {
      "cell_type": "code",
      "source": [
        "from google.colab import drive\n",
        "drive.mount('/content/drive')"
      ],
      "metadata": {
        "colab": {
          "base_uri": "https://localhost:8080/"
        },
        "id": "Qh1fjWt7V0yR",
        "outputId": "2d3519a6-c323-4741-e87b-0f19d80d9dc4"
      },
      "execution_count": 3,
      "outputs": [
        {
          "output_type": "stream",
          "name": "stdout",
          "text": [
            "Mounted at /content/drive\n"
          ]
        }
      ]
    },
    {
      "cell_type": "code",
      "source": [
        "\n",
        "X_train = pickle.load(open(file_path_model+'[X_train].p', 'rb'))\n",
        "y_train = pickle.load(open(file_path_model+'[y_train].p', 'rb'))\n",
        "y_test = pickle.load(open(file_path_model+'[y_test].p', 'rb'))\n",
        "X_test = pickle.load(open(file_path_model+'[X_test].p', 'rb'))"
      ],
      "metadata": {
        "id": "SwPl1CcDV2mz"
      },
      "execution_count": 4,
      "outputs": []
    },
    {
      "cell_type": "code",
      "source": [
        "print(X_train.shape)\n",
        "print(y_train.shape)\n",
        "print(X_test.shape)\n",
        "print(y_test.shape) "
      ],
      "metadata": {
        "colab": {
          "base_uri": "https://localhost:8080/"
        },
        "id": "blFAeZSBV8zT",
        "outputId": "2fa38057-332d-4ed0-ed5b-98cac70911a3"
      },
      "execution_count": 5,
      "outputs": [
        {
          "output_type": "stream",
          "name": "stdout",
          "text": [
            "(9672, 1, 128, 128)\n",
            "(9672,)\n",
            "(2418, 1, 128, 128)\n",
            "(2418,)\n"
          ]
        }
      ]
    },
    {
      "cell_type": "code",
      "source": [
        "print(file_path_model)\n",
        "lb = LabelEncoder()\n",
        "y_train = np_utils.to_categorical(lb.fit_transform(np.ravel(y_train)))\n",
        "y_test = np_utils.to_categorical(lb.transform(np.ravel(y_test)))"
      ],
      "metadata": {
        "id": "d07gF5cEV-1B",
        "colab": {
          "base_uri": "https://localhost:8080/"
        },
        "outputId": "7549327e-9d24-4674-c84b-113270be4bc6"
      },
      "execution_count": 6,
      "outputs": [
        {
          "output_type": "stream",
          "name": "stdout",
          "text": [
            "/content/drive/MyDrive/Review_3/ravdess/augmented_ravdess_gfcc_chunks/\n"
          ]
        }
      ]
    },
    {
      "cell_type": "code",
      "source": [
        "# Reshape for convolution\n",
        "X_train = X_train.reshape(X_train.shape[0], X_train.shape[1] , X_train.shape[2], X_train.shape[3], 1)\n",
        "X_test = X_test.reshape(X_test.shape[0], X_test.shape[1] , X_test.shape[2], X_test.shape[3], 1)"
      ],
      "metadata": {
        "id": "upkJ5BtRWCA3"
      },
      "execution_count": 7,
      "outputs": []
    },
    {
      "cell_type": "code",
      "source": [
        "X_train.shape[1:]"
      ],
      "metadata": {
        "colab": {
          "base_uri": "https://localhost:8080/"
        },
        "id": "UjcdxKTUWEM6",
        "outputId": "e77f1376-d7e9-45cf-fcc3-a578a21ac05b"
      },
      "execution_count": 8,
      "outputs": [
        {
          "output_type": "execute_result",
          "data": {
            "text/plain": [
              "(1, 128, 128, 1)"
            ]
          },
          "metadata": {},
          "execution_count": 8
        }
      ]
    },
    {
      "cell_type": "code",
      "source": [
        "K.clear_session()\n",
        "\n",
        "input_y = Input(shape=X_train.shape[1:], name='Input_MELSPECT')\n",
        "\n",
        "y = TimeDistributed(Conv2D(64, kernel_size=(3, 3), padding='same'), name='Conv_1_MELSPECT')(input_y)\n",
        "y = TimeDistributed(BatchNormalization(), name='BatchNorm_1_MELSPECT')(y)\n",
        "y = TimeDistributed(Activation('elu'), name='Activ_1_MELSPECT')(y)\n",
        "y = TimeDistributed(MaxPooling2D(pool_size=(2, 2), strides=(2, 2), padding='same'), name='MaxPool_1_MELSPECT')(y)\n",
        "y = TimeDistributed(Dropout(0.2), name='Drop_1_MELSPECT')(y)     \n",
        "\n",
        "y = TimeDistributed(Conv2D(64, kernel_size=(3, 3), strides=(1, 1), padding='same'), name='Conv_2_MELSPECT')(y)\n",
        "y = TimeDistributed(BatchNormalization(), name='BatchNorm_2_MELSPECT')(y)\n",
        "y = TimeDistributed(Activation('elu'), name='Activ_2_MELSPECT')(y)\n",
        "y = TimeDistributed(MaxPooling2D(pool_size=(4, 4), strides=(4, 4), padding='same'), name='MaxPool_2_MELSPECT')(y)\n",
        "y = TimeDistributed(Dropout(0.2), name='Drop_2_MELSPECT')(y)\n",
        "\n",
        "y = TimeDistributed(Conv2D(128, kernel_size=(3, 3), strides=(1, 1), padding='same'), name='Conv_3_MELSPECT')(y)\n",
        "y = TimeDistributed(BatchNormalization(), name='BatchNorm_3_MELSPECT')(y)\n",
        "y = TimeDistributed(Activation('elu'), name='Activ_3_MELSPECT')(y)\n",
        "y = TimeDistributed(MaxPooling2D(pool_size=(4, 4), strides=(4, 4), padding='same'), name='MaxPool_3_MELSPECT')(y)\n",
        "y = TimeDistributed(Dropout(0.2), name='Drop_3_MELSPECT')(y)\n",
        "\n",
        "y = TimeDistributed(Conv2D(128, kernel_size=(3, 3), strides=(1, 1), padding='same'), name='Conv_4_MELSPECT')(y)\n",
        "y = TimeDistributed(BatchNormalization(), name='BatchNorm_4_MELSPECT')(y)\n",
        "y = TimeDistributed(Activation('elu'), name='Activ_4_MELSPECT')(y)\n",
        "y = TimeDistributed(MaxPooling2D(pool_size=(4, 4), strides=(4, 4), padding='same'), name='MaxPool_4_MELSPECT')(y)\n",
        "y = TimeDistributed(Dropout(0.2), name='Drop_4_MELSPECT')(y)  \n",
        "\n",
        "y = TimeDistributed(Flatten(), name='Flat_MELSPECT')(y)                                           \n",
        "# Apply 2 LSTM layer and one FC\n",
        "y = LSTM(256, return_sequences=False, dropout=0.2, name='LSTM_1')(y)\n",
        "y = Dense(y_train.shape[1], activation='softmax', name='FC')(y)\n",
        "\n",
        "# Build final model\n",
        "model = Model(inputs=input_y, outputs=y)\n",
        "model.summary()"
      ],
      "metadata": {
        "colab": {
          "base_uri": "https://localhost:8080/"
        },
        "id": "0_W4EmvTWFpH",
        "outputId": "d76d9317-74e1-43bd-9520-171c9cc22efb"
      },
      "execution_count": 9,
      "outputs": [
        {
          "output_type": "stream",
          "name": "stdout",
          "text": [
            "Model: \"model\"\n",
            "_________________________________________________________________\n",
            " Layer (type)                Output Shape              Param #   \n",
            "=================================================================\n",
            " Input_MELSPECT (InputLayer)  [(None, 1, 128, 128, 1)]  0        \n",
            "                                                                 \n",
            " Conv_1_MELSPECT (TimeDistri  (None, 1, 128, 128, 64)  640       \n",
            " buted)                                                          \n",
            "                                                                 \n",
            " BatchNorm_1_MELSPECT (TimeD  (None, 1, 128, 128, 64)  256       \n",
            " istributed)                                                     \n",
            "                                                                 \n",
            " Activ_1_MELSPECT (TimeDistr  (None, 1, 128, 128, 64)  0         \n",
            " ibuted)                                                         \n",
            "                                                                 \n",
            " MaxPool_1_MELSPECT (TimeDis  (None, 1, 64, 64, 64)    0         \n",
            " tributed)                                                       \n",
            "                                                                 \n",
            " Drop_1_MELSPECT (TimeDistri  (None, 1, 64, 64, 64)    0         \n",
            " buted)                                                          \n",
            "                                                                 \n",
            " Conv_2_MELSPECT (TimeDistri  (None, 1, 64, 64, 64)    36928     \n",
            " buted)                                                          \n",
            "                                                                 \n",
            " BatchNorm_2_MELSPECT (TimeD  (None, 1, 64, 64, 64)    256       \n",
            " istributed)                                                     \n",
            "                                                                 \n",
            " Activ_2_MELSPECT (TimeDistr  (None, 1, 64, 64, 64)    0         \n",
            " ibuted)                                                         \n",
            "                                                                 \n",
            " MaxPool_2_MELSPECT (TimeDis  (None, 1, 16, 16, 64)    0         \n",
            " tributed)                                                       \n",
            "                                                                 \n",
            " Drop_2_MELSPECT (TimeDistri  (None, 1, 16, 16, 64)    0         \n",
            " buted)                                                          \n",
            "                                                                 \n",
            " Conv_3_MELSPECT (TimeDistri  (None, 1, 16, 16, 128)   73856     \n",
            " buted)                                                          \n",
            "                                                                 \n",
            " BatchNorm_3_MELSPECT (TimeD  (None, 1, 16, 16, 128)   512       \n",
            " istributed)                                                     \n",
            "                                                                 \n",
            " Activ_3_MELSPECT (TimeDistr  (None, 1, 16, 16, 128)   0         \n",
            " ibuted)                                                         \n",
            "                                                                 \n",
            " MaxPool_3_MELSPECT (TimeDis  (None, 1, 4, 4, 128)     0         \n",
            " tributed)                                                       \n",
            "                                                                 \n",
            " Drop_3_MELSPECT (TimeDistri  (None, 1, 4, 4, 128)     0         \n",
            " buted)                                                          \n",
            "                                                                 \n",
            " Conv_4_MELSPECT (TimeDistri  (None, 1, 4, 4, 128)     147584    \n",
            " buted)                                                          \n",
            "                                                                 \n",
            " BatchNorm_4_MELSPECT (TimeD  (None, 1, 4, 4, 128)     512       \n",
            " istributed)                                                     \n",
            "                                                                 \n",
            " Activ_4_MELSPECT (TimeDistr  (None, 1, 4, 4, 128)     0         \n",
            " ibuted)                                                         \n",
            "                                                                 \n",
            " MaxPool_4_MELSPECT (TimeDis  (None, 1, 1, 1, 128)     0         \n",
            " tributed)                                                       \n",
            "                                                                 \n",
            " Drop_4_MELSPECT (TimeDistri  (None, 1, 1, 1, 128)     0         \n",
            " buted)                                                          \n",
            "                                                                 \n",
            " Flat_MELSPECT (TimeDistribu  (None, 1, 128)           0         \n",
            " ted)                                                            \n",
            "                                                                 \n",
            " LSTM_1 (LSTM)               (None, 256)               394240    \n",
            "                                                                 \n",
            " FC (Dense)                  (None, 7)                 1799      \n",
            "                                                                 \n",
            "=================================================================\n",
            "Total params: 656,583\n",
            "Trainable params: 655,815\n",
            "Non-trainable params: 768\n",
            "_________________________________________________________________\n"
          ]
        }
      ]
    },
    {
      "cell_type": "code",
      "source": [
        "gpu_options = tf.compat.v1.GPUOptions(allow_growth=True)\n",
        "session = tf.compat.v1.InteractiveSession(config=tf.compat.v1.ConfigProto(gpu_options=gpu_options))"
      ],
      "metadata": {
        "id": "bwN8vEiPWHaI"
      },
      "execution_count": 10,
      "outputs": []
    },
    {
      "cell_type": "code",
      "source": [
        "# Compile model\n",
        "model.compile(optimizer=SGD(lr=0.01, decay=1e-6, momentum=0.8), loss='categorical_crossentropy', metrics=['accuracy'])\n",
        "\n",
        "# Save best model\n",
        "best_model_save = ModelCheckpoint(file_path_model+'best_Model.hdf5', save_best_only=True, monitor='accuracy', mode='max')\n",
        "\n",
        "# Early stopping\n",
        "early_stopping = EarlyStopping(monitor='accuracy', patience=30, verbose=1, mode='max')\n",
        "\n",
        "# Fit model\n",
        "history = model.fit(X_train, y_train, batch_size=64, epochs=225, validation_data=(X_test, y_test), callbacks=[early_stopping, best_model_save,tf.keras.callbacks.CSVLogger(file_path_model+'source_history.csv')])"
      ],
      "metadata": {
        "colab": {
          "base_uri": "https://localhost:8080/"
        },
        "id": "IQyyZt8PWJ9D",
        "outputId": "ec085262-2bb9-4335-ad2d-e1076dbc1971"
      },
      "execution_count": 11,
      "outputs": [
        {
          "output_type": "stream",
          "name": "stdout",
          "text": [
            "Epoch 1/225\n",
            "152/152 [==============================] - 22s 49ms/step - loss: 1.9509 - accuracy: 0.1600 - val_loss: 1.9267 - val_accuracy: 0.1807\n",
            "Epoch 2/225\n",
            "152/152 [==============================] - 6s 42ms/step - loss: 1.9191 - accuracy: 0.1949 - val_loss: 1.9043 - val_accuracy: 0.1964\n",
            "Epoch 3/225\n",
            "152/152 [==============================] - 6s 42ms/step - loss: 1.8746 - accuracy: 0.2233 - val_loss: 1.8726 - val_accuracy: 0.2055\n",
            "Epoch 4/225\n",
            "152/152 [==============================] - 7s 43ms/step - loss: 1.8504 - accuracy: 0.2348 - val_loss: 1.8479 - val_accuracy: 0.2316\n",
            "Epoch 5/225\n",
            "152/152 [==============================] - 6s 42ms/step - loss: 1.8301 - accuracy: 0.2457 - val_loss: 1.8277 - val_accuracy: 0.2386\n",
            "Epoch 6/225\n",
            "152/152 [==============================] - 6s 42ms/step - loss: 1.8137 - accuracy: 0.2567 - val_loss: 1.8104 - val_accuracy: 0.2531\n",
            "Epoch 7/225\n",
            "152/152 [==============================] - 6s 42ms/step - loss: 1.7996 - accuracy: 0.2638 - val_loss: 1.8038 - val_accuracy: 0.2523\n",
            "Epoch 8/225\n",
            "152/152 [==============================] - 6s 42ms/step - loss: 1.7802 - accuracy: 0.2712 - val_loss: 1.7726 - val_accuracy: 0.2796\n",
            "Epoch 9/225\n",
            "152/152 [==============================] - 6s 42ms/step - loss: 1.7709 - accuracy: 0.2742 - val_loss: 1.7523 - val_accuracy: 0.2783\n",
            "Epoch 10/225\n",
            "152/152 [==============================] - 6s 42ms/step - loss: 1.7498 - accuracy: 0.2867 - val_loss: 1.7320 - val_accuracy: 0.3052\n",
            "Epoch 11/225\n",
            "152/152 [==============================] - 6s 42ms/step - loss: 1.7371 - accuracy: 0.2902 - val_loss: 1.7244 - val_accuracy: 0.2878\n",
            "Epoch 12/225\n",
            "152/152 [==============================] - 6s 42ms/step - loss: 1.7254 - accuracy: 0.2965 - val_loss: 1.7283 - val_accuracy: 0.2903\n",
            "Epoch 13/225\n",
            "152/152 [==============================] - 6s 42ms/step - loss: 1.7149 - accuracy: 0.3070 - val_loss: 1.7125 - val_accuracy: 0.2928\n",
            "Epoch 14/225\n",
            "152/152 [==============================] - 6s 42ms/step - loss: 1.6967 - accuracy: 0.3093 - val_loss: 1.7080 - val_accuracy: 0.2887\n",
            "Epoch 15/225\n",
            "152/152 [==============================] - 6s 42ms/step - loss: 1.6916 - accuracy: 0.3164 - val_loss: 1.6881 - val_accuracy: 0.3073\n",
            "Epoch 16/225\n",
            "152/152 [==============================] - 6s 41ms/step - loss: 1.6773 - accuracy: 0.3164 - val_loss: 1.6722 - val_accuracy: 0.3052\n",
            "Epoch 17/225\n",
            "152/152 [==============================] - 6s 42ms/step - loss: 1.6620 - accuracy: 0.3286 - val_loss: 1.6698 - val_accuracy: 0.3172\n",
            "Epoch 18/225\n",
            "152/152 [==============================] - 6s 41ms/step - loss: 1.6623 - accuracy: 0.3206 - val_loss: 1.6709 - val_accuracy: 0.3040\n",
            "Epoch 19/225\n",
            "152/152 [==============================] - 7s 43ms/step - loss: 1.6432 - accuracy: 0.3359 - val_loss: 1.6427 - val_accuracy: 0.3288\n",
            "Epoch 20/225\n",
            "152/152 [==============================] - 6s 43ms/step - loss: 1.6398 - accuracy: 0.3445 - val_loss: 1.7013 - val_accuracy: 0.2965\n",
            "Epoch 21/225\n",
            "152/152 [==============================] - 6s 42ms/step - loss: 1.6246 - accuracy: 0.3453 - val_loss: 1.6309 - val_accuracy: 0.3304\n",
            "Epoch 22/225\n",
            "152/152 [==============================] - 6s 41ms/step - loss: 1.6151 - accuracy: 0.3436 - val_loss: 1.6281 - val_accuracy: 0.3412\n",
            "Epoch 23/225\n",
            "152/152 [==============================] - 6s 41ms/step - loss: 1.6098 - accuracy: 0.3426 - val_loss: 1.7268 - val_accuracy: 0.3036\n",
            "Epoch 24/225\n",
            "152/152 [==============================] - 7s 43ms/step - loss: 1.6022 - accuracy: 0.3517 - val_loss: 1.6239 - val_accuracy: 0.3168\n",
            "Epoch 25/225\n",
            "152/152 [==============================] - 6s 42ms/step - loss: 1.5880 - accuracy: 0.3635 - val_loss: 1.6436 - val_accuracy: 0.3284\n",
            "Epoch 26/225\n",
            "152/152 [==============================] - 6s 41ms/step - loss: 1.5789 - accuracy: 0.3551 - val_loss: 1.6015 - val_accuracy: 0.3383\n",
            "Epoch 27/225\n",
            "152/152 [==============================] - 6s 43ms/step - loss: 1.5590 - accuracy: 0.3750 - val_loss: 1.8163 - val_accuracy: 0.2705\n",
            "Epoch 28/225\n",
            "152/152 [==============================] - 6s 41ms/step - loss: 1.5667 - accuracy: 0.3662 - val_loss: 1.6150 - val_accuracy: 0.3441\n",
            "Epoch 29/225\n",
            "152/152 [==============================] - 7s 43ms/step - loss: 1.5451 - accuracy: 0.3824 - val_loss: 1.7368 - val_accuracy: 0.2974\n",
            "Epoch 30/225\n",
            "152/152 [==============================] - 7s 43ms/step - loss: 1.5318 - accuracy: 0.3832 - val_loss: 1.7772 - val_accuracy: 0.2891\n",
            "Epoch 31/225\n",
            "152/152 [==============================] - 6s 41ms/step - loss: 1.5381 - accuracy: 0.3803 - val_loss: 1.6351 - val_accuracy: 0.3284\n",
            "Epoch 32/225\n",
            "152/152 [==============================] - 6s 43ms/step - loss: 1.5244 - accuracy: 0.3851 - val_loss: 1.6122 - val_accuracy: 0.3354\n",
            "Epoch 33/225\n",
            "152/152 [==============================] - 6s 42ms/step - loss: 1.5054 - accuracy: 0.3958 - val_loss: 1.7195 - val_accuracy: 0.2957\n",
            "Epoch 34/225\n",
            "152/152 [==============================] - 6s 41ms/step - loss: 1.4975 - accuracy: 0.3944 - val_loss: 1.5885 - val_accuracy: 0.3503\n",
            "Epoch 35/225\n",
            "152/152 [==============================] - 7s 43ms/step - loss: 1.4818 - accuracy: 0.4092 - val_loss: 1.5388 - val_accuracy: 0.3693\n",
            "Epoch 36/225\n",
            "152/152 [==============================] - 6s 42ms/step - loss: 1.4744 - accuracy: 0.4109 - val_loss: 1.5616 - val_accuracy: 0.3573\n",
            "Epoch 37/225\n",
            "152/152 [==============================] - 6s 42ms/step - loss: 1.4693 - accuracy: 0.4123 - val_loss: 1.7142 - val_accuracy: 0.3218\n",
            "Epoch 38/225\n",
            "152/152 [==============================] - 6s 42ms/step - loss: 1.4547 - accuracy: 0.4193 - val_loss: 1.6705 - val_accuracy: 0.3259\n",
            "Epoch 39/225\n",
            "152/152 [==============================] - 6s 42ms/step - loss: 1.4426 - accuracy: 0.4285 - val_loss: 1.5536 - val_accuracy: 0.3445\n",
            "Epoch 40/225\n",
            "152/152 [==============================] - 6s 42ms/step - loss: 1.4277 - accuracy: 0.4325 - val_loss: 1.5456 - val_accuracy: 0.3619\n",
            "Epoch 41/225\n",
            "152/152 [==============================] - 6s 42ms/step - loss: 1.4182 - accuracy: 0.4414 - val_loss: 1.5274 - val_accuracy: 0.3660\n",
            "Epoch 42/225\n",
            "152/152 [==============================] - 6s 41ms/step - loss: 1.4043 - accuracy: 0.4344 - val_loss: 1.6212 - val_accuracy: 0.3404\n",
            "Epoch 43/225\n",
            "152/152 [==============================] - 6s 43ms/step - loss: 1.3977 - accuracy: 0.4467 - val_loss: 1.5819 - val_accuracy: 0.3544\n",
            "Epoch 44/225\n",
            "152/152 [==============================] - 6s 42ms/step - loss: 1.3868 - accuracy: 0.4468 - val_loss: 1.5207 - val_accuracy: 0.3941\n",
            "Epoch 45/225\n",
            "152/152 [==============================] - 6s 42ms/step - loss: 1.3655 - accuracy: 0.4550 - val_loss: 1.5071 - val_accuracy: 0.3925\n",
            "Epoch 46/225\n",
            "152/152 [==============================] - 6s 41ms/step - loss: 1.3683 - accuracy: 0.4493 - val_loss: 1.6312 - val_accuracy: 0.3660\n",
            "Epoch 47/225\n",
            "152/152 [==============================] - 6s 43ms/step - loss: 1.3606 - accuracy: 0.4624 - val_loss: 1.4729 - val_accuracy: 0.3978\n",
            "Epoch 48/225\n",
            "152/152 [==============================] - 6s 41ms/step - loss: 1.3519 - accuracy: 0.4620 - val_loss: 1.4584 - val_accuracy: 0.4065\n",
            "Epoch 49/225\n",
            "152/152 [==============================] - 6s 43ms/step - loss: 1.3390 - accuracy: 0.4645 - val_loss: 1.5485 - val_accuracy: 0.3755\n",
            "Epoch 50/225\n",
            "152/152 [==============================] - 6s 42ms/step - loss: 1.3290 - accuracy: 0.4705 - val_loss: 1.5438 - val_accuracy: 0.3838\n",
            "Epoch 51/225\n",
            "152/152 [==============================] - 6s 42ms/step - loss: 1.3199 - accuracy: 0.4776 - val_loss: 1.4728 - val_accuracy: 0.3987\n",
            "Epoch 52/225\n",
            "152/152 [==============================] - 6s 42ms/step - loss: 1.3040 - accuracy: 0.4895 - val_loss: 1.4819 - val_accuracy: 0.4024\n",
            "Epoch 53/225\n",
            "152/152 [==============================] - 6s 41ms/step - loss: 1.3005 - accuracy: 0.4850 - val_loss: 1.4499 - val_accuracy: 0.4140\n",
            "Epoch 54/225\n",
            "152/152 [==============================] - 6s 43ms/step - loss: 1.2799 - accuracy: 0.4883 - val_loss: 1.7529 - val_accuracy: 0.3557\n",
            "Epoch 55/225\n",
            "152/152 [==============================] - 7s 43ms/step - loss: 1.2697 - accuracy: 0.4964 - val_loss: 1.4657 - val_accuracy: 0.4045\n",
            "Epoch 56/225\n",
            "152/152 [==============================] - 6s 42ms/step - loss: 1.2631 - accuracy: 0.4990 - val_loss: 1.4452 - val_accuracy: 0.4107\n",
            "Epoch 57/225\n",
            "152/152 [==============================] - 6s 42ms/step - loss: 1.2523 - accuracy: 0.5021 - val_loss: 1.4990 - val_accuracy: 0.3958\n",
            "Epoch 58/225\n",
            "152/152 [==============================] - 6s 42ms/step - loss: 1.2464 - accuracy: 0.5055 - val_loss: 1.4435 - val_accuracy: 0.4169\n",
            "Epoch 59/225\n",
            "152/152 [==============================] - 6s 42ms/step - loss: 1.2362 - accuracy: 0.5123 - val_loss: 1.4418 - val_accuracy: 0.4132\n",
            "Epoch 60/225\n",
            "152/152 [==============================] - 7s 44ms/step - loss: 1.2168 - accuracy: 0.5170 - val_loss: 1.5148 - val_accuracy: 0.3825\n",
            "Epoch 61/225\n",
            "152/152 [==============================] - 6s 42ms/step - loss: 1.2140 - accuracy: 0.5210 - val_loss: 1.4952 - val_accuracy: 0.4069\n",
            "Epoch 62/225\n",
            "152/152 [==============================] - 6s 42ms/step - loss: 1.2070 - accuracy: 0.5241 - val_loss: 1.4766 - val_accuracy: 0.4074\n",
            "Epoch 63/225\n",
            "152/152 [==============================] - 6s 42ms/step - loss: 1.1901 - accuracy: 0.5299 - val_loss: 1.5417 - val_accuracy: 0.3962\n",
            "Epoch 64/225\n",
            "152/152 [==============================] - 6s 42ms/step - loss: 1.1894 - accuracy: 0.5318 - val_loss: 1.5070 - val_accuracy: 0.4024\n",
            "Epoch 65/225\n",
            "152/152 [==============================] - 6s 42ms/step - loss: 1.1660 - accuracy: 0.5371 - val_loss: 1.4738 - val_accuracy: 0.4024\n",
            "Epoch 66/225\n",
            "152/152 [==============================] - 6s 41ms/step - loss: 1.1634 - accuracy: 0.5355 - val_loss: 1.5244 - val_accuracy: 0.4032\n",
            "Epoch 67/225\n",
            "152/152 [==============================] - 7s 43ms/step - loss: 1.1335 - accuracy: 0.5498 - val_loss: 1.5718 - val_accuracy: 0.4036\n",
            "Epoch 68/225\n",
            "152/152 [==============================] - 6s 42ms/step - loss: 1.1300 - accuracy: 0.5591 - val_loss: 1.4479 - val_accuracy: 0.4256\n",
            "Epoch 69/225\n",
            "152/152 [==============================] - 6s 42ms/step - loss: 1.1232 - accuracy: 0.5592 - val_loss: 1.4034 - val_accuracy: 0.4318\n",
            "Epoch 70/225\n",
            "152/152 [==============================] - 6s 42ms/step - loss: 1.1076 - accuracy: 0.5632 - val_loss: 1.5283 - val_accuracy: 0.4090\n",
            "Epoch 71/225\n",
            "152/152 [==============================] - 6s 41ms/step - loss: 1.1123 - accuracy: 0.5593 - val_loss: 1.4572 - val_accuracy: 0.4367\n",
            "Epoch 72/225\n",
            "152/152 [==============================] - 6s 42ms/step - loss: 1.0946 - accuracy: 0.5703 - val_loss: 1.3799 - val_accuracy: 0.4417\n",
            "Epoch 73/225\n",
            "152/152 [==============================] - 6s 42ms/step - loss: 1.0845 - accuracy: 0.5744 - val_loss: 1.5246 - val_accuracy: 0.4202\n",
            "Epoch 74/225\n",
            "152/152 [==============================] - 6s 42ms/step - loss: 1.0652 - accuracy: 0.5818 - val_loss: 1.4504 - val_accuracy: 0.4318\n",
            "Epoch 75/225\n",
            "152/152 [==============================] - 6s 42ms/step - loss: 1.0465 - accuracy: 0.5908 - val_loss: 1.4115 - val_accuracy: 0.4297\n",
            "Epoch 76/225\n",
            "152/152 [==============================] - 6s 41ms/step - loss: 1.0519 - accuracy: 0.5871 - val_loss: 1.4215 - val_accuracy: 0.4404\n",
            "Epoch 77/225\n",
            "152/152 [==============================] - 6s 41ms/step - loss: 1.0384 - accuracy: 0.5900 - val_loss: 1.4004 - val_accuracy: 0.4520\n",
            "Epoch 78/225\n",
            "152/152 [==============================] - 7s 43ms/step - loss: 1.0281 - accuracy: 0.5927 - val_loss: 1.5098 - val_accuracy: 0.4326\n",
            "Epoch 79/225\n",
            "152/152 [==============================] - 6s 42ms/step - loss: 1.0153 - accuracy: 0.5992 - val_loss: 1.3817 - val_accuracy: 0.4636\n",
            "Epoch 80/225\n",
            "152/152 [==============================] - 6s 42ms/step - loss: 1.0076 - accuracy: 0.6018 - val_loss: 1.3713 - val_accuracy: 0.4624\n",
            "Epoch 81/225\n",
            "152/152 [==============================] - 6s 42ms/step - loss: 0.9974 - accuracy: 0.6089 - val_loss: 1.3746 - val_accuracy: 0.4574\n",
            "Epoch 82/225\n",
            "152/152 [==============================] - 6s 42ms/step - loss: 0.9879 - accuracy: 0.6102 - val_loss: 1.3696 - val_accuracy: 0.4624\n",
            "Epoch 83/225\n",
            "152/152 [==============================] - 6s 42ms/step - loss: 0.9736 - accuracy: 0.6181 - val_loss: 1.5800 - val_accuracy: 0.4194\n",
            "Epoch 84/225\n",
            "152/152 [==============================] - 6s 42ms/step - loss: 0.9538 - accuracy: 0.6295 - val_loss: 1.4315 - val_accuracy: 0.4433\n",
            "Epoch 85/225\n",
            "152/152 [==============================] - 6s 41ms/step - loss: 0.9508 - accuracy: 0.6290 - val_loss: 1.4943 - val_accuracy: 0.4442\n",
            "Epoch 86/225\n",
            "152/152 [==============================] - 7s 43ms/step - loss: 0.9356 - accuracy: 0.6316 - val_loss: 1.3390 - val_accuracy: 0.4735\n",
            "Epoch 87/225\n",
            "152/152 [==============================] - 6s 42ms/step - loss: 0.9347 - accuracy: 0.6335 - val_loss: 1.4379 - val_accuracy: 0.4545\n",
            "Epoch 88/225\n",
            "152/152 [==============================] - 6s 42ms/step - loss: 0.9260 - accuracy: 0.6394 - val_loss: 1.4170 - val_accuracy: 0.4818\n",
            "Epoch 89/225\n",
            "152/152 [==============================] - 6s 42ms/step - loss: 0.9107 - accuracy: 0.6417 - val_loss: 1.4227 - val_accuracy: 0.4578\n",
            "Epoch 90/225\n",
            "152/152 [==============================] - 6s 42ms/step - loss: 0.9019 - accuracy: 0.6464 - val_loss: 1.5008 - val_accuracy: 0.4508\n",
            "Epoch 91/225\n",
            "152/152 [==============================] - 6s 42ms/step - loss: 0.8939 - accuracy: 0.6484 - val_loss: 1.4240 - val_accuracy: 0.4690\n",
            "Epoch 92/225\n",
            "152/152 [==============================] - 6s 42ms/step - loss: 0.8927 - accuracy: 0.6508 - val_loss: 1.3500 - val_accuracy: 0.4892\n",
            "Epoch 93/225\n",
            "152/152 [==============================] - 7s 43ms/step - loss: 0.8671 - accuracy: 0.6603 - val_loss: 1.4569 - val_accuracy: 0.4578\n",
            "Epoch 94/225\n",
            "152/152 [==============================] - 6s 42ms/step - loss: 0.8538 - accuracy: 0.6678 - val_loss: 1.3945 - val_accuracy: 0.4773\n",
            "Epoch 95/225\n",
            "152/152 [==============================] - 6s 42ms/step - loss: 0.8491 - accuracy: 0.6686 - val_loss: 1.3880 - val_accuracy: 0.4888\n",
            "Epoch 96/225\n",
            "152/152 [==============================] - 6s 42ms/step - loss: 0.8425 - accuracy: 0.6708 - val_loss: 1.5932 - val_accuracy: 0.4400\n",
            "Epoch 97/225\n",
            "152/152 [==============================] - 6s 42ms/step - loss: 0.8249 - accuracy: 0.6744 - val_loss: 1.4212 - val_accuracy: 0.4698\n",
            "Epoch 98/225\n",
            "152/152 [==============================] - 6s 42ms/step - loss: 0.8185 - accuracy: 0.6812 - val_loss: 1.4276 - val_accuracy: 0.4744\n",
            "Epoch 99/225\n",
            "152/152 [==============================] - 6s 41ms/step - loss: 0.8164 - accuracy: 0.6798 - val_loss: 1.4382 - val_accuracy: 0.4930\n",
            "Epoch 100/225\n",
            "152/152 [==============================] - 6s 41ms/step - loss: 0.8224 - accuracy: 0.6768 - val_loss: 1.4143 - val_accuracy: 0.4864\n",
            "Epoch 101/225\n",
            "152/152 [==============================] - 7s 43ms/step - loss: 0.7925 - accuracy: 0.6901 - val_loss: 1.4279 - val_accuracy: 0.4955\n",
            "Epoch 102/225\n",
            "152/152 [==============================] - 6s 41ms/step - loss: 0.8087 - accuracy: 0.6801 - val_loss: 1.4170 - val_accuracy: 0.4822\n",
            "Epoch 103/225\n",
            "152/152 [==============================] - 6s 43ms/step - loss: 0.7755 - accuracy: 0.6945 - val_loss: 1.3967 - val_accuracy: 0.5017\n",
            "Epoch 104/225\n",
            "152/152 [==============================] - 6s 41ms/step - loss: 0.7783 - accuracy: 0.6942 - val_loss: 1.3780 - val_accuracy: 0.4942\n",
            "Epoch 105/225\n",
            "152/152 [==============================] - 7s 44ms/step - loss: 0.7770 - accuracy: 0.6954 - val_loss: 1.5108 - val_accuracy: 0.4719\n",
            "Epoch 106/225\n",
            "152/152 [==============================] - 6s 42ms/step - loss: 0.7668 - accuracy: 0.6970 - val_loss: 1.3995 - val_accuracy: 0.4959\n",
            "Epoch 107/225\n",
            "152/152 [==============================] - 6s 42ms/step - loss: 0.7500 - accuracy: 0.7093 - val_loss: 1.6189 - val_accuracy: 0.4334\n",
            "Epoch 108/225\n",
            "152/152 [==============================] - 6s 41ms/step - loss: 0.7557 - accuracy: 0.7023 - val_loss: 1.3843 - val_accuracy: 0.4938\n",
            "Epoch 109/225\n",
            "152/152 [==============================] - 6s 41ms/step - loss: 0.7471 - accuracy: 0.7062 - val_loss: 1.5773 - val_accuracy: 0.4752\n",
            "Epoch 110/225\n",
            "152/152 [==============================] - 6s 41ms/step - loss: 0.7436 - accuracy: 0.7063 - val_loss: 1.4489 - val_accuracy: 0.5050\n",
            "Epoch 111/225\n",
            "152/152 [==============================] - 7s 43ms/step - loss: 0.7268 - accuracy: 0.7166 - val_loss: 2.0107 - val_accuracy: 0.4061\n",
            "Epoch 112/225\n",
            "152/152 [==============================] - 6s 41ms/step - loss: 0.7548 - accuracy: 0.7046 - val_loss: 1.4302 - val_accuracy: 0.5000\n",
            "Epoch 113/225\n",
            "152/152 [==============================] - 6s 41ms/step - loss: 0.7240 - accuracy: 0.7137 - val_loss: 1.4665 - val_accuracy: 0.5062\n",
            "Epoch 114/225\n",
            "152/152 [==============================] - 7s 43ms/step - loss: 0.7158 - accuracy: 0.7188 - val_loss: 1.6561 - val_accuracy: 0.4653\n",
            "Epoch 115/225\n",
            "152/152 [==============================] - 6s 43ms/step - loss: 0.7147 - accuracy: 0.7214 - val_loss: 1.4005 - val_accuracy: 0.5095\n",
            "Epoch 116/225\n",
            "152/152 [==============================] - 6s 42ms/step - loss: 0.7017 - accuracy: 0.7282 - val_loss: 1.4706 - val_accuracy: 0.4876\n",
            "Epoch 117/225\n",
            "152/152 [==============================] - 6s 42ms/step - loss: 0.6963 - accuracy: 0.7294 - val_loss: 1.4402 - val_accuracy: 0.5062\n",
            "Epoch 118/225\n",
            "152/152 [==============================] - 6s 41ms/step - loss: 0.6972 - accuracy: 0.7262 - val_loss: 1.6611 - val_accuracy: 0.4764\n",
            "Epoch 119/225\n",
            "152/152 [==============================] - 6s 41ms/step - loss: 0.6925 - accuracy: 0.7255 - val_loss: 1.4707 - val_accuracy: 0.5045\n",
            "Epoch 120/225\n",
            "152/152 [==============================] - 6s 41ms/step - loss: 0.6898 - accuracy: 0.7246 - val_loss: 1.5334 - val_accuracy: 0.4818\n",
            "Epoch 121/225\n",
            "152/152 [==============================] - 7s 43ms/step - loss: 0.6843 - accuracy: 0.7350 - val_loss: 1.4623 - val_accuracy: 0.4971\n",
            "Epoch 122/225\n",
            "152/152 [==============================] - 6s 42ms/step - loss: 0.6707 - accuracy: 0.7392 - val_loss: 1.5060 - val_accuracy: 0.4801\n",
            "Epoch 123/225\n",
            "152/152 [==============================] - 6s 41ms/step - loss: 0.6748 - accuracy: 0.7339 - val_loss: 1.6392 - val_accuracy: 0.4533\n",
            "Epoch 124/225\n",
            "152/152 [==============================] - 6s 41ms/step - loss: 0.6739 - accuracy: 0.7359 - val_loss: 1.4622 - val_accuracy: 0.4992\n",
            "Epoch 125/225\n",
            "152/152 [==============================] - 6s 41ms/step - loss: 0.6645 - accuracy: 0.7371 - val_loss: 1.5182 - val_accuracy: 0.4983\n",
            "Epoch 126/225\n",
            "152/152 [==============================] - 7s 43ms/step - loss: 0.6555 - accuracy: 0.7423 - val_loss: 1.4609 - val_accuracy: 0.5116\n",
            "Epoch 127/225\n",
            "152/152 [==============================] - 6s 42ms/step - loss: 0.6592 - accuracy: 0.7468 - val_loss: 1.6082 - val_accuracy: 0.4773\n",
            "Epoch 128/225\n",
            "152/152 [==============================] - 6s 42ms/step - loss: 0.6521 - accuracy: 0.7436 - val_loss: 1.5345 - val_accuracy: 0.4901\n",
            "Epoch 129/225\n",
            "152/152 [==============================] - 6s 42ms/step - loss: 0.6509 - accuracy: 0.7462 - val_loss: 1.5420 - val_accuracy: 0.5017\n",
            "Epoch 130/225\n",
            "152/152 [==============================] - 6s 41ms/step - loss: 0.6541 - accuracy: 0.7430 - val_loss: 1.5046 - val_accuracy: 0.5099\n",
            "Epoch 131/225\n",
            "152/152 [==============================] - 6s 41ms/step - loss: 0.6562 - accuracy: 0.7447 - val_loss: 1.4685 - val_accuracy: 0.5079\n",
            "Epoch 132/225\n",
            "152/152 [==============================] - 7s 43ms/step - loss: 0.6401 - accuracy: 0.7492 - val_loss: 1.4898 - val_accuracy: 0.4971\n",
            "Epoch 133/225\n",
            "152/152 [==============================] - 6s 41ms/step - loss: 0.6353 - accuracy: 0.7487 - val_loss: 1.5512 - val_accuracy: 0.4917\n",
            "Epoch 134/225\n",
            "152/152 [==============================] - 6s 43ms/step - loss: 0.6320 - accuracy: 0.7545 - val_loss: 1.6926 - val_accuracy: 0.4727\n",
            "Epoch 135/225\n",
            "152/152 [==============================] - 6s 41ms/step - loss: 0.6328 - accuracy: 0.7530 - val_loss: 1.5339 - val_accuracy: 0.4963\n",
            "Epoch 136/225\n",
            "152/152 [==============================] - 6s 42ms/step - loss: 0.6280 - accuracy: 0.7528 - val_loss: 1.7318 - val_accuracy: 0.4632\n",
            "Epoch 137/225\n",
            "152/152 [==============================] - 6s 41ms/step - loss: 0.6338 - accuracy: 0.7519 - val_loss: 1.5482 - val_accuracy: 0.5004\n",
            "Epoch 138/225\n",
            "152/152 [==============================] - 7s 43ms/step - loss: 0.6260 - accuracy: 0.7593 - val_loss: 1.5815 - val_accuracy: 0.4864\n",
            "Epoch 139/225\n",
            "152/152 [==============================] - 6s 41ms/step - loss: 0.6294 - accuracy: 0.7539 - val_loss: 1.4924 - val_accuracy: 0.5070\n",
            "Epoch 140/225\n",
            "152/152 [==============================] - 6s 41ms/step - loss: 0.6177 - accuracy: 0.7590 - val_loss: 1.5351 - val_accuracy: 0.5074\n",
            "Epoch 141/225\n",
            "152/152 [==============================] - 6s 41ms/step - loss: 0.6189 - accuracy: 0.7562 - val_loss: 1.4925 - val_accuracy: 0.5170\n",
            "Epoch 142/225\n",
            "152/152 [==============================] - 6s 41ms/step - loss: 0.6210 - accuracy: 0.7544 - val_loss: 1.5017 - val_accuracy: 0.5021\n",
            "Epoch 143/225\n",
            "152/152 [==============================] - 7s 43ms/step - loss: 0.6176 - accuracy: 0.7613 - val_loss: 1.5115 - val_accuracy: 0.5161\n",
            "Epoch 144/225\n",
            "152/152 [==============================] - 6s 41ms/step - loss: 0.6211 - accuracy: 0.7570 - val_loss: 1.4813 - val_accuracy: 0.5190\n",
            "Epoch 145/225\n",
            "152/152 [==============================] - 7s 43ms/step - loss: 0.6025 - accuracy: 0.7663 - val_loss: 1.6446 - val_accuracy: 0.5037\n",
            "Epoch 146/225\n",
            "152/152 [==============================] - 6s 41ms/step - loss: 0.6101 - accuracy: 0.7616 - val_loss: 1.5624 - val_accuracy: 0.5066\n",
            "Epoch 147/225\n",
            "152/152 [==============================] - 6s 41ms/step - loss: 0.6086 - accuracy: 0.7610 - val_loss: 1.4689 - val_accuracy: 0.5352\n",
            "Epoch 148/225\n",
            "152/152 [==============================] - 7s 43ms/step - loss: 0.5980 - accuracy: 0.7700 - val_loss: 1.6768 - val_accuracy: 0.4921\n",
            "Epoch 149/225\n",
            "152/152 [==============================] - 6s 41ms/step - loss: 0.6005 - accuracy: 0.7677 - val_loss: 1.5110 - val_accuracy: 0.5161\n",
            "Epoch 150/225\n",
            "152/152 [==============================] - 6s 41ms/step - loss: 0.5943 - accuracy: 0.7680 - val_loss: 1.4916 - val_accuracy: 0.5368\n",
            "Epoch 151/225\n",
            "152/152 [==============================] - 6s 41ms/step - loss: 0.5861 - accuracy: 0.7680 - val_loss: 1.5237 - val_accuracy: 0.5269\n",
            "Epoch 152/225\n",
            "152/152 [==============================] - 7s 43ms/step - loss: 0.5829 - accuracy: 0.7735 - val_loss: 1.5502 - val_accuracy: 0.5132\n",
            "Epoch 153/225\n",
            "152/152 [==============================] - 6s 41ms/step - loss: 0.5865 - accuracy: 0.7722 - val_loss: 1.5848 - val_accuracy: 0.5066\n",
            "Epoch 154/225\n",
            "152/152 [==============================] - 6s 43ms/step - loss: 0.5840 - accuracy: 0.7739 - val_loss: 1.5595 - val_accuracy: 0.5149\n",
            "Epoch 155/225\n",
            "152/152 [==============================] - 6s 42ms/step - loss: 0.5798 - accuracy: 0.7744 - val_loss: 1.6279 - val_accuracy: 0.5124\n",
            "Epoch 156/225\n",
            "152/152 [==============================] - 6s 41ms/step - loss: 0.5783 - accuracy: 0.7742 - val_loss: 1.5115 - val_accuracy: 0.5223\n",
            "Epoch 157/225\n",
            "152/152 [==============================] - 7s 43ms/step - loss: 0.5692 - accuracy: 0.7782 - val_loss: 1.5180 - val_accuracy: 0.5232\n",
            "Epoch 158/225\n",
            "152/152 [==============================] - 6s 42ms/step - loss: 0.5737 - accuracy: 0.7795 - val_loss: 1.6124 - val_accuracy: 0.5132\n",
            "Epoch 159/225\n",
            "152/152 [==============================] - 6s 42ms/step - loss: 0.5772 - accuracy: 0.7805 - val_loss: 1.5419 - val_accuracy: 0.5232\n",
            "Epoch 160/225\n",
            "152/152 [==============================] - 6s 42ms/step - loss: 0.5627 - accuracy: 0.7838 - val_loss: 1.6222 - val_accuracy: 0.5103\n",
            "Epoch 161/225\n",
            "152/152 [==============================] - 6s 41ms/step - loss: 0.5696 - accuracy: 0.7797 - val_loss: 1.5444 - val_accuracy: 0.5194\n",
            "Epoch 162/225\n",
            "152/152 [==============================] - 6s 41ms/step - loss: 0.5691 - accuracy: 0.7793 - val_loss: 1.5506 - val_accuracy: 0.5265\n",
            "Epoch 163/225\n",
            "152/152 [==============================] - 6s 41ms/step - loss: 0.5695 - accuracy: 0.7831 - val_loss: 1.5936 - val_accuracy: 0.5215\n",
            "Epoch 164/225\n",
            "152/152 [==============================] - 7s 43ms/step - loss: 0.5555 - accuracy: 0.7892 - val_loss: 1.6925 - val_accuracy: 0.4979\n",
            "Epoch 165/225\n",
            "152/152 [==============================] - 6s 41ms/step - loss: 0.5694 - accuracy: 0.7819 - val_loss: 1.4783 - val_accuracy: 0.5199\n",
            "Epoch 166/225\n",
            "152/152 [==============================] - 6s 41ms/step - loss: 0.5638 - accuracy: 0.7828 - val_loss: 1.5204 - val_accuracy: 0.5261\n",
            "Epoch 167/225\n",
            "152/152 [==============================] - 6s 41ms/step - loss: 0.5578 - accuracy: 0.7859 - val_loss: 1.5805 - val_accuracy: 0.5037\n",
            "Epoch 168/225\n",
            "152/152 [==============================] - 7s 43ms/step - loss: 0.5430 - accuracy: 0.7899 - val_loss: 1.7319 - val_accuracy: 0.4971\n",
            "Epoch 169/225\n",
            "152/152 [==============================] - 6s 41ms/step - loss: 0.5510 - accuracy: 0.7883 - val_loss: 1.6824 - val_accuracy: 0.5050\n",
            "Epoch 170/225\n",
            "152/152 [==============================] - 6s 41ms/step - loss: 0.5530 - accuracy: 0.7873 - val_loss: 1.5514 - val_accuracy: 0.5227\n",
            "Epoch 171/225\n",
            "152/152 [==============================] - 7s 43ms/step - loss: 0.5444 - accuracy: 0.7913 - val_loss: 1.5293 - val_accuracy: 0.5285\n",
            "Epoch 172/225\n",
            "152/152 [==============================] - 6s 42ms/step - loss: 0.5467 - accuracy: 0.7951 - val_loss: 1.6701 - val_accuracy: 0.5145\n",
            "Epoch 173/225\n",
            "152/152 [==============================] - 6s 41ms/step - loss: 0.5326 - accuracy: 0.7941 - val_loss: 1.4966 - val_accuracy: 0.5285\n",
            "Epoch 174/225\n",
            "152/152 [==============================] - 6s 43ms/step - loss: 0.5380 - accuracy: 0.7965 - val_loss: 1.5588 - val_accuracy: 0.5314\n",
            "Epoch 175/225\n",
            "152/152 [==============================] - 6s 42ms/step - loss: 0.5360 - accuracy: 0.7976 - val_loss: 1.5711 - val_accuracy: 0.5227\n",
            "Epoch 176/225\n",
            "152/152 [==============================] - 6s 41ms/step - loss: 0.5335 - accuracy: 0.7957 - val_loss: 1.5422 - val_accuracy: 0.5219\n",
            "Epoch 177/225\n",
            "152/152 [==============================] - 7s 43ms/step - loss: 0.5216 - accuracy: 0.8012 - val_loss: 1.6102 - val_accuracy: 0.5215\n",
            "Epoch 178/225\n",
            "152/152 [==============================] - 6s 41ms/step - loss: 0.5330 - accuracy: 0.7961 - val_loss: 1.6184 - val_accuracy: 0.5302\n",
            "Epoch 179/225\n",
            "152/152 [==============================] - 6s 41ms/step - loss: 0.5345 - accuracy: 0.7931 - val_loss: 1.7011 - val_accuracy: 0.5087\n",
            "Epoch 180/225\n",
            "152/152 [==============================] - 6s 41ms/step - loss: 0.5353 - accuracy: 0.7941 - val_loss: 1.6867 - val_accuracy: 0.5041\n",
            "Epoch 181/225\n",
            "152/152 [==============================] - 6s 41ms/step - loss: 0.5272 - accuracy: 0.7995 - val_loss: 1.6230 - val_accuracy: 0.5203\n",
            "Epoch 182/225\n",
            "152/152 [==============================] - 6s 41ms/step - loss: 0.5275 - accuracy: 0.7963 - val_loss: 1.5976 - val_accuracy: 0.5252\n",
            "Epoch 183/225\n",
            "152/152 [==============================] - 6s 41ms/step - loss: 0.5212 - accuracy: 0.8008 - val_loss: 1.5807 - val_accuracy: 0.5335\n",
            "Epoch 184/225\n",
            "152/152 [==============================] - 7s 43ms/step - loss: 0.5061 - accuracy: 0.8082 - val_loss: 1.7436 - val_accuracy: 0.5017\n",
            "Epoch 185/225\n",
            "152/152 [==============================] - 6s 41ms/step - loss: 0.5148 - accuracy: 0.8046 - val_loss: 1.5729 - val_accuracy: 0.5203\n",
            "Epoch 186/225\n",
            "152/152 [==============================] - 6s 41ms/step - loss: 0.5192 - accuracy: 0.8016 - val_loss: 1.6789 - val_accuracy: 0.5079\n",
            "Epoch 187/225\n",
            "152/152 [==============================] - 7s 43ms/step - loss: 0.5007 - accuracy: 0.8111 - val_loss: 1.6363 - val_accuracy: 0.5227\n",
            "Epoch 188/225\n",
            "152/152 [==============================] - 6s 41ms/step - loss: 0.5108 - accuracy: 0.8036 - val_loss: 1.6500 - val_accuracy: 0.5203\n",
            "Epoch 189/225\n",
            "152/152 [==============================] - 6s 41ms/step - loss: 0.5075 - accuracy: 0.8049 - val_loss: 1.5803 - val_accuracy: 0.5352\n",
            "Epoch 190/225\n",
            "152/152 [==============================] - 7s 43ms/step - loss: 0.4941 - accuracy: 0.8118 - val_loss: 1.6112 - val_accuracy: 0.5252\n",
            "Epoch 191/225\n",
            "152/152 [==============================] - 6s 42ms/step - loss: 0.4979 - accuracy: 0.8127 - val_loss: 1.7067 - val_accuracy: 0.5062\n",
            "Epoch 192/225\n",
            "152/152 [==============================] - 6s 41ms/step - loss: 0.5010 - accuracy: 0.8096 - val_loss: 1.6345 - val_accuracy: 0.5186\n",
            "Epoch 193/225\n",
            "152/152 [==============================] - 6s 41ms/step - loss: 0.5012 - accuracy: 0.8106 - val_loss: 1.6113 - val_accuracy: 0.5116\n",
            "Epoch 194/225\n",
            "152/152 [==============================] - 7s 43ms/step - loss: 0.4936 - accuracy: 0.8162 - val_loss: 1.6151 - val_accuracy: 0.5128\n",
            "Epoch 195/225\n",
            "152/152 [==============================] - 6s 41ms/step - loss: 0.4931 - accuracy: 0.8096 - val_loss: 1.6474 - val_accuracy: 0.5054\n",
            "Epoch 196/225\n",
            "152/152 [==============================] - 6s 41ms/step - loss: 0.4865 - accuracy: 0.8156 - val_loss: 1.6141 - val_accuracy: 0.5285\n",
            "Epoch 197/225\n",
            "152/152 [==============================] - 6s 42ms/step - loss: 0.4887 - accuracy: 0.8150 - val_loss: 1.6125 - val_accuracy: 0.5232\n",
            "Epoch 198/225\n",
            "152/152 [==============================] - 7s 43ms/step - loss: 0.4815 - accuracy: 0.8173 - val_loss: 1.7596 - val_accuracy: 0.5165\n",
            "Epoch 199/225\n",
            "152/152 [==============================] - 6s 42ms/step - loss: 0.4821 - accuracy: 0.8217 - val_loss: 1.6626 - val_accuracy: 0.5174\n",
            "Epoch 200/225\n",
            "152/152 [==============================] - 6s 41ms/step - loss: 0.4712 - accuracy: 0.8215 - val_loss: 1.6937 - val_accuracy: 0.5182\n",
            "Epoch 201/225\n",
            "152/152 [==============================] - 6s 43ms/step - loss: 0.4681 - accuracy: 0.8273 - val_loss: 1.7115 - val_accuracy: 0.5070\n",
            "Epoch 202/225\n",
            "152/152 [==============================] - 6s 41ms/step - loss: 0.4766 - accuracy: 0.8213 - val_loss: 1.6762 - val_accuracy: 0.4959\n",
            "Epoch 203/225\n",
            "152/152 [==============================] - 6s 41ms/step - loss: 0.4724 - accuracy: 0.8212 - val_loss: 1.7587 - val_accuracy: 0.5132\n",
            "Epoch 204/225\n",
            "152/152 [==============================] - 6s 41ms/step - loss: 0.4667 - accuracy: 0.8238 - val_loss: 1.8189 - val_accuracy: 0.5108\n",
            "Epoch 205/225\n",
            "152/152 [==============================] - 6s 41ms/step - loss: 0.4926 - accuracy: 0.8148 - val_loss: 1.6180 - val_accuracy: 0.5236\n",
            "Epoch 206/225\n",
            "152/152 [==============================] - 6s 41ms/step - loss: 0.4685 - accuracy: 0.8246 - val_loss: 1.6865 - val_accuracy: 0.5269\n",
            "Epoch 207/225\n",
            "152/152 [==============================] - 6s 41ms/step - loss: 0.4657 - accuracy: 0.8262 - val_loss: 1.6095 - val_accuracy: 0.5232\n",
            "Epoch 208/225\n",
            "152/152 [==============================] - 7s 43ms/step - loss: 0.4594 - accuracy: 0.8287 - val_loss: 1.6384 - val_accuracy: 0.5194\n",
            "Epoch 209/225\n",
            "152/152 [==============================] - 6s 41ms/step - loss: 0.4599 - accuracy: 0.8279 - val_loss: 1.6660 - val_accuracy: 0.5352\n",
            "Epoch 210/225\n",
            "152/152 [==============================] - 6s 43ms/step - loss: 0.4512 - accuracy: 0.8310 - val_loss: 1.7187 - val_accuracy: 0.5091\n",
            "Epoch 211/225\n",
            "152/152 [==============================] - 6s 41ms/step - loss: 0.4530 - accuracy: 0.8307 - val_loss: 1.6285 - val_accuracy: 0.5335\n",
            "Epoch 212/225\n",
            "152/152 [==============================] - 6s 41ms/step - loss: 0.4531 - accuracy: 0.8291 - val_loss: 1.6542 - val_accuracy: 0.5194\n",
            "Epoch 213/225\n",
            "152/152 [==============================] - 7s 43ms/step - loss: 0.4590 - accuracy: 0.8312 - val_loss: 1.7629 - val_accuracy: 0.5083\n",
            "Epoch 214/225\n",
            "152/152 [==============================] - 6s 41ms/step - loss: 0.4539 - accuracy: 0.8297 - val_loss: 1.6501 - val_accuracy: 0.5157\n",
            "Epoch 215/225\n",
            "152/152 [==============================] - 6s 41ms/step - loss: 0.4524 - accuracy: 0.8296 - val_loss: 1.7263 - val_accuracy: 0.5165\n",
            "Epoch 216/225\n",
            "152/152 [==============================] - 7s 43ms/step - loss: 0.4395 - accuracy: 0.8345 - val_loss: 1.6526 - val_accuracy: 0.5232\n",
            "Epoch 217/225\n",
            "152/152 [==============================] - 6s 42ms/step - loss: 0.4285 - accuracy: 0.8432 - val_loss: 1.7493 - val_accuracy: 0.5083\n",
            "Epoch 218/225\n",
            "152/152 [==============================] - 6s 41ms/step - loss: 0.4445 - accuracy: 0.8361 - val_loss: 1.7437 - val_accuracy: 0.5207\n",
            "Epoch 219/225\n",
            "152/152 [==============================] - 6s 41ms/step - loss: 0.4324 - accuracy: 0.8355 - val_loss: 1.6687 - val_accuracy: 0.5132\n",
            "Epoch 220/225\n",
            "152/152 [==============================] - 6s 41ms/step - loss: 0.4402 - accuracy: 0.8365 - val_loss: 1.8268 - val_accuracy: 0.5054\n",
            "Epoch 221/225\n",
            "152/152 [==============================] - 6s 41ms/step - loss: 0.4196 - accuracy: 0.8431 - val_loss: 1.7282 - val_accuracy: 0.5120\n",
            "Epoch 222/225\n",
            "152/152 [==============================] - 7s 43ms/step - loss: 0.4231 - accuracy: 0.8435 - val_loss: 1.7292 - val_accuracy: 0.5091\n",
            "Epoch 223/225\n",
            "152/152 [==============================] - 6s 42ms/step - loss: 0.4101 - accuracy: 0.8451 - val_loss: 1.9550 - val_accuracy: 0.4892\n",
            "Epoch 224/225\n",
            "152/152 [==============================] - 6s 41ms/step - loss: 0.4214 - accuracy: 0.8451 - val_loss: 1.9275 - val_accuracy: 0.5058\n",
            "Epoch 225/225\n",
            "152/152 [==============================] - 6s 41ms/step - loss: 0.4259 - accuracy: 0.8404 - val_loss: 1.7459 - val_accuracy: 0.5190\n"
          ]
        }
      ]
    },
    {
      "cell_type": "code",
      "source": [
        "model.save(file_path_model+'[CNN-LSTM]Model.h5')\n",
        "model.save_weights(file_path_model+'[CNN-LSTM]Model_Weights.h5')"
      ],
      "metadata": {
        "id": "s-iarzQeWUBm"
      },
      "execution_count": 12,
      "outputs": []
    },
    {
      "cell_type": "code",
      "source": [
        "model.evaluate(X_test,y_test)"
      ],
      "metadata": {
        "id": "ZBQLG32TWNBC",
        "colab": {
          "base_uri": "https://localhost:8080/"
        },
        "outputId": "235510fa-ee82-463d-d750-bdb9d5966edc"
      },
      "execution_count": 13,
      "outputs": [
        {
          "output_type": "stream",
          "name": "stdout",
          "text": [
            "76/76 [==============================] - 1s 8ms/step - loss: 1.7459 - accuracy: 0.5190\n"
          ]
        },
        {
          "output_type": "execute_result",
          "data": {
            "text/plain": [
              "[1.7459148168563843, 0.5190240144729614]"
            ]
          },
          "metadata": {},
          "execution_count": 13
        }
      ]
    },
    {
      "cell_type": "code",
      "source": [
        "y_pred=model.predict(X_test)\n",
        "y_classes = y_pred.argmax(axis=-1)"
      ],
      "metadata": {
        "id": "mo-g0I30WPMm"
      },
      "execution_count": 14,
      "outputs": []
    },
    {
      "cell_type": "code",
      "source": [
        "np.unique(y_classes)"
      ],
      "metadata": {
        "id": "5V0pw4UPWRKG",
        "colab": {
          "base_uri": "https://localhost:8080/"
        },
        "outputId": "83addf7c-5087-4997-f3c4-dbac359cb6f3"
      },
      "execution_count": 15,
      "outputs": [
        {
          "output_type": "execute_result",
          "data": {
            "text/plain": [
              "array([0, 1, 2, 3, 4, 5, 6])"
            ]
          },
          "metadata": {},
          "execution_count": 15
        }
      ]
    },
    {
      "cell_type": "code",
      "source": [
        "history={}\n",
        "history[\"history\"] = pd.read_csv(file_path_model+'source_history.csv')\n",
        "history[\"history\"].head()"
      ],
      "metadata": {
        "id": "PQdU57vXWSyD",
        "colab": {
          "base_uri": "https://localhost:8080/",
          "height": 206
        },
        "outputId": "c784cd46-99d4-4c50-f6a6-5b5277783aad"
      },
      "execution_count": 16,
      "outputs": [
        {
          "output_type": "execute_result",
          "data": {
            "text/plain": [
              "   epoch  accuracy      loss  val_accuracy  val_loss\n",
              "0      0  0.160050  1.950929      0.180728  1.926720\n",
              "1      1  0.194892  1.919072      0.196443  1.904313\n",
              "2      2  0.223325  1.874587      0.205542  1.872637\n",
              "3      3  0.234801  1.850385      0.231596  1.847866\n",
              "4      4  0.245658  1.830124      0.238627  1.827681"
            ],
            "text/html": [
              "\n",
              "  <div id=\"df-6ebb35bb-26c4-45e6-b722-809243e1facd\">\n",
              "    <div class=\"colab-df-container\">\n",
              "      <div>\n",
              "<style scoped>\n",
              "    .dataframe tbody tr th:only-of-type {\n",
              "        vertical-align: middle;\n",
              "    }\n",
              "\n",
              "    .dataframe tbody tr th {\n",
              "        vertical-align: top;\n",
              "    }\n",
              "\n",
              "    .dataframe thead th {\n",
              "        text-align: right;\n",
              "    }\n",
              "</style>\n",
              "<table border=\"1\" class=\"dataframe\">\n",
              "  <thead>\n",
              "    <tr style=\"text-align: right;\">\n",
              "      <th></th>\n",
              "      <th>epoch</th>\n",
              "      <th>accuracy</th>\n",
              "      <th>loss</th>\n",
              "      <th>val_accuracy</th>\n",
              "      <th>val_loss</th>\n",
              "    </tr>\n",
              "  </thead>\n",
              "  <tbody>\n",
              "    <tr>\n",
              "      <th>0</th>\n",
              "      <td>0</td>\n",
              "      <td>0.160050</td>\n",
              "      <td>1.950929</td>\n",
              "      <td>0.180728</td>\n",
              "      <td>1.926720</td>\n",
              "    </tr>\n",
              "    <tr>\n",
              "      <th>1</th>\n",
              "      <td>1</td>\n",
              "      <td>0.194892</td>\n",
              "      <td>1.919072</td>\n",
              "      <td>0.196443</td>\n",
              "      <td>1.904313</td>\n",
              "    </tr>\n",
              "    <tr>\n",
              "      <th>2</th>\n",
              "      <td>2</td>\n",
              "      <td>0.223325</td>\n",
              "      <td>1.874587</td>\n",
              "      <td>0.205542</td>\n",
              "      <td>1.872637</td>\n",
              "    </tr>\n",
              "    <tr>\n",
              "      <th>3</th>\n",
              "      <td>3</td>\n",
              "      <td>0.234801</td>\n",
              "      <td>1.850385</td>\n",
              "      <td>0.231596</td>\n",
              "      <td>1.847866</td>\n",
              "    </tr>\n",
              "    <tr>\n",
              "      <th>4</th>\n",
              "      <td>4</td>\n",
              "      <td>0.245658</td>\n",
              "      <td>1.830124</td>\n",
              "      <td>0.238627</td>\n",
              "      <td>1.827681</td>\n",
              "    </tr>\n",
              "  </tbody>\n",
              "</table>\n",
              "</div>\n",
              "      <button class=\"colab-df-convert\" onclick=\"convertToInteractive('df-6ebb35bb-26c4-45e6-b722-809243e1facd')\"\n",
              "              title=\"Convert this dataframe to an interactive table.\"\n",
              "              style=\"display:none;\">\n",
              "        \n",
              "  <svg xmlns=\"http://www.w3.org/2000/svg\" height=\"24px\"viewBox=\"0 0 24 24\"\n",
              "       width=\"24px\">\n",
              "    <path d=\"M0 0h24v24H0V0z\" fill=\"none\"/>\n",
              "    <path d=\"M18.56 5.44l.94 2.06.94-2.06 2.06-.94-2.06-.94-.94-2.06-.94 2.06-2.06.94zm-11 1L8.5 8.5l.94-2.06 2.06-.94-2.06-.94L8.5 2.5l-.94 2.06-2.06.94zm10 10l.94 2.06.94-2.06 2.06-.94-2.06-.94-.94-2.06-.94 2.06-2.06.94z\"/><path d=\"M17.41 7.96l-1.37-1.37c-.4-.4-.92-.59-1.43-.59-.52 0-1.04.2-1.43.59L10.3 9.45l-7.72 7.72c-.78.78-.78 2.05 0 2.83L4 21.41c.39.39.9.59 1.41.59.51 0 1.02-.2 1.41-.59l7.78-7.78 2.81-2.81c.8-.78.8-2.07 0-2.86zM5.41 20L4 18.59l7.72-7.72 1.47 1.35L5.41 20z\"/>\n",
              "  </svg>\n",
              "      </button>\n",
              "      \n",
              "  <style>\n",
              "    .colab-df-container {\n",
              "      display:flex;\n",
              "      flex-wrap:wrap;\n",
              "      gap: 12px;\n",
              "    }\n",
              "\n",
              "    .colab-df-convert {\n",
              "      background-color: #E8F0FE;\n",
              "      border: none;\n",
              "      border-radius: 50%;\n",
              "      cursor: pointer;\n",
              "      display: none;\n",
              "      fill: #1967D2;\n",
              "      height: 32px;\n",
              "      padding: 0 0 0 0;\n",
              "      width: 32px;\n",
              "    }\n",
              "\n",
              "    .colab-df-convert:hover {\n",
              "      background-color: #E2EBFA;\n",
              "      box-shadow: 0px 1px 2px rgba(60, 64, 67, 0.3), 0px 1px 3px 1px rgba(60, 64, 67, 0.15);\n",
              "      fill: #174EA6;\n",
              "    }\n",
              "\n",
              "    [theme=dark] .colab-df-convert {\n",
              "      background-color: #3B4455;\n",
              "      fill: #D2E3FC;\n",
              "    }\n",
              "\n",
              "    [theme=dark] .colab-df-convert:hover {\n",
              "      background-color: #434B5C;\n",
              "      box-shadow: 0px 1px 3px 1px rgba(0, 0, 0, 0.15);\n",
              "      filter: drop-shadow(0px 1px 2px rgba(0, 0, 0, 0.3));\n",
              "      fill: #FFFFFF;\n",
              "    }\n",
              "  </style>\n",
              "\n",
              "      <script>\n",
              "        const buttonEl =\n",
              "          document.querySelector('#df-6ebb35bb-26c4-45e6-b722-809243e1facd button.colab-df-convert');\n",
              "        buttonEl.style.display =\n",
              "          google.colab.kernel.accessAllowed ? 'block' : 'none';\n",
              "\n",
              "        async function convertToInteractive(key) {\n",
              "          const element = document.querySelector('#df-6ebb35bb-26c4-45e6-b722-809243e1facd');\n",
              "          const dataTable =\n",
              "            await google.colab.kernel.invokeFunction('convertToInteractive',\n",
              "                                                     [key], {});\n",
              "          if (!dataTable) return;\n",
              "\n",
              "          const docLinkHtml = 'Like what you see? Visit the ' +\n",
              "            '<a target=\"_blank\" href=https://colab.research.google.com/notebooks/data_table.ipynb>data table notebook</a>'\n",
              "            + ' to learn more about interactive tables.';\n",
              "          element.innerHTML = '';\n",
              "          dataTable['output_type'] = 'display_data';\n",
              "          await google.colab.output.renderOutput(dataTable, element);\n",
              "          const docLink = document.createElement('div');\n",
              "          docLink.innerHTML = docLinkHtml;\n",
              "          element.appendChild(docLink);\n",
              "        }\n",
              "      </script>\n",
              "    </div>\n",
              "  </div>\n",
              "  "
            ]
          },
          "metadata": {},
          "execution_count": 16
        }
      ]
    },
    {
      "cell_type": "code",
      "source": [
        "plt.figure(figsize=(25,10))\n",
        "plt.subplot(1,2,1)\n",
        "plt.plot(history['history']['accuracy'],'-b')\n",
        "plt.plot(history['history']['val_accuracy'],'r')\n",
        "plt.legend(['Training accuracy','Testing accuracy'])\n",
        "plt.axis([0, 160, 0, 1])\n",
        "plt.xlabel('Epochs')\n",
        "plt.ylabel('Accuracy')"
      ],
      "metadata": {
        "id": "sAx431i0WYuZ",
        "colab": {
          "base_uri": "https://localhost:8080/",
          "height": 628
        },
        "outputId": "f130ae55-9d0c-4f08-cf2b-633166b0490e"
      },
      "execution_count": 17,
      "outputs": [
        {
          "output_type": "execute_result",
          "data": {
            "text/plain": [
              "Text(0, 0.5, 'Accuracy')"
            ]
          },
          "metadata": {},
          "execution_count": 17
        },
        {
          "output_type": "display_data",
          "data": {
            "text/plain": [
              "<Figure size 1800x720 with 1 Axes>"
            ],
            "image/png": "[encoded data removed]"
          },
          "metadata": {
            "needs_background": "light"
          }
        }
      ]
    },
    {
      "cell_type": "code",
      "source": [
        "y_test.shape"
      ],
      "metadata": {
        "id": "tCrxzZkNVvGh",
        "colab": {
          "base_uri": "https://localhost:8080/"
        },
        "outputId": "9d2d8004-25f1-4fb4-cb8e-794a113caf79"
      },
      "execution_count": 18,
      "outputs": [
        {
          "output_type": "execute_result",
          "data": {
            "text/plain": [
              "(2418, 7)"
            ]
          },
          "metadata": {},
          "execution_count": 18
        }
      ]
    },
    {
      "cell_type": "code",
      "source": [
        "y_pred.shape"
      ],
      "metadata": {
        "id": "z3-kUe4BVxRG",
        "colab": {
          "base_uri": "https://localhost:8080/"
        },
        "outputId": "0126d622-040f-41a5-a188-8e80f615f23c"
      },
      "execution_count": 19,
      "outputs": [
        {
          "output_type": "execute_result",
          "data": {
            "text/plain": [
              "(2418, 7)"
            ]
          },
          "metadata": {},
          "execution_count": 19
        }
      ]
    },
    {
      "cell_type": "code",
      "source": [
        "y_pred1=np.around(y_pred)\n",
        "y_pred1"
      ],
      "metadata": {
        "id": "6366Lhp7Vy9O",
        "colab": {
          "base_uri": "https://localhost:8080/"
        },
        "outputId": "3a3fc338-b029-40ca-f6d2-5215a8ca8843"
      },
      "execution_count": 20,
      "outputs": [
        {
          "output_type": "execute_result",
          "data": {
            "text/plain": [
              "array([[1., 0., 0., ..., 0., 0., 0.],\n",
              "       [0., 0., 0., ..., 1., 0., 0.],\n",
              "       [0., 0., 0., ..., 1., 0., 0.],\n",
              "       ...,\n",
              "       [0., 1., 0., ..., 0., 0., 0.],\n",
              "       [0., 0., 0., ..., 0., 0., 0.],\n",
              "       [0., 0., 0., ..., 0., 0., 0.]], dtype=float32)"
            ]
          },
          "metadata": {},
          "execution_count": 20
        }
      ]
    },
    {
      "cell_type": "code",
      "source": [
        "y_pred1.shape"
      ],
      "metadata": {
        "id": "1F1rOXm3V81_",
        "colab": {
          "base_uri": "https://localhost:8080/"
        },
        "outputId": "28a24fb2-ea94-4f07-9111-80d1640ed614"
      },
      "execution_count": 21,
      "outputs": [
        {
          "output_type": "execute_result",
          "data": {
            "text/plain": [
              "(2418, 7)"
            ]
          },
          "metadata": {},
          "execution_count": 21
        }
      ]
    },
    {
      "cell_type": "code",
      "source": [
        "# Importing all necessary libraries\n",
        "from sklearn.metrics import accuracy_score\n",
        "# Calculating the accuracy of classifier\n",
        "print(f\"Accuracy of the classifier is: {accuracy_score(y_test,y_pred1)}\")"
      ],
      "metadata": {
        "id": "zv4M8tibFlRz",
        "colab": {
          "base_uri": "https://localhost:8080/"
        },
        "outputId": "33361f89-3631-4b1c-df38-79c60d7f9046"
      },
      "execution_count": 22,
      "outputs": [
        {
          "output_type": "stream",
          "name": "stdout",
          "text": [
            "Accuracy of the classifier is: 0.456575682382134\n"
          ]
        }
      ]
    },
    {
      "cell_type": "code",
      "source": [
        "gfcc_dict={\"y_test_gfcc\":y_test,\"y_pred_gfcc\":y_pred1}\n",
        "gfcc_dict"
      ],
      "metadata": {
        "id": "8YA7zu-OWRTk",
        "colab": {
          "base_uri": "https://localhost:8080/"
        },
        "outputId": "996d8de8-86ee-4361-b16d-7f86877c613b"
      },
      "execution_count": 23,
      "outputs": [
        {
          "output_type": "execute_result",
          "data": {
            "text/plain": [
              "{'y_pred_gfcc': array([[1., 0., 0., ..., 0., 0., 0.],\n",
              "        [0., 0., 0., ..., 1., 0., 0.],\n",
              "        [0., 0., 0., ..., 1., 0., 0.],\n",
              "        ...,\n",
              "        [0., 1., 0., ..., 0., 0., 0.],\n",
              "        [0., 0., 0., ..., 0., 0., 0.],\n",
              "        [0., 0., 0., ..., 0., 0., 0.]], dtype=float32),\n",
              " 'y_test_gfcc': array([[0., 0., 1., ..., 0., 0., 0.],\n",
              "        [0., 0., 0., ..., 1., 0., 0.],\n",
              "        [0., 0., 0., ..., 1., 0., 0.],\n",
              "        ...,\n",
              "        [0., 1., 0., ..., 0., 0., 0.],\n",
              "        [0., 0., 0., ..., 0., 1., 0.],\n",
              "        [0., 0., 0., ..., 0., 1., 0.]], dtype=float32)}"
            ]
          },
          "metadata": {},
          "execution_count": 23
        }
      ]
    },
    {
      "cell_type": "code",
      "source": [
        "from sklearn.metrics import precision_score\n",
        "\n",
        "# Calculating the precision score of classifier\n",
        "print(f\"Precision Score of the classifier is: {precision_score(y_test,y_pred1,average='micro')}\")"
      ],
      "metadata": {
        "id": "glxrmdx5W1kA",
        "colab": {
          "base_uri": "https://localhost:8080/"
        },
        "outputId": "cd56c313-37b0-4507-bc62-5706510dbc77"
      },
      "execution_count": 24,
      "outputs": [
        {
          "output_type": "stream",
          "name": "stdout",
          "text": [
            "Precision Score of the classifier is: 0.6251415628539071\n"
          ]
        }
      ]
    },
    {
      "cell_type": "code",
      "source": [
        "from sklearn.metrics import f1_score\n",
        "\n",
        "# Calculating the F1 score of classifier\n",
        "print(f\"F1 Score of the classifier is: {f1_score(y_test, y_pred1,average='micro')}\")"
      ],
      "metadata": {
        "id": "PMgk_7v7aIfm",
        "colab": {
          "base_uri": "https://localhost:8080/"
        },
        "outputId": "d6607ff6-0a76-4418-894d-fe7b21e3eaad"
      },
      "execution_count": 25,
      "outputs": [
        {
          "output_type": "stream",
          "name": "stdout",
          "text": [
            "F1 Score of the classifier is: 0.5277246653919694\n"
          ]
        }
      ]
    },
    {
      "cell_type": "code",
      "source": [
        "y_pred1"
      ],
      "metadata": {
        "id": "LfYZqDGtXIOK",
        "colab": {
          "base_uri": "https://localhost:8080/"
        },
        "outputId": "1c05f85b-10da-4f7f-d97c-9eccea98f239"
      },
      "execution_count": 26,
      "outputs": [
        {
          "output_type": "execute_result",
          "data": {
            "text/plain": [
              "array([[1., 0., 0., ..., 0., 0., 0.],\n",
              "       [0., 0., 0., ..., 1., 0., 0.],\n",
              "       [0., 0., 0., ..., 1., 0., 0.],\n",
              "       ...,\n",
              "       [0., 1., 0., ..., 0., 0., 0.],\n",
              "       [0., 0., 0., ..., 0., 0., 0.],\n",
              "       [0., 0., 0., ..., 0., 0., 0.]], dtype=float32)"
            ]
          },
          "metadata": {},
          "execution_count": 26
        }
      ]
    },
    {
      "cell_type": "code",
      "source": [
        "y_test"
      ],
      "metadata": {
        "id": "nc5wBhy4XNox",
        "colab": {
          "base_uri": "https://localhost:8080/"
        },
        "outputId": "84fb1012-c4f7-4513-9ba6-2509208f5414"
      },
      "execution_count": 27,
      "outputs": [
        {
          "output_type": "execute_result",
          "data": {
            "text/plain": [
              "array([[0., 0., 1., ..., 0., 0., 0.],\n",
              "       [0., 0., 0., ..., 1., 0., 0.],\n",
              "       [0., 0., 0., ..., 1., 0., 0.],\n",
              "       ...,\n",
              "       [0., 1., 0., ..., 0., 0., 0.],\n",
              "       [0., 0., 0., ..., 0., 1., 0.],\n",
              "       [0., 0., 0., ..., 0., 1., 0.]], dtype=float32)"
            ]
          },
          "metadata": {},
          "execution_count": 27
        }
      ]
    },
    {
      "cell_type": "code",
      "source": [
        "y_test"
      ],
      "metadata": {
        "id": "tTq6gPQMXPpO",
        "colab": {
          "base_uri": "https://localhost:8080/"
        },
        "outputId": "ed898a18-7008-46e5-9d0e-db7596217020"
      },
      "execution_count": 28,
      "outputs": [
        {
          "output_type": "execute_result",
          "data": {
            "text/plain": [
              "array([[0., 0., 1., ..., 0., 0., 0.],\n",
              "       [0., 0., 0., ..., 1., 0., 0.],\n",
              "       [0., 0., 0., ..., 1., 0., 0.],\n",
              "       ...,\n",
              "       [0., 1., 0., ..., 0., 0., 0.],\n",
              "       [0., 0., 0., ..., 0., 1., 0.],\n",
              "       [0., 0., 0., ..., 0., 1., 0.]], dtype=float32)"
            ]
          },
          "metadata": {},
          "execution_count": 28
        }
      ]
    },
    {
      "cell_type": "code",
      "source": [
        "pickle.dump(gfcc_dict, open(file_path_model+'gfcc_dict_values.p', 'wb'))"
      ],
      "metadata": {
        "id": "I907WT-3YJu7"
      },
      "execution_count": 29,
      "outputs": []
    },
    {
      "cell_type": "code",
      "source": [
        ""
      ],
      "metadata": {
        "id": "Fmom68hTb1Wr"
      },
      "execution_count": null,
      "outputs": []
    }
  ]
}