{
  "nbformat": 4,
  "nbformat_minor": 0,
  "metadata": {
    "colab": {
      "name": "unaugmented_ravdess_gfcc.ipynb",
      "provenance": [],
      "machine_shape": "hm",
      "collapsed_sections": [],
      "include_colab_link": true
    },
    "kernelspec": {
      "name": "python3",
      "display_name": "Python 3"
    },
    "language_info": {
      "name": "python"
    },
    "accelerator": "GPU"
  },
  "cells": [
    {
      "cell_type": "markdown",
      "metadata": {
        "id": "view-in-github",
        "colab_type": "text"
      },
      "source": [
        "<a href=\"https://colab.research.google.com/github/Dhaneesh02/fyp/blob/main/unaugmented_ravdess_gfcc.ipynb\" target=\"_parent\"><img src=\"https://colab.research.google.com/assets/colab-badge.svg\" alt=\"Open In Colab\"/></a>"
      ]
    },
    {
      "cell_type": "code",
      "source": [
        "file_path = '/content/drive/MyDrive/Review_3/ravdess/RAVDESS/'\n",
        "file_path_model = '/content/drive/MyDrive/Review_3/ravdess/unaugmented_ravdess_gfcc/'"
      ],
      "metadata": {
        "id": "GPFdVXjCAnTS"
      },
      "execution_count": 1,
      "outputs": []
    },
    {
      "cell_type": "code",
      "execution_count": 2,
      "metadata": {
        "colab": {
          "base_uri": "https://localhost:8080/",
          "height": 17
        },
        "id": "-mK_p7Vx-Gr_",
        "outputId": "b2f4ea3d-4fc5-47be-afbb-6b5cc8c4da2e"
      },
      "outputs": [
        {
          "output_type": "display_data",
          "data": {
            "text/html": [
              "        <script type=\"text/javascript\">\n",
              "        window.PlotlyConfig = {MathJaxConfig: 'local'};\n",
              "        if (window.MathJax) {MathJax.Hub.Config({SVG: {font: \"STIX-Web\"}});}\n",
              "        if (typeof require !== 'undefined') {\n",
              "        require.undef(\"plotly\");\n",
              "        requirejs.config({\n",
              "            paths: {\n",
              "                'plotly': ['https://cdn.plot.ly/plotly-2.8.3.min']\n",
              "            }\n",
              "        });\n",
              "        require(['plotly'], function(Plotly) {\n",
              "            window._Plotly = Plotly;\n",
              "        });\n",
              "        }\n",
              "        </script>\n",
              "        "
            ]
          },
          "metadata": {}
        }
      ],
      "source": [
        "### General imports ###\n",
        "import os\n",
        "from glob import glob\n",
        "import pickle\n",
        "import itertools\n",
        "from scipy.stats import zscore\n",
        "from sklearn.model_selection import train_test_split\n",
        "import random\n",
        "import sys\n",
        "\n",
        "\n",
        "## Package\n",
        "import glob \n",
        "import keras\n",
        "import IPython.display as ipd\n",
        "import librosa\n",
        "import librosa.display\n",
        "import matplotlib.pyplot as plt\n",
        "import numpy as np\n",
        "import pandas as pd\n",
        "import plotly.graph_objs as go\n",
        "import plotly.offline as py\n",
        "import plotly.tools as tls\n",
        "import seaborn as sns\n",
        "import scipy.io.wavfile\n",
        "import tensorflow as tf\n",
        "py.init_notebook_mode(connected=True)\n",
        "\n",
        "\n",
        "## Keras\n",
        "from keras import regularizers\n",
        "from keras.callbacks import ModelCheckpoint, LearningRateScheduler, EarlyStopping\n",
        "from keras.callbacks import  History, ReduceLROnPlateau, CSVLogger\n",
        "from keras.models import Model, Sequential\n",
        "from keras.layers import Dense, Embedding, LSTM\n",
        "from keras.layers import Input, Flatten, Dropout, Activation, BatchNormalization\n",
        "from keras.layers import Conv1D, MaxPooling1D, AveragePooling1D\n",
        "from keras.preprocessing import sequence\n",
        "from keras.preprocessing.sequence import pad_sequences\n",
        "from keras.preprocessing.text import Tokenizer\n",
        "from keras.utils import np_utils\n",
        "\n",
        "\n",
        "## Sklearn\n",
        "from sklearn.metrics import confusion_matrix\n",
        "from sklearn.preprocessing import LabelEncoder\n",
        "\n",
        "\n",
        "## Rest\n",
        "from scipy.fftpack import fft\n",
        "from scipy import signal\n",
        "from scipy.io import wavfile\n",
        "from tqdm import tqdm\n",
        "\n",
        "input_duration=3\n",
        "# % pylab inline\n",
        "### Graph imports ###\n",
        "from PIL import Image\n",
        "import librosa\n",
        "### Audio import ###\n",
        "\n",
        "import IPython\n",
        "from IPython.display import Audio"
      ]
    },
    {
      "cell_type": "code",
      "source": [
        "from google.colab import drive\n",
        "drive.mount('/content/drive')"
      ],
      "metadata": {
        "colab": {
          "base_uri": "https://localhost:8080/"
        },
        "id": "5V_9hUndAisL",
        "outputId": "58fcdb5e-f5f5-485c-bdde-479e671c0c8a"
      },
      "execution_count": 4,
      "outputs": [
        {
          "output_type": "stream",
          "name": "stdout",
          "text": [
            "Mounted at /content/drive\n"
          ]
        }
      ]
    },
    {
      "cell_type": "code",
      "source": [
        "# RAVDESS Database\n",
        "label_dict_ravdess = {'02': 'NEU', '03':'HAP', '04':'SAD', '05':'ANG', '06':'FEA', '07':'DIS', '08':'SUR'}\n",
        "#data_visualistion\n",
        "data_df = pd.DataFrame(columns=['path', 'source', 'actor', 'gender',\n",
        "                                'intensity', 'statement', 'repetition', 'emotion'])\n",
        "# Set audio files labels\n",
        "def set_label_ravdess(audio_file, gender_differentiation):\n",
        "    label = label_dict_ravdess.get(audio_file[6:8])\n",
        "    if gender_differentiation == True:\n",
        "        if int(audio_file[18:20])%2 == 0: # Female\n",
        "            label = 'female_' + label\n",
        "        if int(audio_file[18:20])%2 == 1: # Male\n",
        "            label = 'male_' + label\n",
        "    return label"
      ],
      "metadata": {
        "id": "3lqc0wb04S6y"
      },
      "execution_count": null,
      "outputs": []
    },
    {
      "cell_type": "code",
      "source": [
        "# Start feature extraction\n",
        "print(\"Import Data: START\")\n",
        "\n",
        "# Initialize features and labels list\n",
        "signal = []\n",
        "labels = []\n",
        "\n",
        "# Sample rate (16.0 kHz)\n",
        "sample_rate = 16000     \n",
        "\n",
        "# Max pad length (3.0 sec)\n",
        "max_pad_len = 49100\n",
        "\n",
        "file_name_list=[]\n",
        "\n",
        "#data_visualisation\n",
        "count = 0\n",
        "\n",
        "# Compute spectogram for all audio file\n",
        "for index,ravdess in enumerate(os.listdir(file_path)):\n",
        "    ravdess=file_path+ravdess+'/'\n",
        "    file_names = os.listdir(ravdess)\n",
        "    file_name_list+=file_names\n",
        "\n",
        "    for audio_index, audio_file in enumerate(file_names):\n",
        "      if audio_file[6:8] in list(label_dict_ravdess.keys()):\n",
        "\n",
        "        # Read audio file\n",
        "        y, sr = librosa.core.load(ravdess + audio_file, sr=sample_rate, offset=0.5)  #y->audio time series\n",
        "\n",
        "        # Z-normalization\n",
        "        # Audio normalization is when you put constant gain to a recording so that you\n",
        "        # can bring the average amplitude to the desired level. In other words,\n",
        "        # it means changing the audio's overall volume to fixed amount.\n",
        "        y = zscore(y)\n",
        "\n",
        "        # Padding or truncated signal \n",
        "        # reducing the audio file duration to 3 s\n",
        "        if len(y) < max_pad_len:    \n",
        "            y_padded = np.zeros(max_pad_len)\n",
        "            y_padded[:len(y)] = y\n",
        "            y = y_padded\n",
        "        elif len(y) > max_pad_len:\n",
        "            y = np.asarray(y[:max_pad_len])\n",
        "\n",
        "        # Add to signal list\n",
        "        signal.append(y)\n",
        "\n",
        "        # Set label\n",
        "        labels.append(set_label_ravdess(audio_file, False))\n",
        "        \n",
        "\n",
        "        count += 1\n",
        "      # Print running...\n",
        "    print(\"Import Data: RUNNING ... {} files\".format(audio_index))\n",
        "\n",
        "\n",
        "# Cast labels to array\n",
        "labels = np.asarray(labels).ravel()\n",
        "file_names = file_name_list\n",
        "# Stop feature extraction\n",
        "print(\"Import Data: END \\n\")\n",
        "print(\"Number of audio files imported: {}\".format(labels.shape[0]))\n"
      ],
      "metadata": {
        "colab": {
          "base_uri": "https://localhost:8080/"
        },
        "id": "OGGHfU6qJ3FF",
        "outputId": "d5365b5f-ea82-4fff-b688-0dc33c76ecbc"
      },
      "execution_count": null,
      "outputs": [
        {
          "output_type": "stream",
          "name": "stdout",
          "text": [
            "Import Data: START\n",
            "Import Data: RUNNING ... 59 files\n",
            "Import Data: RUNNING ... 59 files\n",
            "Import Data: RUNNING ... 59 files\n",
            "Import Data: RUNNING ... 59 files\n",
            "Import Data: RUNNING ... 59 files\n",
            "Import Data: RUNNING ... 59 files\n",
            "Import Data: RUNNING ... 59 files\n",
            "Import Data: RUNNING ... 59 files\n",
            "Import Data: RUNNING ... 59 files\n",
            "Import Data: RUNNING ... 59 files\n",
            "Import Data: RUNNING ... 59 files\n",
            "Import Data: RUNNING ... 59 files\n",
            "Import Data: RUNNING ... 59 files\n",
            "Import Data: RUNNING ... 59 files\n",
            "Import Data: RUNNING ... 59 files\n",
            "Import Data: RUNNING ... 59 files\n",
            "Import Data: RUNNING ... 59 files\n",
            "Import Data: RUNNING ... 59 files\n",
            "Import Data: RUNNING ... 59 files\n",
            "Import Data: RUNNING ... 59 files\n",
            "Import Data: RUNNING ... 59 files\n",
            "Import Data: RUNNING ... 59 files\n",
            "Import Data: RUNNING ... 59 files\n",
            "Import Data: RUNNING ... 59 files\n",
            "Import Data: END \n",
            "\n",
            "Number of audio files imported: 1344\n"
          ]
        }
      ]
    },
    {
      "cell_type": "code",
      "source": [
        "pickle.dump(signal, open(file_path_model+'signal.p', 'wb'))\n",
        "pickle.dump(file_names, open(file_path_model+'file_names.p', 'wb'))\n",
        "pickle.dump(labels, open(file_path_model+'labels.p', 'wb'))"
      ],
      "metadata": {
        "id": "YdUtIvqsSHh3"
      },
      "execution_count": null,
      "outputs": []
    },
    {
      "cell_type": "code",
      "source": [
        "\n",
        "# Initialize features and labels list\n",
        "signal = []\n",
        "labels = []\n",
        "file_names = []\n",
        "\n",
        "# Sample rate (16.0 kHz)\n",
        "sample_rate = 16000     \n",
        "\n",
        "# Max pad length (3.0 sec)\n",
        "max_pad_len = 49100\n",
        "\n",
        "\n",
        "signal=pickle.load(open(file_path_model+\"signal.p\",\"rb\"))\n",
        "file_names=pickle.load(open(file_path_model+\"file_names.p\",\"rb\"))\n",
        "labels=pickle.load(open(file_path_model+\"labels.p\",\"rb\"))\n",
        "\n",
        "#data_visualisation\n",
        "count = len(signal)\n",
        "print(\"Import Data: END \\n\")\n",
        "print(\"Number of audio files imported: {}\".format(labels.shape[0]))"
      ],
      "metadata": {
        "id": "S_FvEvcHSPcV",
        "colab": {
          "base_uri": "https://localhost:8080/"
        },
        "outputId": "7158ae47-c0c2-472e-a8b5-fa7ede43caf5"
      },
      "execution_count": 5,
      "outputs": [
        {
          "output_type": "stream",
          "name": "stdout",
          "text": [
            "Import Data: END \n",
            "\n",
            "Number of audio files imported: 1344\n"
          ]
        }
      ]
    },
    {
      "cell_type": "code",
      "source": [
        "def Log_Gammatone_Spectrum(y, sr=16000, n_fft=512, win_length=256, hop_length=128, window='hamming', n_mels=128, fmax=4000): \n",
        "    # y,sr=librosa.load(File_name,sr)\n",
        "    gam_spect = np.abs(librosa.stft(y, n_fft=n_fft, window=window, win_length=win_length, hop_length=hop_length)) ** 2\n",
        "    \n",
        "    gammatone_filter_bank = gammatone_filter_banks(nfilts=128, nfft=512, fs=sr, low_freq=50, high_freq=None, scale='contsant', order=4)\n",
        "    # print(gam_spect.shape,gammatone_filter_bank.shape)\n",
        "\n",
        "    Gam=gammatone_filter_bank.dot(gam_spect)\n",
        "    LogGamSpec = librosa.power_to_db(Gam,ref=np.max)\n",
        "    # display.specshow(LogGamSpec,y_axis='log')\n",
        "    return LogGamSpec"
      ],
      "metadata": {
        "id": "yzfb0WqySa6j"
      },
      "execution_count": 6,
      "outputs": []
    },
    {
      "cell_type": "code",
      "source": [
        "import gc\n",
        "#librosa.version.version=0.7.2\n",
        "#spafe.sys.version=3.7.6 \n",
        "!pip install spafe\n",
        "import spafe\n",
        "from librosa import display\n",
        "from spafe.fbanks.gammatone_fbanks import gammatone_filter_banks\n"
      ],
      "metadata": {
        "id": "04OsnhpTSccC",
        "colab": {
          "base_uri": "https://localhost:8080/"
        },
        "outputId": "89712c8e-1615-47e1-bbd4-eb229d60a85c"
      },
      "execution_count": 9,
      "outputs": [
        {
          "output_type": "stream",
          "name": "stdout",
          "text": [
            "Looking in indexes: https://pypi.org/simple, https://us-python.pkg.dev/colab-wheels/public/simple/\n",
            "Collecting spafe\n",
            "  Downloading spafe-0.1.2-py3-none-any.whl (77 kB)\n",
            "\u001b[K     |████████████████████████████████| 77 kB 4.1 MB/s \n",
            "\u001b[?25hRequirement already satisfied: scipy>=1.3.1 in /usr/local/lib/python3.7/dist-packages (from spafe) (1.4.1)\n",
            "Requirement already satisfied: numpy>=1.17.2 in /usr/local/lib/python3.7/dist-packages (from spafe) (1.21.6)\n",
            "Installing collected packages: spafe\n",
            "Successfully installed spafe-0.1.2\n"
          ]
        }
      ]
    },
    {
      "cell_type": "code",
      "source": [
        "# Start feature extraction\n",
        "print(\"Feature extraction: START\")\n",
        "\n",
        "# Compute spectogram for all audio file\n",
        "mel_spect = []\n",
        "# print(len(signal),len(s))\n",
        "for i in range(len(signal)):\n",
        "  mel_spect.append(Log_Gammatone_Spectrum(signal[i]))\n",
        "\n",
        "\n",
        "mel_spect = np.asarray(mel_spect)\n",
        "del signal\n",
        "gc.collect()\n",
        "\n",
        "# Stop feature extraction\n",
        "print(\"Feature extraction: END!\")"
      ],
      "metadata": {
        "colab": {
          "base_uri": "https://localhost:8080/"
        },
        "id": "tupYZ1xOSext",
        "outputId": "75f850c5-cd18-44e0-f4ef-eb463ffa5ac0"
      },
      "execution_count": 10,
      "outputs": [
        {
          "output_type": "stream",
          "name": "stdout",
          "text": [
            "Feature extraction: START\n",
            "Feature extraction: END!\n"
          ]
        }
      ]
    },
    {
      "cell_type": "code",
      "source": [
        "pickle.dump(mel_spect, open(file_path_model+'mel_spect.p', 'wb'), protocol=4)\n"
      ],
      "metadata": {
        "id": "6Om1_EFPlnpN"
      },
      "execution_count": 11,
      "outputs": []
    },
    {
      "cell_type": "code",
      "source": [
        "print(mel_spect.shape)\n",
        "print(labels.shape)"
      ],
      "metadata": {
        "colab": {
          "base_uri": "https://localhost:8080/"
        },
        "id": "KHvOgKOzSjcK",
        "outputId": "1b27c4f1-1316-4d29-8834-548cef20a1fc"
      },
      "execution_count": 12,
      "outputs": [
        {
          "output_type": "stream",
          "name": "stdout",
          "text": [
            "(1344, 128, 384)\n",
            "(1344,)\n"
          ]
        }
      ]
    },
    {
      "cell_type": "code",
      "source": [
        "labels=pickle.load(open(file_path_model+\"labels.p\",\"rb\"))"
      ],
      "metadata": {
        "id": "PI1pmF_IVdSF"
      },
      "execution_count": 13,
      "outputs": []
    },
    {
      "cell_type": "code",
      "source": [
        "# Build Train and test dataset\n",
        "MEL_SPECT_train, MEL_SPECT_test,  label_train, label_test = train_test_split(mel_spect,  labels, test_size=0.2)\n",
        "# MEL_SPECT_train, MEL_SPECT_test, AUG_MEL_SPECT_train, AUG_MEL_SPECT_test, label_train, label_test = train_test_split(mel_spect, augmented_mel_spect, labels, test_size=0.2)\n",
        "\n",
        "# Build augmented labels and train\n",
        "# aug_label_train = np.asarray(list(itertools.chain.from_iterable([[label] * nb_augmented for label in label_train])))\n",
        "# AUG_MEL_SPECT_train = np.asarray(list(itertools.chain.from_iterable(AUG_MEL_SPECT_train)))\n",
        "# AUG_MEL_SPECT_test = np.asarray(list(itertools.chain.from_iterable(AUG_MEL_SPECT_test)))\n",
        "# aug_label_test = np.asarray(list(itertools.chain.from_iterable([[label] * nb_augmented for label in label_test])))\n",
        "# print(AUG_MEL_SPECT_train.shape)\n",
        "# print(AUG_MEL_SPECT_test.shape)\n",
        "# Concatenate original and augmented\n",
        "X_train = MEL_SPECT_train\n",
        "y_train = label_train\n",
        "# X_train = np.concatenate((MEL_SPECT_train, AUG_MEL_SPECT_train))\n",
        "# y_train = np.concatenate((label_train, label_train))\n",
        "\n",
        "print(\"x_train: \",X_train.shape)\n",
        "print(\"y_train: \",y_train.shape)\n",
        "# Build test set\n",
        "# X_test = np.concatenate((MEL_SPECT_test, AUG_MEL_SPECT_test))\n",
        "X_test = MEL_SPECT_test\n",
        "# y_test = np.concatenate((label_test, label_test))\n",
        "y_test = label_test\n",
        "print(X_test.shape)\n",
        "print(y_test.shape)\n",
        "# Delete\n",
        "del MEL_SPECT_train,MEL_SPECT_test\n",
        "# del MEL_SPECT_train, AUG_MEL_SPECT_train, label_train, AUG_MEL_SPECT_test, MEL_SPECT_test, label_test\n",
        "# del mel_spect, augmented_mel_spect, labels"
      ],
      "metadata": {
        "colab": {
          "base_uri": "https://localhost:8080/"
        },
        "id": "m3FANhgdViOM",
        "outputId": "ae8476dc-6517-44b8-d5d5-429ecda3e3fe"
      },
      "execution_count": 14,
      "outputs": [
        {
          "output_type": "stream",
          "name": "stdout",
          "text": [
            "x_train:  (1075, 128, 384)\n",
            "y_train:  (1075,)\n",
            "(269, 128, 384)\n",
            "(269,)\n"
          ]
        }
      ]
    },
    {
      "cell_type": "code",
      "source": [
        "win_ts = 128\n",
        "hop_ts = 64\n",
        "\n",
        "def frame(x, win_step=128, win_size=64):\n",
        "    nb_frames = 1 + int((x.shape[2] - win_size) / win_step)\n",
        "    frames = np.zeros((x.shape[0], nb_frames, x.shape[1], win_size)).astype(np.float32)\n",
        "    for t in range(nb_frames):\n",
        "        frames[:,t,:,:] = np.copy(x[:,:,(t * win_step):(t * win_step + win_size)]).astype(np.float32)\n",
        "    return frames\n",
        "\n",
        "X_train = frame(X_train, hop_ts, win_ts)\n",
        "X_test = frame(X_test, hop_ts, win_ts)\n"
      ],
      "metadata": {
        "id": "9PQvkF_7VoMR"
      },
      "execution_count": 15,
      "outputs": []
    },
    {
      "cell_type": "code",
      "source": [
        "\n",
        "X_test.shape"
      ],
      "metadata": {
        "colab": {
          "base_uri": "https://localhost:8080/"
        },
        "id": "cLfDOehmVp5v",
        "outputId": "6197bd0d-98dc-4fb6-a620-00530b27bb48"
      },
      "execution_count": 16,
      "outputs": [
        {
          "output_type": "execute_result",
          "data": {
            "text/plain": [
              "(269, 5, 128, 128)"
            ]
          },
          "metadata": {},
          "execution_count": 16
        }
      ]
    },
    {
      "cell_type": "code",
      "source": [
        "# Save Train and test set\n",
        "pickle.dump(X_train.astype(np.float16), open(file_path_model+'[X_train].p', 'wb'))\n",
        "pickle.dump(y_train, open(file_path_model+'[y_train].p', 'wb'))\n",
        "pickle.dump(X_test.astype(np.float16), open(file_path_model+'[X_test].p', 'wb'))\n",
        "pickle.dump(y_test, open(file_path_model+'[y_test].p', 'wb'))"
      ],
      "metadata": {
        "id": "ai5r1KnDVro4"
      },
      "execution_count": 17,
      "outputs": []
    },
    {
      "cell_type": "code",
      "source": [
        "import os\n",
        "from glob import glob\n",
        "import pickle\n",
        "import numpy as np\n",
        "import pandas as pd\n",
        "from keras.utils.vis_utils import plot_model\n",
        "### Plot imports ###\n",
        "from IPython.display import Image\n",
        "import matplotlib.pyplot as plt\n",
        "\n",
        "### Time Distributed ConvNet imports ###\n",
        "import tensorflow as tf\n",
        "from tensorflow.keras.models import Sequential, Model\n",
        "from tensorflow.keras.layers import Input, Dense, Dropout, Activation, TimeDistributed, concatenate\n",
        "from tensorflow.keras.layers import Conv2D, MaxPooling2D, AveragePooling2D, BatchNormalization, LeakyReLU, Flatten\n",
        "from tensorflow.keras.layers import LSTM\n",
        "from tensorflow.keras.optimizers import Adam, SGD\n",
        "from tensorflow.keras.callbacks import EarlyStopping, ModelCheckpoint, ReduceLROnPlateau\n",
        "from tensorflow.keras import backend as K\n",
        "from keras.utils import np_utils\n",
        "from keras.utils.vis_utils import plot_model\n",
        "from sklearn.preprocessing import LabelEncoder\n",
        "\n",
        "### Warning ###\n",
        "import warnings\n",
        "warnings.filterwarnings('ignore')"
      ],
      "metadata": {
        "id": "Y4BEJ9ZtVyv7"
      },
      "execution_count": 18,
      "outputs": []
    },
    {
      "cell_type": "code",
      "source": [
        "file_path = '/content/drive/MyDrive/Review_3/ravdess/RAVDESS/'\n",
        "file_path_model = '/content/drive/MyDrive/Review_3/ravdess/unaugmented_ravdess_gfcc/'"
      ],
      "metadata": {
        "id": "a6JU9w23rL5y"
      },
      "execution_count": 19,
      "outputs": []
    },
    {
      "cell_type": "code",
      "source": [
        "from google.colab import drive\n",
        "drive.mount('/content/drive')"
      ],
      "metadata": {
        "colab": {
          "base_uri": "https://localhost:8080/"
        },
        "id": "Qh1fjWt7V0yR",
        "outputId": "41d3269d-a79c-4709-83f3-782bda74c4d9"
      },
      "execution_count": 20,
      "outputs": [
        {
          "output_type": "stream",
          "name": "stdout",
          "text": [
            "Drive already mounted at /content/drive; to attempt to forcibly remount, call drive.mount(\"/content/drive\", force_remount=True).\n"
          ]
        }
      ]
    },
    {
      "cell_type": "code",
      "source": [
        "X_train = pickle.load(open(file_path_model+'[X_train].p', 'rb'))\n",
        "y_train = pickle.load(open(file_path_model+'[y_train].p', 'rb'))\n",
        "y_test = pickle.load(open(file_path_model+'[y_test].p', 'rb'))\n",
        "X_test = pickle.load(open(file_path_model+'[X_test].p', 'rb'))"
      ],
      "metadata": {
        "id": "SwPl1CcDV2mz"
      },
      "execution_count": null,
      "outputs": []
    },
    {
      "cell_type": "code",
      "source": [
        "print(X_train.shape)\n",
        "print(y_train.shape)\n",
        "print(X_test.shape)\n",
        "print(y_test.shape) "
      ],
      "metadata": {
        "colab": {
          "base_uri": "https://localhost:8080/"
        },
        "id": "blFAeZSBV8zT",
        "outputId": "4af23b88-0a35-4576-d649-f800ef45ddfd"
      },
      "execution_count": 21,
      "outputs": [
        {
          "output_type": "stream",
          "name": "stdout",
          "text": [
            "(1075, 5, 128, 128)\n",
            "(1075,)\n",
            "(269, 5, 128, 128)\n",
            "(269,)\n"
          ]
        }
      ]
    },
    {
      "cell_type": "code",
      "source": [
        "print(file_path_model)\n",
        "lb = LabelEncoder()\n",
        "y_train = np_utils.to_categorical(lb.fit_transform(np.ravel(y_train)))\n",
        "y_test = np_utils.to_categorical(lb.transform(np.ravel(y_test)))"
      ],
      "metadata": {
        "id": "d07gF5cEV-1B",
        "colab": {
          "base_uri": "https://localhost:8080/"
        },
        "outputId": "7152761e-e516-43a7-ffad-1a2ef27fabed"
      },
      "execution_count": 22,
      "outputs": [
        {
          "output_type": "stream",
          "name": "stdout",
          "text": [
            "/content/drive/MyDrive/Review_3/ravdess/unaugmented_ravdess_gfcc/\n"
          ]
        }
      ]
    },
    {
      "cell_type": "code",
      "source": [
        "# Reshape for convolution\n",
        "X_train = X_train.reshape(X_train.shape[0], X_train.shape[1] , X_train.shape[2], X_train.shape[3], 1)\n",
        "X_test = X_test.reshape(X_test.shape[0], X_test.shape[1] , X_test.shape[2], X_test.shape[3], 1)"
      ],
      "metadata": {
        "id": "upkJ5BtRWCA3"
      },
      "execution_count": 23,
      "outputs": []
    },
    {
      "cell_type": "code",
      "source": [
        "X_train.shape[1:]"
      ],
      "metadata": {
        "colab": {
          "base_uri": "https://localhost:8080/"
        },
        "id": "UjcdxKTUWEM6",
        "outputId": "4d35e4e8-a3b0-4f73-89b3-2efd630fd1c7"
      },
      "execution_count": 24,
      "outputs": [
        {
          "output_type": "execute_result",
          "data": {
            "text/plain": [
              "(5, 128, 128, 1)"
            ]
          },
          "metadata": {},
          "execution_count": 24
        }
      ]
    },
    {
      "cell_type": "code",
      "source": [
        "K.clear_session()\n",
        "\n",
        "input_y = Input(shape=X_train.shape[1:], name='Input_MELSPECT')\n",
        "\n",
        "y = TimeDistributed(Conv2D(64, kernel_size=(3, 3), padding='same'), name='Conv_1_MELSPECT')(input_y)\n",
        "y = TimeDistributed(BatchNormalization(), name='BatchNorm_1_MELSPECT')(y)\n",
        "y = TimeDistributed(Activation('elu'), name='Activ_1_MELSPECT')(y)\n",
        "y = TimeDistributed(MaxPooling2D(pool_size=(2, 2), strides=(2, 2), padding='same'), name='MaxPool_1_MELSPECT')(y)\n",
        "y = TimeDistributed(Dropout(0.2), name='Drop_1_MELSPECT')(y)     \n",
        "\n",
        "y = TimeDistributed(Conv2D(64, kernel_size=(3, 3), strides=(1, 1), padding='same'), name='Conv_2_MELSPECT')(y)\n",
        "y = TimeDistributed(BatchNormalization(), name='BatchNorm_2_MELSPECT')(y)\n",
        "y = TimeDistributed(Activation('elu'), name='Activ_2_MELSPECT')(y)\n",
        "y = TimeDistributed(MaxPooling2D(pool_size=(4, 4), strides=(4, 4), padding='same'), name='MaxPool_2_MELSPECT')(y)\n",
        "y = TimeDistributed(Dropout(0.2), name='Drop_2_MELSPECT')(y)\n",
        "\n",
        "y = TimeDistributed(Conv2D(128, kernel_size=(3, 3), strides=(1, 1), padding='same'), name='Conv_3_MELSPECT')(y)\n",
        "y = TimeDistributed(BatchNormalization(), name='BatchNorm_3_MELSPECT')(y)\n",
        "y = TimeDistributed(Activation('elu'), name='Activ_3_MELSPECT')(y)\n",
        "y = TimeDistributed(MaxPooling2D(pool_size=(4, 4), strides=(4, 4), padding='same'), name='MaxPool_3_MELSPECT')(y)\n",
        "y = TimeDistributed(Dropout(0.2), name='Drop_3_MELSPECT')(y)\n",
        "\n",
        "y = TimeDistributed(Conv2D(128, kernel_size=(3, 3), strides=(1, 1), padding='same'), name='Conv_4_MELSPECT')(y)\n",
        "y = TimeDistributed(BatchNormalization(), name='BatchNorm_4_MELSPECT')(y)\n",
        "y = TimeDistributed(Activation('elu'), name='Activ_4_MELSPECT')(y)\n",
        "y = TimeDistributed(MaxPooling2D(pool_size=(4, 4), strides=(4, 4), padding='same'), name='MaxPool_4_MELSPECT')(y)\n",
        "y = TimeDistributed(Dropout(0.2), name='Drop_4_MELSPECT')(y)  \n",
        "\n",
        "y = TimeDistributed(Flatten(), name='Flat_MELSPECT')(y)                                           \n",
        "# Apply 2 LSTM layer and one FC\n",
        "y = LSTM(256, return_sequences=False, dropout=0.2, name='LSTM_1')(y)\n",
        "y = Dense(y_train.shape[1], activation='softmax', name='FC')(y)\n",
        "\n",
        "# Build final model\n",
        "model = Model(inputs=input_y, outputs=y)\n",
        "model.summary()"
      ],
      "metadata": {
        "colab": {
          "base_uri": "https://localhost:8080/"
        },
        "id": "0_W4EmvTWFpH",
        "outputId": "fd27e4aa-2158-416e-d5f1-795e21eac0d4"
      },
      "execution_count": 25,
      "outputs": [
        {
          "output_type": "stream",
          "name": "stdout",
          "text": [
            "Model: \"model\"\n",
            "_________________________________________________________________\n",
            " Layer (type)                Output Shape              Param #   \n",
            "=================================================================\n",
            " Input_MELSPECT (InputLayer)  [(None, 5, 128, 128, 1)]  0        \n",
            "                                                                 \n",
            " Conv_1_MELSPECT (TimeDistri  (None, 5, 128, 128, 64)  640       \n",
            " buted)                                                          \n",
            "                                                                 \n",
            " BatchNorm_1_MELSPECT (TimeD  (None, 5, 128, 128, 64)  256       \n",
            " istributed)                                                     \n",
            "                                                                 \n",
            " Activ_1_MELSPECT (TimeDistr  (None, 5, 128, 128, 64)  0         \n",
            " ibuted)                                                         \n",
            "                                                                 \n",
            " MaxPool_1_MELSPECT (TimeDis  (None, 5, 64, 64, 64)    0         \n",
            " tributed)                                                       \n",
            "                                                                 \n",
            " Drop_1_MELSPECT (TimeDistri  (None, 5, 64, 64, 64)    0         \n",
            " buted)                                                          \n",
            "                                                                 \n",
            " Conv_2_MELSPECT (TimeDistri  (None, 5, 64, 64, 64)    36928     \n",
            " buted)                                                          \n",
            "                                                                 \n",
            " BatchNorm_2_MELSPECT (TimeD  (None, 5, 64, 64, 64)    256       \n",
            " istributed)                                                     \n",
            "                                                                 \n",
            " Activ_2_MELSPECT (TimeDistr  (None, 5, 64, 64, 64)    0         \n",
            " ibuted)                                                         \n",
            "                                                                 \n",
            " MaxPool_2_MELSPECT (TimeDis  (None, 5, 16, 16, 64)    0         \n",
            " tributed)                                                       \n",
            "                                                                 \n",
            " Drop_2_MELSPECT (TimeDistri  (None, 5, 16, 16, 64)    0         \n",
            " buted)                                                          \n",
            "                                                                 \n",
            " Conv_3_MELSPECT (TimeDistri  (None, 5, 16, 16, 128)   73856     \n",
            " buted)                                                          \n",
            "                                                                 \n",
            " BatchNorm_3_MELSPECT (TimeD  (None, 5, 16, 16, 128)   512       \n",
            " istributed)                                                     \n",
            "                                                                 \n",
            " Activ_3_MELSPECT (TimeDistr  (None, 5, 16, 16, 128)   0         \n",
            " ibuted)                                                         \n",
            "                                                                 \n",
            " MaxPool_3_MELSPECT (TimeDis  (None, 5, 4, 4, 128)     0         \n",
            " tributed)                                                       \n",
            "                                                                 \n",
            " Drop_3_MELSPECT (TimeDistri  (None, 5, 4, 4, 128)     0         \n",
            " buted)                                                          \n",
            "                                                                 \n",
            " Conv_4_MELSPECT (TimeDistri  (None, 5, 4, 4, 128)     147584    \n",
            " buted)                                                          \n",
            "                                                                 \n",
            " BatchNorm_4_MELSPECT (TimeD  (None, 5, 4, 4, 128)     512       \n",
            " istributed)                                                     \n",
            "                                                                 \n",
            " Activ_4_MELSPECT (TimeDistr  (None, 5, 4, 4, 128)     0         \n",
            " ibuted)                                                         \n",
            "                                                                 \n",
            " MaxPool_4_MELSPECT (TimeDis  (None, 5, 1, 1, 128)     0         \n",
            " tributed)                                                       \n",
            "                                                                 \n",
            " Drop_4_MELSPECT (TimeDistri  (None, 5, 1, 1, 128)     0         \n",
            " buted)                                                          \n",
            "                                                                 \n",
            " Flat_MELSPECT (TimeDistribu  (None, 5, 128)           0         \n",
            " ted)                                                            \n",
            "                                                                 \n",
            " LSTM_1 (LSTM)               (None, 256)               394240    \n",
            "                                                                 \n",
            " FC (Dense)                  (None, 7)                 1799      \n",
            "                                                                 \n",
            "=================================================================\n",
            "Total params: 656,583\n",
            "Trainable params: 655,815\n",
            "Non-trainable params: 768\n",
            "_________________________________________________________________\n"
          ]
        }
      ]
    },
    {
      "cell_type": "code",
      "source": [
        "gpu_options = tf.compat.v1.GPUOptions(allow_growth=True)\n",
        "session = tf.compat.v1.InteractiveSession(config=tf.compat.v1.ConfigProto(gpu_options=gpu_options))"
      ],
      "metadata": {
        "id": "bwN8vEiPWHaI"
      },
      "execution_count": 26,
      "outputs": []
    },
    {
      "cell_type": "code",
      "source": [
        "# Compile model\n",
        "model.compile(optimizer=SGD(lr=0.01, decay=1e-6, momentum=0.8), loss='categorical_crossentropy', metrics=['accuracy'])\n",
        "\n",
        "# Save best model\n",
        "best_model_save = ModelCheckpoint(file_path_model+'best_Model.hdf5', save_best_only=True, monitor='accuracy', mode='max')\n",
        "\n",
        "# Early stopping\n",
        "early_stopping = EarlyStopping(monitor='accuracy', patience=30, verbose=1, mode='max')\n",
        "\n",
        "# Fit model\n",
        "history = model.fit(X_train, y_train, batch_size=64, epochs=120, validation_data=(X_test, y_test), callbacks=[early_stopping, best_model_save,tf.keras.callbacks.CSVLogger(file_path_model+'source_history.csv')])"
      ],
      "metadata": {
        "id": "IQyyZt8PWJ9D"
      },
      "execution_count": null,
      "outputs": []
    },
    {
      "cell_type": "code",
      "source": [
        "model.save(file_path_model+'[CNN-LSTM]Model.h5')\n",
        "model.save_weights(file_path_model+'[CNN-LSTM]Model_Weights.h5')"
      ],
      "metadata": {
        "id": "s-iarzQeWUBm"
      },
      "execution_count": 28,
      "outputs": []
    },
    {
      "cell_type": "code",
      "source": [
        "model.evaluate(X_test,y_test)"
      ],
      "metadata": {
        "id": "ZBQLG32TWNBC",
        "colab": {
          "base_uri": "https://localhost:8080/"
        },
        "outputId": "8e06019a-ea39-486f-dcbd-b33c86b099a8"
      },
      "execution_count": 29,
      "outputs": [
        {
          "output_type": "stream",
          "name": "stdout",
          "text": [
            "9/9 [==============================] - 0s 31ms/step - loss: 1.6140 - accuracy: 0.4387\n"
          ]
        },
        {
          "output_type": "execute_result",
          "data": {
            "text/plain": [
              "[1.6139684915542603, 0.43866172432899475]"
            ]
          },
          "metadata": {},
          "execution_count": 29
        }
      ]
    },
    {
      "cell_type": "code",
      "source": [
        "y_pred=model.predict(X_test)\n",
        "y_classes = y_pred.argmax(axis=-1)"
      ],
      "metadata": {
        "id": "mo-g0I30WPMm"
      },
      "execution_count": 30,
      "outputs": []
    },
    {
      "cell_type": "code",
      "source": [
        "np.unique(y_classes)"
      ],
      "metadata": {
        "id": "5V0pw4UPWRKG",
        "colab": {
          "base_uri": "https://localhost:8080/"
        },
        "outputId": "a5cd3778-0b94-4c89-a2d4-079bc665bdeb"
      },
      "execution_count": 31,
      "outputs": [
        {
          "output_type": "execute_result",
          "data": {
            "text/plain": [
              "array([0, 1, 2, 3, 4, 5, 6])"
            ]
          },
          "metadata": {},
          "execution_count": 31
        }
      ]
    },
    {
      "cell_type": "code",
      "source": [
        "history={}\n",
        "history[\"history\"] = pd.read_csv(file_path_model+'source_history.csv')\n",
        "history[\"history\"].head()"
      ],
      "metadata": {
        "id": "PQdU57vXWSyD",
        "colab": {
          "base_uri": "https://localhost:8080/",
          "height": 206
        },
        "outputId": "a9edf5f1-60a8-48d2-d15e-fabb691b20e2"
      },
      "execution_count": 55,
      "outputs": [
        {
          "output_type": "execute_result",
          "data": {
            "text/plain": [
              "   epoch  accuracy      loss  val_accuracy  val_loss\n",
              "0      0  0.153488  1.977982      0.167286  2.281445\n",
              "1      1  0.186977  1.906209      0.167286  2.464661\n",
              "2      2  0.240930  1.841988      0.171004  2.546842\n",
              "3      3  0.274419  1.805358      0.167286  2.454405\n",
              "4      4  0.282791  1.759331      0.167286  2.423216"
            ],
            "text/html": [
              "\n",
              "  <div id=\"df-e9893943-d842-4701-bdf2-7743c3f15ea3\">\n",
              "    <div class=\"colab-df-container\">\n",
              "      <div>\n",
              "<style scoped>\n",
              "    .dataframe tbody tr th:only-of-type {\n",
              "        vertical-align: middle;\n",
              "    }\n",
              "\n",
              "    .dataframe tbody tr th {\n",
              "        vertical-align: top;\n",
              "    }\n",
              "\n",
              "    .dataframe thead th {\n",
              "        text-align: right;\n",
              "    }\n",
              "</style>\n",
              "<table border=\"1\" class=\"dataframe\">\n",
              "  <thead>\n",
              "    <tr style=\"text-align: right;\">\n",
              "      <th></th>\n",
              "      <th>epoch</th>\n",
              "      <th>accuracy</th>\n",
              "      <th>loss</th>\n",
              "      <th>val_accuracy</th>\n",
              "      <th>val_loss</th>\n",
              "    </tr>\n",
              "  </thead>\n",
              "  <tbody>\n",
              "    <tr>\n",
              "      <th>0</th>\n",
              "      <td>0</td>\n",
              "      <td>0.153488</td>\n",
              "      <td>1.977982</td>\n",
              "      <td>0.167286</td>\n",
              "      <td>2.281445</td>\n",
              "    </tr>\n",
              "    <tr>\n",
              "      <th>1</th>\n",
              "      <td>1</td>\n",
              "      <td>0.186977</td>\n",
              "      <td>1.906209</td>\n",
              "      <td>0.167286</td>\n",
              "      <td>2.464661</td>\n",
              "    </tr>\n",
              "    <tr>\n",
              "      <th>2</th>\n",
              "      <td>2</td>\n",
              "      <td>0.240930</td>\n",
              "      <td>1.841988</td>\n",
              "      <td>0.171004</td>\n",
              "      <td>2.546842</td>\n",
              "    </tr>\n",
              "    <tr>\n",
              "      <th>3</th>\n",
              "      <td>3</td>\n",
              "      <td>0.274419</td>\n",
              "      <td>1.805358</td>\n",
              "      <td>0.167286</td>\n",
              "      <td>2.454405</td>\n",
              "    </tr>\n",
              "    <tr>\n",
              "      <th>4</th>\n",
              "      <td>4</td>\n",
              "      <td>0.282791</td>\n",
              "      <td>1.759331</td>\n",
              "      <td>0.167286</td>\n",
              "      <td>2.423216</td>\n",
              "    </tr>\n",
              "  </tbody>\n",
              "</table>\n",
              "</div>\n",
              "      <button class=\"colab-df-convert\" onclick=\"convertToInteractive('df-e9893943-d842-4701-bdf2-7743c3f15ea3')\"\n",
              "              title=\"Convert this dataframe to an interactive table.\"\n",
              "              style=\"display:none;\">\n",
              "        \n",
              "  <svg xmlns=\"http://www.w3.org/2000/svg\" height=\"24px\"viewBox=\"0 0 24 24\"\n",
              "       width=\"24px\">\n",
              "    <path d=\"M0 0h24v24H0V0z\" fill=\"none\"/>\n",
              "    <path d=\"M18.56 5.44l.94 2.06.94-2.06 2.06-.94-2.06-.94-.94-2.06-.94 2.06-2.06.94zm-11 1L8.5 8.5l.94-2.06 2.06-.94-2.06-.94L8.5 2.5l-.94 2.06-2.06.94zm10 10l.94 2.06.94-2.06 2.06-.94-2.06-.94-.94-2.06-.94 2.06-2.06.94z\"/><path d=\"M17.41 7.96l-1.37-1.37c-.4-.4-.92-.59-1.43-.59-.52 0-1.04.2-1.43.59L10.3 9.45l-7.72 7.72c-.78.78-.78 2.05 0 2.83L4 21.41c.39.39.9.59 1.41.59.51 0 1.02-.2 1.41-.59l7.78-7.78 2.81-2.81c.8-.78.8-2.07 0-2.86zM5.41 20L4 18.59l7.72-7.72 1.47 1.35L5.41 20z\"/>\n",
              "  </svg>\n",
              "      </button>\n",
              "      \n",
              "  <style>\n",
              "    .colab-df-container {\n",
              "      display:flex;\n",
              "      flex-wrap:wrap;\n",
              "      gap: 12px;\n",
              "    }\n",
              "\n",
              "    .colab-df-convert {\n",
              "      background-color: #E8F0FE;\n",
              "      border: none;\n",
              "      border-radius: 50%;\n",
              "      cursor: pointer;\n",
              "      display: none;\n",
              "      fill: #1967D2;\n",
              "      height: 32px;\n",
              "      padding: 0 0 0 0;\n",
              "      width: 32px;\n",
              "    }\n",
              "\n",
              "    .colab-df-convert:hover {\n",
              "      background-color: #E2EBFA;\n",
              "      box-shadow: 0px 1px 2px rgba(60, 64, 67, 0.3), 0px 1px 3px 1px rgba(60, 64, 67, 0.15);\n",
              "      fill: #174EA6;\n",
              "    }\n",
              "\n",
              "    [theme=dark] .colab-df-convert {\n",
              "      background-color: #3B4455;\n",
              "      fill: #D2E3FC;\n",
              "    }\n",
              "\n",
              "    [theme=dark] .colab-df-convert:hover {\n",
              "      background-color: #434B5C;\n",
              "      box-shadow: 0px 1px 3px 1px rgba(0, 0, 0, 0.15);\n",
              "      filter: drop-shadow(0px 1px 2px rgba(0, 0, 0, 0.3));\n",
              "      fill: #FFFFFF;\n",
              "    }\n",
              "  </style>\n",
              "\n",
              "      <script>\n",
              "        const buttonEl =\n",
              "          document.querySelector('#df-e9893943-d842-4701-bdf2-7743c3f15ea3 button.colab-df-convert');\n",
              "        buttonEl.style.display =\n",
              "          google.colab.kernel.accessAllowed ? 'block' : 'none';\n",
              "\n",
              "        async function convertToInteractive(key) {\n",
              "          const element = document.querySelector('#df-e9893943-d842-4701-bdf2-7743c3f15ea3');\n",
              "          const dataTable =\n",
              "            await google.colab.kernel.invokeFunction('convertToInteractive',\n",
              "                                                     [key], {});\n",
              "          if (!dataTable) return;\n",
              "\n",
              "          const docLinkHtml = 'Like what you see? Visit the ' +\n",
              "            '<a target=\"_blank\" href=https://colab.research.google.com/notebooks/data_table.ipynb>data table notebook</a>'\n",
              "            + ' to learn more about interactive tables.';\n",
              "          element.innerHTML = '';\n",
              "          dataTable['output_type'] = 'display_data';\n",
              "          await google.colab.output.renderOutput(dataTable, element);\n",
              "          const docLink = document.createElement('div');\n",
              "          docLink.innerHTML = docLinkHtml;\n",
              "          element.appendChild(docLink);\n",
              "        }\n",
              "      </script>\n",
              "    </div>\n",
              "  </div>\n",
              "  "
            ]
          },
          "metadata": {},
          "execution_count": 55
        }
      ]
    },
    {
      "cell_type": "code",
      "source": [
        "plt.figure(figsize=(25,10))\n",
        "plt.subplot(1,2,1)\n",
        "plt.plot(history['history']['accuracy'],'-b')\n",
        "plt.plot(history['history']['val_accuracy'],'r')\n",
        "plt.legend(['Training accuracy','Testing accuracy'])\n",
        "plt.axis([0, 120, 0, 1])\n",
        "plt.xlabel('Epochs')\n",
        "plt.ylabel('Accuracy')"
      ],
      "metadata": {
        "id": "sAx431i0WYuZ",
        "colab": {
          "base_uri": "https://localhost:8080/",
          "height": 627
        },
        "outputId": "2e03ddf1-b47c-48dd-90e2-d48f824c5014"
      },
      "execution_count": 56,
      "outputs": [
        {
          "output_type": "execute_result",
          "data": {
            "text/plain": [
              "Text(0, 0.5, 'Accuracy')"
            ]
          },
          "metadata": {},
          "execution_count": 56
        },
        {
          "output_type": "display_data",
          "data": {
            "text/plain": [
              "<Figure size 1800x720 with 1 Axes>"
            ],
            "image/png": "[encoded data removed]"
          },
          "metadata": {
            "needs_background": "light"
          }
        }
      ]
    },
    {
      "cell_type": "code",
      "source": [
        "max(history[\"history\"][\"val_accuracy\"])"
      ],
      "metadata": {
        "id": "SrGpHRGgmMbx",
        "colab": {
          "base_uri": "https://localhost:8080/"
        },
        "outputId": "2fedb746-0fb1-4b82-9e8e-7c4ea88c3be4"
      },
      "execution_count": 57,
      "outputs": [
        {
          "output_type": "execute_result",
          "data": {
            "text/plain": [
              "0.5762081742286682"
            ]
          },
          "metadata": {},
          "execution_count": 57
        }
      ]
    },
    {
      "cell_type": "code",
      "source": [
        "y_test.shape"
      ],
      "metadata": {
        "colab": {
          "base_uri": "https://localhost:8080/"
        },
        "id": "tCrxzZkNVvGh",
        "outputId": "872c51de-de34-41f7-c44f-1022430ad79d"
      },
      "execution_count": 35,
      "outputs": [
        {
          "output_type": "execute_result",
          "data": {
            "text/plain": [
              "(269, 7)"
            ]
          },
          "metadata": {},
          "execution_count": 35
        }
      ]
    },
    {
      "cell_type": "code",
      "source": [
        "y_pred.shape"
      ],
      "metadata": {
        "colab": {
          "base_uri": "https://localhost:8080/"
        },
        "id": "z3-kUe4BVxRG",
        "outputId": "bc0685c4-fd66-4524-dc45-e4b07f645ea2"
      },
      "execution_count": 36,
      "outputs": [
        {
          "output_type": "execute_result",
          "data": {
            "text/plain": [
              "(269, 7)"
            ]
          },
          "metadata": {},
          "execution_count": 36
        }
      ]
    },
    {
      "cell_type": "code",
      "source": [
        "y_pred1=np.around(y_pred)\n",
        "y_pred1"
      ],
      "metadata": {
        "colab": {
          "base_uri": "https://localhost:8080/"
        },
        "id": "6366Lhp7Vy9O",
        "outputId": "db1cd382-69bf-43b9-f640-b14e81672f04"
      },
      "execution_count": 37,
      "outputs": [
        {
          "output_type": "execute_result",
          "data": {
            "text/plain": [
              "array([[0., 0., 0., ..., 0., 1., 0.],\n",
              "       [0., 0., 0., ..., 1., 0., 0.],\n",
              "       [0., 0., 0., ..., 0., 0., 0.],\n",
              "       ...,\n",
              "       [0., 1., 0., ..., 0., 0., 0.],\n",
              "       [0., 0., 0., ..., 0., 0., 0.],\n",
              "       [0., 0., 0., ..., 1., 0., 0.]], dtype=float32)"
            ]
          },
          "metadata": {},
          "execution_count": 37
        }
      ]
    },
    {
      "cell_type": "code",
      "source": [
        "y_pred1.shape"
      ],
      "metadata": {
        "colab": {
          "base_uri": "https://localhost:8080/"
        },
        "id": "1F1rOXm3V81_",
        "outputId": "fa453f92-49e5-4941-da0b-1432619c9804"
      },
      "execution_count": 38,
      "outputs": [
        {
          "output_type": "execute_result",
          "data": {
            "text/plain": [
              "(269, 7)"
            ]
          },
          "metadata": {},
          "execution_count": 38
        }
      ]
    },
    {
      "cell_type": "code",
      "source": [
        "# Importing all necessary libraries\n",
        "from sklearn.metrics import accuracy_score\n",
        "# Calculating the accuracy of classifier\n",
        "print(f\"Accuracy of the classifier is: {accuracy_score(y_test,y_pred1)}\")"
      ],
      "metadata": {
        "colab": {
          "base_uri": "https://localhost:8080/"
        },
        "id": "CkWrzDHGFAHI",
        "outputId": "e869731e-fd0f-4f7d-ab0f-29446b89d989"
      },
      "execution_count": 39,
      "outputs": [
        {
          "output_type": "stream",
          "name": "stdout",
          "text": [
            "Accuracy of the classifier is: 0.3680297397769517\n"
          ]
        }
      ]
    },
    {
      "cell_type": "code",
      "source": [
        "gfcc_dict={\"y_test_gfcc\":y_test,\"y_pred_gfcc\":y_pred1}\n",
        "gfcc_dict"
      ],
      "metadata": {
        "colab": {
          "base_uri": "https://localhost:8080/"
        },
        "id": "8YA7zu-OWRTk",
        "outputId": "e0d71b1d-3b89-4737-f722-a42ecd60b988"
      },
      "execution_count": 40,
      "outputs": [
        {
          "output_type": "execute_result",
          "data": {
            "text/plain": [
              "{'y_pred_gfcc': array([[0., 0., 0., ..., 0., 1., 0.],\n",
              "        [0., 0., 0., ..., 1., 0., 0.],\n",
              "        [0., 0., 0., ..., 0., 0., 0.],\n",
              "        ...,\n",
              "        [0., 1., 0., ..., 0., 0., 0.],\n",
              "        [0., 0., 0., ..., 0., 0., 0.],\n",
              "        [0., 0., 0., ..., 1., 0., 0.]], dtype=float32),\n",
              " 'y_test_gfcc': array([[0., 0., 0., ..., 0., 0., 1.],\n",
              "        [0., 0., 0., ..., 1., 0., 0.],\n",
              "        [0., 0., 0., ..., 0., 0., 0.],\n",
              "        ...,\n",
              "        [0., 1., 0., ..., 0., 0., 0.],\n",
              "        [0., 0., 0., ..., 0., 0., 1.],\n",
              "        [0., 0., 0., ..., 0., 1., 0.]], dtype=float32)}"
            ]
          },
          "metadata": {},
          "execution_count": 40
        }
      ]
    },
    {
      "cell_type": "code",
      "source": [
        "from sklearn.metrics import precision_score\n",
        "\n",
        "# Calculating the precision score of classifier\n",
        "print(f\"Precision Score of the classifier is: {precision_score(y_test,y_pred1,average='micro')}\")"
      ],
      "metadata": {
        "colab": {
          "base_uri": "https://localhost:8080/"
        },
        "id": "glxrmdx5W1kA",
        "outputId": "6684030b-4c15-4f3a-ab85-4e22fbb8993c"
      },
      "execution_count": 41,
      "outputs": [
        {
          "output_type": "stream",
          "name": "stdout",
          "text": [
            "Precision Score of the classifier is: 0.5103092783505154\n"
          ]
        }
      ]
    },
    {
      "cell_type": "code",
      "source": [
        "from sklearn.metrics import f1_score\n",
        "\n",
        "# Calculating the F1 score of classifier\n",
        "print(f\"F1 Score of the classifier is: {f1_score(y_test, y_pred1,average='micro')}\")"
      ],
      "metadata": {
        "colab": {
          "base_uri": "https://localhost:8080/"
        },
        "id": "PMgk_7v7aIfm",
        "outputId": "41ec38bb-db88-4c90-c507-203d604fb4cc"
      },
      "execution_count": 42,
      "outputs": [
        {
          "output_type": "stream",
          "name": "stdout",
          "text": [
            "F1 Score of the classifier is: 0.42764578833693306\n"
          ]
        }
      ]
    },
    {
      "cell_type": "code",
      "source": [
        "y_pred1"
      ],
      "metadata": {
        "colab": {
          "base_uri": "https://localhost:8080/"
        },
        "id": "LfYZqDGtXIOK",
        "outputId": "bd1560b7-618f-45df-8474-a80a14d8b27b"
      },
      "execution_count": 43,
      "outputs": [
        {
          "output_type": "execute_result",
          "data": {
            "text/plain": [
              "array([[0., 0., 0., ..., 0., 1., 0.],\n",
              "       [0., 0., 0., ..., 1., 0., 0.],\n",
              "       [0., 0., 0., ..., 0., 0., 0.],\n",
              "       ...,\n",
              "       [0., 1., 0., ..., 0., 0., 0.],\n",
              "       [0., 0., 0., ..., 0., 0., 0.],\n",
              "       [0., 0., 0., ..., 1., 0., 0.]], dtype=float32)"
            ]
          },
          "metadata": {},
          "execution_count": 43
        }
      ]
    },
    {
      "cell_type": "code",
      "source": [
        "y_test"
      ],
      "metadata": {
        "colab": {
          "base_uri": "https://localhost:8080/"
        },
        "id": "nc5wBhy4XNox",
        "outputId": "9e478e6d-7b99-46d1-8149-8ab20c9b2a9e"
      },
      "execution_count": 44,
      "outputs": [
        {
          "output_type": "execute_result",
          "data": {
            "text/plain": [
              "array([[0., 0., 0., ..., 0., 0., 1.],\n",
              "       [0., 0., 0., ..., 1., 0., 0.],\n",
              "       [0., 0., 0., ..., 0., 0., 0.],\n",
              "       ...,\n",
              "       [0., 1., 0., ..., 0., 0., 0.],\n",
              "       [0., 0., 0., ..., 0., 0., 1.],\n",
              "       [0., 0., 0., ..., 0., 1., 0.]], dtype=float32)"
            ]
          },
          "metadata": {},
          "execution_count": 44
        }
      ]
    },
    {
      "cell_type": "code",
      "source": [
        "y_test"
      ],
      "metadata": {
        "colab": {
          "base_uri": "https://localhost:8080/"
        },
        "id": "tTq6gPQMXPpO",
        "outputId": "12e2943c-f141-4cbf-9a6f-e2f9d53f60a2"
      },
      "execution_count": 45,
      "outputs": [
        {
          "output_type": "execute_result",
          "data": {
            "text/plain": [
              "array([[0., 0., 0., ..., 0., 0., 1.],\n",
              "       [0., 0., 0., ..., 1., 0., 0.],\n",
              "       [0., 0., 0., ..., 0., 0., 0.],\n",
              "       ...,\n",
              "       [0., 1., 0., ..., 0., 0., 0.],\n",
              "       [0., 0., 0., ..., 0., 0., 1.],\n",
              "       [0., 0., 0., ..., 0., 1., 0.]], dtype=float32)"
            ]
          },
          "metadata": {},
          "execution_count": 45
        }
      ]
    },
    {
      "cell_type": "code",
      "source": [
        "pickle.dump(gfcc_dict, open(file_path_model+'gfcc_dict_values.p', 'wb'))"
      ],
      "metadata": {
        "id": "I907WT-3YJu7"
      },
      "execution_count": 46,
      "outputs": []
    },
    {
      "cell_type": "code",
      "source": [
        "  "
      ],
      "metadata": {
        "id": "Fmom68hTb1Wr"
      },
      "execution_count": null,
      "outputs": []
    }
  ]
}