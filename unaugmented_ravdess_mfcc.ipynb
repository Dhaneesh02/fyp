{
  "nbformat": 4,
  "nbformat_minor": 0,
  "metadata": {
    "colab": {
      "name": "unaugmented_ravdess_mfcc.ipynb",
      "provenance": [],
      "machine_shape": "hm",
      "collapsed_sections": [],
      "include_colab_link": true
    },
    "kernelspec": {
      "name": "python3",
      "display_name": "Python 3"
    },
    "language_info": {
      "name": "python"
    },
    "accelerator": "GPU"
  },
  "cells": [
    {
      "cell_type": "markdown",
      "metadata": {
        "id": "view-in-github",
        "colab_type": "text"
      },
      "source": [
        "<a href=\"https://colab.research.google.com/github/Dhaneesh02/fyp/blob/unaugmented_ravdess_mfcc/unaugmented_ravdess_mfcc.ipynb\" target=\"_parent\"><img src=\"https://colab.research.google.com/assets/colab-badge.svg\" alt=\"Open In Colab\"/></a>"
      ]
    },
    {
      "cell_type": "code",
      "source": [
        "file_path = '/content/drive/MyDrive/Review_3/ravdess/RAVDESS/'\n",
        "file_path_model = '/content/drive/MyDrive/Review_3/ravdess/unaugmented_ravdess_mfcc/'"
      ],
      "metadata": {
        "id": "GPFdVXjCAnTS"
      },
      "execution_count": null,
      "outputs": []
    },
    {
      "cell_type": "code",
      "execution_count": null,
      "metadata": {
        "colab": {
          "base_uri": "https://localhost:8080/",
          "height": 17
        },
        "id": "-mK_p7Vx-Gr_",
        "outputId": "c9d3e907-1248-43d4-9b0d-cded5ba54933"
      },
      "outputs": [
        {
          "output_type": "display_data",
          "data": {
            "text/html": [
              "        <script type=\"text/javascript\">\n",
              "        window.PlotlyConfig = {MathJaxConfig: 'local'};\n",
              "        if (window.MathJax) {MathJax.Hub.Config({SVG: {font: \"STIX-Web\"}});}\n",
              "        if (typeof require !== 'undefined') {\n",
              "        require.undef(\"plotly\");\n",
              "        requirejs.config({\n",
              "            paths: {\n",
              "                'plotly': ['https://cdn.plot.ly/plotly-2.8.3.min']\n",
              "            }\n",
              "        });\n",
              "        require(['plotly'], function(Plotly) {\n",
              "            window._Plotly = Plotly;\n",
              "        });\n",
              "        }\n",
              "        </script>\n",
              "        "
            ]
          },
          "metadata": {}
        }
      ],
      "source": [
        "### General imports ###\n",
        "import os\n",
        "from glob import glob\n",
        "import pickle\n",
        "import itertools\n",
        "from scipy.stats import zscore\n",
        "from sklearn.model_selection import train_test_split\n",
        "import random\n",
        "import sys\n",
        "\n",
        "\n",
        "## Package\n",
        "import glob \n",
        "import keras\n",
        "import IPython.display as ipd\n",
        "import librosa\n",
        "import librosa.display\n",
        "import matplotlib.pyplot as plt\n",
        "import numpy as np\n",
        "import pandas as pd\n",
        "import plotly.graph_objs as go\n",
        "import plotly.offline as py\n",
        "import plotly.tools as tls\n",
        "import seaborn as sns\n",
        "import scipy.io.wavfile\n",
        "import tensorflow as tf\n",
        "py.init_notebook_mode(connected=True)\n",
        "\n",
        "\n",
        "## Keras\n",
        "from keras import regularizers\n",
        "from keras.callbacks import ModelCheckpoint, LearningRateScheduler, EarlyStopping\n",
        "from keras.callbacks import  History, ReduceLROnPlateau, CSVLogger\n",
        "from keras.models import Model, Sequential\n",
        "from keras.layers import Dense, Embedding, LSTM\n",
        "from keras.layers import Input, Flatten, Dropout, Activation, BatchNormalization\n",
        "from keras.layers import Conv1D, MaxPooling1D, AveragePooling1D\n",
        "from keras.preprocessing import sequence\n",
        "from keras.preprocessing.sequence import pad_sequences\n",
        "from keras.preprocessing.text import Tokenizer\n",
        "from keras.utils import np_utils\n",
        "\n",
        "\n",
        "## Sklearn\n",
        "from sklearn.metrics import confusion_matrix\n",
        "from sklearn.preprocessing import LabelEncoder\n",
        "\n",
        "\n",
        "## Rest\n",
        "from scipy.fftpack import fft\n",
        "from scipy import signal\n",
        "from scipy.io import wavfile\n",
        "from tqdm import tqdm\n",
        "\n",
        "input_duration=3\n",
        "# % pylab inline\n",
        "### Graph imports ###\n",
        "from PIL import Image\n",
        "import librosa\n",
        "### Audio import ###\n",
        "\n",
        "import IPython\n",
        "from IPython.display import Audio"
      ]
    },
    {
      "cell_type": "code",
      "source": [
        "from google.colab import drive\n",
        "drive.mount('/content/drive')"
      ],
      "metadata": {
        "colab": {
          "base_uri": "https://localhost:8080/"
        },
        "id": "5V_9hUndAisL",
        "outputId": "7bcad102-61b8-4373-b441-b1be4377eb57"
      },
      "execution_count": null,
      "outputs": [
        {
          "output_type": "stream",
          "name": "stdout",
          "text": [
            "Mounted at /content/drive\n"
          ]
        }
      ]
    },
    {
      "cell_type": "code",
      "source": [
        "# RAVDESS Database\n",
        "label_dict_ravdess = {'02': 'NEU', '03':'HAP', '04':'SAD', '05':'ANG', '06':'FEA', '07':'DIS', '08':'SUR'}\n",
        "#data_visualistion\n",
        "data_df = pd.DataFrame(columns=['path', 'source', 'actor', 'gender',\n",
        "                                'intensity', 'statement', 'repetition', 'emotion'])\n",
        "# Set audio files labels\n",
        "def set_label_ravdess(audio_file, gender_differentiation):\n",
        "    label = label_dict_ravdess.get(audio_file[6:8])\n",
        "    if gender_differentiation == True:\n",
        "        if int(audio_file[18:20])%2 == 0: # Female\n",
        "            label = 'female_' + label\n",
        "        if int(audio_file[18:20])%2 == 1: # Male\n",
        "            label = 'male_' + label\n",
        "    return label"
      ],
      "metadata": {
        "id": "3lqc0wb04S6y"
      },
      "execution_count": null,
      "outputs": []
    },
    {
      "cell_type": "code",
      "source": [
        "# Start feature extraction\n",
        "print(\"Import Data: START\")\n",
        "\n",
        "# Initialize features and labels list\n",
        "signal = []\n",
        "labels = []\n",
        "\n",
        "# Sample rate (16.0 kHz)\n",
        "sample_rate = 16000     \n",
        "\n",
        "# Max pad length (3.0 sec)\n",
        "max_pad_len = 49100\n",
        "\n",
        "file_name_list=[]\n",
        "\n",
        "#data_visualisation\n",
        "count = 0\n",
        "\n",
        "# Compute spectogram for all audio file\n",
        "for index,ravdess in enumerate(os.listdir(file_path)):\n",
        "    ravdess=file_path+ravdess+'/'\n",
        "    file_names = os.listdir(ravdess)\n",
        "    file_name_list+=file_names\n",
        "\n",
        "    for audio_index, audio_file in enumerate(file_names):\n",
        "      if audio_file[6:8] in list(label_dict_ravdess.keys()):\n",
        "\n",
        "        # Read audio file\n",
        "        y, sr = librosa.core.load(ravdess + audio_file, sr=sample_rate, offset=0.5)  #y->audio time series\n",
        "\n",
        "        # Z-normalization\n",
        "        # Audio normalization is when you put constant gain to a recording so that you\n",
        "        # can bring the average amplitude to the desired level. In other words,\n",
        "        # it means changing the audio's overall volume to fixed amount.\n",
        "        y = zscore(y)\n",
        "\n",
        "        # Padding or truncated signal \n",
        "        # reducing the audio file duration to 3 s\n",
        "        if len(y) < max_pad_len:    \n",
        "            y_padded = np.zeros(max_pad_len)\n",
        "            y_padded[:len(y)] = y\n",
        "            y = y_padded\n",
        "        elif len(y) > max_pad_len:\n",
        "            y = np.asarray(y[:max_pad_len])\n",
        "\n",
        "        # Add to signal list\n",
        "        signal.append(y)\n",
        "\n",
        "        # Set label\n",
        "        labels.append(set_label_ravdess(audio_file, False))\n",
        "        \n",
        "\n",
        "        count += 1\n",
        "      # Print running...\n",
        "    print(\"Import Data: RUNNING ... {} files\".format(audio_index))\n",
        "\n",
        "\n",
        "# Cast labels to array\n",
        "labels = np.asarray(labels).ravel()\n",
        "file_names = file_name_list\n",
        "# Stop feature extraction\n",
        "print(\"Import Data: END \\n\")\n",
        "print(\"Number of audio files imported: {}\".format(labels.shape[0]))\n"
      ],
      "metadata": {
        "colab": {
          "base_uri": "https://localhost:8080/"
        },
        "id": "OGGHfU6qJ3FF",
        "outputId": "d5365b5f-ea82-4fff-b688-0dc33c76ecbc"
      },
      "execution_count": null,
      "outputs": [
        {
          "output_type": "stream",
          "name": "stdout",
          "text": [
            "Import Data: START\n",
            "Import Data: RUNNING ... 59 files\n",
            "Import Data: RUNNING ... 59 files\n",
            "Import Data: RUNNING ... 59 files\n",
            "Import Data: RUNNING ... 59 files\n",
            "Import Data: RUNNING ... 59 files\n",
            "Import Data: RUNNING ... 59 files\n",
            "Import Data: RUNNING ... 59 files\n",
            "Import Data: RUNNING ... 59 files\n",
            "Import Data: RUNNING ... 59 files\n",
            "Import Data: RUNNING ... 59 files\n",
            "Import Data: RUNNING ... 59 files\n",
            "Import Data: RUNNING ... 59 files\n",
            "Import Data: RUNNING ... 59 files\n",
            "Import Data: RUNNING ... 59 files\n",
            "Import Data: RUNNING ... 59 files\n",
            "Import Data: RUNNING ... 59 files\n",
            "Import Data: RUNNING ... 59 files\n",
            "Import Data: RUNNING ... 59 files\n",
            "Import Data: RUNNING ... 59 files\n",
            "Import Data: RUNNING ... 59 files\n",
            "Import Data: RUNNING ... 59 files\n",
            "Import Data: RUNNING ... 59 files\n",
            "Import Data: RUNNING ... 59 files\n",
            "Import Data: RUNNING ... 59 files\n",
            "Import Data: END \n",
            "\n",
            "Number of audio files imported: 1344\n"
          ]
        }
      ]
    },
    {
      "cell_type": "code",
      "source": [
        "pickle.dump(signal, open(file_path_model+'signal.p', 'wb'))\n",
        "pickle.dump(file_names, open(file_path_model+'file_names.p', 'wb'))\n",
        "pickle.dump(labels, open(file_path_model+'labels.p', 'wb'))"
      ],
      "metadata": {
        "id": "YdUtIvqsSHh3"
      },
      "execution_count": null,
      "outputs": []
    },
    {
      "cell_type": "code",
      "source": [
        "\n",
        "# # Initialize features and labels list\n",
        "# signal = []\n",
        "# labels = []\n",
        "# file_names = []\n",
        "\n",
        "# # Sample rate (16.0 kHz)\n",
        "# sample_rate = 16000     \n",
        "\n",
        "# # Max pad length (3.0 sec)\n",
        "# max_pad_len = 49100\n",
        "\n",
        "\n",
        "# signal=pickle.load(open(file_path_model+\"signal.p\",\"rb\"))\n",
        "# file_names=pickle.load(open(file_path_model+\"file_names.p\",\"rb\"))\n",
        "# labels=pickle.load(open(file_path_model+\"labels.p\",\"rb\"))\n",
        "\n",
        "# #data_visualisation\n",
        "# count = len(signal)\n",
        "# print(\"Import Data: END \\n\")\n",
        "# print(\"Number of audio files imported: {}\".format(labels.shape[0]))"
      ],
      "metadata": {
        "id": "S_FvEvcHSPcV"
      },
      "execution_count": null,
      "outputs": []
    },
    {
      "cell_type": "code",
      "source": [
        "g=0\n",
        "def mel_spectrogram(y, sr=16000, n_fft=512, win_length=256, hop_length=128, window='hamming', n_mels=128, fmax=4000):\n",
        "    global g\n",
        "    if g%300==0:\n",
        "      print(g) \n",
        "    g+=1\n",
        "    # Compute spectogram\n",
        "    mel_spect = np.abs(librosa.stft(y, n_fft=n_fft, window=window, win_length=win_length, hop_length=hop_length)) ** 2\n",
        "    \n",
        "    # Compute mel spectrogram\n",
        "    mel_spect = librosa.feature.melspectrogram(S=mel_spect, sr=sr, n_mels=n_mels, fmax=fmax)\n",
        "    \n",
        "    # Compute log-mel spectrogram\n",
        "    mel_spect = librosa.power_to_db(mel_spect, ref=np.max)\n",
        "    \n",
        "    return mel_spect"
      ],
      "metadata": {
        "id": "yzfb0WqySa6j"
      },
      "execution_count": null,
      "outputs": []
    },
    {
      "cell_type": "code",
      "source": [
        "import gc"
      ],
      "metadata": {
        "id": "04OsnhpTSccC"
      },
      "execution_count": null,
      "outputs": []
    },
    {
      "cell_type": "code",
      "source": [
        "# Start feature extraction\n",
        "print(\"Feature extraction: START\")\n",
        "\n",
        "# Compute spectogram for all audio file\n",
        "mel_spect = []\n",
        "# print(len(signal),len(s))\n",
        "for i in range(len(signal)):\n",
        "  mel_spect.append(mel_spectrogram(signal[i]))\n",
        "\n",
        "\n",
        "mel_spect = np.asarray(mel_spect)\n",
        "del signal\n",
        "gc.collect()\n",
        "\n",
        "# Stop feature extraction\n",
        "print(\"Feature extraction: END!\")"
      ],
      "metadata": {
        "colab": {
          "base_uri": "https://localhost:8080/"
        },
        "id": "tupYZ1xOSext",
        "outputId": "9d1f637d-85ab-4f09-b771-8a864b6dfcaf"
      },
      "execution_count": null,
      "outputs": [
        {
          "output_type": "stream",
          "name": "stdout",
          "text": [
            "Feature extraction: START\n",
            "0\n",
            "300\n",
            "600\n",
            "900\n",
            "1200\n",
            "Feature extraction: END!\n"
          ]
        }
      ]
    },
    {
      "cell_type": "code",
      "source": [
        "pickle.dump(mel_spect, open(file_path_model+'mel_spect.p', 'wb'), protocol=4)\n"
      ],
      "metadata": {
        "id": "6Om1_EFPlnpN"
      },
      "execution_count": null,
      "outputs": []
    },
    {
      "cell_type": "code",
      "source": [
        "print(mel_spect.shape)\n",
        "print(labels.shape)"
      ],
      "metadata": {
        "colab": {
          "base_uri": "https://localhost:8080/"
        },
        "id": "KHvOgKOzSjcK",
        "outputId": "1e46ce39-dcdf-4ace-ebef-cdd4f04f2ead"
      },
      "execution_count": null,
      "outputs": [
        {
          "output_type": "stream",
          "name": "stdout",
          "text": [
            "(1344, 128, 384)\n",
            "(1344,)\n"
          ]
        }
      ]
    },
    {
      "cell_type": "code",
      "source": [
        "labels=pickle.load(open(file_path_model+\"labels.p\",\"rb\"))"
      ],
      "metadata": {
        "id": "PI1pmF_IVdSF"
      },
      "execution_count": null,
      "outputs": []
    },
    {
      "cell_type": "code",
      "source": [
        "# Build Train and test dataset\n",
        "MEL_SPECT_train, MEL_SPECT_test,  label_train, label_test = train_test_split(mel_spect,  labels, test_size=0.2)\n",
        "# MEL_SPECT_train, MEL_SPECT_test, AUG_MEL_SPECT_train, AUG_MEL_SPECT_test, label_train, label_test = train_test_split(mel_spect, augmented_mel_spect, labels, test_size=0.2)\n",
        "\n",
        "# Build augmented labels and train\n",
        "# aug_label_train = np.asarray(list(itertools.chain.from_iterable([[label] * nb_augmented for label in label_train])))\n",
        "# AUG_MEL_SPECT_train = np.asarray(list(itertools.chain.from_iterable(AUG_MEL_SPECT_train)))\n",
        "# AUG_MEL_SPECT_test = np.asarray(list(itertools.chain.from_iterable(AUG_MEL_SPECT_test)))\n",
        "# aug_label_test = np.asarray(list(itertools.chain.from_iterable([[label] * nb_augmented for label in label_test])))\n",
        "# print(AUG_MEL_SPECT_train.shape)\n",
        "# print(AUG_MEL_SPECT_test.shape)\n",
        "# Concatenate original and augmented\n",
        "X_train = MEL_SPECT_train\n",
        "y_train = label_train\n",
        "# X_train = np.concatenate((MEL_SPECT_train, AUG_MEL_SPECT_train))\n",
        "# y_train = np.concatenate((label_train, label_train))\n",
        "\n",
        "print(\"x_train: \",X_train.shape)\n",
        "print(\"y_train: \",y_train.shape)\n",
        "# Build test set\n",
        "# X_test = np.concatenate((MEL_SPECT_test, AUG_MEL_SPECT_test))\n",
        "X_test = MEL_SPECT_test\n",
        "# y_test = np.concatenate((label_test, label_test))\n",
        "y_test = label_test\n",
        "print(X_test.shape)\n",
        "print(y_test.shape)\n",
        "# Delete\n",
        "del MEL_SPECT_train,MEL_SPECT_test\n",
        "# del MEL_SPECT_train, AUG_MEL_SPECT_train, label_train, AUG_MEL_SPECT_test, MEL_SPECT_test, label_test\n",
        "# del mel_spect, augmented_mel_spect, labels"
      ],
      "metadata": {
        "colab": {
          "base_uri": "https://localhost:8080/"
        },
        "id": "m3FANhgdViOM",
        "outputId": "0163b1eb-1636-4a6c-ebf3-71eecc2f0850"
      },
      "execution_count": null,
      "outputs": [
        {
          "output_type": "stream",
          "name": "stdout",
          "text": [
            "x_train:  (1075, 128, 384)\n",
            "y_train:  (1075,)\n",
            "(269, 128, 384)\n",
            "(269,)\n"
          ]
        }
      ]
    },
    {
      "cell_type": "code",
      "source": [
        "win_ts = 128\n",
        "hop_ts = 64\n",
        "\n",
        "def frame(x, win_step=128, win_size=64):\n",
        "    nb_frames = 1 + int((x.shape[2] - win_size) / win_step)\n",
        "    frames = np.zeros((x.shape[0], nb_frames, x.shape[1], win_size)).astype(np.float32)\n",
        "    for t in range(nb_frames):\n",
        "        frames[:,t,:,:] = np.copy(x[:,:,(t * win_step):(t * win_step + win_size)]).astype(np.float32)\n",
        "    return frames\n",
        "\n",
        "X_train = frame(X_train, hop_ts, win_ts)\n",
        "X_test = frame(X_test, hop_ts, win_ts)\n"
      ],
      "metadata": {
        "id": "9PQvkF_7VoMR"
      },
      "execution_count": null,
      "outputs": []
    },
    {
      "cell_type": "code",
      "source": [
        "\n",
        "X_test.shape"
      ],
      "metadata": {
        "colab": {
          "base_uri": "https://localhost:8080/"
        },
        "id": "cLfDOehmVp5v",
        "outputId": "d2e33920-9432-415d-9ffc-df396b821c81"
      },
      "execution_count": null,
      "outputs": [
        {
          "output_type": "execute_result",
          "data": {
            "text/plain": [
              "(269, 5, 128, 128)"
            ]
          },
          "metadata": {},
          "execution_count": 20
        }
      ]
    },
    {
      "cell_type": "code",
      "source": [
        "# Save Train and test set\n",
        "pickle.dump(X_train.astype(np.float16), open(file_path_model+'[X_train].p', 'wb'))\n",
        "pickle.dump(y_train, open(file_path_model+'[y_train].p', 'wb'))\n",
        "pickle.dump(X_test.astype(np.float16), open(file_path_model+'[X_test].p', 'wb'))\n",
        "pickle.dump(y_test, open(file_path_model+'[y_test].p', 'wb'))"
      ],
      "metadata": {
        "id": "ai5r1KnDVro4"
      },
      "execution_count": null,
      "outputs": []
    },
    {
      "cell_type": "code",
      "source": [
        "import os\n",
        "from glob import glob\n",
        "import pickle\n",
        "import numpy as np\n",
        "import pandas as pd\n",
        "from keras.utils.vis_utils import plot_model\n",
        "### Plot imports ###\n",
        "from IPython.display import Image\n",
        "import matplotlib.pyplot as plt\n",
        "\n",
        "### Time Distributed ConvNet imports ###\n",
        "import tensorflow as tf\n",
        "from tensorflow.keras.models import Sequential, Model\n",
        "from tensorflow.keras.layers import Input, Dense, Dropout, Activation, TimeDistributed, concatenate\n",
        "from tensorflow.keras.layers import Conv2D, MaxPooling2D, AveragePooling2D, BatchNormalization, LeakyReLU, Flatten\n",
        "from tensorflow.keras.layers import LSTM\n",
        "from tensorflow.keras.optimizers import Adam, SGD\n",
        "from tensorflow.keras.callbacks import EarlyStopping, ModelCheckpoint, ReduceLROnPlateau\n",
        "from tensorflow.keras import backend as K\n",
        "from keras.utils import np_utils\n",
        "from keras.utils.vis_utils import plot_model\n",
        "from sklearn.preprocessing import LabelEncoder\n",
        "\n",
        "### Warning ###\n",
        "import warnings\n",
        "warnings.filterwarnings('ignore')"
      ],
      "metadata": {
        "id": "Y4BEJ9ZtVyv7"
      },
      "execution_count": null,
      "outputs": []
    },
    {
      "cell_type": "code",
      "source": [
        "file_path = '/content/drive/MyDrive/Review_3/ravdess/RAVDESS/'\n",
        "file_path_model = '/content/drive/MyDrive/Review_3/ravdess/unaugmented_ravdess_mfcc/'"
      ],
      "metadata": {
        "id": "a6JU9w23rL5y"
      },
      "execution_count": null,
      "outputs": []
    },
    {
      "cell_type": "code",
      "source": [
        "from google.colab import drive\n",
        "drive.mount('/content/drive')"
      ],
      "metadata": {
        "colab": {
          "base_uri": "https://localhost:8080/"
        },
        "id": "Qh1fjWt7V0yR",
        "outputId": "07c0ef94-8a23-476a-99e1-18cc290d54a2"
      },
      "execution_count": null,
      "outputs": [
        {
          "output_type": "stream",
          "name": "stdout",
          "text": [
            "Drive already mounted at /content/drive; to attempt to forcibly remount, call drive.mount(\"/content/drive\", force_remount=True).\n"
          ]
        }
      ]
    },
    {
      "cell_type": "code",
      "source": [
        "X_train = pickle.load(open(file_path_model+'[X_train].p', 'rb'))\n",
        "y_train = pickle.load(open(file_path_model+'[y_train].p', 'rb'))\n",
        "y_test = pickle.load(open(file_path_model+'[y_test].p', 'rb'))\n",
        "X_test = pickle.load(open(file_path_model+'[X_test].p', 'rb'))"
      ],
      "metadata": {
        "id": "SwPl1CcDV2mz"
      },
      "execution_count": null,
      "outputs": []
    },
    {
      "cell_type": "code",
      "source": [
        "print(X_train.shape)\n",
        "print(y_train.shape)\n",
        "print(X_test.shape)\n",
        "print(y_test.shape) "
      ],
      "metadata": {
        "colab": {
          "base_uri": "https://localhost:8080/"
        },
        "id": "blFAeZSBV8zT",
        "outputId": "ed31ecc9-ae7c-4599-f7e1-e109ea03b4ac"
      },
      "execution_count": null,
      "outputs": [
        {
          "output_type": "stream",
          "name": "stdout",
          "text": [
            "(1075, 5, 128, 128)\n",
            "(1075,)\n",
            "(269, 5, 128, 128)\n",
            "(269,)\n"
          ]
        }
      ]
    },
    {
      "cell_type": "code",
      "source": [
        "print(file_path_model)\n",
        "lb = LabelEncoder()\n",
        "y_train = np_utils.to_categorical(lb.fit_transform(np.ravel(y_train)))\n",
        "y_test = np_utils.to_categorical(lb.transform(np.ravel(y_test)))"
      ],
      "metadata": {
        "id": "d07gF5cEV-1B",
        "colab": {
          "base_uri": "https://localhost:8080/"
        },
        "outputId": "b3e11cfa-8bb7-4099-b47c-6ab90930c2a1"
      },
      "execution_count": null,
      "outputs": [
        {
          "output_type": "stream",
          "name": "stdout",
          "text": [
            "/content/drive/MyDrive/Review_3/ravdess/unaugmented_ravdess_mfcc/\n"
          ]
        }
      ]
    },
    {
      "cell_type": "code",
      "source": [
        "# Reshape for convolution\n",
        "X_train = X_train.reshape(X_train.shape[0], X_train.shape[1] , X_train.shape[2], X_train.shape[3], 1)\n",
        "X_test = X_test.reshape(X_test.shape[0], X_test.shape[1] , X_test.shape[2], X_test.shape[3], 1)"
      ],
      "metadata": {
        "id": "upkJ5BtRWCA3"
      },
      "execution_count": null,
      "outputs": []
    },
    {
      "cell_type": "code",
      "source": [
        "X_train.shape[1:]"
      ],
      "metadata": {
        "colab": {
          "base_uri": "https://localhost:8080/"
        },
        "id": "UjcdxKTUWEM6",
        "outputId": "24873af3-3869-4dfd-8101-df254c339725"
      },
      "execution_count": null,
      "outputs": [
        {
          "output_type": "execute_result",
          "data": {
            "text/plain": [
              "(5, 128, 128, 1)"
            ]
          },
          "metadata": {},
          "execution_count": 29
        }
      ]
    },
    {
      "cell_type": "code",
      "source": [
        "K.clear_session()\n",
        "\n",
        "input_y = Input(shape=X_train.shape[1:], name='Input_MELSPECT')\n",
        "\n",
        "y = TimeDistributed(Conv2D(64, kernel_size=(3, 3), padding='same'), name='Conv_1_MELSPECT')(input_y)\n",
        "y = TimeDistributed(BatchNormalization(), name='BatchNorm_1_MELSPECT')(y)\n",
        "y = TimeDistributed(Activation('elu'), name='Activ_1_MELSPECT')(y)\n",
        "y = TimeDistributed(MaxPooling2D(pool_size=(2, 2), strides=(2, 2), padding='same'), name='MaxPool_1_MELSPECT')(y)\n",
        "y = TimeDistributed(Dropout(0.2), name='Drop_1_MELSPECT')(y)     \n",
        "\n",
        "y = TimeDistributed(Conv2D(64, kernel_size=(3, 3), strides=(1, 1), padding='same'), name='Conv_2_MELSPECT')(y)\n",
        "y = TimeDistributed(BatchNormalization(), name='BatchNorm_2_MELSPECT')(y)\n",
        "y = TimeDistributed(Activation('elu'), name='Activ_2_MELSPECT')(y)\n",
        "y = TimeDistributed(MaxPooling2D(pool_size=(4, 4), strides=(4, 4), padding='same'), name='MaxPool_2_MELSPECT')(y)\n",
        "y = TimeDistributed(Dropout(0.2), name='Drop_2_MELSPECT')(y)\n",
        "\n",
        "y = TimeDistributed(Conv2D(128, kernel_size=(3, 3), strides=(1, 1), padding='same'), name='Conv_3_MELSPECT')(y)\n",
        "y = TimeDistributed(BatchNormalization(), name='BatchNorm_3_MELSPECT')(y)\n",
        "y = TimeDistributed(Activation('elu'), name='Activ_3_MELSPECT')(y)\n",
        "y = TimeDistributed(MaxPooling2D(pool_size=(4, 4), strides=(4, 4), padding='same'), name='MaxPool_3_MELSPECT')(y)\n",
        "y = TimeDistributed(Dropout(0.2), name='Drop_3_MELSPECT')(y)\n",
        "\n",
        "y = TimeDistributed(Conv2D(128, kernel_size=(3, 3), strides=(1, 1), padding='same'), name='Conv_4_MELSPECT')(y)\n",
        "y = TimeDistributed(BatchNormalization(), name='BatchNorm_4_MELSPECT')(y)\n",
        "y = TimeDistributed(Activation('elu'), name='Activ_4_MELSPECT')(y)\n",
        "y = TimeDistributed(MaxPooling2D(pool_size=(4, 4), strides=(4, 4), padding='same'), name='MaxPool_4_MELSPECT')(y)\n",
        "y = TimeDistributed(Dropout(0.2), name='Drop_4_MELSPECT')(y)  \n",
        "\n",
        "y = TimeDistributed(Flatten(), name='Flat_MELSPECT')(y)                                           \n",
        "# Apply 2 LSTM layer and one FC\n",
        "y = LSTM(256, return_sequences=False, dropout=0.2, name='LSTM_1')(y)\n",
        "y = Dense(y_train.shape[1], activation='softmax', name='FC')(y)\n",
        "\n",
        "# Build final model\n",
        "model = Model(inputs=input_y, outputs=y)\n",
        "model.summary()"
      ],
      "metadata": {
        "colab": {
          "base_uri": "https://localhost:8080/"
        },
        "id": "0_W4EmvTWFpH",
        "outputId": "7a6c745c-2c2a-4e85-dc9f-31700a769fc7"
      },
      "execution_count": null,
      "outputs": [
        {
          "output_type": "stream",
          "name": "stdout",
          "text": [
            "Model: \"model\"\n",
            "_________________________________________________________________\n",
            " Layer (type)                Output Shape              Param #   \n",
            "=================================================================\n",
            " Input_MELSPECT (InputLayer)  [(None, 5, 128, 128, 1)]  0        \n",
            "                                                                 \n",
            " Conv_1_MELSPECT (TimeDistri  (None, 5, 128, 128, 64)  640       \n",
            " buted)                                                          \n",
            "                                                                 \n",
            " BatchNorm_1_MELSPECT (TimeD  (None, 5, 128, 128, 64)  256       \n",
            " istributed)                                                     \n",
            "                                                                 \n",
            " Activ_1_MELSPECT (TimeDistr  (None, 5, 128, 128, 64)  0         \n",
            " ibuted)                                                         \n",
            "                                                                 \n",
            " MaxPool_1_MELSPECT (TimeDis  (None, 5, 64, 64, 64)    0         \n",
            " tributed)                                                       \n",
            "                                                                 \n",
            " Drop_1_MELSPECT (TimeDistri  (None, 5, 64, 64, 64)    0         \n",
            " buted)                                                          \n",
            "                                                                 \n",
            " Conv_2_MELSPECT (TimeDistri  (None, 5, 64, 64, 64)    36928     \n",
            " buted)                                                          \n",
            "                                                                 \n",
            " BatchNorm_2_MELSPECT (TimeD  (None, 5, 64, 64, 64)    256       \n",
            " istributed)                                                     \n",
            "                                                                 \n",
            " Activ_2_MELSPECT (TimeDistr  (None, 5, 64, 64, 64)    0         \n",
            " ibuted)                                                         \n",
            "                                                                 \n",
            " MaxPool_2_MELSPECT (TimeDis  (None, 5, 16, 16, 64)    0         \n",
            " tributed)                                                       \n",
            "                                                                 \n",
            " Drop_2_MELSPECT (TimeDistri  (None, 5, 16, 16, 64)    0         \n",
            " buted)                                                          \n",
            "                                                                 \n",
            " Conv_3_MELSPECT (TimeDistri  (None, 5, 16, 16, 128)   73856     \n",
            " buted)                                                          \n",
            "                                                                 \n",
            " BatchNorm_3_MELSPECT (TimeD  (None, 5, 16, 16, 128)   512       \n",
            " istributed)                                                     \n",
            "                                                                 \n",
            " Activ_3_MELSPECT (TimeDistr  (None, 5, 16, 16, 128)   0         \n",
            " ibuted)                                                         \n",
            "                                                                 \n",
            " MaxPool_3_MELSPECT (TimeDis  (None, 5, 4, 4, 128)     0         \n",
            " tributed)                                                       \n",
            "                                                                 \n",
            " Drop_3_MELSPECT (TimeDistri  (None, 5, 4, 4, 128)     0         \n",
            " buted)                                                          \n",
            "                                                                 \n",
            " Conv_4_MELSPECT (TimeDistri  (None, 5, 4, 4, 128)     147584    \n",
            " buted)                                                          \n",
            "                                                                 \n",
            " BatchNorm_4_MELSPECT (TimeD  (None, 5, 4, 4, 128)     512       \n",
            " istributed)                                                     \n",
            "                                                                 \n",
            " Activ_4_MELSPECT (TimeDistr  (None, 5, 4, 4, 128)     0         \n",
            " ibuted)                                                         \n",
            "                                                                 \n",
            " MaxPool_4_MELSPECT (TimeDis  (None, 5, 1, 1, 128)     0         \n",
            " tributed)                                                       \n",
            "                                                                 \n",
            " Drop_4_MELSPECT (TimeDistri  (None, 5, 1, 1, 128)     0         \n",
            " buted)                                                          \n",
            "                                                                 \n",
            " Flat_MELSPECT (TimeDistribu  (None, 5, 128)           0         \n",
            " ted)                                                            \n",
            "                                                                 \n",
            " LSTM_1 (LSTM)               (None, 256)               394240    \n",
            "                                                                 \n",
            " FC (Dense)                  (None, 7)                 1799      \n",
            "                                                                 \n",
            "=================================================================\n",
            "Total params: 656,583\n",
            "Trainable params: 655,815\n",
            "Non-trainable params: 768\n",
            "_________________________________________________________________\n"
          ]
        }
      ]
    },
    {
      "cell_type": "code",
      "source": [
        "gpu_options = tf.compat.v1.GPUOptions(allow_growth=True)\n",
        "session = tf.compat.v1.InteractiveSession(config=tf.compat.v1.ConfigProto(gpu_options=gpu_options))"
      ],
      "metadata": {
        "id": "bwN8vEiPWHaI"
      },
      "execution_count": null,
      "outputs": []
    },
    {
      "cell_type": "code",
      "source": [
        "# Compile model\n",
        "model.compile(optimizer=SGD(lr=0.01, decay=1e-6, momentum=0.8), loss='categorical_crossentropy', metrics=['accuracy'])\n",
        "\n",
        "# Save best model\n",
        "best_model_save = ModelCheckpoint(file_path_model+'best_Model.hdf5', save_best_only=True, monitor='accuracy', mode='max')\n",
        "\n",
        "# Early stopping\n",
        "early_stopping = EarlyStopping(monitor='accuracy', patience=30, verbose=1, mode='max')\n",
        "\n",
        "# Fit model\n",
        "history = model.fit(X_train, y_train, batch_size=64, epochs=200, validation_data=(X_test, y_test), callbacks=[early_stopping, best_model_save,tf.keras.callbacks.CSVLogger(file_path_model+'source_history.csv')])"
      ],
      "metadata": {
        "colab": {
          "base_uri": "https://localhost:8080/"
        },
        "id": "IQyyZt8PWJ9D",
        "outputId": "310fbe8d-e9b8-4a1e-d252-4fdb32fef514"
      },
      "execution_count": null,
      "outputs": [
        {
          "output_type": "stream",
          "name": "stdout",
          "text": [
            "Epoch 1/200\n",
            "17/17 [==============================] - 27s 626ms/step - loss: 2.0012 - accuracy: 0.1498 - val_loss: 2.2002 - val_accuracy: 0.1375\n",
            "Epoch 2/200\n",
            "17/17 [==============================] - 8s 452ms/step - loss: 1.9262 - accuracy: 0.1665 - val_loss: 2.5152 - val_accuracy: 0.1413\n",
            "Epoch 3/200\n",
            "17/17 [==============================] - 8s 452ms/step - loss: 1.8677 - accuracy: 0.2223 - val_loss: 2.6784 - val_accuracy: 0.1413\n",
            "Epoch 4/200\n",
            "17/17 [==============================] - 8s 452ms/step - loss: 1.8454 - accuracy: 0.2381 - val_loss: 2.6421 - val_accuracy: 0.1413\n",
            "Epoch 5/200\n",
            "17/17 [==============================] - 8s 453ms/step - loss: 1.8149 - accuracy: 0.2502 - val_loss: 2.6124 - val_accuracy: 0.1413\n",
            "Epoch 6/200\n",
            "17/17 [==============================] - 8s 453ms/step - loss: 1.7815 - accuracy: 0.2800 - val_loss: 2.4929 - val_accuracy: 0.1413\n",
            "Epoch 7/200\n",
            "17/17 [==============================] - 8s 454ms/step - loss: 1.7525 - accuracy: 0.2940 - val_loss: 2.3746 - val_accuracy: 0.1413\n",
            "Epoch 8/200\n",
            "17/17 [==============================] - 8s 454ms/step - loss: 1.7398 - accuracy: 0.3005 - val_loss: 2.2116 - val_accuracy: 0.1487\n",
            "Epoch 9/200\n",
            "17/17 [==============================] - 8s 455ms/step - loss: 1.7300 - accuracy: 0.3051 - val_loss: 1.8021 - val_accuracy: 0.2379\n",
            "Epoch 10/200\n",
            "17/17 [==============================] - 8s 455ms/step - loss: 1.6940 - accuracy: 0.3163 - val_loss: 1.7154 - val_accuracy: 0.3234\n",
            "Epoch 11/200\n",
            "17/17 [==============================] - 8s 504ms/step - loss: 1.6809 - accuracy: 0.3265 - val_loss: 1.7255 - val_accuracy: 0.3234\n",
            "Epoch 12/200\n",
            "17/17 [==============================] - 8s 455ms/step - loss: 1.6536 - accuracy: 0.3423 - val_loss: 1.7248 - val_accuracy: 0.3197\n",
            "Epoch 13/200\n",
            "17/17 [==============================] - 8s 456ms/step - loss: 1.6328 - accuracy: 0.3619 - val_loss: 1.7719 - val_accuracy: 0.3123\n",
            "Epoch 14/200\n",
            "17/17 [==============================] - 8s 451ms/step - loss: 1.6188 - accuracy: 0.3507 - val_loss: 1.7359 - val_accuracy: 0.3234\n",
            "Epoch 15/200\n",
            "17/17 [==============================] - 8s 451ms/step - loss: 1.6005 - accuracy: 0.3498 - val_loss: 2.2195 - val_accuracy: 0.2230\n",
            "Epoch 16/200\n",
            "17/17 [==============================] - 8s 492ms/step - loss: 1.5998 - accuracy: 0.3656 - val_loss: 3.2915 - val_accuracy: 0.1599\n",
            "Epoch 17/200\n",
            "17/17 [==============================] - 8s 456ms/step - loss: 1.5803 - accuracy: 0.3795 - val_loss: 3.2374 - val_accuracy: 0.1599\n",
            "Epoch 18/200\n",
            "17/17 [==============================] - 8s 451ms/step - loss: 1.5605 - accuracy: 0.3786 - val_loss: 2.6562 - val_accuracy: 0.1933\n",
            "Epoch 19/200\n",
            "17/17 [==============================] - 8s 492ms/step - loss: 1.5697 - accuracy: 0.3833 - val_loss: 2.2168 - val_accuracy: 0.2268\n",
            "Epoch 20/200\n",
            "17/17 [==============================] - 8s 452ms/step - loss: 1.5434 - accuracy: 0.3795 - val_loss: 2.2444 - val_accuracy: 0.2305\n",
            "Epoch 21/200\n",
            "17/17 [==============================] - 9s 507ms/step - loss: 1.5334 - accuracy: 0.3907 - val_loss: 2.1397 - val_accuracy: 0.2342\n",
            "Epoch 22/200\n",
            "17/17 [==============================] - 8s 457ms/step - loss: 1.5211 - accuracy: 0.4047 - val_loss: 2.5613 - val_accuracy: 0.2082\n",
            "Epoch 23/200\n",
            "17/17 [==============================] - 8s 457ms/step - loss: 1.5251 - accuracy: 0.4074 - val_loss: 3.1333 - val_accuracy: 0.1784\n",
            "Epoch 24/200\n",
            "17/17 [==============================] - 8s 452ms/step - loss: 1.5092 - accuracy: 0.3805 - val_loss: 2.2408 - val_accuracy: 0.2379\n",
            "Epoch 25/200\n",
            "17/17 [==============================] - 9s 505ms/step - loss: 1.4885 - accuracy: 0.4149 - val_loss: 2.7371 - val_accuracy: 0.2119\n",
            "Epoch 26/200\n",
            "17/17 [==============================] - 8s 453ms/step - loss: 1.4740 - accuracy: 0.4121 - val_loss: 2.6992 - val_accuracy: 0.2602\n",
            "Epoch 27/200\n",
            "17/17 [==============================] - 9s 508ms/step - loss: 1.4628 - accuracy: 0.4233 - val_loss: 1.9749 - val_accuracy: 0.2974\n",
            "Epoch 28/200\n",
            "17/17 [==============================] - 8s 460ms/step - loss: 1.4236 - accuracy: 0.4642 - val_loss: 2.6177 - val_accuracy: 0.2602\n",
            "Epoch 29/200\n",
            "17/17 [==============================] - 8s 455ms/step - loss: 1.4250 - accuracy: 0.4344 - val_loss: 1.9997 - val_accuracy: 0.2900\n",
            "Epoch 30/200\n",
            "17/17 [==============================] - 8s 457ms/step - loss: 1.4501 - accuracy: 0.4298 - val_loss: 2.5752 - val_accuracy: 0.2677\n",
            "Epoch 31/200\n",
            "17/17 [==============================] - 8s 457ms/step - loss: 1.4281 - accuracy: 0.4502 - val_loss: 2.0027 - val_accuracy: 0.3123\n",
            "Epoch 32/200\n",
            "17/17 [==============================] - 8s 502ms/step - loss: 1.3835 - accuracy: 0.4670 - val_loss: 3.0184 - val_accuracy: 0.2602\n",
            "Epoch 33/200\n",
            "17/17 [==============================] - 8s 461ms/step - loss: 1.3853 - accuracy: 0.4688 - val_loss: 3.5965 - val_accuracy: 0.2193\n",
            "Epoch 34/200\n",
            "17/17 [==============================] - 8s 460ms/step - loss: 1.3905 - accuracy: 0.4698 - val_loss: 3.6165 - val_accuracy: 0.2305\n",
            "Epoch 35/200\n",
            "17/17 [==============================] - 8s 455ms/step - loss: 1.3777 - accuracy: 0.4595 - val_loss: 3.2269 - val_accuracy: 0.2416\n",
            "Epoch 36/200\n",
            "17/17 [==============================] - 8s 454ms/step - loss: 1.3860 - accuracy: 0.4577 - val_loss: 1.9580 - val_accuracy: 0.3457\n",
            "Epoch 37/200\n",
            "17/17 [==============================] - 9s 513ms/step - loss: 1.3550 - accuracy: 0.4800 - val_loss: 1.9729 - val_accuracy: 0.3234\n",
            "Epoch 38/200\n",
            "17/17 [==============================] - 8s 454ms/step - loss: 1.3607 - accuracy: 0.4642 - val_loss: 1.3313 - val_accuracy: 0.4907\n",
            "Epoch 39/200\n",
            "17/17 [==============================] - 8s 500ms/step - loss: 1.3249 - accuracy: 0.4977 - val_loss: 3.1694 - val_accuracy: 0.2639\n",
            "Epoch 40/200\n",
            "17/17 [==============================] - 8s 456ms/step - loss: 1.3308 - accuracy: 0.4679 - val_loss: 1.8679 - val_accuracy: 0.3606\n",
            "Epoch 41/200\n",
            "17/17 [==============================] - 8s 456ms/step - loss: 1.3122 - accuracy: 0.4772 - val_loss: 1.9741 - val_accuracy: 0.3271\n",
            "Epoch 42/200\n",
            "17/17 [==============================] - 8s 456ms/step - loss: 1.3424 - accuracy: 0.4781 - val_loss: 1.6378 - val_accuracy: 0.3792\n",
            "Epoch 43/200\n",
            "17/17 [==============================] - 8s 456ms/step - loss: 1.3057 - accuracy: 0.4791 - val_loss: 2.7056 - val_accuracy: 0.2900\n",
            "Epoch 44/200\n",
            "17/17 [==============================] - 8s 456ms/step - loss: 1.2891 - accuracy: 0.4828 - val_loss: 2.5968 - val_accuracy: 0.2862\n",
            "Epoch 45/200\n",
            "17/17 [==============================] - 8s 504ms/step - loss: 1.2565 - accuracy: 0.5116 - val_loss: 1.9479 - val_accuracy: 0.3532\n",
            "Epoch 46/200\n",
            "17/17 [==============================] - 8s 455ms/step - loss: 1.2616 - accuracy: 0.4977 - val_loss: 1.7353 - val_accuracy: 0.3941\n",
            "Epoch 47/200\n",
            "17/17 [==============================] - 9s 515ms/step - loss: 1.2349 - accuracy: 0.5293 - val_loss: 1.8076 - val_accuracy: 0.4015\n",
            "Epoch 48/200\n",
            "17/17 [==============================] - 8s 456ms/step - loss: 1.2874 - accuracy: 0.5033 - val_loss: 2.8548 - val_accuracy: 0.2937\n",
            "Epoch 49/200\n",
            "17/17 [==============================] - 8s 455ms/step - loss: 1.2650 - accuracy: 0.5265 - val_loss: 1.6804 - val_accuracy: 0.3829\n",
            "Epoch 50/200\n",
            "17/17 [==============================] - 8s 455ms/step - loss: 1.2381 - accuracy: 0.5191 - val_loss: 3.3734 - val_accuracy: 0.2751\n",
            "Epoch 51/200\n",
            "17/17 [==============================] - 8s 456ms/step - loss: 1.2469 - accuracy: 0.5144 - val_loss: 1.7099 - val_accuracy: 0.3755\n",
            "Epoch 52/200\n",
            "17/17 [==============================] - 8s 455ms/step - loss: 1.2209 - accuracy: 0.5191 - val_loss: 2.0063 - val_accuracy: 0.3643\n",
            "Epoch 53/200\n",
            "17/17 [==============================] - 8s 455ms/step - loss: 1.2310 - accuracy: 0.5274 - val_loss: 2.9850 - val_accuracy: 0.2974\n",
            "Epoch 54/200\n",
            "17/17 [==============================] - 8s 455ms/step - loss: 1.2421 - accuracy: 0.5237 - val_loss: 1.8792 - val_accuracy: 0.3792\n",
            "Epoch 55/200\n",
            "17/17 [==============================] - 8s 498ms/step - loss: 1.2228 - accuracy: 0.5330 - val_loss: 2.6564 - val_accuracy: 0.3420\n",
            "Epoch 56/200\n",
            "17/17 [==============================] - 8s 455ms/step - loss: 1.2243 - accuracy: 0.5321 - val_loss: 2.1332 - val_accuracy: 0.3717\n",
            "Epoch 57/200\n",
            "17/17 [==============================] - 8s 455ms/step - loss: 1.2080 - accuracy: 0.5284 - val_loss: 1.9073 - val_accuracy: 0.3457\n",
            "Epoch 58/200\n",
            "17/17 [==============================] - 8s 500ms/step - loss: 1.2035 - accuracy: 0.5367 - val_loss: 2.6099 - val_accuracy: 0.3086\n",
            "Epoch 59/200\n",
            "17/17 [==============================] - 8s 460ms/step - loss: 1.1815 - accuracy: 0.5740 - val_loss: 2.8504 - val_accuracy: 0.3048\n",
            "Epoch 60/200\n",
            "17/17 [==============================] - 8s 455ms/step - loss: 1.1938 - accuracy: 0.5423 - val_loss: 2.0317 - val_accuracy: 0.3717\n",
            "Epoch 61/200\n",
            "17/17 [==============================] - 8s 455ms/step - loss: 1.1688 - accuracy: 0.5460 - val_loss: 1.5263 - val_accuracy: 0.4089\n",
            "Epoch 62/200\n",
            "17/17 [==============================] - 8s 455ms/step - loss: 1.1625 - accuracy: 0.5535 - val_loss: 1.7115 - val_accuracy: 0.4089\n",
            "Epoch 63/200\n",
            "17/17 [==============================] - 8s 455ms/step - loss: 1.1707 - accuracy: 0.5414 - val_loss: 1.2866 - val_accuracy: 0.4833\n",
            "Epoch 64/200\n",
            "17/17 [==============================] - 8s 503ms/step - loss: 1.1225 - accuracy: 0.5870 - val_loss: 1.4415 - val_accuracy: 0.4684\n",
            "Epoch 65/200\n",
            "17/17 [==============================] - 8s 460ms/step - loss: 1.0856 - accuracy: 0.5879 - val_loss: 2.1281 - val_accuracy: 0.4015\n",
            "Epoch 66/200\n",
            "17/17 [==============================] - 8s 454ms/step - loss: 1.1220 - accuracy: 0.5833 - val_loss: 1.8977 - val_accuracy: 0.3755\n",
            "Epoch 67/200\n",
            "17/17 [==============================] - 8s 455ms/step - loss: 1.0958 - accuracy: 0.5786 - val_loss: 2.3630 - val_accuracy: 0.3383\n",
            "Epoch 68/200\n",
            "17/17 [==============================] - 8s 455ms/step - loss: 1.1218 - accuracy: 0.5628 - val_loss: 2.7319 - val_accuracy: 0.3309\n",
            "Epoch 69/200\n",
            "17/17 [==============================] - 8s 455ms/step - loss: 1.0667 - accuracy: 0.5823 - val_loss: 2.0811 - val_accuracy: 0.4015\n",
            "Epoch 70/200\n",
            "17/17 [==============================] - 8s 499ms/step - loss: 1.0893 - accuracy: 0.5972 - val_loss: 1.6196 - val_accuracy: 0.4610\n",
            "Epoch 71/200\n",
            "17/17 [==============================] - 8s 460ms/step - loss: 1.0879 - accuracy: 0.6000 - val_loss: 2.3036 - val_accuracy: 0.4387\n",
            "Epoch 72/200\n",
            "17/17 [==============================] - 9s 508ms/step - loss: 1.0524 - accuracy: 0.6037 - val_loss: 2.3906 - val_accuracy: 0.3457\n",
            "Epoch 73/200\n",
            "17/17 [==============================] - 8s 455ms/step - loss: 1.0678 - accuracy: 0.5981 - val_loss: 2.6558 - val_accuracy: 0.3309\n",
            "Epoch 74/200\n",
            "17/17 [==============================] - 9s 511ms/step - loss: 1.0229 - accuracy: 0.6242 - val_loss: 2.5971 - val_accuracy: 0.3978\n",
            "Epoch 75/200\n",
            "17/17 [==============================] - 8s 455ms/step - loss: 1.0310 - accuracy: 0.6019 - val_loss: 2.2125 - val_accuracy: 0.4424\n",
            "Epoch 76/200\n",
            "17/17 [==============================] - 9s 515ms/step - loss: 1.0216 - accuracy: 0.6260 - val_loss: 1.8288 - val_accuracy: 0.4238\n",
            "Epoch 77/200\n",
            "17/17 [==============================] - 8s 455ms/step - loss: 1.0184 - accuracy: 0.6140 - val_loss: 1.8000 - val_accuracy: 0.3829\n",
            "Epoch 78/200\n",
            "17/17 [==============================] - 8s 454ms/step - loss: 1.0182 - accuracy: 0.6205 - val_loss: 2.3535 - val_accuracy: 0.3941\n",
            "Epoch 79/200\n",
            "17/17 [==============================] - 9s 511ms/step - loss: 0.9682 - accuracy: 0.6298 - val_loss: 1.7039 - val_accuracy: 0.4684\n",
            "Epoch 80/200\n",
            "17/17 [==============================] - 8s 456ms/step - loss: 0.9859 - accuracy: 0.6195 - val_loss: 2.4136 - val_accuracy: 0.4015\n",
            "Epoch 81/200\n",
            "17/17 [==============================] - 8s 455ms/step - loss: 0.9948 - accuracy: 0.6251 - val_loss: 2.3727 - val_accuracy: 0.4349\n",
            "Epoch 82/200\n",
            "17/17 [==============================] - 8s 456ms/step - loss: 1.0034 - accuracy: 0.6084 - val_loss: 1.9725 - val_accuracy: 0.3755\n",
            "Epoch 83/200\n",
            "17/17 [==============================] - 9s 506ms/step - loss: 0.9695 - accuracy: 0.6381 - val_loss: 1.2652 - val_accuracy: 0.5502\n",
            "Epoch 84/200\n",
            "17/17 [==============================] - 8s 460ms/step - loss: 0.9577 - accuracy: 0.6474 - val_loss: 2.0748 - val_accuracy: 0.4275\n",
            "Epoch 85/200\n",
            "17/17 [==============================] - 8s 455ms/step - loss: 0.9578 - accuracy: 0.6465 - val_loss: 1.7522 - val_accuracy: 0.4424\n",
            "Epoch 86/200\n",
            "17/17 [==============================] - 8s 456ms/step - loss: 0.9365 - accuracy: 0.6353 - val_loss: 1.6127 - val_accuracy: 0.4907\n",
            "Epoch 87/200\n",
            "17/17 [==============================] - 8s 455ms/step - loss: 0.9556 - accuracy: 0.6149 - val_loss: 1.6528 - val_accuracy: 0.4833\n",
            "Epoch 88/200\n",
            "17/17 [==============================] - 8s 455ms/step - loss: 0.9316 - accuracy: 0.6344 - val_loss: 1.2139 - val_accuracy: 0.5465\n",
            "Epoch 89/200\n",
            "17/17 [==============================] - 8s 503ms/step - loss: 0.9291 - accuracy: 0.6493 - val_loss: 2.0218 - val_accuracy: 0.4349\n",
            "Epoch 90/200\n",
            "17/17 [==============================] - 8s 460ms/step - loss: 0.9050 - accuracy: 0.6577 - val_loss: 2.3769 - val_accuracy: 0.4461\n",
            "Epoch 91/200\n",
            "17/17 [==============================] - 8s 455ms/step - loss: 0.9252 - accuracy: 0.6567 - val_loss: 1.5793 - val_accuracy: 0.5019\n",
            "Epoch 92/200\n",
            "17/17 [==============================] - 8s 455ms/step - loss: 0.9415 - accuracy: 0.6372 - val_loss: 1.6352 - val_accuracy: 0.4647\n",
            "Epoch 93/200\n",
            "17/17 [==============================] - 8s 499ms/step - loss: 0.8781 - accuracy: 0.6819 - val_loss: 1.1278 - val_accuracy: 0.5651\n",
            "Epoch 94/200\n",
            "17/17 [==============================] - 8s 455ms/step - loss: 0.9566 - accuracy: 0.6540 - val_loss: 1.4102 - val_accuracy: 0.5056\n",
            "Epoch 95/200\n",
            "17/17 [==============================] - 8s 455ms/step - loss: 0.9050 - accuracy: 0.6521 - val_loss: 0.9450 - val_accuracy: 0.6208\n",
            "Epoch 96/200\n",
            "17/17 [==============================] - 8s 455ms/step - loss: 0.8740 - accuracy: 0.6595 - val_loss: 1.0573 - val_accuracy: 0.5874\n",
            "Epoch 97/200\n",
            "17/17 [==============================] - 8s 455ms/step - loss: 0.8798 - accuracy: 0.6595 - val_loss: 1.4315 - val_accuracy: 0.4833\n",
            "Epoch 98/200\n",
            "17/17 [==============================] - 8s 455ms/step - loss: 0.8517 - accuracy: 0.6679 - val_loss: 1.7458 - val_accuracy: 0.4275\n",
            "Epoch 99/200\n",
            "17/17 [==============================] - 8s 455ms/step - loss: 0.8897 - accuracy: 0.6549 - val_loss: 1.2183 - val_accuracy: 0.5390\n",
            "Epoch 100/200\n",
            "17/17 [==============================] - 8s 455ms/step - loss: 0.8699 - accuracy: 0.6698 - val_loss: 2.0395 - val_accuracy: 0.4610\n",
            "Epoch 101/200\n",
            "17/17 [==============================] - 8s 455ms/step - loss: 0.8704 - accuracy: 0.6633 - val_loss: 1.4179 - val_accuracy: 0.4758\n",
            "Epoch 102/200\n",
            "17/17 [==============================] - 8s 500ms/step - loss: 0.8776 - accuracy: 0.6828 - val_loss: 2.7221 - val_accuracy: 0.3829\n",
            "Epoch 103/200\n",
            "17/17 [==============================] - 9s 508ms/step - loss: 0.8371 - accuracy: 0.6884 - val_loss: 2.1693 - val_accuracy: 0.4535\n",
            "Epoch 104/200\n",
            "17/17 [==============================] - 8s 455ms/step - loss: 0.8443 - accuracy: 0.6753 - val_loss: 1.9323 - val_accuracy: 0.4498\n",
            "Epoch 105/200\n",
            "17/17 [==============================] - 8s 455ms/step - loss: 0.8588 - accuracy: 0.6707 - val_loss: 2.4714 - val_accuracy: 0.4944\n",
            "Epoch 106/200\n",
            "17/17 [==============================] - 8s 455ms/step - loss: 0.8421 - accuracy: 0.6809 - val_loss: 2.2723 - val_accuracy: 0.4424\n",
            "Epoch 107/200\n",
            "17/17 [==============================] - 8s 498ms/step - loss: 0.8136 - accuracy: 0.6977 - val_loss: 1.2392 - val_accuracy: 0.5576\n",
            "Epoch 108/200\n",
            "17/17 [==============================] - 8s 455ms/step - loss: 0.8308 - accuracy: 0.6809 - val_loss: 1.3246 - val_accuracy: 0.5353\n",
            "Epoch 109/200\n",
            "17/17 [==============================] - 8s 455ms/step - loss: 0.8112 - accuracy: 0.6912 - val_loss: 1.3975 - val_accuracy: 0.5093\n",
            "Epoch 110/200\n",
            "17/17 [==============================] - 8s 455ms/step - loss: 0.8468 - accuracy: 0.6809 - val_loss: 1.8549 - val_accuracy: 0.4349\n",
            "Epoch 111/200\n",
            "17/17 [==============================] - 8s 455ms/step - loss: 0.7952 - accuracy: 0.6921 - val_loss: 2.1765 - val_accuracy: 0.5316\n",
            "Epoch 112/200\n",
            "17/17 [==============================] - 8s 455ms/step - loss: 0.8008 - accuracy: 0.6949 - val_loss: 1.7071 - val_accuracy: 0.4796\n",
            "Epoch 113/200\n",
            "17/17 [==============================] - 8s 503ms/step - loss: 0.7599 - accuracy: 0.7116 - val_loss: 1.1785 - val_accuracy: 0.5911\n",
            "Epoch 114/200\n",
            "17/17 [==============================] - 8s 455ms/step - loss: 0.8024 - accuracy: 0.6967 - val_loss: 1.2897 - val_accuracy: 0.5428\n",
            "Epoch 115/200\n",
            "17/17 [==============================] - 8s 455ms/step - loss: 0.7778 - accuracy: 0.7088 - val_loss: 1.3289 - val_accuracy: 0.5688\n",
            "Epoch 116/200\n",
            "17/17 [==============================] - 8s 455ms/step - loss: 0.7788 - accuracy: 0.6949 - val_loss: 1.1949 - val_accuracy: 0.5799\n",
            "Epoch 117/200\n",
            "17/17 [==============================] - 9s 509ms/step - loss: 0.7636 - accuracy: 0.7153 - val_loss: 2.2266 - val_accuracy: 0.4981\n",
            "Epoch 118/200\n",
            "17/17 [==============================] - 8s 455ms/step - loss: 0.7923 - accuracy: 0.6912 - val_loss: 1.7388 - val_accuracy: 0.4238\n",
            "Epoch 119/200\n",
            "17/17 [==============================] - 9s 511ms/step - loss: 0.7240 - accuracy: 0.7219 - val_loss: 1.1597 - val_accuracy: 0.5874\n",
            "Epoch 120/200\n",
            "17/17 [==============================] - 8s 455ms/step - loss: 0.7856 - accuracy: 0.7060 - val_loss: 1.2181 - val_accuracy: 0.5948\n",
            "Epoch 121/200\n",
            "17/17 [==============================] - 8s 456ms/step - loss: 0.7873 - accuracy: 0.7051 - val_loss: 1.5307 - val_accuracy: 0.4424\n",
            "Epoch 122/200\n",
            "17/17 [==============================] - 8s 455ms/step - loss: 0.7488 - accuracy: 0.7209 - val_loss: 1.1869 - val_accuracy: 0.5725\n",
            "Epoch 123/200\n",
            "17/17 [==============================] - 8s 456ms/step - loss: 0.7598 - accuracy: 0.7051 - val_loss: 1.1387 - val_accuracy: 0.5874\n",
            "Epoch 124/200\n",
            "17/17 [==============================] - 8s 455ms/step - loss: 0.7328 - accuracy: 0.7200 - val_loss: 2.3349 - val_accuracy: 0.3866\n",
            "Epoch 125/200\n",
            "17/17 [==============================] - 8s 456ms/step - loss: 0.7479 - accuracy: 0.7070 - val_loss: 2.5718 - val_accuracy: 0.3532\n",
            "Epoch 126/200\n",
            "17/17 [==============================] - 8s 505ms/step - loss: 0.6924 - accuracy: 0.7507 - val_loss: 2.5014 - val_accuracy: 0.4275\n",
            "Epoch 127/200\n",
            "17/17 [==============================] - 8s 455ms/step - loss: 0.7188 - accuracy: 0.7442 - val_loss: 1.6391 - val_accuracy: 0.4833\n",
            "Epoch 128/200\n",
            "17/17 [==============================] - 8s 455ms/step - loss: 0.7304 - accuracy: 0.7219 - val_loss: 1.7959 - val_accuracy: 0.4870\n",
            "Epoch 129/200\n",
            "17/17 [==============================] - 8s 455ms/step - loss: 0.6902 - accuracy: 0.7414 - val_loss: 2.3250 - val_accuracy: 0.5056\n",
            "Epoch 130/200\n",
            "17/17 [==============================] - 8s 455ms/step - loss: 0.7076 - accuracy: 0.7163 - val_loss: 1.3873 - val_accuracy: 0.4981\n",
            "Epoch 131/200\n",
            "17/17 [==============================] - 8s 503ms/step - loss: 0.6717 - accuracy: 0.7600 - val_loss: 1.7089 - val_accuracy: 0.4796\n",
            "Epoch 132/200\n",
            "17/17 [==============================] - 8s 454ms/step - loss: 0.7004 - accuracy: 0.7293 - val_loss: 2.6326 - val_accuracy: 0.4610\n",
            "Epoch 133/200\n",
            "17/17 [==============================] - 8s 455ms/step - loss: 0.6824 - accuracy: 0.7367 - val_loss: 1.1517 - val_accuracy: 0.6097\n",
            "Epoch 134/200\n",
            "17/17 [==============================] - 8s 455ms/step - loss: 0.6820 - accuracy: 0.7256 - val_loss: 2.3413 - val_accuracy: 0.4758\n",
            "Epoch 135/200\n",
            "17/17 [==============================] - 8s 456ms/step - loss: 0.6761 - accuracy: 0.7423 - val_loss: 1.8255 - val_accuracy: 0.4572\n",
            "Epoch 136/200\n",
            "17/17 [==============================] - 8s 454ms/step - loss: 0.7097 - accuracy: 0.7256 - val_loss: 1.1997 - val_accuracy: 0.5688\n",
            "Epoch 137/200\n",
            "17/17 [==============================] - 8s 502ms/step - loss: 0.6393 - accuracy: 0.7609 - val_loss: 1.1733 - val_accuracy: 0.5799\n",
            "Epoch 138/200\n",
            "17/17 [==============================] - 8s 460ms/step - loss: 0.6092 - accuracy: 0.7777 - val_loss: 2.3367 - val_accuracy: 0.5167\n",
            "Epoch 139/200\n",
            "17/17 [==============================] - 8s 460ms/step - loss: 0.6003 - accuracy: 0.7814 - val_loss: 1.4286 - val_accuracy: 0.5465\n",
            "Epoch 140/200\n",
            "17/17 [==============================] - 8s 455ms/step - loss: 0.6568 - accuracy: 0.7507 - val_loss: 1.3756 - val_accuracy: 0.5353\n",
            "Epoch 141/200\n",
            "17/17 [==============================] - 8s 455ms/step - loss: 0.6394 - accuracy: 0.7544 - val_loss: 1.9089 - val_accuracy: 0.4981\n",
            "Epoch 142/200\n",
            "17/17 [==============================] - 8s 455ms/step - loss: 0.6551 - accuracy: 0.7535 - val_loss: 1.7469 - val_accuracy: 0.4944\n",
            "Epoch 143/200\n",
            "17/17 [==============================] - 8s 455ms/step - loss: 0.6295 - accuracy: 0.7647 - val_loss: 2.3746 - val_accuracy: 0.4387\n",
            "Epoch 144/200\n",
            "17/17 [==============================] - 8s 455ms/step - loss: 0.6135 - accuracy: 0.7553 - val_loss: 1.1340 - val_accuracy: 0.6134\n",
            "Epoch 145/200\n",
            "17/17 [==============================] - 8s 455ms/step - loss: 0.6219 - accuracy: 0.7665 - val_loss: 1.2062 - val_accuracy: 0.5725\n",
            "Epoch 146/200\n",
            "17/17 [==============================] - 8s 455ms/step - loss: 0.5971 - accuracy: 0.7628 - val_loss: 1.8761 - val_accuracy: 0.4907\n",
            "Epoch 147/200\n",
            "17/17 [==============================] - 8s 455ms/step - loss: 0.6000 - accuracy: 0.7581 - val_loss: 1.3629 - val_accuracy: 0.5390\n",
            "Epoch 148/200\n",
            "17/17 [==============================] - 8s 456ms/step - loss: 0.6429 - accuracy: 0.7544 - val_loss: 1.4941 - val_accuracy: 0.5242\n",
            "Epoch 149/200\n",
            "17/17 [==============================] - 8s 456ms/step - loss: 0.5867 - accuracy: 0.7684 - val_loss: 1.1619 - val_accuracy: 0.5836\n",
            "Epoch 150/200\n",
            "17/17 [==============================] - 8s 502ms/step - loss: 0.5798 - accuracy: 0.7860 - val_loss: 1.2277 - val_accuracy: 0.5799\n",
            "Epoch 151/200\n",
            "17/17 [==============================] - 8s 455ms/step - loss: 0.6153 - accuracy: 0.7619 - val_loss: 1.2577 - val_accuracy: 0.5688\n",
            "Epoch 152/200\n",
            "17/17 [==============================] - 8s 455ms/step - loss: 0.5731 - accuracy: 0.7860 - val_loss: 1.1078 - val_accuracy: 0.6245\n",
            "Epoch 153/200\n",
            "17/17 [==============================] - 8s 455ms/step - loss: 0.6125 - accuracy: 0.7730 - val_loss: 1.4097 - val_accuracy: 0.5539\n",
            "Epoch 154/200\n",
            "17/17 [==============================] - 8s 499ms/step - loss: 0.5507 - accuracy: 0.7963 - val_loss: 2.6356 - val_accuracy: 0.4015\n",
            "Epoch 155/200\n",
            "17/17 [==============================] - 8s 455ms/step - loss: 0.6032 - accuracy: 0.7730 - val_loss: 2.0929 - val_accuracy: 0.5019\n",
            "Epoch 156/200\n",
            "17/17 [==============================] - 8s 455ms/step - loss: 0.5914 - accuracy: 0.7786 - val_loss: 1.9442 - val_accuracy: 0.4796\n",
            "Epoch 157/200\n",
            "17/17 [==============================] - 8s 456ms/step - loss: 0.5854 - accuracy: 0.7870 - val_loss: 1.4807 - val_accuracy: 0.5762\n",
            "Epoch 158/200\n",
            "17/17 [==============================] - 8s 496ms/step - loss: 0.5278 - accuracy: 0.8140 - val_loss: 1.3928 - val_accuracy: 0.5725\n",
            "Epoch 159/200\n",
            "17/17 [==============================] - 8s 455ms/step - loss: 0.5692 - accuracy: 0.7870 - val_loss: 1.6217 - val_accuracy: 0.5353\n",
            "Epoch 160/200\n",
            "17/17 [==============================] - 8s 455ms/step - loss: 0.5540 - accuracy: 0.7860 - val_loss: 2.5379 - val_accuracy: 0.5093\n",
            "Epoch 161/200\n",
            "17/17 [==============================] - 8s 455ms/step - loss: 0.5491 - accuracy: 0.7944 - val_loss: 2.4943 - val_accuracy: 0.4944\n",
            "Epoch 162/200\n",
            "17/17 [==============================] - 8s 455ms/step - loss: 0.5370 - accuracy: 0.7842 - val_loss: 1.6975 - val_accuracy: 0.5167\n",
            "Epoch 163/200\n",
            "17/17 [==============================] - 8s 455ms/step - loss: 0.5310 - accuracy: 0.7916 - val_loss: 2.0745 - val_accuracy: 0.4981\n",
            "Epoch 164/200\n",
            "17/17 [==============================] - 8s 456ms/step - loss: 0.5239 - accuracy: 0.8009 - val_loss: 2.2142 - val_accuracy: 0.4647\n",
            "Epoch 165/200\n",
            "17/17 [==============================] - 8s 455ms/step - loss: 0.5218 - accuracy: 0.8065 - val_loss: 2.1130 - val_accuracy: 0.4238\n",
            "Epoch 166/200\n",
            "17/17 [==============================] - 8s 455ms/step - loss: 0.5385 - accuracy: 0.8000 - val_loss: 1.1066 - val_accuracy: 0.6245\n",
            "Epoch 167/200\n",
            "17/17 [==============================] - 8s 455ms/step - loss: 0.5388 - accuracy: 0.7972 - val_loss: 1.4072 - val_accuracy: 0.5428\n",
            "Epoch 168/200\n",
            "17/17 [==============================] - 8s 455ms/step - loss: 0.5340 - accuracy: 0.7981 - val_loss: 2.2259 - val_accuracy: 0.4572\n",
            "Epoch 169/200\n",
            "17/17 [==============================] - 8s 455ms/step - loss: 0.5285 - accuracy: 0.8000 - val_loss: 2.1504 - val_accuracy: 0.5093\n",
            "Epoch 170/200\n",
            "17/17 [==============================] - 8s 455ms/step - loss: 0.5144 - accuracy: 0.8112 - val_loss: 1.7681 - val_accuracy: 0.5316\n",
            "Epoch 171/200\n",
            "17/17 [==============================] - 8s 455ms/step - loss: 0.5205 - accuracy: 0.8112 - val_loss: 1.5238 - val_accuracy: 0.5353\n",
            "Epoch 172/200\n",
            "17/17 [==============================] - 8s 504ms/step - loss: 0.4930 - accuracy: 0.8279 - val_loss: 1.2715 - val_accuracy: 0.5539\n",
            "Epoch 173/200\n",
            "17/17 [==============================] - 8s 455ms/step - loss: 0.4569 - accuracy: 0.8242 - val_loss: 1.8323 - val_accuracy: 0.5279\n",
            "Epoch 174/200\n",
            "17/17 [==============================] - 8s 455ms/step - loss: 0.4879 - accuracy: 0.8242 - val_loss: 1.7702 - val_accuracy: 0.5167\n",
            "Epoch 175/200\n",
            "17/17 [==============================] - 8s 455ms/step - loss: 0.5105 - accuracy: 0.8130 - val_loss: 1.2287 - val_accuracy: 0.5948\n",
            "Epoch 176/200\n",
            "17/17 [==============================] - 8s 498ms/step - loss: 0.4455 - accuracy: 0.8335 - val_loss: 2.2534 - val_accuracy: 0.5056\n",
            "Epoch 177/200\n",
            "17/17 [==============================] - 8s 456ms/step - loss: 0.4659 - accuracy: 0.8298 - val_loss: 1.7698 - val_accuracy: 0.5465\n",
            "Epoch 178/200\n",
            "17/17 [==============================] - 8s 501ms/step - loss: 0.4503 - accuracy: 0.8521 - val_loss: 1.3368 - val_accuracy: 0.5911\n",
            "Epoch 179/200\n",
            "17/17 [==============================] - 8s 455ms/step - loss: 0.4644 - accuracy: 0.8186 - val_loss: 1.1977 - val_accuracy: 0.6283\n",
            "Epoch 180/200\n",
            "17/17 [==============================] - 8s 455ms/step - loss: 0.4725 - accuracy: 0.8223 - val_loss: 1.2516 - val_accuracy: 0.5874\n",
            "Epoch 181/200\n",
            "17/17 [==============================] - 8s 455ms/step - loss: 0.4652 - accuracy: 0.8363 - val_loss: 1.0744 - val_accuracy: 0.6134\n",
            "Epoch 182/200\n",
            "17/17 [==============================] - 8s 455ms/step - loss: 0.4507 - accuracy: 0.8381 - val_loss: 1.1434 - val_accuracy: 0.6134\n",
            "Epoch 183/200\n",
            "17/17 [==============================] - 8s 455ms/step - loss: 0.4377 - accuracy: 0.8381 - val_loss: 1.3053 - val_accuracy: 0.5911\n",
            "Epoch 184/200\n",
            "17/17 [==============================] - 8s 455ms/step - loss: 0.4645 - accuracy: 0.8251 - val_loss: 1.1562 - val_accuracy: 0.5874\n",
            "Epoch 185/200\n",
            "17/17 [==============================] - 8s 455ms/step - loss: 0.4162 - accuracy: 0.8372 - val_loss: 2.0118 - val_accuracy: 0.5056\n",
            "Epoch 186/200\n",
            "17/17 [==============================] - 8s 455ms/step - loss: 0.4654 - accuracy: 0.8326 - val_loss: 2.1846 - val_accuracy: 0.4870\n",
            "Epoch 187/200\n",
            "17/17 [==============================] - 8s 455ms/step - loss: 0.4257 - accuracy: 0.8270 - val_loss: 1.9073 - val_accuracy: 0.5056\n",
            "Epoch 188/200\n",
            "17/17 [==============================] - 8s 455ms/step - loss: 0.4381 - accuracy: 0.8279 - val_loss: 2.3865 - val_accuracy: 0.4981\n",
            "Epoch 189/200\n",
            "17/17 [==============================] - 8s 456ms/step - loss: 0.4241 - accuracy: 0.8419 - val_loss: 1.0555 - val_accuracy: 0.6320\n",
            "Epoch 190/200\n",
            "17/17 [==============================] - 8s 455ms/step - loss: 0.4305 - accuracy: 0.8372 - val_loss: 1.2562 - val_accuracy: 0.5836\n",
            "Epoch 191/200\n",
            "17/17 [==============================] - 8s 455ms/step - loss: 0.4562 - accuracy: 0.8214 - val_loss: 1.4249 - val_accuracy: 0.5279\n",
            "Epoch 192/200\n",
            "17/17 [==============================] - 8s 502ms/step - loss: 0.4068 - accuracy: 0.8549 - val_loss: 1.8466 - val_accuracy: 0.5613\n",
            "Epoch 193/200\n",
            "17/17 [==============================] - 8s 455ms/step - loss: 0.4035 - accuracy: 0.8474 - val_loss: 1.5154 - val_accuracy: 0.5613\n",
            "Epoch 194/200\n",
            "17/17 [==============================] - 8s 455ms/step - loss: 0.3912 - accuracy: 0.8493 - val_loss: 1.5311 - val_accuracy: 0.5948\n",
            "Epoch 195/200\n",
            "17/17 [==============================] - 9s 509ms/step - loss: 0.3916 - accuracy: 0.8633 - val_loss: 1.2141 - val_accuracy: 0.5911\n",
            "Epoch 196/200\n",
            "17/17 [==============================] - 8s 455ms/step - loss: 0.4044 - accuracy: 0.8595 - val_loss: 1.3810 - val_accuracy: 0.5911\n",
            "Epoch 197/200\n",
            "17/17 [==============================] - 8s 455ms/step - loss: 0.4181 - accuracy: 0.8577 - val_loss: 1.2714 - val_accuracy: 0.5762\n",
            "Epoch 198/200\n",
            "17/17 [==============================] - 8s 501ms/step - loss: 0.3545 - accuracy: 0.8679 - val_loss: 1.6152 - val_accuracy: 0.5316\n",
            "Epoch 199/200\n",
            "17/17 [==============================] - 8s 455ms/step - loss: 0.3951 - accuracy: 0.8577 - val_loss: 1.6417 - val_accuracy: 0.5836\n",
            "Epoch 200/200\n",
            "17/17 [==============================] - 8s 454ms/step - loss: 0.4353 - accuracy: 0.8409 - val_loss: 2.3500 - val_accuracy: 0.5093\n"
          ]
        }
      ]
    },
    {
      "cell_type": "code",
      "source": [
        "model.save(file_path_model+'[CNN-LSTM]Model.h5')\n",
        "model.save_weights(file_path_model+'[CNN-LSTM]Model_Weights.h5')"
      ],
      "metadata": {
        "id": "s-iarzQeWUBm"
      },
      "execution_count": null,
      "outputs": []
    },
    {
      "cell_type": "code",
      "source": [
        "model.evaluate(X_test,y_test)"
      ],
      "metadata": {
        "id": "ZBQLG32TWNBC",
        "colab": {
          "base_uri": "https://localhost:8080/"
        },
        "outputId": "6d97e650-e0be-42d8-c3b0-b3238f9c8179"
      },
      "execution_count": null,
      "outputs": [
        {
          "output_type": "stream",
          "name": "stdout",
          "text": [
            "9/9 [==============================] - 1s 63ms/step - loss: 2.3500 - accuracy: 0.5093\n"
          ]
        },
        {
          "output_type": "execute_result",
          "data": {
            "text/plain": [
              "[2.3500030040740967, 0.5092936754226685]"
            ]
          },
          "metadata": {},
          "execution_count": 34
        }
      ]
    },
    {
      "cell_type": "code",
      "source": [
        "y_pred=model.predict(X_test)\n",
        "y_classes = y_pred.argmax(axis=-1)"
      ],
      "metadata": {
        "id": "mo-g0I30WPMm"
      },
      "execution_count": null,
      "outputs": []
    },
    {
      "cell_type": "code",
      "source": [
        "np.unique(y_classes)"
      ],
      "metadata": {
        "id": "5V0pw4UPWRKG",
        "colab": {
          "base_uri": "https://localhost:8080/"
        },
        "outputId": "f5bc67fe-3709-47f3-900a-268179cfca41"
      },
      "execution_count": null,
      "outputs": [
        {
          "output_type": "execute_result",
          "data": {
            "text/plain": [
              "array([0, 1, 2, 4, 5, 6])"
            ]
          },
          "metadata": {},
          "execution_count": 36
        }
      ]
    },
    {
      "cell_type": "code",
      "source": [
        "history={}\n",
        "history[\"history\"] = pd.read_csv(file_path_model+'source_history.csv')\n",
        "history[\"history\"].head()"
      ],
      "metadata": {
        "id": "PQdU57vXWSyD",
        "colab": {
          "base_uri": "https://localhost:8080/",
          "height": 206
        },
        "outputId": "59cd7ff5-ced0-4d19-e68e-20564c3acc0e"
      },
      "execution_count": null,
      "outputs": [
        {
          "output_type": "execute_result",
          "data": {
            "text/plain": [
              "   epoch  accuracy      loss  val_accuracy  val_loss\n",
              "0      0  0.149767  2.001241      0.137546  2.200189\n",
              "1      1  0.166512  1.926247      0.141264  2.515153\n",
              "2      2  0.222326  1.867673      0.141264  2.678425\n",
              "3      3  0.238140  1.845434      0.141264  2.642068\n",
              "4      4  0.250233  1.814911      0.141264  2.612399"
            ],
            "text/html": [
              "\n",
              "  <div id=\"df-9366b5b9-6333-45e4-b992-0ed6d1531ec5\">\n",
              "    <div class=\"colab-df-container\">\n",
              "      <div>\n",
              "<style scoped>\n",
              "    .dataframe tbody tr th:only-of-type {\n",
              "        vertical-align: middle;\n",
              "    }\n",
              "\n",
              "    .dataframe tbody tr th {\n",
              "        vertical-align: top;\n",
              "    }\n",
              "\n",
              "    .dataframe thead th {\n",
              "        text-align: right;\n",
              "    }\n",
              "</style>\n",
              "<table border=\"1\" class=\"dataframe\">\n",
              "  <thead>\n",
              "    <tr style=\"text-align: right;\">\n",
              "      <th></th>\n",
              "      <th>epoch</th>\n",
              "      <th>accuracy</th>\n",
              "      <th>loss</th>\n",
              "      <th>val_accuracy</th>\n",
              "      <th>val_loss</th>\n",
              "    </tr>\n",
              "  </thead>\n",
              "  <tbody>\n",
              "    <tr>\n",
              "      <th>0</th>\n",
              "      <td>0</td>\n",
              "      <td>0.149767</td>\n",
              "      <td>2.001241</td>\n",
              "      <td>0.137546</td>\n",
              "      <td>2.200189</td>\n",
              "    </tr>\n",
              "    <tr>\n",
              "      <th>1</th>\n",
              "      <td>1</td>\n",
              "      <td>0.166512</td>\n",
              "      <td>1.926247</td>\n",
              "      <td>0.141264</td>\n",
              "      <td>2.515153</td>\n",
              "    </tr>\n",
              "    <tr>\n",
              "      <th>2</th>\n",
              "      <td>2</td>\n",
              "      <td>0.222326</td>\n",
              "      <td>1.867673</td>\n",
              "      <td>0.141264</td>\n",
              "      <td>2.678425</td>\n",
              "    </tr>\n",
              "    <tr>\n",
              "      <th>3</th>\n",
              "      <td>3</td>\n",
              "      <td>0.238140</td>\n",
              "      <td>1.845434</td>\n",
              "      <td>0.141264</td>\n",
              "      <td>2.642068</td>\n",
              "    </tr>\n",
              "    <tr>\n",
              "      <th>4</th>\n",
              "      <td>4</td>\n",
              "      <td>0.250233</td>\n",
              "      <td>1.814911</td>\n",
              "      <td>0.141264</td>\n",
              "      <td>2.612399</td>\n",
              "    </tr>\n",
              "  </tbody>\n",
              "</table>\n",
              "</div>\n",
              "      <button class=\"colab-df-convert\" onclick=\"convertToInteractive('df-9366b5b9-6333-45e4-b992-0ed6d1531ec5')\"\n",
              "              title=\"Convert this dataframe to an interactive table.\"\n",
              "              style=\"display:none;\">\n",
              "        \n",
              "  <svg xmlns=\"http://www.w3.org/2000/svg\" height=\"24px\"viewBox=\"0 0 24 24\"\n",
              "       width=\"24px\">\n",
              "    <path d=\"M0 0h24v24H0V0z\" fill=\"none\"/>\n",
              "    <path d=\"M18.56 5.44l.94 2.06.94-2.06 2.06-.94-2.06-.94-.94-2.06-.94 2.06-2.06.94zm-11 1L8.5 8.5l.94-2.06 2.06-.94-2.06-.94L8.5 2.5l-.94 2.06-2.06.94zm10 10l.94 2.06.94-2.06 2.06-.94-2.06-.94-.94-2.06-.94 2.06-2.06.94z\"/><path d=\"M17.41 7.96l-1.37-1.37c-.4-.4-.92-.59-1.43-.59-.52 0-1.04.2-1.43.59L10.3 9.45l-7.72 7.72c-.78.78-.78 2.05 0 2.83L4 21.41c.39.39.9.59 1.41.59.51 0 1.02-.2 1.41-.59l7.78-7.78 2.81-2.81c.8-.78.8-2.07 0-2.86zM5.41 20L4 18.59l7.72-7.72 1.47 1.35L5.41 20z\"/>\n",
              "  </svg>\n",
              "      </button>\n",
              "      \n",
              "  <style>\n",
              "    .colab-df-container {\n",
              "      display:flex;\n",
              "      flex-wrap:wrap;\n",
              "      gap: 12px;\n",
              "    }\n",
              "\n",
              "    .colab-df-convert {\n",
              "      background-color: #E8F0FE;\n",
              "      border: none;\n",
              "      border-radius: 50%;\n",
              "      cursor: pointer;\n",
              "      display: none;\n",
              "      fill: #1967D2;\n",
              "      height: 32px;\n",
              "      padding: 0 0 0 0;\n",
              "      width: 32px;\n",
              "    }\n",
              "\n",
              "    .colab-df-convert:hover {\n",
              "      background-color: #E2EBFA;\n",
              "      box-shadow: 0px 1px 2px rgba(60, 64, 67, 0.3), 0px 1px 3px 1px rgba(60, 64, 67, 0.15);\n",
              "      fill: #174EA6;\n",
              "    }\n",
              "\n",
              "    [theme=dark] .colab-df-convert {\n",
              "      background-color: #3B4455;\n",
              "      fill: #D2E3FC;\n",
              "    }\n",
              "\n",
              "    [theme=dark] .colab-df-convert:hover {\n",
              "      background-color: #434B5C;\n",
              "      box-shadow: 0px 1px 3px 1px rgba(0, 0, 0, 0.15);\n",
              "      filter: drop-shadow(0px 1px 2px rgba(0, 0, 0, 0.3));\n",
              "      fill: #FFFFFF;\n",
              "    }\n",
              "  </style>\n",
              "\n",
              "      <script>\n",
              "        const buttonEl =\n",
              "          document.querySelector('#df-9366b5b9-6333-45e4-b992-0ed6d1531ec5 button.colab-df-convert');\n",
              "        buttonEl.style.display =\n",
              "          google.colab.kernel.accessAllowed ? 'block' : 'none';\n",
              "\n",
              "        async function convertToInteractive(key) {\n",
              "          const element = document.querySelector('#df-9366b5b9-6333-45e4-b992-0ed6d1531ec5');\n",
              "          const dataTable =\n",
              "            await google.colab.kernel.invokeFunction('convertToInteractive',\n",
              "                                                     [key], {});\n",
              "          if (!dataTable) return;\n",
              "\n",
              "          const docLinkHtml = 'Like what you see? Visit the ' +\n",
              "            '<a target=\"_blank\" href=https://colab.research.google.com/notebooks/data_table.ipynb>data table notebook</a>'\n",
              "            + ' to learn more about interactive tables.';\n",
              "          element.innerHTML = '';\n",
              "          dataTable['output_type'] = 'display_data';\n",
              "          await google.colab.output.renderOutput(dataTable, element);\n",
              "          const docLink = document.createElement('div');\n",
              "          docLink.innerHTML = docLinkHtml;\n",
              "          element.appendChild(docLink);\n",
              "        }\n",
              "      </script>\n",
              "    </div>\n",
              "  </div>\n",
              "  "
            ]
          },
          "metadata": {},
          "execution_count": 37
        }
      ]
    },
    {
      "cell_type": "code",
      "source": [
        "plt.figure(figsize=(25,10))\n",
        "plt.subplot(1,2,1)\n",
        "plt.plot(history['history']['accuracy'],'-b')\n",
        "plt.plot(history['history']['val_accuracy'],'r')\n",
        "plt.legend(['Training accuracy','Testing accuracy'])\n",
        "plt.axis([0, 160, 0, 1])\n",
        "plt.xlabel('Epochs')\n",
        "plt.ylabel('Accuracy')"
      ],
      "metadata": {
        "id": "sAx431i0WYuZ",
        "colab": {
          "base_uri": "https://localhost:8080/",
          "height": 628
        },
        "outputId": "e068d652-0786-4d04-b603-ef84a7e0d1e1"
      },
      "execution_count": null,
      "outputs": [
        {
          "output_type": "execute_result",
          "data": {
            "text/plain": [
              "Text(0, 0.5, 'Accuracy')"
            ]
          },
          "metadata": {},
          "execution_count": 38
        },
        {
          "output_type": "display_data",
          "data": {
            "text/plain": [
              "<Figure size 1800x720 with 1 Axes>"
            ],
            "image/png": "[encoded data removed]"
          },
          "metadata": {
            "needs_background": "light"
          }
        }
      ]
    },
    {
      "cell_type": "code",
      "source": [
        ""
      ],
      "metadata": {
        "id": "SrGpHRGgmMbx"
      },
      "execution_count": null,
      "outputs": []
    },
    {
      "cell_type": "code",
      "source": [
        "y_test.shape"
      ],
      "metadata": {
        "colab": {
          "base_uri": "https://localhost:8080/"
        },
        "id": "tCrxzZkNVvGh",
        "outputId": "8f744177-1ed7-4f11-9c10-9e2922dc0273"
      },
      "execution_count": null,
      "outputs": [
        {
          "output_type": "execute_result",
          "data": {
            "text/plain": [
              "(269, 7)"
            ]
          },
          "metadata": {},
          "execution_count": 40
        }
      ]
    },
    {
      "cell_type": "code",
      "source": [
        "y_pred.shape"
      ],
      "metadata": {
        "colab": {
          "base_uri": "https://localhost:8080/"
        },
        "id": "z3-kUe4BVxRG",
        "outputId": "febc15a5-005e-4a26-b7de-c1ec853138a3"
      },
      "execution_count": null,
      "outputs": [
        {
          "output_type": "execute_result",
          "data": {
            "text/plain": [
              "(269, 7)"
            ]
          },
          "metadata": {},
          "execution_count": 41
        }
      ]
    },
    {
      "cell_type": "code",
      "source": [
        "y_pred1=np.around(y_pred)\n",
        "y_pred1"
      ],
      "metadata": {
        "colab": {
          "base_uri": "https://localhost:8080/"
        },
        "id": "6366Lhp7Vy9O",
        "outputId": "16eaa264-7e8e-4d36-a78c-af5447d61e55"
      },
      "execution_count": null,
      "outputs": [
        {
          "output_type": "execute_result",
          "data": {
            "text/plain": [
              "array([[0., 0., 0., ..., 0., 0., 1.],\n",
              "       [0., 0., 0., ..., 0., 1., 0.],\n",
              "       [0., 0., 1., ..., 0., 0., 0.],\n",
              "       ...,\n",
              "       [0., 0., 1., ..., 0., 0., 0.],\n",
              "       [0., 0., 0., ..., 0., 0., 0.],\n",
              "       [0., 1., 0., ..., 0., 0., 0.]], dtype=float32)"
            ]
          },
          "metadata": {},
          "execution_count": 42
        }
      ]
    },
    {
      "cell_type": "code",
      "source": [
        "y_pred1.shape"
      ],
      "metadata": {
        "colab": {
          "base_uri": "https://localhost:8080/"
        },
        "id": "1F1rOXm3V81_",
        "outputId": "664da6db-ba95-43e3-bdb6-ae35ac7e820a"
      },
      "execution_count": null,
      "outputs": [
        {
          "output_type": "execute_result",
          "data": {
            "text/plain": [
              "(269, 7)"
            ]
          },
          "metadata": {},
          "execution_count": 43
        }
      ]
    },
    {
      "cell_type": "code",
      "source": [
        "# Importing all necessary libraries\n",
        "from sklearn.metrics import accuracy_score\n",
        "# Calculating the accuracy of classifier\n",
        "print(f\"Accuracy of the classifier is: {accuracy_score(y_test,y_pred1)}\")"
      ],
      "metadata": {
        "colab": {
          "base_uri": "https://localhost:8080/"
        },
        "id": "CkWrzDHGFAHI",
        "outputId": "bca18c9b-2701-427d-d383-2236de770f3c"
      },
      "execution_count": null,
      "outputs": [
        {
          "output_type": "stream",
          "name": "stdout",
          "text": [
            "Accuracy of the classifier is: 0.49070631970260226\n"
          ]
        }
      ]
    },
    {
      "cell_type": "code",
      "source": [
        "gfcc_dict={\"y_test_gfcc\":y_test,\"y_pred_gfcc\":y_pred1}\n",
        "gfcc_dict"
      ],
      "metadata": {
        "colab": {
          "base_uri": "https://localhost:8080/"
        },
        "id": "8YA7zu-OWRTk",
        "outputId": "9ef4305f-697c-43a1-8bca-b8cb08bdde02"
      },
      "execution_count": null,
      "outputs": [
        {
          "output_type": "execute_result",
          "data": {
            "text/plain": [
              "{'y_pred_gfcc': array([[0., 0., 0., ..., 0., 0., 1.],\n",
              "        [0., 0., 0., ..., 0., 1., 0.],\n",
              "        [0., 0., 1., ..., 0., 0., 0.],\n",
              "        ...,\n",
              "        [0., 0., 1., ..., 0., 0., 0.],\n",
              "        [0., 0., 0., ..., 0., 0., 0.],\n",
              "        [0., 1., 0., ..., 0., 0., 0.]], dtype=float32),\n",
              " 'y_test_gfcc': array([[1., 0., 0., ..., 0., 0., 0.],\n",
              "        [1., 0., 0., ..., 0., 0., 0.],\n",
              "        [0., 0., 0., ..., 0., 0., 1.],\n",
              "        ...,\n",
              "        [1., 0., 0., ..., 0., 0., 0.],\n",
              "        [0., 0., 1., ..., 0., 0., 0.],\n",
              "        [0., 1., 0., ..., 0., 0., 0.]], dtype=float32)}"
            ]
          },
          "metadata": {},
          "execution_count": 45
        }
      ]
    },
    {
      "cell_type": "code",
      "source": [
        "from sklearn.metrics import precision_score\n",
        "\n",
        "# Calculating the precision score of classifier\n",
        "print(f\"Precision Score of the classifier is: {precision_score(y_test,y_pred1,average='micro')}\")"
      ],
      "metadata": {
        "colab": {
          "base_uri": "https://localhost:8080/"
        },
        "id": "glxrmdx5W1kA",
        "outputId": "e39d5aa5-c111-42b1-97b9-bd8b3e78b78c"
      },
      "execution_count": null,
      "outputs": [
        {
          "output_type": "stream",
          "name": "stdout",
          "text": [
            "Precision Score of the classifier is: 0.532258064516129\n"
          ]
        }
      ]
    },
    {
      "cell_type": "code",
      "source": [
        "from sklearn.metrics import f1_score\n",
        "\n",
        "# Calculating the F1 score of classifier\n",
        "print(f\"F1 Score of the classifier is: {f1_score(y_test, y_pred1,average='micro')}\")"
      ],
      "metadata": {
        "colab": {
          "base_uri": "https://localhost:8080/"
        },
        "id": "PMgk_7v7aIfm",
        "outputId": "6819c75c-6c07-40fd-970a-bf7c7d231eaf"
      },
      "execution_count": null,
      "outputs": [
        {
          "output_type": "stream",
          "name": "stdout",
          "text": [
            "F1 Score of the classifier is: 0.5106382978723404\n"
          ]
        }
      ]
    },
    {
      "cell_type": "code",
      "source": [
        "y_pred1"
      ],
      "metadata": {
        "colab": {
          "base_uri": "https://localhost:8080/"
        },
        "id": "LfYZqDGtXIOK",
        "outputId": "52a8bf68-3f10-45e0-fd0a-6f189450473b"
      },
      "execution_count": null,
      "outputs": [
        {
          "output_type": "execute_result",
          "data": {
            "text/plain": [
              "array([[0., 0., 0., ..., 0., 0., 1.],\n",
              "       [0., 0., 0., ..., 0., 1., 0.],\n",
              "       [0., 0., 1., ..., 0., 0., 0.],\n",
              "       ...,\n",
              "       [0., 0., 1., ..., 0., 0., 0.],\n",
              "       [0., 0., 0., ..., 0., 0., 0.],\n",
              "       [0., 1., 0., ..., 0., 0., 0.]], dtype=float32)"
            ]
          },
          "metadata": {},
          "execution_count": 48
        }
      ]
    },
    {
      "cell_type": "code",
      "source": [
        "y_test"
      ],
      "metadata": {
        "colab": {
          "base_uri": "https://localhost:8080/"
        },
        "id": "nc5wBhy4XNox",
        "outputId": "ce1bfbaa-970c-48f4-b118-aabe7e729408"
      },
      "execution_count": null,
      "outputs": [
        {
          "output_type": "execute_result",
          "data": {
            "text/plain": [
              "array([[1., 0., 0., ..., 0., 0., 0.],\n",
              "       [1., 0., 0., ..., 0., 0., 0.],\n",
              "       [0., 0., 0., ..., 0., 0., 1.],\n",
              "       ...,\n",
              "       [1., 0., 0., ..., 0., 0., 0.],\n",
              "       [0., 0., 1., ..., 0., 0., 0.],\n",
              "       [0., 1., 0., ..., 0., 0., 0.]], dtype=float32)"
            ]
          },
          "metadata": {},
          "execution_count": 49
        }
      ]
    },
    {
      "cell_type": "code",
      "source": [
        "y_test"
      ],
      "metadata": {
        "colab": {
          "base_uri": "https://localhost:8080/"
        },
        "id": "tTq6gPQMXPpO",
        "outputId": "64bd7d69-f70b-4ae4-a1d5-4d81f63f3817"
      },
      "execution_count": null,
      "outputs": [
        {
          "output_type": "execute_result",
          "data": {
            "text/plain": [
              "array([[1., 0., 0., ..., 0., 0., 0.],\n",
              "       [1., 0., 0., ..., 0., 0., 0.],\n",
              "       [0., 0., 0., ..., 0., 0., 1.],\n",
              "       ...,\n",
              "       [1., 0., 0., ..., 0., 0., 0.],\n",
              "       [0., 0., 1., ..., 0., 0., 0.],\n",
              "       [0., 1., 0., ..., 0., 0., 0.]], dtype=float32)"
            ]
          },
          "metadata": {},
          "execution_count": 50
        }
      ]
    },
    {
      "cell_type": "code",
      "source": [
        "pickle.dump(gfcc_dict, open(file_path_model+'gfcc_dict_values.p', 'wb'))"
      ],
      "metadata": {
        "id": "I907WT-3YJu7"
      },
      "execution_count": null,
      "outputs": []
    },
    {
      "cell_type": "code",
      "source": [
        "  "
      ],
      "metadata": {
        "id": "Fmom68hTb1Wr"
      },
      "execution_count": null,
      "outputs": []
    }
  ]
}